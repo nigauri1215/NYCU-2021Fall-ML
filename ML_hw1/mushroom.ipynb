{
 "cells": [
  {
   "cell_type": "code",
   "execution_count": 1,
   "id": "a1f34d5e-dab1-4684-8dad-25ba9e079bf4",
   "metadata": {},
   "outputs": [],
   "source": [
    "import numpy as np \n",
    "import pandas as pd \n",
    "import seaborn as sns \n",
    "import matplotlib.pyplot as plt \n",
    "import sklearn\n",
    "from sklearn.model_selection import train_test_split\n",
    "from sklearn.preprocessing import LabelEncoder\n",
    "from sklearn.model_selection import KFold\n",
    "from sklearn.metrics import classification_report, confusion_matrix, accuracy_score, recall_score, precision_score\n",
    "from sklearn.naive_bayes import MultinomialNB\n",
    "import prettytable"
   ]
  },
  {
   "cell_type": "markdown",
   "id": "a8d542a1-ac22-48ae-b749-03ba0307a243",
   "metadata": {},
   "source": [
    "# Data Input\n",
    "* 導入mushroom.data，加上header"
   ]
  },
  {
   "cell_type": "code",
   "execution_count": 2,
   "id": "a648425a-7269-4ad7-85e2-ecf35bcab344",
   "metadata": {},
   "outputs": [
    {
     "data": {
      "text/html": [
       "<div>\n",
       "<style scoped>\n",
       "    .dataframe tbody tr th:only-of-type {\n",
       "        vertical-align: middle;\n",
       "    }\n",
       "\n",
       "    .dataframe tbody tr th {\n",
       "        vertical-align: top;\n",
       "    }\n",
       "\n",
       "    .dataframe thead th {\n",
       "        text-align: right;\n",
       "    }\n",
       "</style>\n",
       "<table border=\"1\" class=\"dataframe\">\n",
       "  <thead>\n",
       "    <tr style=\"text-align: right;\">\n",
       "      <th></th>\n",
       "      <th>label</th>\n",
       "      <th>cap-shape</th>\n",
       "      <th>cap-surface</th>\n",
       "      <th>cap-color</th>\n",
       "      <th>bruises?</th>\n",
       "      <th>odor</th>\n",
       "      <th>gill-attachment</th>\n",
       "      <th>gill-spacing</th>\n",
       "      <th>gill-size</th>\n",
       "      <th>gill-color</th>\n",
       "      <th>...</th>\n",
       "      <th>stalk-surface-below-ring</th>\n",
       "      <th>stalk-color-above-ring</th>\n",
       "      <th>stalk_color_below_ring</th>\n",
       "      <th>veil-type</th>\n",
       "      <th>veil-color</th>\n",
       "      <th>ring-number</th>\n",
       "      <th>ring-type</th>\n",
       "      <th>spore-print-color</th>\n",
       "      <th>population</th>\n",
       "      <th>habitat</th>\n",
       "    </tr>\n",
       "  </thead>\n",
       "  <tbody>\n",
       "    <tr>\n",
       "      <th>0</th>\n",
       "      <td>p</td>\n",
       "      <td>x</td>\n",
       "      <td>s</td>\n",
       "      <td>n</td>\n",
       "      <td>t</td>\n",
       "      <td>p</td>\n",
       "      <td>f</td>\n",
       "      <td>c</td>\n",
       "      <td>n</td>\n",
       "      <td>k</td>\n",
       "      <td>...</td>\n",
       "      <td>s</td>\n",
       "      <td>w</td>\n",
       "      <td>w</td>\n",
       "      <td>p</td>\n",
       "      <td>w</td>\n",
       "      <td>o</td>\n",
       "      <td>p</td>\n",
       "      <td>k</td>\n",
       "      <td>s</td>\n",
       "      <td>u</td>\n",
       "    </tr>\n",
       "    <tr>\n",
       "      <th>1</th>\n",
       "      <td>e</td>\n",
       "      <td>x</td>\n",
       "      <td>s</td>\n",
       "      <td>y</td>\n",
       "      <td>t</td>\n",
       "      <td>a</td>\n",
       "      <td>f</td>\n",
       "      <td>c</td>\n",
       "      <td>b</td>\n",
       "      <td>k</td>\n",
       "      <td>...</td>\n",
       "      <td>s</td>\n",
       "      <td>w</td>\n",
       "      <td>w</td>\n",
       "      <td>p</td>\n",
       "      <td>w</td>\n",
       "      <td>o</td>\n",
       "      <td>p</td>\n",
       "      <td>n</td>\n",
       "      <td>n</td>\n",
       "      <td>g</td>\n",
       "    </tr>\n",
       "    <tr>\n",
       "      <th>2</th>\n",
       "      <td>e</td>\n",
       "      <td>b</td>\n",
       "      <td>s</td>\n",
       "      <td>w</td>\n",
       "      <td>t</td>\n",
       "      <td>l</td>\n",
       "      <td>f</td>\n",
       "      <td>c</td>\n",
       "      <td>b</td>\n",
       "      <td>n</td>\n",
       "      <td>...</td>\n",
       "      <td>s</td>\n",
       "      <td>w</td>\n",
       "      <td>w</td>\n",
       "      <td>p</td>\n",
       "      <td>w</td>\n",
       "      <td>o</td>\n",
       "      <td>p</td>\n",
       "      <td>n</td>\n",
       "      <td>n</td>\n",
       "      <td>m</td>\n",
       "    </tr>\n",
       "    <tr>\n",
       "      <th>3</th>\n",
       "      <td>p</td>\n",
       "      <td>x</td>\n",
       "      <td>y</td>\n",
       "      <td>w</td>\n",
       "      <td>t</td>\n",
       "      <td>p</td>\n",
       "      <td>f</td>\n",
       "      <td>c</td>\n",
       "      <td>n</td>\n",
       "      <td>n</td>\n",
       "      <td>...</td>\n",
       "      <td>s</td>\n",
       "      <td>w</td>\n",
       "      <td>w</td>\n",
       "      <td>p</td>\n",
       "      <td>w</td>\n",
       "      <td>o</td>\n",
       "      <td>p</td>\n",
       "      <td>k</td>\n",
       "      <td>s</td>\n",
       "      <td>u</td>\n",
       "    </tr>\n",
       "    <tr>\n",
       "      <th>4</th>\n",
       "      <td>e</td>\n",
       "      <td>x</td>\n",
       "      <td>s</td>\n",
       "      <td>g</td>\n",
       "      <td>f</td>\n",
       "      <td>n</td>\n",
       "      <td>f</td>\n",
       "      <td>w</td>\n",
       "      <td>b</td>\n",
       "      <td>k</td>\n",
       "      <td>...</td>\n",
       "      <td>s</td>\n",
       "      <td>w</td>\n",
       "      <td>w</td>\n",
       "      <td>p</td>\n",
       "      <td>w</td>\n",
       "      <td>o</td>\n",
       "      <td>e</td>\n",
       "      <td>n</td>\n",
       "      <td>a</td>\n",
       "      <td>g</td>\n",
       "    </tr>\n",
       "  </tbody>\n",
       "</table>\n",
       "<p>5 rows × 23 columns</p>\n",
       "</div>"
      ],
      "text/plain": [
       "  label cap-shape cap-surface cap-color bruises? odor gill-attachment  \\\n",
       "0     p         x           s         n        t    p               f   \n",
       "1     e         x           s         y        t    a               f   \n",
       "2     e         b           s         w        t    l               f   \n",
       "3     p         x           y         w        t    p               f   \n",
       "4     e         x           s         g        f    n               f   \n",
       "\n",
       "  gill-spacing gill-size gill-color  ... stalk-surface-below-ring  \\\n",
       "0            c         n          k  ...                        s   \n",
       "1            c         b          k  ...                        s   \n",
       "2            c         b          n  ...                        s   \n",
       "3            c         n          n  ...                        s   \n",
       "4            w         b          k  ...                        s   \n",
       "\n",
       "  stalk-color-above-ring stalk_color_below_ring veil-type veil-color  \\\n",
       "0                      w                      w         p          w   \n",
       "1                      w                      w         p          w   \n",
       "2                      w                      w         p          w   \n",
       "3                      w                      w         p          w   \n",
       "4                      w                      w         p          w   \n",
       "\n",
       "  ring-number ring-type spore-print-color population habitat  \n",
       "0           o         p                 k          s       u  \n",
       "1           o         p                 n          n       g  \n",
       "2           o         p                 n          n       m  \n",
       "3           o         p                 k          s       u  \n",
       "4           o         e                 n          a       g  \n",
       "\n",
       "[5 rows x 23 columns]"
      ]
     },
     "execution_count": 2,
     "metadata": {},
     "output_type": "execute_result"
    }
   ],
   "source": [
    "m_data=pd.read_csv('mushroom.data',sep=',',header=None)\n",
    "m_data.columns=['label','cap-shape','cap-surface','cap-color','bruises?','odor','gill-attachment','gill-spacing','gill-size','gill-color','stalk-shape','stalk-root','stalk-surface-above-ring','stalk-surface-below-ring','stalk-color-above-ring','stalk_color_below_ring','veil-type','veil-color','ring-number','ring-type','spore-print-color','population','habitat']\n",
    "m_data.head()"
   ]
  },
  {
   "cell_type": "markdown",
   "id": "427046b3-33e6-46f6-93ea-5d987b305cc3",
   "metadata": {},
   "source": [
    "# Data Visualization"
   ]
  },
  {
   "cell_type": "code",
   "execution_count": 3,
   "id": "6084a15e-a30c-478e-acbf-2f427255d30d",
   "metadata": {},
   "outputs": [
    {
     "data": {
      "text/plain": [
       "Text(0.5, 1.0, 'Mushroom')"
      ]
     },
     "execution_count": 3,
     "metadata": {},
     "output_type": "execute_result"
    },
    {
     "data": {
      "image/png": "[encoded data removed]",
      "text/plain": [
       "<Figure size 432x288 with 1 Axes>"
      ]
     },
     "metadata": {
      "needs_background": "light"
     },
     "output_type": "display_data"
    }
   ],
   "source": [
    "df = m_data\n",
    "ax = sns.countplot(x='cap-shape', data=df)\n",
    "ax.set_title('Mushroom')"
   ]
  },
  {
   "cell_type": "code",
   "execution_count": 4,
   "id": "f722a985-5c5e-4608-92a8-39cab439e5ca",
   "metadata": {},
   "outputs": [
    {
     "data": {
      "text/plain": [
       "Text(0.5, 1.0, 'Mushroom')"
      ]
     },
     "execution_count": 4,
     "metadata": {},
     "output_type": "execute_result"
    },
    {
     "data": {
      "image/png": "[encoded data removed]",
      "text/plain": [
       "<Figure size 432x288 with 1 Axes>"
      ]
     },
     "metadata": {
      "needs_background": "light"
     },
     "output_type": "display_data"
    }
   ],
   "source": [
    "ax = sns.countplot(x='cap-surface', data=df)\n",
    "ax.set_title('Mushroom')"
   ]
  },
  {
   "cell_type": "code",
   "execution_count": 5,
   "id": "543865a0-0b37-4ed3-8d42-46ff3ff2fe31",
   "metadata": {},
   "outputs": [
    {
     "data": {
      "text/plain": [
       "Text(0.5, 1.0, 'Mushroom')"
      ]
     },
     "execution_count": 5,
     "metadata": {},
     "output_type": "execute_result"
    },
    {
     "data": {
      "image/png": "[encoded data removed]",
      "text/plain": [
       "<Figure size 432x288 with 1 Axes>"
      ]
     },
     "metadata": {
      "needs_background": "light"
     },
     "output_type": "display_data"
    }
   ],
   "source": [
    "ax = sns.countplot(x='cap-color', data=df)\n",
    "ax.set_title('Mushroom')"
   ]
  },
  {
   "cell_type": "code",
   "execution_count": 6,
   "id": "42947035-dc62-481f-a149-fcdf59cd04f5",
   "metadata": {},
   "outputs": [
    {
     "data": {
      "text/plain": [
       "Text(0.5, 1.0, 'Mushroom')"
      ]
     },
     "execution_count": 6,
     "metadata": {},
     "output_type": "execute_result"
    },
    {
     "data": {
      "image/png": "[encoded data removed]",
      "text/plain": [
       "<Figure size 432x288 with 1 Axes>"
      ]
     },
     "metadata": {
      "needs_background": "light"
     },
     "output_type": "display_data"
    }
   ],
   "source": [
    "ax = sns.countplot(x='bruises?', data=df)\n",
    "ax.set_title('Mushroom')"
   ]
  },
  {
   "cell_type": "code",
   "execution_count": 7,
   "id": "09cdb759-8ad9-47d5-9def-31d22a26e35d",
   "metadata": {},
   "outputs": [
    {
     "data": {
      "text/plain": [
       "Text(0.5, 1.0, 'Mushroom')"
      ]
     },
     "execution_count": 7,
     "metadata": {},
     "output_type": "execute_result"
    },
    {
     "data": {
      "image/png": "[encoded data removed]",
      "text/plain": [
       "<Figure size 432x288 with 1 Axes>"
      ]
     },
     "metadata": {
      "needs_background": "light"
     },
     "output_type": "display_data"
    }
   ],
   "source": [
    "ax = sns.countplot(x='odor', data=df)\n",
    "ax.set_title('Mushroom')"
   ]
  },
  {
   "cell_type": "code",
   "execution_count": 8,
   "id": "65b773dd-11a8-493e-96b1-efc38f41ab53",
   "metadata": {},
   "outputs": [
    {
     "data": {
      "text/plain": [
       "Text(0.5, 1.0, 'Mushroom')"
      ]
     },
     "execution_count": 8,
     "metadata": {},
     "output_type": "execute_result"
    },
    {
     "data": {
      "image/png": "[encoded data removed]",
      "text/plain": [
       "<Figure size 432x288 with 1 Axes>"
      ]
     },
     "metadata": {
      "needs_background": "light"
     },
     "output_type": "display_data"
    }
   ],
   "source": [
    "ax = sns.countplot(x='gill-attachment', data=df)\n",
    "ax.set_title('Mushroom')"
   ]
  },
  {
   "cell_type": "code",
   "execution_count": 9,
   "id": "34034ecd-3644-496d-986a-ccd0fa988329",
   "metadata": {},
   "outputs": [
    {
     "data": {
      "text/plain": [
       "Text(0.5, 1.0, 'Mushroom')"
      ]
     },
     "execution_count": 9,
     "metadata": {},
     "output_type": "execute_result"
    },
    {
     "data": {
      "image/png": "[encoded data removed]",
      "text/plain": [
       "<Figure size 432x288 with 1 Axes>"
      ]
     },
     "metadata": {
      "needs_background": "light"
     },
     "output_type": "display_data"
    }
   ],
   "source": [
    "ax = sns.countplot(x='gill-spacing', data=df)\n",
    "ax.set_title('Mushroom')"
   ]
  },
  {
   "cell_type": "code",
   "execution_count": 10,
   "id": "35a9eb6a-3248-46ea-af65-292fad94c345",
   "metadata": {},
   "outputs": [
    {
     "data": {
      "text/plain": [
       "Text(0.5, 1.0, 'Mushroom')"
      ]
     },
     "execution_count": 10,
     "metadata": {},
     "output_type": "execute_result"
    },
    {
     "data": {
      "image/png": "[encoded data removed]",
      "text/plain": [
       "<Figure size 432x288 with 1 Axes>"
      ]
     },
     "metadata": {
      "needs_background": "light"
     },
     "output_type": "display_data"
    }
   ],
   "source": [
    "ax = sns.countplot(x='gill-color', data=df)\n",
    "ax.set_title('Mushroom')"
   ]
  },
  {
   "cell_type": "code",
   "execution_count": 11,
   "id": "80fae692-d091-485b-b98b-44c17662fde4",
   "metadata": {},
   "outputs": [
    {
     "data": {
      "text/plain": [
       "Text(0.5, 1.0, 'Mushroom')"
      ]
     },
     "execution_count": 11,
     "metadata": {},
     "output_type": "execute_result"
    },
    {
     "data": {
      "image/png": "[encoded data removed]",
      "text/plain": [
       "<Figure size 432x288 with 1 Axes>"
      ]
     },
     "metadata": {
      "needs_background": "light"
     },
     "output_type": "display_data"
    }
   ],
   "source": [
    "ax = sns.countplot(x='gill-size', data=df)\n",
    "ax.set_title('Mushroom')"
   ]
  },
  {
   "cell_type": "code",
   "execution_count": 12,
   "id": "d958fb47-3c68-4c7e-b860-bcb470fa9915",
   "metadata": {},
   "outputs": [
    {
     "data": {
      "text/plain": [
       "Text(0.5, 1.0, 'Mushroom')"
      ]
     },
     "execution_count": 12,
     "metadata": {},
     "output_type": "execute_result"
    },
    {
     "data": {
      "image/png": "[encoded data removed]",
      "text/plain": [
       "<Figure size 432x288 with 1 Axes>"
      ]
     },
     "metadata": {
      "needs_background": "light"
     },
     "output_type": "display_data"
    }
   ],
   "source": [
    "ax = sns.countplot(x='stalk-shape', data=df)\n",
    "ax.set_title('Mushroom')"
   ]
  },
  {
   "cell_type": "code",
   "execution_count": 13,
   "id": "824de060-6e70-483f-a1b5-d570f4959714",
   "metadata": {},
   "outputs": [
    {
     "data": {
      "text/plain": [
       "Text(0.5, 1.0, 'Mushroom')"
      ]
     },
     "execution_count": 13,
     "metadata": {},
     "output_type": "execute_result"
    },
    {
     "data": {
      "image/png": "[encoded data removed]",
      "text/plain": [
       "<Figure size 432x288 with 1 Axes>"
      ]
     },
     "metadata": {
      "needs_background": "light"
     },
     "output_type": "display_data"
    }
   ],
   "source": [
    "ax = sns.countplot(x='stalk-root', data=df)\n",
    "ax.set_title('Mushroom')"
   ]
  },
  {
   "cell_type": "code",
   "execution_count": 14,
   "id": "d3d8ad60-9839-43de-bcce-fe1613099a7e",
   "metadata": {},
   "outputs": [
    {
     "data": {
      "text/plain": [
       "Text(0.5, 1.0, 'Mushroom')"
      ]
     },
     "execution_count": 14,
     "metadata": {},
     "output_type": "execute_result"
    },
    {
     "data": {
      "image/png": "[encoded data removed]",
      "text/plain": [
       "<Figure size 432x288 with 1 Axes>"
      ]
     },
     "metadata": {
      "needs_background": "light"
     },
     "output_type": "display_data"
    }
   ],
   "source": [
    "ax = sns.countplot(x='stalk-surface-above-ring', data=df)\n",
    "ax.set_title('Mushroom')"
   ]
  },
  {
   "cell_type": "code",
   "execution_count": 15,
   "id": "967703c8-f971-44e1-911a-38aad6baf276",
   "metadata": {},
   "outputs": [
    {
     "data": {
      "text/plain": [
       "Text(0.5, 1.0, 'Mushroom')"
      ]
     },
     "execution_count": 15,
     "metadata": {},
     "output_type": "execute_result"
    },
    {
     "data": {
      "image/png": "[encoded data removed]",
      "text/plain": [
       "<Figure size 432x288 with 1 Axes>"
      ]
     },
     "metadata": {
      "needs_background": "light"
     },
     "output_type": "display_data"
    }
   ],
   "source": [
    "ax = sns.countplot(x='stalk-surface-below-ring', data=df)\n",
    "ax.set_title('Mushroom')"
   ]
  },
  {
   "cell_type": "code",
   "execution_count": 16,
   "id": "1378e9ce-6e59-4a25-ade1-0f46121357d5",
   "metadata": {},
   "outputs": [
    {
     "data": {
      "text/plain": [
       "Text(0.5, 1.0, 'Mushroom')"
      ]
     },
     "execution_count": 16,
     "metadata": {},
     "output_type": "execute_result"
    },
    {
     "data": {
      "image/png": "[encoded data removed]",
      "text/plain": [
       "<Figure size 432x288 with 1 Axes>"
      ]
     },
     "metadata": {
      "needs_background": "light"
     },
     "output_type": "display_data"
    }
   ],
   "source": [
    "ax = sns.countplot(x='stalk-color-above-ring', data=df)\n",
    "ax.set_title('Mushroom')"
   ]
  },
  {
   "cell_type": "code",
   "execution_count": 17,
   "id": "683fe6a5-e153-48b1-9ba4-8d423903cd2d",
   "metadata": {},
   "outputs": [
    {
     "data": {
      "text/plain": [
       "Text(0.5, 1.0, 'Mushroom')"
      ]
     },
     "execution_count": 17,
     "metadata": {},
     "output_type": "execute_result"
    },
    {
     "data": {
      "image/png": "[encoded data removed]",
      "text/plain": [
       "<Figure size 432x288 with 1 Axes>"
      ]
     },
     "metadata": {
      "needs_background": "light"
     },
     "output_type": "display_data"
    }
   ],
   "source": [
    "ax = sns.countplot(x='stalk_color_below_ring', data=df)\n",
    "ax.set_title('Mushroom')"
   ]
  },
  {
   "cell_type": "code",
   "execution_count": 18,
   "id": "cc23fb85-c75e-437f-9837-7ae86b8716c0",
   "metadata": {},
   "outputs": [
    {
     "data": {
      "text/plain": [
       "Text(0.5, 1.0, 'Mushroom')"
      ]
     },
     "execution_count": 18,
     "metadata": {},
     "output_type": "execute_result"
    },
    {
     "data": {
      "image/png": "[encoded data removed]",
      "text/plain": [
       "<Figure size 432x288 with 1 Axes>"
      ]
     },
     "metadata": {
      "needs_background": "light"
     },
     "output_type": "display_data"
    }
   ],
   "source": [
    "ax = sns.countplot(x='veil-type', data=df)\n",
    "plt.xticks(np.arange(3), (\"p\", \"u\",\" \"))\n",
    "ax.set_title('Mushroom')"
   ]
  },
  {
   "cell_type": "code",
   "execution_count": 19,
   "id": "e040e72a-be56-4ee9-85ab-173fda10fbe4",
   "metadata": {},
   "outputs": [
    {
     "data": {
      "text/plain": [
       "Text(0.5, 1.0, 'Mushroom')"
      ]
     },
     "execution_count": 19,
     "metadata": {},
     "output_type": "execute_result"
    },
    {
     "data": {
      "image/png": "[encoded data removed]",
      "text/plain": [
       "<Figure size 432x288 with 1 Axes>"
      ]
     },
     "metadata": {
      "needs_background": "light"
     },
     "output_type": "display_data"
    }
   ],
   "source": [
    "ax = sns.countplot(x='veil-color', data=df)\n",
    "ax.set_title('Mushroom')"
   ]
  },
  {
   "cell_type": "code",
   "execution_count": 20,
   "id": "b7db927c-64a2-400f-a55b-274ae1a14e78",
   "metadata": {},
   "outputs": [
    {
     "data": {
      "text/plain": [
       "Text(0.5, 1.0, 'Mushroom')"
      ]
     },
     "execution_count": 20,
     "metadata": {},
     "output_type": "execute_result"
    },
    {
     "data": {
      "image/png": "[encoded data removed]",
      "text/plain": [
       "<Figure size 432x288 with 1 Axes>"
      ]
     },
     "metadata": {
      "needs_background": "light"
     },
     "output_type": "display_data"
    }
   ],
   "source": [
    "ax = sns.countplot(x='ring-number', data=df)\n",
    "ax.set_title('Mushroom')"
   ]
  },
  {
   "cell_type": "code",
   "execution_count": 21,
   "id": "2d9caeca-253a-40dd-861a-bec14eb87290",
   "metadata": {},
   "outputs": [
    {
     "data": {
      "text/plain": [
       "Text(0.5, 1.0, 'Mushroom')"
      ]
     },
     "execution_count": 21,
     "metadata": {},
     "output_type": "execute_result"
    },
    {
     "data": {
      "image/png": "[encoded data removed]",
      "text/plain": [
       "<Figure size 432x288 with 1 Axes>"
      ]
     },
     "metadata": {
      "needs_background": "light"
     },
     "output_type": "display_data"
    }
   ],
   "source": [
    "ax = sns.countplot(x='ring-type', data=df)\n",
    "ax.set_title('Mushroom')"
   ]
  },
  {
   "cell_type": "code",
   "execution_count": 22,
   "id": "fa0d6722-84a5-4bb5-a778-e19c1c007143",
   "metadata": {},
   "outputs": [
    {
     "data": {
      "text/plain": [
       "Text(0.5, 1.0, 'Mushroom')"
      ]
     },
     "execution_count": 22,
     "metadata": {},
     "output_type": "execute_result"
    },
    {
     "data": {
      "image/png": "[encoded data removed]",
      "text/plain": [
       "<Figure size 432x288 with 1 Axes>"
      ]
     },
     "metadata": {
      "needs_background": "light"
     },
     "output_type": "display_data"
    }
   ],
   "source": [
    "ax = sns.countplot(x='spore-print-color', data=df)\n",
    "ax.set_title('Mushroom')"
   ]
  },
  {
   "cell_type": "code",
   "execution_count": 23,
   "id": "3d544ce3-cbcf-4e68-b4f3-8cff5d38a89a",
   "metadata": {},
   "outputs": [
    {
     "data": {
      "text/plain": [
       "Text(0.5, 1.0, 'Mushroom')"
      ]
     },
     "execution_count": 23,
     "metadata": {},
     "output_type": "execute_result"
    },
    {
     "data": {
      "image/png": "[encoded data removed]",
      "text/plain": [
       "<Figure size 432x288 with 1 Axes>"
      ]
     },
     "metadata": {
      "needs_background": "light"
     },
     "output_type": "display_data"
    }
   ],
   "source": [
    "ax = sns.countplot(x='population', data=df)\n",
    "ax.set_title('Mushroom')"
   ]
  },
  {
   "cell_type": "code",
   "execution_count": 24,
   "id": "89d1f88a-7c3b-4d22-b92b-436e471c9c9d",
   "metadata": {},
   "outputs": [
    {
     "data": {
      "text/plain": [
       "Text(0.5, 1.0, 'Mushroom')"
      ]
     },
     "execution_count": 24,
     "metadata": {},
     "output_type": "execute_result"
    },
    {
     "data": {
      "image/png": "[encoded data removed]",
      "text/plain": [
       "<Figure size 432x288 with 1 Axes>"
      ]
     },
     "metadata": {
      "needs_background": "light"
     },
     "output_type": "display_data"
    }
   ],
   "source": [
    "ax = sns.countplot(x='habitat', data=df)\n",
    "ax.set_title('Mushroom')"
   ]
  },
  {
   "cell_type": "code",
   "execution_count": 26,
   "id": "889ff909-87b3-4ef9-8436-46c39f142bdb",
   "metadata": {},
   "outputs": [
    {
     "data": {
      "text/plain": [
       "Text(0.5, 1.0, 'Mushroom')"
      ]
     },
     "execution_count": 26,
     "metadata": {},
     "output_type": "execute_result"
    },
    {
     "data": {
      "image/png": "[encoded data removed]",
      "text/plain": [
       "<Figure size 432x288 with 1 Axes>"
      ]
     },
     "metadata": {
      "needs_background": "light"
     },
     "output_type": "display_data"
    }
   ],
   "source": [
    "ax = sns.countplot(x='cap-shape',hue='label', data=df)\n",
    "ax.set_title('Mushroom')"
   ]
  },
  {
   "cell_type": "code",
   "execution_count": 27,
   "id": "5a00725c-3c92-4814-9398-9f61e923e0db",
   "metadata": {},
   "outputs": [
    {
     "data": {
      "text/plain": [
       "Text(0.5, 1.0, 'Mushroom')"
      ]
     },
     "execution_count": 27,
     "metadata": {},
     "output_type": "execute_result"
    },
    {
     "data": {
      "image/png": "[encoded data removed]",
      "text/plain": [
       "<Figure size 432x288 with 1 Axes>"
      ]
     },
     "metadata": {
      "needs_background": "light"
     },
     "output_type": "display_data"
    }
   ],
   "source": [
    "ax = sns.countplot(x='cap-surface',hue='label', data=df)\n",
    "ax.set_title('Mushroom')"
   ]
  },
  {
   "cell_type": "code",
   "execution_count": 28,
   "id": "5b2f3202-5185-41dc-bf49-5bbc6b28616c",
   "metadata": {},
   "outputs": [
    {
     "data": {
      "text/plain": [
       "Text(0.5, 1.0, 'Mushroom')"
      ]
     },
     "execution_count": 28,
     "metadata": {},
     "output_type": "execute_result"
    },
    {
     "data": {
      "image/png": "[encoded data removed]",
      "text/plain": [
       "<Figure size 432x288 with 1 Axes>"
      ]
     },
     "metadata": {
      "needs_background": "light"
     },
     "output_type": "display_data"
    }
   ],
   "source": [
    "ax = sns.countplot(x='cap-color',hue='label', data=df)\n",
    "ax.set_title('Mushroom')"
   ]
  },
  {
   "cell_type": "code",
   "execution_count": 29,
   "id": "3f0b66b1-2b3b-41ef-8d15-c6b31943b46f",
   "metadata": {},
   "outputs": [
    {
     "data": {
      "text/plain": [
       "Text(0.5, 1.0, 'Mushroom')"
      ]
     },
     "execution_count": 29,
     "metadata": {},
     "output_type": "execute_result"
    },
    {
     "data": {
      "image/png": "[encoded data removed]",
      "text/plain": [
       "<Figure size 432x288 with 1 Axes>"
      ]
     },
     "metadata": {
      "needs_background": "light"
     },
     "output_type": "display_data"
    }
   ],
   "source": [
    "ax = sns.countplot(x='bruises?',hue='label', data=df)\n",
    "ax.set_title('Mushroom')"
   ]
  },
  {
   "cell_type": "code",
   "execution_count": 30,
   "id": "8bf31197-e5bc-4ba1-a2a3-6059ecf4b927",
   "metadata": {},
   "outputs": [
    {
     "data": {
      "text/plain": [
       "Text(0.5, 1.0, 'Mushroom')"
      ]
     },
     "execution_count": 30,
     "metadata": {},
     "output_type": "execute_result"
    },
    {
     "data": {
      "image/png": "[encoded data removed]",
      "text/plain": [
       "<Figure size 432x288 with 1 Axes>"
      ]
     },
     "metadata": {
      "needs_background": "light"
     },
     "output_type": "display_data"
    }
   ],
   "source": [
    "ax = sns.countplot(x='odor',hue='label', data=df)\n",
    "ax.set_title('Mushroom')"
   ]
  },
  {
   "cell_type": "code",
   "execution_count": 31,
   "id": "f0e6db81-e0b8-405e-9a70-04a717069a4c",
   "metadata": {},
   "outputs": [
    {
     "data": {
      "text/plain": [
       "Text(0.5, 1.0, 'Mushroom')"
      ]
     },
     "execution_count": 31,
     "metadata": {},
     "output_type": "execute_result"
    },
    {
     "data": {
      "image/png": "[encoded data removed]",
      "text/plain": [
       "<Figure size 432x288 with 1 Axes>"
      ]
     },
     "metadata": {
      "needs_background": "light"
     },
     "output_type": "display_data"
    }
   ],
   "source": [
    "ax = sns.countplot(x='gill-attachment',hue='label', data=df)\n",
    "ax.set_title('Mushroom')"
   ]
  },
  {
   "cell_type": "code",
   "execution_count": 32,
   "id": "a9f11285-b119-4ec5-b54e-1a250dff9fb2",
   "metadata": {},
   "outputs": [
    {
     "data": {
      "text/plain": [
       "Text(0.5, 1.0, 'Mushroom')"
      ]
     },
     "execution_count": 32,
     "metadata": {},
     "output_type": "execute_result"
    },
    {
     "data": {
      "image/png": "[encoded data removed]",
      "text/plain": [
       "<Figure size 432x288 with 1 Axes>"
      ]
     },
     "metadata": {
      "needs_background": "light"
     },
     "output_type": "display_data"
    }
   ],
   "source": [
    "ax = sns.countplot(x='gill-spacing',hue='label', data=df)\n",
    "ax.set_title('Mushroom')"
   ]
  },
  {
   "cell_type": "code",
   "execution_count": 33,
   "id": "ef45787e-4c87-4336-b470-2cb423b64ffe",
   "metadata": {},
   "outputs": [
    {
     "data": {
      "text/plain": [
       "Text(0.5, 1.0, 'Mushroom')"
      ]
     },
     "execution_count": 33,
     "metadata": {},
     "output_type": "execute_result"
    },
    {
     "data": {
      "image/png": "[encoded data removed]",
      "text/plain": [
       "<Figure size 432x288 with 1 Axes>"
      ]
     },
     "metadata": {
      "needs_background": "light"
     },
     "output_type": "display_data"
    }
   ],
   "source": [
    "ax = sns.countplot(x='gill-color',hue='label', data=df)\n",
    "ax.set_title('Mushroom')"
   ]
  },
  {
   "cell_type": "code",
   "execution_count": 25,
   "id": "71547938-0890-4d3e-bfa4-71522cbdbd6d",
   "metadata": {},
   "outputs": [
    {
     "data": {
      "text/plain": [
       "Text(0.5, 1.0, 'Mushroom')"
      ]
     },
     "execution_count": 25,
     "metadata": {},
     "output_type": "execute_result"
    },
    {
     "data": {
      "image/png": "[encoded data removed]",
      "text/plain": [
       "<Figure size 432x288 with 1 Axes>"
      ]
     },
     "metadata": {
      "needs_background": "light"
     },
     "output_type": "display_data"
    }
   ],
   "source": [
    "ax = sns.countplot(x='gill-size',hue='label', data=df)\n",
    "ax.set_title('Mushroom')"
   ]
  },
  {
   "cell_type": "code",
   "execution_count": 34,
   "id": "2fc78648-b0d3-422d-b583-9e4ef7b7a468",
   "metadata": {},
   "outputs": [
    {
     "data": {
      "text/plain": [
       "Text(0.5, 1.0, 'Mushroom')"
      ]
     },
     "execution_count": 34,
     "metadata": {},
     "output_type": "execute_result"
    },
    {
     "data": {
      "image/png": "[encoded data removed]",
      "text/plain": [
       "<Figure size 432x288 with 1 Axes>"
      ]
     },
     "metadata": {
      "needs_background": "light"
     },
     "output_type": "display_data"
    }
   ],
   "source": [
    "ax = sns.countplot(x='stalk-shape',hue='label', data=df)\n",
    "ax.set_title('Mushroom')"
   ]
  },
  {
   "cell_type": "code",
   "execution_count": 35,
   "id": "23bc5ed1-eafb-49be-aa09-45e67933d846",
   "metadata": {},
   "outputs": [
    {
     "data": {
      "text/plain": [
       "Text(0.5, 1.0, 'Mushroom')"
      ]
     },
     "execution_count": 35,
     "metadata": {},
     "output_type": "execute_result"
    },
    {
     "data": {
      "image/png": "[encoded data removed]",
      "text/plain": [
       "<Figure size 432x288 with 1 Axes>"
      ]
     },
     "metadata": {
      "needs_background": "light"
     },
     "output_type": "display_data"
    }
   ],
   "source": [
    "ax = sns.countplot(x='stalk-root',hue='label', data=df)\n",
    "ax.set_title('Mushroom')"
   ]
  },
  {
   "cell_type": "code",
   "execution_count": 36,
   "id": "d28b15ad-d5b7-42f8-8a6c-03ecbb991970",
   "metadata": {},
   "outputs": [
    {
     "data": {
      "text/plain": [
       "Text(0.5, 1.0, 'Mushroom')"
      ]
     },
     "execution_count": 36,
     "metadata": {},
     "output_type": "execute_result"
    },
    {
     "data": {
      "image/png": "[encoded data removed]",
      "text/plain": [
       "<Figure size 432x288 with 1 Axes>"
      ]
     },
     "metadata": {
      "needs_background": "light"
     },
     "output_type": "display_data"
    }
   ],
   "source": [
    "ax = sns.countplot(x='stalk-surface-above-ring',hue='label', data=df)\n",
    "ax.set_title('Mushroom')"
   ]
  },
  {
   "cell_type": "code",
   "execution_count": 37,
   "id": "eaab28a4-cd15-4d43-ae01-3c61f8f0030e",
   "metadata": {},
   "outputs": [
    {
     "data": {
      "text/plain": [
       "Text(0.5, 1.0, 'Mushroom')"
      ]
     },
     "execution_count": 37,
     "metadata": {},
     "output_type": "execute_result"
    },
    {
     "data": {
      "image/png": "[encoded data removed]",
      "text/plain": [
       "<Figure size 432x288 with 1 Axes>"
      ]
     },
     "metadata": {
      "needs_background": "light"
     },
     "output_type": "display_data"
    }
   ],
   "source": [
    "ax = sns.countplot(x='stalk-surface-below-ring',hue='label', data=df)\n",
    "ax.set_title('Mushroom')"
   ]
  },
  {
   "cell_type": "code",
   "execution_count": 38,
   "id": "e1c5469d-a778-43e6-923f-2e2309f31200",
   "metadata": {},
   "outputs": [
    {
     "data": {
      "text/plain": [
       "Text(0.5, 1.0, 'Mushroom')"
      ]
     },
     "execution_count": 38,
     "metadata": {},
     "output_type": "execute_result"
    },
    {
     "data": {
      "image/png": "[encoded data removed]",
      "text/plain": [
       "<Figure size 432x288 with 1 Axes>"
      ]
     },
     "metadata": {
      "needs_background": "light"
     },
     "output_type": "display_data"
    }
   ],
   "source": [
    "ax = sns.countplot(x='stalk-color-above-ring',hue='label', data=df)\n",
    "ax.set_title('Mushroom')"
   ]
  },
  {
   "cell_type": "code",
   "execution_count": 39,
   "id": "f3a95054-c7ff-4811-b423-de78be5045b4",
   "metadata": {},
   "outputs": [
    {
     "data": {
      "text/plain": [
       "Text(0.5, 1.0, 'Mushroom')"
      ]
     },
     "execution_count": 39,
     "metadata": {},
     "output_type": "execute_result"
    },
    {
     "data": {
      "image/png": "[encoded data removed]",
      "text/plain": [
       "<Figure size 432x288 with 1 Axes>"
      ]
     },
     "metadata": {
      "needs_background": "light"
     },
     "output_type": "display_data"
    }
   ],
   "source": [
    "ax = sns.countplot(x='stalk_color_below_ring',hue='label', data=df)\n",
    "ax.set_title('Mushroom')"
   ]
  },
  {
   "cell_type": "code",
   "execution_count": 40,
   "id": "a02354ff-e175-434a-85fd-291d798abba9",
   "metadata": {},
   "outputs": [
    {
     "data": {
      "text/plain": [
       "Text(0.5, 1.0, 'Mushroom')"
      ]
     },
     "execution_count": 40,
     "metadata": {},
     "output_type": "execute_result"
    },
    {
     "data": {
      "image/png": "[encoded data removed]",
      "text/plain": [
       "<Figure size 432x288 with 1 Axes>"
      ]
     },
     "metadata": {
      "needs_background": "light"
     },
     "output_type": "display_data"
    }
   ],
   "source": [
    "ax = sns.countplot(x='veil-type',hue='label', data=df)\n",
    "plt.xticks(np.arange(3), (\"p\", \"u\",\" \"))\n",
    "ax.set_title('Mushroom')"
   ]
  },
  {
   "cell_type": "code",
   "execution_count": 41,
   "id": "a1d51eb5-2d20-493f-a7af-fdad0c6ada1c",
   "metadata": {},
   "outputs": [
    {
     "data": {
      "text/plain": [
       "Text(0.5, 1.0, 'Mushroom')"
      ]
     },
     "execution_count": 41,
     "metadata": {},
     "output_type": "execute_result"
    },
    {
     "data": {
      "image/png": "[encoded data removed]",
      "text/plain": [
       "<Figure size 432x288 with 1 Axes>"
      ]
     },
     "metadata": {
      "needs_background": "light"
     },
     "output_type": "display_data"
    }
   ],
   "source": [
    "ax = sns.countplot(x='veil-color',hue='label', data=df)\n",
    "ax.set_title('Mushroom')"
   ]
  },
  {
   "cell_type": "code",
   "execution_count": 42,
   "id": "58104fc1-0dfe-4f99-954d-91fbda232258",
   "metadata": {},
   "outputs": [
    {
     "data": {
      "text/plain": [
       "Text(0.5, 1.0, 'Mushroom')"
      ]
     },
     "execution_count": 42,
     "metadata": {},
     "output_type": "execute_result"
    },
    {
     "data": {
      "image/png": "[encoded data removed]",
      "text/plain": [
       "<Figure size 432x288 with 1 Axes>"
      ]
     },
     "metadata": {
      "needs_background": "light"
     },
     "output_type": "display_data"
    }
   ],
   "source": [
    "ax = sns.countplot(x='ring-number',hue='label', data=df)\n",
    "ax.set_title('Mushroom')"
   ]
  },
  {
   "cell_type": "code",
   "execution_count": 43,
   "id": "4b3e1174-f98b-46f2-9d0f-fe8288f727c7",
   "metadata": {},
   "outputs": [
    {
     "data": {
      "text/plain": [
       "Text(0.5, 1.0, 'Mushroom')"
      ]
     },
     "execution_count": 43,
     "metadata": {},
     "output_type": "execute_result"
    },
    {
     "data": {
      "image/png": "[encoded data removed]",
      "text/plain": [
       "<Figure size 432x288 with 1 Axes>"
      ]
     },
     "metadata": {
      "needs_background": "light"
     },
     "output_type": "display_data"
    }
   ],
   "source": [
    "ax = sns.countplot(x='ring-type',hue='label', data=df)\n",
    "ax.set_title('Mushroom')"
   ]
  },
  {
   "cell_type": "code",
   "execution_count": 44,
   "id": "4e1d8d38-5df1-43e3-a1f0-fb1549f3ba65",
   "metadata": {},
   "outputs": [
    {
     "data": {
      "text/plain": [
       "Text(0.5, 1.0, 'Mushroom')"
      ]
     },
     "execution_count": 44,
     "metadata": {},
     "output_type": "execute_result"
    },
    {
     "data": {
      "image/png": "[encoded data removed]",
      "text/plain": [
       "<Figure size 432x288 with 1 Axes>"
      ]
     },
     "metadata": {
      "needs_background": "light"
     },
     "output_type": "display_data"
    }
   ],
   "source": [
    "ax = sns.countplot(x='spore-print-color',hue='label', data=df)\n",
    "ax.set_title('Mushroom')"
   ]
  },
  {
   "cell_type": "code",
   "execution_count": 45,
   "id": "460249db-0126-4484-acba-70db55b1a709",
   "metadata": {},
   "outputs": [
    {
     "data": {
      "text/plain": [
       "Text(0.5, 1.0, 'Mushroom')"
      ]
     },
     "execution_count": 45,
     "metadata": {},
     "output_type": "execute_result"
    },
    {
     "data": {
      "image/png": "[encoded data removed]",
      "text/plain": [
       "<Figure size 432x288 with 1 Axes>"
      ]
     },
     "metadata": {
      "needs_background": "light"
     },
     "output_type": "display_data"
    }
   ],
   "source": [
    "ax = sns.countplot(x='population',hue='label', data=df)\n",
    "ax.set_title('Mushroom')"
   ]
  },
  {
   "cell_type": "code",
   "execution_count": 46,
   "id": "4bc8d8a2-6bd3-4193-83e4-7cd8f0a15127",
   "metadata": {},
   "outputs": [
    {
     "data": {
      "text/plain": [
       "Text(0.5, 1.0, 'Mushroom')"
      ]
     },
     "execution_count": 46,
     "metadata": {},
     "output_type": "execute_result"
    },
    {
     "data": {
      "image/png": "[encoded data removed]",
      "text/plain": [
       "<Figure size 432x288 with 1 Axes>"
      ]
     },
     "metadata": {
      "needs_background": "light"
     },
     "output_type": "display_data"
    }
   ],
   "source": [
    "ax = sns.countplot(x='habitat',hue='label', data=df)\n",
    "ax.set_title('Mushroom')"
   ]
  },
  {
   "cell_type": "markdown",
   "id": "73c0b3ab-483c-4e69-8a8c-cfb5adb4d945",
   "metadata": {},
   "source": [
    "# Data Preprocessing\n",
    "## Drop features with missing value"
   ]
  },
  {
   "cell_type": "code",
   "execution_count": 5,
   "id": "8c50102d-d7be-4a09-bad2-f670b0c41f5b",
   "metadata": {},
   "outputs": [],
   "source": [
    "df = m_data.drop(['veil-type'], axis = 1)\n",
    "df = df[df[\"stalk-root\"] != \"?\"]"
   ]
  },
  {
   "cell_type": "markdown",
   "id": "db977358-581a-46e4-aae1-84009312cf01",
   "metadata": {},
   "source": [
    "## Transform data format"
   ]
  },
  {
   "cell_type": "code",
   "execution_count": 13,
   "id": "f45bc5f4-9045-4cf8-9ee2-d32adceb2bd8",
   "metadata": {},
   "outputs": [
    {
     "data": {
      "text/html": [
       "<div>\n",
       "<style scoped>\n",
       "    .dataframe tbody tr th:only-of-type {\n",
       "        vertical-align: middle;\n",
       "    }\n",
       "\n",
       "    .dataframe tbody tr th {\n",
       "        vertical-align: top;\n",
       "    }\n",
       "\n",
       "    .dataframe thead th {\n",
       "        text-align: right;\n",
       "    }\n",
       "</style>\n",
       "<table border=\"1\" class=\"dataframe\">\n",
       "  <thead>\n",
       "    <tr style=\"text-align: right;\">\n",
       "      <th></th>\n",
       "      <th>label</th>\n",
       "      <th>cap-shape</th>\n",
       "      <th>cap-surface</th>\n",
       "      <th>cap-color</th>\n",
       "      <th>bruises?</th>\n",
       "      <th>odor</th>\n",
       "      <th>gill-attachment</th>\n",
       "      <th>gill-spacing</th>\n",
       "      <th>gill-size</th>\n",
       "      <th>gill-color</th>\n",
       "      <th>...</th>\n",
       "      <th>stalk-surface-above-ring</th>\n",
       "      <th>stalk-surface-below-ring</th>\n",
       "      <th>stalk-color-above-ring</th>\n",
       "      <th>stalk_color_below_ring</th>\n",
       "      <th>veil-color</th>\n",
       "      <th>ring-number</th>\n",
       "      <th>ring-type</th>\n",
       "      <th>spore-print-color</th>\n",
       "      <th>population</th>\n",
       "      <th>habitat</th>\n",
       "    </tr>\n",
       "  </thead>\n",
       "  <tbody>\n",
       "    <tr>\n",
       "      <th>3054</th>\n",
       "      <td>0</td>\n",
       "      <td>2</td>\n",
       "      <td>3</td>\n",
       "      <td>3</td>\n",
       "      <td>1</td>\n",
       "      <td>5</td>\n",
       "      <td>1</td>\n",
       "      <td>0</td>\n",
       "      <td>0</td>\n",
       "      <td>6</td>\n",
       "      <td>...</td>\n",
       "      <td>2</td>\n",
       "      <td>2</td>\n",
       "      <td>2</td>\n",
       "      <td>4</td>\n",
       "      <td>0</td>\n",
       "      <td>1</td>\n",
       "      <td>3</td>\n",
       "      <td>2</td>\n",
       "      <td>5</td>\n",
       "      <td>0</td>\n",
       "    </tr>\n",
       "    <tr>\n",
       "      <th>4771</th>\n",
       "      <td>1</td>\n",
       "      <td>5</td>\n",
       "      <td>3</td>\n",
       "      <td>3</td>\n",
       "      <td>0</td>\n",
       "      <td>2</td>\n",
       "      <td>1</td>\n",
       "      <td>0</td>\n",
       "      <td>0</td>\n",
       "      <td>0</td>\n",
       "      <td>...</td>\n",
       "      <td>1</td>\n",
       "      <td>1</td>\n",
       "      <td>4</td>\n",
       "      <td>3</td>\n",
       "      <td>0</td>\n",
       "      <td>1</td>\n",
       "      <td>1</td>\n",
       "      <td>0</td>\n",
       "      <td>5</td>\n",
       "      <td>0</td>\n",
       "    </tr>\n",
       "    <tr>\n",
       "      <th>49</th>\n",
       "      <td>0</td>\n",
       "      <td>2</td>\n",
       "      <td>3</td>\n",
       "      <td>7</td>\n",
       "      <td>1</td>\n",
       "      <td>3</td>\n",
       "      <td>1</td>\n",
       "      <td>0</td>\n",
       "      <td>0</td>\n",
       "      <td>7</td>\n",
       "      <td>...</td>\n",
       "      <td>2</td>\n",
       "      <td>3</td>\n",
       "      <td>5</td>\n",
       "      <td>5</td>\n",
       "      <td>0</td>\n",
       "      <td>1</td>\n",
       "      <td>3</td>\n",
       "      <td>1</td>\n",
       "      <td>3</td>\n",
       "      <td>4</td>\n",
       "    </tr>\n",
       "    <tr>\n",
       "      <th>3850</th>\n",
       "      <td>0</td>\n",
       "      <td>5</td>\n",
       "      <td>0</td>\n",
       "      <td>2</td>\n",
       "      <td>1</td>\n",
       "      <td>5</td>\n",
       "      <td>1</td>\n",
       "      <td>0</td>\n",
       "      <td>0</td>\n",
       "      <td>3</td>\n",
       "      <td>...</td>\n",
       "      <td>2</td>\n",
       "      <td>2</td>\n",
       "      <td>5</td>\n",
       "      <td>5</td>\n",
       "      <td>0</td>\n",
       "      <td>1</td>\n",
       "      <td>3</td>\n",
       "      <td>2</td>\n",
       "      <td>5</td>\n",
       "      <td>0</td>\n",
       "    </tr>\n",
       "    <tr>\n",
       "      <th>7820</th>\n",
       "      <td>1</td>\n",
       "      <td>3</td>\n",
       "      <td>3</td>\n",
       "      <td>2</td>\n",
       "      <td>0</td>\n",
       "      <td>4</td>\n",
       "      <td>1</td>\n",
       "      <td>0</td>\n",
       "      <td>0</td>\n",
       "      <td>7</td>\n",
       "      <td>...</td>\n",
       "      <td>1</td>\n",
       "      <td>3</td>\n",
       "      <td>1</td>\n",
       "      <td>1</td>\n",
       "      <td>0</td>\n",
       "      <td>0</td>\n",
       "      <td>2</td>\n",
       "      <td>5</td>\n",
       "      <td>1</td>\n",
       "      <td>0</td>\n",
       "    </tr>\n",
       "    <tr>\n",
       "      <th>...</th>\n",
       "      <td>...</td>\n",
       "      <td>...</td>\n",
       "      <td>...</td>\n",
       "      <td>...</td>\n",
       "      <td>...</td>\n",
       "      <td>...</td>\n",
       "      <td>...</td>\n",
       "      <td>...</td>\n",
       "      <td>...</td>\n",
       "      <td>...</td>\n",
       "      <td>...</td>\n",
       "      <td>...</td>\n",
       "      <td>...</td>\n",
       "      <td>...</td>\n",
       "      <td>...</td>\n",
       "      <td>...</td>\n",
       "      <td>...</td>\n",
       "      <td>...</td>\n",
       "      <td>...</td>\n",
       "      <td>...</td>\n",
       "      <td>...</td>\n",
       "    </tr>\n",
       "    <tr>\n",
       "      <th>1353</th>\n",
       "      <td>0</td>\n",
       "      <td>2</td>\n",
       "      <td>2</td>\n",
       "      <td>4</td>\n",
       "      <td>0</td>\n",
       "      <td>5</td>\n",
       "      <td>1</td>\n",
       "      <td>1</td>\n",
       "      <td>0</td>\n",
       "      <td>2</td>\n",
       "      <td>...</td>\n",
       "      <td>2</td>\n",
       "      <td>0</td>\n",
       "      <td>5</td>\n",
       "      <td>5</td>\n",
       "      <td>0</td>\n",
       "      <td>1</td>\n",
       "      <td>0</td>\n",
       "      <td>2</td>\n",
       "      <td>0</td>\n",
       "      <td>1</td>\n",
       "    </tr>\n",
       "    <tr>\n",
       "      <th>5774</th>\n",
       "      <td>1</td>\n",
       "      <td>0</td>\n",
       "      <td>2</td>\n",
       "      <td>5</td>\n",
       "      <td>1</td>\n",
       "      <td>5</td>\n",
       "      <td>1</td>\n",
       "      <td>0</td>\n",
       "      <td>0</td>\n",
       "      <td>0</td>\n",
       "      <td>...</td>\n",
       "      <td>2</td>\n",
       "      <td>2</td>\n",
       "      <td>5</td>\n",
       "      <td>5</td>\n",
       "      <td>0</td>\n",
       "      <td>2</td>\n",
       "      <td>3</td>\n",
       "      <td>3</td>\n",
       "      <td>4</td>\n",
       "      <td>1</td>\n",
       "    </tr>\n",
       "    <tr>\n",
       "      <th>4335</th>\n",
       "      <td>1</td>\n",
       "      <td>2</td>\n",
       "      <td>3</td>\n",
       "      <td>3</td>\n",
       "      <td>0</td>\n",
       "      <td>2</td>\n",
       "      <td>1</td>\n",
       "      <td>0</td>\n",
       "      <td>0</td>\n",
       "      <td>0</td>\n",
       "      <td>...</td>\n",
       "      <td>1</td>\n",
       "      <td>1</td>\n",
       "      <td>3</td>\n",
       "      <td>4</td>\n",
       "      <td>0</td>\n",
       "      <td>1</td>\n",
       "      <td>1</td>\n",
       "      <td>0</td>\n",
       "      <td>5</td>\n",
       "      <td>1</td>\n",
       "    </tr>\n",
       "    <tr>\n",
       "      <th>4145</th>\n",
       "      <td>1</td>\n",
       "      <td>2</td>\n",
       "      <td>3</td>\n",
       "      <td>3</td>\n",
       "      <td>0</td>\n",
       "      <td>2</td>\n",
       "      <td>1</td>\n",
       "      <td>0</td>\n",
       "      <td>0</td>\n",
       "      <td>0</td>\n",
       "      <td>...</td>\n",
       "      <td>1</td>\n",
       "      <td>1</td>\n",
       "      <td>3</td>\n",
       "      <td>0</td>\n",
       "      <td>0</td>\n",
       "      <td>1</td>\n",
       "      <td>1</td>\n",
       "      <td>0</td>\n",
       "      <td>4</td>\n",
       "      <td>4</td>\n",
       "    </tr>\n",
       "    <tr>\n",
       "      <th>3140</th>\n",
       "      <td>0</td>\n",
       "      <td>2</td>\n",
       "      <td>3</td>\n",
       "      <td>4</td>\n",
       "      <td>1</td>\n",
       "      <td>5</td>\n",
       "      <td>1</td>\n",
       "      <td>0</td>\n",
       "      <td>0</td>\n",
       "      <td>4</td>\n",
       "      <td>...</td>\n",
       "      <td>2</td>\n",
       "      <td>2</td>\n",
       "      <td>4</td>\n",
       "      <td>4</td>\n",
       "      <td>0</td>\n",
       "      <td>1</td>\n",
       "      <td>3</td>\n",
       "      <td>1</td>\n",
       "      <td>4</td>\n",
       "      <td>0</td>\n",
       "    </tr>\n",
       "  </tbody>\n",
       "</table>\n",
       "<p>5644 rows × 22 columns</p>\n",
       "</div>"
      ],
      "text/plain": [
       "      label  cap-shape  cap-surface  cap-color  bruises?  odor  \\\n",
       "3054      0          2            3          3         1     5   \n",
       "4771      1          5            3          3         0     2   \n",
       "49        0          2            3          7         1     3   \n",
       "3850      0          5            0          2         1     5   \n",
       "7820      1          3            3          2         0     4   \n",
       "...     ...        ...          ...        ...       ...   ...   \n",
       "1353      0          2            2          4         0     5   \n",
       "5774      1          0            2          5         1     5   \n",
       "4335      1          2            3          3         0     2   \n",
       "4145      1          2            3          3         0     2   \n",
       "3140      0          2            3          4         1     5   \n",
       "\n",
       "      gill-attachment  gill-spacing  gill-size  gill-color  ...  \\\n",
       "3054                1             0          0           6  ...   \n",
       "4771                1             0          0           0  ...   \n",
       "49                  1             0          0           7  ...   \n",
       "3850                1             0          0           3  ...   \n",
       "7820                1             0          0           7  ...   \n",
       "...               ...           ...        ...         ...  ...   \n",
       "1353                1             1          0           2  ...   \n",
       "5774                1             0          0           0  ...   \n",
       "4335                1             0          0           0  ...   \n",
       "4145                1             0          0           0  ...   \n",
       "3140                1             0          0           4  ...   \n",
       "\n",
       "      stalk-surface-above-ring  stalk-surface-below-ring  \\\n",
       "3054                         2                         2   \n",
       "4771                         1                         1   \n",
       "49                           2                         3   \n",
       "3850                         2                         2   \n",
       "7820                         1                         3   \n",
       "...                        ...                       ...   \n",
       "1353                         2                         0   \n",
       "5774                         2                         2   \n",
       "4335                         1                         1   \n",
       "4145                         1                         1   \n",
       "3140                         2                         2   \n",
       "\n",
       "      stalk-color-above-ring  stalk_color_below_ring  veil-color  ring-number  \\\n",
       "3054                       2                       4           0            1   \n",
       "4771                       4                       3           0            1   \n",
       "49                         5                       5           0            1   \n",
       "3850                       5                       5           0            1   \n",
       "7820                       1                       1           0            0   \n",
       "...                      ...                     ...         ...          ...   \n",
       "1353                       5                       5           0            1   \n",
       "5774                       5                       5           0            2   \n",
       "4335                       3                       4           0            1   \n",
       "4145                       3                       0           0            1   \n",
       "3140                       4                       4           0            1   \n",
       "\n",
       "      ring-type  spore-print-color  population  habitat  \n",
       "3054          3                  2           5        0  \n",
       "4771          1                  0           5        0  \n",
       "49            3                  1           3        4  \n",
       "3850          3                  2           5        0  \n",
       "7820          2                  5           1        0  \n",
       "...         ...                ...         ...      ...  \n",
       "1353          0                  2           0        1  \n",
       "5774          3                  3           4        1  \n",
       "4335          1                  0           5        1  \n",
       "4145          1                  0           4        4  \n",
       "3140          3                  1           4        0  \n",
       "\n",
       "[5644 rows x 22 columns]"
      ]
     },
     "execution_count": 13,
     "metadata": {},
     "output_type": "execute_result"
    }
   ],
   "source": [
    "# Using LabelEncoder to convert catergory values to ordinal\n",
    "labelencoder=LabelEncoder()\n",
    "for column in df.columns:\n",
    "    df[column] = labelencoder.fit_transform(df[column])\n",
    "\n",
    "df"
   ]
  },
  {
   "cell_type": "markdown",
   "id": "7660febd-cc92-4613-a4e9-96e7784e2e19",
   "metadata": {},
   "source": [
    "## 建立Table紀錄Mushroom"
   ]
  },
  {
   "cell_type": "code",
   "execution_count": 7,
   "id": "fa742a3a-0e44-4874-a185-00a95ab27c8c",
   "metadata": {},
   "outputs": [],
   "source": [
    "table=prettytable.PrettyTable()\n",
    "table.field_names=['Mushroom ','Accuracy','Recall','Precision']"
   ]
  },
  {
   "cell_type": "markdown",
   "id": "faadaed4-681d-4ae2-9fca-fc5998e10475",
   "metadata": {},
   "source": [
    "# Train-Test-Split"
   ]
  },
  {
   "cell_type": "markdown",
   "id": "6744874d-5939-4815-a329-d7019ab3b892",
   "metadata": {},
   "source": [
    "# Without Laplace smoothing"
   ]
  },
  {
   "cell_type": "code",
   "execution_count": 8,
   "id": "ab02d9a9-73eb-4bf2-aedb-43c8769a4738",
   "metadata": {},
   "outputs": [],
   "source": [
    "df=sklearn.utils.shuffle(df)\n",
    "y=df['label'].values\n",
    "x=df.drop(['label'],axis=1).values\n",
    "\n",
    "nb_without_lap=MultinomialNB(alpha=1.0e-10)"
   ]
  },
  {
   "cell_type": "markdown",
   "id": "5036e842-b7b1-4ead-956b-477a2fceeab9",
   "metadata": {},
   "source": [
    "## Holdout validation"
   ]
  },
  {
   "cell_type": "code",
   "execution_count": 9,
   "id": "9b0f3773-420b-4917-afd7-5c9536eadd00",
   "metadata": {},
   "outputs": [
    {
     "name": "stdout",
     "output_type": "stream",
     "text": [
      "Holdout validation accuracy: 86.13%\n"
     ]
    }
   ],
   "source": [
    "#Holdout validation with the ratio 7:3\n",
    "x_train,x_test,y_train,y_test=train_test_split(x,y,test_size=0.3)\n",
    "\n",
    "nb_without_lap.fit(x_train,y_train)\n",
    "print(\"Holdout validation accuracy: {}%\".format(round(nb_without_lap.score(x_test,y_test)*100,2)))"
   ]
  },
  {
   "cell_type": "code",
   "execution_count": 10,
   "id": "fb97e28f-b962-4a69-ab0c-30493563ede6",
   "metadata": {},
   "outputs": [
    {
     "data": {
      "image/png": "[encoded data removed]",
      "text/plain": [
       "<Figure size 360x360 with 2 Axes>"
      ]
     },
     "metadata": {
      "needs_background": "light"
     },
     "output_type": "display_data"
    }
   ],
   "source": [
    "from sklearn import metrics\n",
    "y_pred_nb = nb_without_lap.predict(x_test)\n",
    "y_true_nb = y_test\n",
    "cm = confusion_matrix(y_true_nb, y_pred_nb)\n",
    "f, ax = plt.subplots(figsize =(5,5))\n",
    "sns.heatmap(cm,annot = True,linewidths=0.5,linecolor=\"red\",fmt = \".0f\",ax=ax)\n",
    "plt.xlabel(\"y_pred_nb\")\n",
    "plt.ylabel(\"y_true_nb\")\n",
    "plt.title(\"Mushroom Holdout Confusion Matrix\")\n",
    "plt.show()"
   ]
  },
  {
   "cell_type": "code",
   "execution_count": 11,
   "id": "2283ac71-5036-464d-a0b6-1b7ec13294d0",
   "metadata": {},
   "outputs": [],
   "source": [
    "acc=round(accuracy_score(y_true_nb, y_pred_nb)*100,4)\n",
    "recall=round(recall_score(y_true_nb, y_pred_nb)*100,4)\n",
    "prec=round(precision_score(y_true_nb, y_pred_nb)*100,4)\n",
    "\n",
    "table.add_row([\"Holdout without Laplace\",acc,recall,prec])\n",
    "#print(table)"
   ]
  },
  {
   "cell_type": "markdown",
   "id": "0e3bbf76-7bf3-4b4f-a4ca-abc03c918002",
   "metadata": {},
   "source": [
    "## K-fold cross-validation"
   ]
  },
  {
   "cell_type": "code",
   "execution_count": 14,
   "id": "b9a199a5-4fcf-4635-aff0-416558f89de7",
   "metadata": {},
   "outputs": [
    {
     "name": "stdout",
     "output_type": "stream",
     "text": [
      "K-fold cross-validation accuracy: 86.07%\n"
     ]
    }
   ],
   "source": [
    "# K-fold cross-validation with 𝐾=3\n",
    "from sklearn.model_selection import KFold\n",
    "kf=KFold(n_splits=3, random_state=None, shuffle=True)\n",
    "\n",
    "matrix_list=list()\n",
    "accuracies=[]\n",
    "kf_acc=[]\n",
    "kf_recall=[]\n",
    "kf_prec=[]\n",
    "\n",
    "for train_index, test_index in kf.split(x):\n",
    "    x_train, x_test = x[train_index], x[test_index]\n",
    "    y_train, y_test = y[train_index], y[test_index]\n",
    "    nb_without_lap.fit(x_train,y_train)\n",
    "    matrix_list.append(confusion_matrix(y_test, nb_without_lap.predict(x_test)))\n",
    "    kf_acc=accuracy_score(y_test,nb_without_lap.predict(x_test))\n",
    "    kf_recall=recall_score(y_test,nb_without_lap.predict(x_test))\n",
    "    kf_prec=precision_score(y_test,nb_without_lap.predict(x_test))\n",
    "    \n",
    "    accuracies=nb_without_lap.score(x_test,y_test)\n",
    "\n",
    "acc_avg=np.mean(accuracies)\n",
    "print(\"K-fold cross-validation accuracy: {}%\".format(round(acc_avg*100,2)))\n",
    "\n",
    "matrix_list=np.average(np.array(matrix_list),axis=0)"
   ]
  },
  {
   "cell_type": "code",
   "execution_count": 14,
   "id": "bd86f720-833f-4b20-8512-e6bf26234b34",
   "metadata": {},
   "outputs": [
    {
     "data": {
      "image/png": "[encoded data removed]",
      "text/plain": [
       "<Figure size 360x360 with 2 Axes>"
      ]
     },
     "metadata": {
      "needs_background": "light"
     },
     "output_type": "display_data"
    }
   ],
   "source": [
    "from sklearn import metrics\n",
    "f, ax = plt.subplots(figsize =(5,5))\n",
    "sns.heatmap(matrix_list,annot = True,linewidths=0.5,linecolor=\"red\",fmt = \".0f\",ax=ax)\n",
    "plt.xlabel(\"y_pred_nb\")\n",
    "plt.ylabel(\"y_true_nb\")\n",
    "plt.title(\"Mushroom K-fold Confusion Matrix\")\n",
    "plt.show()"
   ]
  },
  {
   "cell_type": "code",
   "execution_count": 15,
   "id": "c9a39d68-7a52-4513-9edc-22457a0d872e",
   "metadata": {},
   "outputs": [],
   "source": [
    "acc=round(np.mean(kf_acc)*100,4)\n",
    "recall=round(np.mean(kf_recall)*100,4)\n",
    "prec=round(np.mean(kf_prec)*100,4)\n",
    "\n",
    "table.add_row([\"Kfold without Laplace\",acc,recall,prec])\n",
    "#print(table)"
   ]
  },
  {
   "cell_type": "markdown",
   "id": "a892011b-5a37-42dd-9655-8436ccdfb4fe",
   "metadata": {},
   "source": [
    "# With Laplace smoothing"
   ]
  },
  {
   "cell_type": "code",
   "execution_count": 16,
   "id": "7fff4fd3-d4cb-4228-a2aa-a10dc8c9ab9f",
   "metadata": {},
   "outputs": [],
   "source": [
    "df=sklearn.utils.shuffle(df)\n",
    "y=df['label'].values\n",
    "x=df.drop(['label'],axis=1).values\n",
    "\n",
    "nb_with_lap=MultinomialNB(alpha=1.0)"
   ]
  },
  {
   "cell_type": "markdown",
   "id": "820f4b86-7937-4b77-8793-7e71cca5b30a",
   "metadata": {},
   "source": [
    "## Holdout validation"
   ]
  },
  {
   "cell_type": "code",
   "execution_count": 17,
   "id": "05735112-04fb-4c79-9645-d117b8ef3767",
   "metadata": {},
   "outputs": [
    {
     "name": "stdout",
     "output_type": "stream",
     "text": [
      "Holdout validation accuracy: 84.18%\n"
     ]
    }
   ],
   "source": [
    "#Holdout validation with the ratio 7:3\n",
    "x_train,x_test,y_train,y_test=train_test_split(x,y,random_state=42,test_size=0.3)\n",
    "\n",
    "nb_with_lap.fit(x_train,y_train)\n",
    "print(\"Holdout validation accuracy: {}%\".format(round(nb_with_lap.score(x_test,y_test)*100,2)))"
   ]
  },
  {
   "cell_type": "code",
   "execution_count": 18,
   "id": "e2636a6e-7884-4c97-acdf-74a7747a1b9c",
   "metadata": {},
   "outputs": [
    {
     "data": {
      "image/png": "[encoded data removed]",
      "text/plain": [
       "<Figure size 360x360 with 2 Axes>"
      ]
     },
     "metadata": {
      "needs_background": "light"
     },
     "output_type": "display_data"
    }
   ],
   "source": [
    "from sklearn import metrics\n",
    "y_pred_nb = nb_with_lap.predict(x_test)\n",
    "y_true_nb = y_test\n",
    "cm = confusion_matrix(y_true_nb, y_pred_nb)\n",
    "f, ax = plt.subplots(figsize =(5,5))\n",
    "sns.heatmap(cm,annot = True,linewidths=0.5,linecolor=\"red\",fmt = \".0f\",ax=ax)\n",
    "plt.xlabel(\"y_pred_nb\")\n",
    "plt.ylabel(\"y_true_nb\")\n",
    "plt.title(\"Mushroom K-fold Confusion Matrix\")\n",
    "plt.show()"
   ]
  },
  {
   "cell_type": "code",
   "execution_count": 19,
   "id": "3bab64b1-cd5a-40df-b0f1-44a0329cc663",
   "metadata": {},
   "outputs": [],
   "source": [
    "acc=round(accuracy_score(y_true_nb, y_pred_nb)*100,4)\n",
    "recall=round(recall_score(y_true_nb, y_pred_nb)*100,4)\n",
    "prec=round(precision_score(y_true_nb, y_pred_nb)*100,4)\n",
    "\n",
    "table.add_row([\"Holdout with Laplace\",acc,recall,prec])\n",
    "#print(table)"
   ]
  },
  {
   "cell_type": "markdown",
   "id": "728e7457-4e3c-4e7e-809c-de91160d9cde",
   "metadata": {},
   "source": [
    "## K-fold cross-validation\n"
   ]
  },
  {
   "cell_type": "code",
   "execution_count": 20,
   "id": "85ecd336-dcae-4306-80ca-4f16977ef98d",
   "metadata": {},
   "outputs": [
    {
     "name": "stdout",
     "output_type": "stream",
     "text": [
      "K-fold cross-validation accuracy: 86.34%\n"
     ]
    }
   ],
   "source": [
    "#accuracies=cross_val_score(nb_with_lap,x,y,cv=kf)\n",
    "#acc_avg=np.mean(accuracies)\n",
    "#print(\"K-fold cross-validation accuracy: {}%\".format(round(acc_avg*100,2)))\n",
    "\n",
    "# K-fold cross-validation with 𝐾=3\n",
    "from sklearn.model_selection import KFold\n",
    "kf=KFold(n_splits=3, random_state=None, shuffle=True)\n",
    "\n",
    "matrix_list=list()\n",
    "accuracies=[]\n",
    "kf_acc=[]\n",
    "kf_recall=[]\n",
    "kf_prec=[]\n",
    "\n",
    "for train_index, test_index in kf.split(x):\n",
    "    x_train, x_test = x[train_index], x[test_index]\n",
    "    y_train, y_test = y[train_index], y[test_index]\n",
    "    nb_with_lap.fit(x_train,y_train)\n",
    "    matrix_list.append(confusion_matrix(y_test, nb_with_lap.predict(x_test)))\n",
    "    kf_acc=accuracy_score(y_test,nb_with_lap.predict(x_test))\n",
    "    kf_recall=recall_score(y_test,nb_with_lap.predict(x_test))\n",
    "    kf_prec=precision_score(y_test,nb_with_lap.predict(x_test))\n",
    "    \n",
    "    accuracies=nb_with_lap.score(x_test,y_test)\n",
    "\n",
    "acc_avg=np.mean(accuracies)\n",
    "print(\"K-fold cross-validation accuracy: {}%\".format(round(acc_avg*100,2)))\n",
    "\n",
    "matrix_list=np.average(np.array(matrix_list),axis=0)\n",
    "#print(matrix_list.astype(np.int16))\n"
   ]
  },
  {
   "cell_type": "code",
   "execution_count": 21,
   "id": "0a459bbe-4aac-4b01-913a-0597ed88f5e1",
   "metadata": {},
   "outputs": [
    {
     "data": {
      "image/png": "[encoded data removed]",
      "text/plain": [
       "<Figure size 360x360 with 2 Axes>"
      ]
     },
     "metadata": {
      "needs_background": "light"
     },
     "output_type": "display_data"
    }
   ],
   "source": [
    "from sklearn import metrics\n",
    "f, ax = plt.subplots(figsize =(5,5))\n",
    "sns.heatmap(matrix_list,annot = True,linewidths=0.5,linecolor=\"red\",fmt = \".0f\",ax=ax)\n",
    "plt.xlabel(\"y_pred_nb\")\n",
    "plt.ylabel(\"y_true_nb\")\n",
    "plt.title(\"Mushroom K-fold Confusion Matrix\")\n",
    "plt.show()"
   ]
  },
  {
   "cell_type": "markdown",
   "id": "ff83437c-619c-46af-9d8e-0e37a51215b8",
   "metadata": {},
   "source": [
    "# Result"
   ]
  },
  {
   "cell_type": "code",
   "execution_count": 22,
   "id": "aa2cf397-fb9c-4af1-9172-abbecc81edde",
   "metadata": {},
   "outputs": [
    {
     "name": "stdout",
     "output_type": "stream",
     "text": [
      "+-------------------------+----------+---------+-----------+\n",
      "|        Mushroom         | Accuracy |  Recall | Precision |\n",
      "+-------------------------+----------+---------+-----------+\n",
      "| Holdout without Laplace | 85.8914  | 78.7926 |  83.3061  |\n",
      "|  Kfold without Laplace  | 85.9649  | 79.7183 |  82.5073  |\n",
      "|   Holdout with Laplace  | 84.1795  | 75.6714 |  80.7757  |\n",
      "|    Kfold with Laplace   | 86.3371  | 80.2989 |  84.0683  |\n",
      "+-------------------------+----------+---------+-----------+\n"
     ]
    }
   ],
   "source": [
    "acc=round(np.mean(kf_acc)*100,4)\n",
    "recall=round(np.mean(kf_recall)*100,4)\n",
    "prec=round(np.mean(kf_prec)*100,4)\n",
    "\n",
    "table.add_row([\"Kfold with Laplace\",acc,recall,prec])\n",
    "print(table)"
   ]
  },
  {
   "cell_type": "markdown",
   "id": "1ea82a4d-0a3d-4005-9ea9-a789a1ba1ece",
   "metadata": {},
   "source": [
    "# Questions "
   ]
  },
  {
   "cell_type": "markdown",
   "id": "288feaf8-8131-4d7a-84c5-07bb62619e43",
   "metadata": {},
   "source": [
    "## Without Laplace"
   ]
  },
  {
   "cell_type": "code",
   "execution_count": 40,
   "id": "9325cf38-d11e-4f9c-bd5a-ef85833d1d8c",
   "metadata": {},
   "outputs": [
    {
     "name": "stdout",
     "output_type": "stream",
     "text": [
      "w    2704\n",
      "p     576\n",
      "g     576\n",
      "b       0\n",
      "n      64\n",
      "e      96\n",
      "y       0\n",
      "o     192\n",
      "c       0\n",
      "Name: stalk_color_below_ring, dtype: int64\n",
      "w    0.6426\n",
      "p    0.1369\n",
      "g    0.1369\n",
      "b    0.0000\n",
      "n    0.0152\n",
      "e    0.0228\n",
      "y    0.0000\n",
      "o    0.0456\n",
      "c    0.0000\n",
      "Name: stalk_color_below_ring, dtype: float64\n"
     ]
    },
    {
     "data": {
      "image/png": "[encoded data removed]",
      "text/plain": [
       "<Figure size 432x288 with 1 Axes>"
      ]
     },
     "metadata": {
      "needs_background": "light"
     },
     "output_type": "display_data"
    }
   ],
   "source": [
    "df=m_data\n",
    "xi=df.loc[df.label=='e','stalk_color_below_ring'].value_counts().reindex(df.stalk_color_below_ring.unique(), fill_value=0)\n",
    "print(xi)\n",
    "y=len(df.loc[df.label=='e'].index)\n",
    "\n",
    "without_la_prob=round(xi/y,4)\n",
    "print(without_la_prob)\n",
    "without_la_prob.plot(kind='bar')\n",
    "plt.xticks(rotation=0)\n",
    "plt.xlabel('stalk_color_below_ring')\n",
    "plt.ylabel('Probability')\n",
    "\n",
    "for x, y in enumerate(without_la_prob):\n",
    "    plt.text(x, y, '%s' %y, ha = 'center', va= 'bottom')\n",
    "plt.show()"
   ]
  },
  {
   "cell_type": "markdown",
   "id": "e269176e-a880-4d2b-a775-7154ff53f540",
   "metadata": {},
   "source": [
    "## With Laplace"
   ]
  },
  {
   "cell_type": "code",
   "execution_count": 42,
   "id": "4b7b5050-1004-4380-acdf-2b19f2dbd582",
   "metadata": {},
   "outputs": [
    {
     "name": "stdout",
     "output_type": "stream",
     "text": [
      "w    0.6415\n",
      "p    0.1368\n",
      "g    0.1368\n",
      "b    0.0002\n",
      "n    0.0154\n",
      "e    0.0230\n",
      "y    0.0002\n",
      "o    0.0458\n",
      "c    0.0002\n",
      "Name: stalk_color_below_ring, dtype: float64\n"
     ]
    },
    {
     "data": {
      "image/png": "[encoded data removed]",
      "text/plain": [
       "<Figure size 432x288 with 1 Axes>"
      ]
     },
     "metadata": {
      "needs_background": "light"
     },
     "output_type": "display_data"
    }
   ],
   "source": [
    "alpha=1\n",
    "df=m_data\n",
    "xi_la=df.loc[df.label=='e','stalk_color_below_ring'].value_counts().reindex(df.stalk_color_below_ring.unique(), fill_value=0)\n",
    "\n",
    "y=len(df.loc[df.label=='e'].index)\n",
    "\n",
    "with_la_prob=round((xi+alpha)/(y+alpha*len(df.stalk_color_below_ring.unique())),4)\n",
    "print(with_la_prob)\n",
    "with_la_prob.plot(kind='bar')\n",
    "plt.xticks(rotation=0)\n",
    "plt.xlabel('stalk_color_below_ring')\n",
    "plt.ylabel('Probability')\n",
    "\n",
    "for x, y in enumerate(with_la_prob):\n",
    "    plt.text(x, y, '%s' %y, ha = 'center', va= 'bottom')\n",
    "\n",
    "plt.show()"
   ]
  }
 ],
 "metadata": {
  "kernelspec": {
   "display_name": "Python 3",
   "language": "python",
   "name": "python3"
  },
  "language_info": {
   "codemirror_mode": {
    "name": "ipython",
    "version": 3
   },
   "file_extension": ".py",
   "mimetype": "text/x-python",
   "name": "python",
   "nbconvert_exporter": "python",
   "pygments_lexer": "ipython3",
   "version": "3.8.8"
  }
 },
 "nbformat": 4,
 "nbformat_minor": 5
}
