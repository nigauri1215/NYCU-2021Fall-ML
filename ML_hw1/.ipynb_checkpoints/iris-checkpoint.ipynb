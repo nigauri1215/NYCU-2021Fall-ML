{
 "cells": [
  {
   "cell_type": "code",
   "execution_count": 56,
   "id": "86ec9883-c91c-46ac-9d33-05f41d6e0cf2",
   "metadata": {},
   "outputs": [],
   "source": [
    "import numpy as np \n",
    "import pandas as pd \n",
    "import seaborn as sns \n",
    "import sklearn\n",
    "import matplotlib.pyplot as plt \n",
    "from sklearn.model_selection import train_test_split\n",
    "from sklearn.model_selection import cross_val_score\n",
    "from sklearn.preprocessing import LabelEncoder\n",
    "from sklearn.tree import DecisionTreeClassifier, export_graphviz\n",
    "from sklearn.metrics import classification_report, confusion_matrix, precision_recall_curve, auc, roc_curve\n",
    "from sklearn.naive_bayes import GaussianNB"
   ]
  },
  {
   "cell_type": "markdown",
   "id": "6bb81bb7-2783-4678-b58d-730f891982d8",
   "metadata": {},
   "source": [
    "# Data Input"
   ]
  },
  {
   "cell_type": "code",
   "execution_count": 57,
   "id": "2e95ce22-82e7-45a9-b40a-ed45b04a3345",
   "metadata": {},
   "outputs": [
    {
     "data": {
      "text/html": [
       "<div>\n",
       "<style scoped>\n",
       "    .dataframe tbody tr th:only-of-type {\n",
       "        vertical-align: middle;\n",
       "    }\n",
       "\n",
       "    .dataframe tbody tr th {\n",
       "        vertical-align: top;\n",
       "    }\n",
       "\n",
       "    .dataframe thead th {\n",
       "        text-align: right;\n",
       "    }\n",
       "</style>\n",
       "<table border=\"1\" class=\"dataframe\">\n",
       "  <thead>\n",
       "    <tr style=\"text-align: right;\">\n",
       "      <th></th>\n",
       "      <th>sepal length</th>\n",
       "      <th>sepal width</th>\n",
       "      <th>petal length</th>\n",
       "      <th>petal width</th>\n",
       "      <th>class</th>\n",
       "    </tr>\n",
       "  </thead>\n",
       "  <tbody>\n",
       "    <tr>\n",
       "      <th>0</th>\n",
       "      <td>4.9</td>\n",
       "      <td>3.0</td>\n",
       "      <td>1.4</td>\n",
       "      <td>0.2</td>\n",
       "      <td>Iris-setosa</td>\n",
       "    </tr>\n",
       "    <tr>\n",
       "      <th>1</th>\n",
       "      <td>4.7</td>\n",
       "      <td>3.2</td>\n",
       "      <td>1.3</td>\n",
       "      <td>0.2</td>\n",
       "      <td>Iris-setosa</td>\n",
       "    </tr>\n",
       "    <tr>\n",
       "      <th>2</th>\n",
       "      <td>4.6</td>\n",
       "      <td>3.1</td>\n",
       "      <td>1.5</td>\n",
       "      <td>0.2</td>\n",
       "      <td>Iris-setosa</td>\n",
       "    </tr>\n",
       "    <tr>\n",
       "      <th>3</th>\n",
       "      <td>5.0</td>\n",
       "      <td>3.6</td>\n",
       "      <td>1.4</td>\n",
       "      <td>0.2</td>\n",
       "      <td>Iris-setosa</td>\n",
       "    </tr>\n",
       "    <tr>\n",
       "      <th>4</th>\n",
       "      <td>5.4</td>\n",
       "      <td>3.9</td>\n",
       "      <td>1.7</td>\n",
       "      <td>0.4</td>\n",
       "      <td>Iris-setosa</td>\n",
       "    </tr>\n",
       "  </tbody>\n",
       "</table>\n",
       "</div>"
      ],
      "text/plain": [
       "   sepal length  sepal width  petal length  petal width        class\n",
       "0           4.9          3.0           1.4          0.2  Iris-setosa\n",
       "1           4.7          3.2           1.3          0.2  Iris-setosa\n",
       "2           4.6          3.1           1.5          0.2  Iris-setosa\n",
       "3           5.0          3.6           1.4          0.2  Iris-setosa\n",
       "4           5.4          3.9           1.7          0.4  Iris-setosa"
      ]
     },
     "execution_count": 57,
     "metadata": {},
     "output_type": "execute_result"
    }
   ],
   "source": [
    "i_data=pd.read_csv(\"iris.data\")\n",
    "i_data.columns=['sepal length','sepal width','petal length','petal width','class']\n",
    "i_data.head()"
   ]
  },
  {
   "cell_type": "markdown",
   "id": "ac798035-b244-4c7a-8e7d-a607ad1d405d",
   "metadata": {},
   "source": [
    "# Data Visualization"
   ]
  },
  {
   "cell_type": "code",
   "execution_count": 58,
   "id": "9d491670-9c8d-4f21-927c-657973ebc58e",
   "metadata": {},
   "outputs": [
    {
     "name": "stdout",
     "output_type": "stream",
     "text": [
      "Sepal length average: 5.8483221476510066\n",
      "Sepal width average: 3.051006711409396\n",
      "Petal width average: 1.2053691275167786\n",
      "Petal length average: 3.774496644295302\n",
      "Sepal length standard deviation: 0.8258088592766591\n",
      "Sepal width standard deviation: 0.4320417345091116\n",
      "Petal length standard deviation: 1.7537363512187498\n",
      "Petal width standard deviation: 0.758733069304539\n"
     ]
    }
   ],
   "source": [
    "sl_avg=np.average(i_data['sepal length'])\n",
    "sw_avg=np.average(i_data['sepal width'])\n",
    "pl_avg=np.average(i_data['petal length'])\n",
    "pw_avg=np.average(i_data['petal width'])\n",
    "\n",
    "sl_std=np.std(i_data['sepal length'])\n",
    "sw_std=np.std(i_data['sepal width'])\n",
    "pl_std=np.std(i_data['petal length'])\n",
    "pw_std=np.std(i_data['petal width'])\n",
    "\n",
    "print(\"Sepal length average:\",sl_avg)\n",
    "print(\"Sepal width average:\",sw_avg)\n",
    "print(\"Petal width average:\",pw_avg)\n",
    "print(\"Petal length average:\",pl_avg)\n",
    "\n",
    "print(\"Sepal length standard deviation:\",sl_std)\n",
    "print(\"Sepal width standard deviation:\",sw_std)\n",
    "print(\"Petal length standard deviation:\",pl_std)\n",
    "print(\"Petal width standard deviation:\",pw_std)"
   ]
  },
  {
   "cell_type": "code",
   "execution_count": 59,
   "id": "7153060e-3426-4985-abb6-f356002b2a52",
   "metadata": {},
   "outputs": [
    {
     "data": {
      "text/plain": [
       "Text(0.5, 1.0, 'Iris')"
      ]
     },
     "execution_count": 59,
     "metadata": {},
     "output_type": "execute_result"
    },
    {
     "data": {
      "image/png": "[encoded data removed]",
      "text/plain": [
       "<Figure size 432x288 with 1 Axes>"
      ]
     },
     "metadata": {
      "needs_background": "light"
     },
     "output_type": "display_data"
    }
   ],
   "source": [
    "ax=sns.histplot(i_data['sepal length'],binwidth=0.25)\n",
    "ax.set_title('Iris')"
   ]
  },
  {
   "cell_type": "code",
   "execution_count": 60,
   "id": "92307476-f4aa-4eb0-8e80-e3b31e87c90e",
   "metadata": {},
   "outputs": [
    {
     "data": {
      "text/plain": [
       "Text(0.5, 1.0, 'Iris')"
      ]
     },
     "execution_count": 60,
     "metadata": {},
     "output_type": "execute_result"
    },
    {
     "data": {
      "image/png": "[encoded data removed]",
      "text/plain": [
       "<Figure size 432x288 with 1 Axes>"
      ]
     },
     "metadata": {
      "needs_background": "light"
     },
     "output_type": "display_data"
    }
   ],
   "source": [
    "ax=sns.histplot(i_data['sepal width'],binwidth=0.5)\n",
    "ax.set_title('Iris')"
   ]
  },
  {
   "cell_type": "code",
   "execution_count": 61,
   "id": "2459d562-71f0-4533-9ce5-ca83d57d7175",
   "metadata": {},
   "outputs": [
    {
     "data": {
      "text/plain": [
       "Text(0.5, 1.0, 'Iris')"
      ]
     },
     "execution_count": 61,
     "metadata": {},
     "output_type": "execute_result"
    },
    {
     "data": {
      "image/png": "[encoded data removed]",
      "text/plain": [
       "<Figure size 432x288 with 1 Axes>"
      ]
     },
     "metadata": {
      "needs_background": "light"
     },
     "output_type": "display_data"
    }
   ],
   "source": [
    "ax=sns.histplot(i_data['petal length'],binwidth=0.25)\n",
    "ax.set_title('Iris')"
   ]
  },
  {
   "cell_type": "code",
   "execution_count": 62,
   "id": "8e181faf-bfdd-4d50-bcef-f0645f8c5b7d",
   "metadata": {},
   "outputs": [
    {
     "data": {
      "text/plain": [
       "Text(0.5, 1.0, 'Iris')"
      ]
     },
     "execution_count": 62,
     "metadata": {},
     "output_type": "execute_result"
    },
    {
     "data": {
      "image/png": "[encoded data removed]",
      "text/plain": [
       "<Figure size 432x288 with 1 Axes>"
      ]
     },
     "metadata": {
      "needs_background": "light"
     },
     "output_type": "display_data"
    }
   ],
   "source": [
    "ax=sns.histplot(i_data['petal width'],binwidth=0.25)\n",
    "ax.set_title('Iris')"
   ]
  },
  {
   "cell_type": "markdown",
   "id": "e75f924d-6688-4ab4-bba6-d18d15646d5d",
   "metadata": {},
   "source": [
    "# Data Preprocessing"
   ]
  },
  {
   "cell_type": "code",
   "execution_count": 63,
   "id": "c93df13d-56d2-42ad-bf37-7ebf70264e07",
   "metadata": {},
   "outputs": [
    {
     "data": {
      "text/html": [
       "<div>\n",
       "<style scoped>\n",
       "    .dataframe tbody tr th:only-of-type {\n",
       "        vertical-align: middle;\n",
       "    }\n",
       "\n",
       "    .dataframe tbody tr th {\n",
       "        vertical-align: top;\n",
       "    }\n",
       "\n",
       "    .dataframe thead th {\n",
       "        text-align: right;\n",
       "    }\n",
       "</style>\n",
       "<table border=\"1\" class=\"dataframe\">\n",
       "  <thead>\n",
       "    <tr style=\"text-align: right;\">\n",
       "      <th></th>\n",
       "      <th>sepal length</th>\n",
       "      <th>sepal width</th>\n",
       "      <th>petal length</th>\n",
       "      <th>petal width</th>\n",
       "      <th>class</th>\n",
       "    </tr>\n",
       "  </thead>\n",
       "  <tbody>\n",
       "    <tr>\n",
       "      <th>0</th>\n",
       "      <td>4.9</td>\n",
       "      <td>3.0</td>\n",
       "      <td>1.4</td>\n",
       "      <td>0.2</td>\n",
       "      <td>0</td>\n",
       "    </tr>\n",
       "    <tr>\n",
       "      <th>1</th>\n",
       "      <td>4.7</td>\n",
       "      <td>3.2</td>\n",
       "      <td>1.3</td>\n",
       "      <td>0.2</td>\n",
       "      <td>0</td>\n",
       "    </tr>\n",
       "    <tr>\n",
       "      <th>2</th>\n",
       "      <td>4.6</td>\n",
       "      <td>3.1</td>\n",
       "      <td>1.5</td>\n",
       "      <td>0.2</td>\n",
       "      <td>0</td>\n",
       "    </tr>\n",
       "    <tr>\n",
       "      <th>3</th>\n",
       "      <td>5.0</td>\n",
       "      <td>3.6</td>\n",
       "      <td>1.4</td>\n",
       "      <td>0.2</td>\n",
       "      <td>0</td>\n",
       "    </tr>\n",
       "    <tr>\n",
       "      <th>4</th>\n",
       "      <td>5.4</td>\n",
       "      <td>3.9</td>\n",
       "      <td>1.7</td>\n",
       "      <td>0.4</td>\n",
       "      <td>0</td>\n",
       "    </tr>\n",
       "  </tbody>\n",
       "</table>\n",
       "</div>"
      ],
      "text/plain": [
       "   sepal length  sepal width  petal length  petal width  class\n",
       "0           4.9          3.0           1.4          0.2      0\n",
       "1           4.7          3.2           1.3          0.2      0\n",
       "2           4.6          3.1           1.5          0.2      0\n",
       "3           5.0          3.6           1.4          0.2      0\n",
       "4           5.4          3.9           1.7          0.4      0"
      ]
     },
     "execution_count": 63,
     "metadata": {},
     "output_type": "execute_result"
    }
   ],
   "source": [
    "le=LabelEncoder()\n",
    "le.fit(i_data['class'])\n",
    "i_data['class'] = le.transform(i_data['class'])\n",
    "\n",
    "i_data.head()"
   ]
  },
  {
   "cell_type": "code",
   "execution_count": 64,
   "id": "ffe34039-d3cc-4098-8ebf-25a4fb09e4f6",
   "metadata": {},
   "outputs": [],
   "source": [
    "y=df['class'].values\n",
    "x=df.drop(['class'],axis=1).values\n"
   ]
  },
  {
   "cell_type": "markdown",
   "id": "69043765-1297-42a4-98bf-0df71df6d1eb",
   "metadata": {},
   "source": [
    "# Train-Test-Split"
   ]
  },
  {
   "cell_type": "markdown",
   "id": "80e84b5e-e1a6-414d-9cc6-2585f36762af",
   "metadata": {},
   "source": [
    "## Holdout validation"
   ]
  },
  {
   "cell_type": "code",
   "execution_count": 65,
   "id": "d5d87517-fc2c-4c5a-922d-bd9ca4f4b002",
   "metadata": {},
   "outputs": [
    {
     "name": "stdout",
     "output_type": "stream",
     "text": [
      "Holdout validation accuracy: 95.56%\n"
     ]
    }
   ],
   "source": [
    "df=sklearn.utils.shuffle(i_data)\n",
    "#Holdout validation with the ratio 7:3\n",
    "x_train,x_test,y_train,y_test=train_test_split(x,y,random_state=42,test_size=0.3)\n",
    "\n",
    "nb = GaussianNB()\n",
    "nb.fit(x_train, y_train)\n",
    "print(\"Holdout validation accuracy: {}%\".format(round(nb.score(x_test,y_test)*100,2)))"
   ]
  },
  {
   "cell_type": "code",
   "execution_count": 66,
   "id": "3ae95f86-9e5e-421a-903c-ee07c60efdf5",
   "metadata": {},
   "outputs": [
    {
     "data": {
      "image/png": "[encoded data removed]",
      "text/plain": [
       "<Figure size 360x360 with 2 Axes>"
      ]
     },
     "metadata": {
      "needs_background": "light"
     },
     "output_type": "display_data"
    },
    {
     "name": "stdout",
     "output_type": "stream",
     "text": [
      "                 precision    recall  f1-score   support\n",
      "\n",
      "    Iris-setosa      1.000     1.000     1.000        18\n",
      "Iris-versicolor      0.938     0.938     0.938        16\n",
      " Iris-virginica      0.909     0.909     0.909        11\n",
      "\n",
      "       accuracy                          0.956        45\n",
      "      macro avg      0.949     0.949     0.949        45\n",
      "   weighted avg      0.956     0.956     0.956        45\n",
      "\n"
     ]
    }
   ],
   "source": [
    "from sklearn import metrics\n",
    "y_pred_nb = nb.predict(x_test)\n",
    "y_true_nb = y_test\n",
    "cm = confusion_matrix(y_true_nb, y_pred_nb)\n",
    "f, ax = plt.subplots(figsize =(5,5))\n",
    "sns.heatmap(cm,annot = True,linewidths=0.5,linecolor=\"red\",fmt = \".0f\",ax=ax)\n",
    "plt.xlabel(\"y_pred_nb\")\n",
    "plt.ylabel(\"y_true_nb\")\n",
    "plt.title(\"Confusion Matrix\")\n",
    "plt.show()\n",
    "\n",
    "print(metrics.classification_report(y_true_nb, y_pred_nb, digits=3))"
   ]
  },
  {
   "cell_type": "markdown",
   "id": "e22c06bc-402c-4df3-b49e-300e752d0db2",
   "metadata": {},
   "source": [
    "## K-fold cross-validation"
   ]
  },
  {
   "cell_type": "code",
   "execution_count": 67,
   "id": "9bffcc3f-8d94-4231-83bf-f1cf389b5121",
   "metadata": {},
   "outputs": [
    {
     "name": "stdout",
     "output_type": "stream",
     "text": [
      "K-fold cross-validation accuracy: 93.93%\n"
     ]
    }
   ],
   "source": [
    "df=sklearn.utils.shuffle(i_data)\n",
    "# K-fold cross-validation with 𝐾=3\n",
    "from sklearn.model_selection import KFold\n",
    "kfold = KFold(n_splits=3, random_state=7,shuffle=True)\n",
    "\n",
    "accuracies=cross_val_score(nb,x,y,cv=kfold)\n",
    "acc_avg=np.mean(accuracies)\n",
    "print(\"K-fold cross-validation accuracy: {}%\".format(round(acc_avg*100,2)))"
   ]
  },
  {
   "cell_type": "code",
   "execution_count": 68,
   "id": "f33bd991-c182-4089-9413-05bb25d092cf",
   "metadata": {},
   "outputs": [
    {
     "data": {
      "image/png": "[encoded data removed]",
      "text/plain": [
       "<Figure size 360x360 with 2 Axes>"
      ]
     },
     "metadata": {
      "needs_background": "light"
     },
     "output_type": "display_data"
    },
    {
     "name": "stdout",
     "output_type": "stream",
     "text": [
      "                 precision    recall  f1-score   support\n",
      "\n",
      "    Iris-setosa      1.000     1.000     1.000        18\n",
      "Iris-versicolor      0.938     0.938     0.938        16\n",
      " Iris-virginica      0.909     0.909     0.909        11\n",
      "\n",
      "       accuracy                          0.956        45\n",
      "      macro avg      0.949     0.949     0.949        45\n",
      "   weighted avg      0.956     0.956     0.956        45\n",
      "\n"
     ]
    }
   ],
   "source": [
    "from sklearn import metrics\n",
    "y_pred_nb = nb.predict(x_test)\n",
    "y_true_nb = y_test\n",
    "cm = confusion_matrix(y_true_nb, y_pred_nb)\n",
    "f, ax = plt.subplots(figsize =(5,5))\n",
    "sns.heatmap(cm,annot = True,linewidths=0.5,linecolor=\"red\",fmt = \".0f\",ax=ax)\n",
    "plt.xlabel(\"y_pred_nb\")\n",
    "plt.ylabel(\"y_true_nb\")\n",
    "plt.title(\"Confusion Matrix\")\n",
    "plt.show()\n",
    "\n",
    "print(metrics.classification_report(y_true_nb, y_pred_nb, digits=3))"
   ]
  },
  {
   "cell_type": "code",
   "execution_count": null,
   "id": "e9405cc8-20b5-4532-8cdc-bbb229f3e70b",
   "metadata": {},
   "outputs": [],
   "source": []
  }
 ],
 "metadata": {
  "kernelspec": {
   "display_name": "Python 3",
   "language": "python",
   "name": "python3"
  },
  "language_info": {
   "codemirror_mode": {
    "name": "ipython",
    "version": 3
   },
   "file_extension": ".py",
   "mimetype": "text/x-python",
   "name": "python",
   "nbconvert_exporter": "python",
   "pygments_lexer": "ipython3",
   "version": "3.8.8"
  }
 },
 "nbformat": 4,
 "nbformat_minor": 5
}
