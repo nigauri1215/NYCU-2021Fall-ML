{
 "cells": [
  {
   "cell_type": "code",
   "execution_count": 2,
   "id": "86ec9883-c91c-46ac-9d33-05f41d6e0cf2",
   "metadata": {},
   "outputs": [],
   "source": [
    "import numpy as np \n",
    "import pandas as pd \n",
    "import seaborn as sns \n",
    "import sklearn\n",
    "import matplotlib.pyplot as plt \n",
    "from sklearn.model_selection import train_test_split\n",
    "from sklearn.model_selection import cross_val_score\n",
    "from sklearn.preprocessing import LabelEncoder\n",
    "from sklearn.tree import DecisionTreeClassifier, export_graphviz\n",
    "from sklearn.metrics import classification_report, confusion_matrix, accuracy_score, recall_score, precision_score\n",
    "from sklearn.naive_bayes import GaussianNB"
   ]
  },
  {
   "cell_type": "markdown",
   "id": "6bb81bb7-2783-4678-b58d-730f891982d8",
   "metadata": {},
   "source": [
    "# Data Input"
   ]
  },
  {
   "cell_type": "code",
   "execution_count": 3,
   "id": "2e95ce22-82e7-45a9-b40a-ed45b04a3345",
   "metadata": {},
   "outputs": [
    {
     "data": {
      "text/html": [
       "<div>\n",
       "<style scoped>\n",
       "    .dataframe tbody tr th:only-of-type {\n",
       "        vertical-align: middle;\n",
       "    }\n",
       "\n",
       "    .dataframe tbody tr th {\n",
       "        vertical-align: top;\n",
       "    }\n",
       "\n",
       "    .dataframe thead th {\n",
       "        text-align: right;\n",
       "    }\n",
       "</style>\n",
       "<table border=\"1\" class=\"dataframe\">\n",
       "  <thead>\n",
       "    <tr style=\"text-align: right;\">\n",
       "      <th></th>\n",
       "      <th>sepal length</th>\n",
       "      <th>sepal width</th>\n",
       "      <th>petal length</th>\n",
       "      <th>petal width</th>\n",
       "      <th>class</th>\n",
       "    </tr>\n",
       "  </thead>\n",
       "  <tbody>\n",
       "    <tr>\n",
       "      <th>0</th>\n",
       "      <td>4.9</td>\n",
       "      <td>3.0</td>\n",
       "      <td>1.4</td>\n",
       "      <td>0.2</td>\n",
       "      <td>Iris-setosa</td>\n",
       "    </tr>\n",
       "    <tr>\n",
       "      <th>1</th>\n",
       "      <td>4.7</td>\n",
       "      <td>3.2</td>\n",
       "      <td>1.3</td>\n",
       "      <td>0.2</td>\n",
       "      <td>Iris-setosa</td>\n",
       "    </tr>\n",
       "    <tr>\n",
       "      <th>2</th>\n",
       "      <td>4.6</td>\n",
       "      <td>3.1</td>\n",
       "      <td>1.5</td>\n",
       "      <td>0.2</td>\n",
       "      <td>Iris-setosa</td>\n",
       "    </tr>\n",
       "    <tr>\n",
       "      <th>3</th>\n",
       "      <td>5.0</td>\n",
       "      <td>3.6</td>\n",
       "      <td>1.4</td>\n",
       "      <td>0.2</td>\n",
       "      <td>Iris-setosa</td>\n",
       "    </tr>\n",
       "    <tr>\n",
       "      <th>4</th>\n",
       "      <td>5.4</td>\n",
       "      <td>3.9</td>\n",
       "      <td>1.7</td>\n",
       "      <td>0.4</td>\n",
       "      <td>Iris-setosa</td>\n",
       "    </tr>\n",
       "  </tbody>\n",
       "</table>\n",
       "</div>"
      ],
      "text/plain": [
       "   sepal length  sepal width  petal length  petal width        class\n",
       "0           4.9          3.0           1.4          0.2  Iris-setosa\n",
       "1           4.7          3.2           1.3          0.2  Iris-setosa\n",
       "2           4.6          3.1           1.5          0.2  Iris-setosa\n",
       "3           5.0          3.6           1.4          0.2  Iris-setosa\n",
       "4           5.4          3.9           1.7          0.4  Iris-setosa"
      ]
     },
     "execution_count": 3,
     "metadata": {},
     "output_type": "execute_result"
    }
   ],
   "source": [
    "i_data=pd.read_csv(\"iris.data\")\n",
    "i_data.columns=['sepal length','sepal width','petal length','petal width','class']\n",
    "i_data.head()"
   ]
  },
  {
   "cell_type": "markdown",
   "id": "ac798035-b244-4c7a-8e7d-a607ad1d405d",
   "metadata": {},
   "source": [
    "# Data Visualization"
   ]
  },
  {
   "cell_type": "code",
   "execution_count": 3,
   "id": "9d491670-9c8d-4f21-927c-657973ebc58e",
   "metadata": {},
   "outputs": [
    {
     "name": "stdout",
     "output_type": "stream",
     "text": [
      "Sepal length average: 5.8483221476510066\n",
      "Sepal width average: 3.051006711409396\n",
      "Petal width average: 1.2053691275167786\n",
      "Petal length average: 3.774496644295302\n",
      "Sepal length standard deviation: 0.8258088592766591\n",
      "Sepal width standard deviation: 0.4320417345091116\n",
      "Petal length standard deviation: 1.7537363512187498\n",
      "Petal width standard deviation: 0.758733069304539\n"
     ]
    }
   ],
   "source": [
    "sl_avg=np.average(i_data['sepal length'])\n",
    "sw_avg=np.average(i_data['sepal width'])\n",
    "pl_avg=np.average(i_data['petal length'])\n",
    "pw_avg=np.average(i_data['petal width'])\n",
    "\n",
    "sl_std=np.std(i_data['sepal length'])\n",
    "sw_std=np.std(i_data['sepal width'])\n",
    "pl_std=np.std(i_data['petal length'])\n",
    "pw_std=np.std(i_data['petal width'])\n",
    "\n",
    "print(\"Sepal length average:\",sl_avg)\n",
    "print(\"Sepal width average:\",sw_avg)\n",
    "print(\"Petal width average:\",pw_avg)\n",
    "print(\"Petal length average:\",pl_avg)\n",
    "\n",
    "print(\"Sepal length standard deviation:\",sl_std)\n",
    "print(\"Sepal width standard deviation:\",sw_std)\n",
    "print(\"Petal length standard deviation:\",pl_std)\n",
    "print(\"Petal width standard deviation:\",pw_std)"
   ]
  },
  {
   "cell_type": "code",
   "execution_count": 4,
   "id": "7153060e-3426-4985-abb6-f356002b2a52",
   "metadata": {},
   "outputs": [
    {
     "data": {
      "text/plain": [
       "Text(0.5, 1.0, 'Iris')"
      ]
     },
     "execution_count": 4,
     "metadata": {},
     "output_type": "execute_result"
    },
    {
     "data": {
      "image/png": "[encoded data removed]",
      "text/plain": [
       "<Figure size 432x288 with 1 Axes>"
      ]
     },
     "metadata": {
      "needs_background": "light"
     },
     "output_type": "display_data"
    }
   ],
   "source": [
    "ax=sns.histplot(i_data['sepal length'],binwidth=0.25)\n",
    "ax.set_title('Iris')"
   ]
  },
  {
   "cell_type": "code",
   "execution_count": 5,
   "id": "92307476-f4aa-4eb0-8e80-e3b31e87c90e",
   "metadata": {},
   "outputs": [
    {
     "data": {
      "text/plain": [
       "Text(0.5, 1.0, 'Iris')"
      ]
     },
     "execution_count": 5,
     "metadata": {},
     "output_type": "execute_result"
    },
    {
     "data": {
      "image/png": "[encoded data removed]",
      "text/plain": [
       "<Figure size 432x288 with 1 Axes>"
      ]
     },
     "metadata": {
      "needs_background": "light"
     },
     "output_type": "display_data"
    }
   ],
   "source": [
    "ax=sns.histplot(i_data['sepal width'],binwidth=0.5)\n",
    "ax.set_title('Iris')"
   ]
  },
  {
   "cell_type": "code",
   "execution_count": 6,
   "id": "2459d562-71f0-4533-9ce5-ca83d57d7175",
   "metadata": {},
   "outputs": [
    {
     "data": {
      "text/plain": [
       "Text(0.5, 1.0, 'Iris')"
      ]
     },
     "execution_count": 6,
     "metadata": {},
     "output_type": "execute_result"
    },
    {
     "data": {
      "image/png": "[encoded data removed]",
      "text/plain": [
       "<Figure size 432x288 with 1 Axes>"
      ]
     },
     "metadata": {
      "needs_background": "light"
     },
     "output_type": "display_data"
    }
   ],
   "source": [
    "ax=sns.histplot(i_data['petal length'],binwidth=0.25)\n",
    "ax.set_title('Iris')"
   ]
  },
  {
   "cell_type": "code",
   "execution_count": 7,
   "id": "8e181faf-bfdd-4d50-bcef-f0645f8c5b7d",
   "metadata": {},
   "outputs": [
    {
     "data": {
      "text/plain": [
       "Text(0.5, 1.0, 'Iris')"
      ]
     },
     "execution_count": 7,
     "metadata": {},
     "output_type": "execute_result"
    },
    {
     "data": {
      "image/png": "[encoded data removed]",
      "text/plain": [
       "<Figure size 432x288 with 1 Axes>"
      ]
     },
     "metadata": {
      "needs_background": "light"
     },
     "output_type": "display_data"
    }
   ],
   "source": [
    "ax=sns.histplot(i_data['petal width'],binwidth=0.25)\n",
    "ax.set_title('Iris')"
   ]
  },
  {
   "cell_type": "markdown",
   "id": "e75f924d-6688-4ab4-bba6-d18d15646d5d",
   "metadata": {},
   "source": [
    "# Data Preprocessing"
   ]
  },
  {
   "cell_type": "code",
   "execution_count": 4,
   "id": "c93df13d-56d2-42ad-bf37-7ebf70264e07",
   "metadata": {},
   "outputs": [
    {
     "data": {
      "text/html": [
       "<div>\n",
       "<style scoped>\n",
       "    .dataframe tbody tr th:only-of-type {\n",
       "        vertical-align: middle;\n",
       "    }\n",
       "\n",
       "    .dataframe tbody tr th {\n",
       "        vertical-align: top;\n",
       "    }\n",
       "\n",
       "    .dataframe thead th {\n",
       "        text-align: right;\n",
       "    }\n",
       "</style>\n",
       "<table border=\"1\" class=\"dataframe\">\n",
       "  <thead>\n",
       "    <tr style=\"text-align: right;\">\n",
       "      <th></th>\n",
       "      <th>sepal length</th>\n",
       "      <th>sepal width</th>\n",
       "      <th>petal length</th>\n",
       "      <th>petal width</th>\n",
       "      <th>class</th>\n",
       "    </tr>\n",
       "  </thead>\n",
       "  <tbody>\n",
       "    <tr>\n",
       "      <th>0</th>\n",
       "      <td>4.9</td>\n",
       "      <td>3.0</td>\n",
       "      <td>1.4</td>\n",
       "      <td>0.2</td>\n",
       "      <td>0</td>\n",
       "    </tr>\n",
       "    <tr>\n",
       "      <th>1</th>\n",
       "      <td>4.7</td>\n",
       "      <td>3.2</td>\n",
       "      <td>1.3</td>\n",
       "      <td>0.2</td>\n",
       "      <td>0</td>\n",
       "    </tr>\n",
       "    <tr>\n",
       "      <th>2</th>\n",
       "      <td>4.6</td>\n",
       "      <td>3.1</td>\n",
       "      <td>1.5</td>\n",
       "      <td>0.2</td>\n",
       "      <td>0</td>\n",
       "    </tr>\n",
       "    <tr>\n",
       "      <th>3</th>\n",
       "      <td>5.0</td>\n",
       "      <td>3.6</td>\n",
       "      <td>1.4</td>\n",
       "      <td>0.2</td>\n",
       "      <td>0</td>\n",
       "    </tr>\n",
       "    <tr>\n",
       "      <th>4</th>\n",
       "      <td>5.4</td>\n",
       "      <td>3.9</td>\n",
       "      <td>1.7</td>\n",
       "      <td>0.4</td>\n",
       "      <td>0</td>\n",
       "    </tr>\n",
       "  </tbody>\n",
       "</table>\n",
       "</div>"
      ],
      "text/plain": [
       "   sepal length  sepal width  petal length  petal width  class\n",
       "0           4.9          3.0           1.4          0.2      0\n",
       "1           4.7          3.2           1.3          0.2      0\n",
       "2           4.6          3.1           1.5          0.2      0\n",
       "3           5.0          3.6           1.4          0.2      0\n",
       "4           5.4          3.9           1.7          0.4      0"
      ]
     },
     "execution_count": 4,
     "metadata": {},
     "output_type": "execute_result"
    }
   ],
   "source": [
    "le=LabelEncoder()\n",
    "le.fit(i_data['class'])\n",
    "i_data['class'] = le.transform(i_data['class'])\n",
    "\n",
    "i_data.head()"
   ]
  },
  {
   "cell_type": "code",
   "execution_count": 5,
   "id": "ffe34039-d3cc-4098-8ebf-25a4fb09e4f6",
   "metadata": {},
   "outputs": [],
   "source": [
    "df=sklearn.utils.shuffle(i_data)\n",
    "y=df['class'].values\n",
    "x=df.drop(['class'],axis=1).values\n"
   ]
  },
  {
   "cell_type": "code",
   "execution_count": 6,
   "id": "2f8a782f-6850-4a92-b939-8b56c5e063e0",
   "metadata": {},
   "outputs": [],
   "source": [
    "import prettytable\n",
    "table=prettytable.PrettyTable()\n",
    "table.field_names=['Iris','Accuracy','Recall','Precision']"
   ]
  },
  {
   "cell_type": "markdown",
   "id": "69043765-1297-42a4-98bf-0df71df6d1eb",
   "metadata": {},
   "source": [
    "# Train-Test-Split"
   ]
  },
  {
   "cell_type": "markdown",
   "id": "80e84b5e-e1a6-414d-9cc6-2585f36762af",
   "metadata": {},
   "source": [
    "## Holdout validation"
   ]
  },
  {
   "cell_type": "code",
   "execution_count": 7,
   "id": "d5d87517-fc2c-4c5a-922d-bd9ca4f4b002",
   "metadata": {},
   "outputs": [
    {
     "name": "stdout",
     "output_type": "stream",
     "text": [
      "Holdout validation accuracy: 97.78%\n"
     ]
    }
   ],
   "source": [
    "#Holdout validation with the ratio 7:3\n",
    "x_train,x_test,y_train,y_test=train_test_split(x,y,random_state=42,test_size=0.3)\n",
    "\n",
    "nb = GaussianNB()\n",
    "nb.fit(x_train, y_train)\n",
    "print(\"Holdout validation accuracy: {}%\".format(round(nb.score(x_test,y_test)*100,2)))"
   ]
  },
  {
   "cell_type": "code",
   "execution_count": 8,
   "id": "2cf630ce-0f8e-4de9-8a4f-4d89738fe12b",
   "metadata": {},
   "outputs": [
    {
     "data": {
      "image/png": "[encoded data removed]",
      "text/plain": [
       "<Figure size 360x360 with 2 Axes>"
      ]
     },
     "metadata": {
      "needs_background": "light"
     },
     "output_type": "display_data"
    }
   ],
   "source": [
    "from sklearn import metrics\n",
    "y_pred_nb = nb.predict(x_test)\n",
    "y_true_nb = y_test\n",
    "cm = confusion_matrix(y_true_nb, y_pred_nb)\n",
    "f, ax = plt.subplots(figsize =(5,5))\n",
    "sns.heatmap(cm,annot = True,linewidths=0.5,linecolor=\"red\",fmt = \".0f\",ax=ax)\n",
    "plt.xlabel(\"y_pred_nb\")\n",
    "plt.ylabel(\"y_true_nb\")\n",
    "plt.title(\"Confusion Matrix\")\n",
    "plt.show()"
   ]
  },
  {
   "cell_type": "code",
   "execution_count": 9,
   "id": "2afdca1a-459e-4595-862f-8e644e4f3207",
   "metadata": {},
   "outputs": [],
   "source": [
    "acc=round(accuracy_score(y_true_nb, y_pred_nb)*100,4)\n",
    "recall=round(recall_score(y_true_nb, y_pred_nb,average='weighted')*100,4)\n",
    "prec=round(precision_score(y_true_nb, y_pred_nb,average='weighted')*100,4)\n",
    "\n",
    "table.add_row([\"Holdout\",acc,recall,prec])"
   ]
  },
  {
   "cell_type": "markdown",
   "id": "e22c06bc-402c-4df3-b49e-300e752d0db2",
   "metadata": {},
   "source": [
    "## K-fold cross-validation"
   ]
  },
  {
   "cell_type": "code",
   "execution_count": 10,
   "id": "06c1a9aa-9829-4673-bab8-54bcccb3a043",
   "metadata": {},
   "outputs": [
    {
     "name": "stdout",
     "output_type": "stream",
     "text": [
      "[  0   1   2   3   4   6   7   8   9  10  11  16  17  18  19  20  21  22\n",
      "  26  28  30  31  32  33  40  41  42  43  44  47  48  49  50  53  55  59\n",
      "  61  62  63  64  67  68  70  71  72  73  74  75  77  78  83  85  86  87\n",
      "  88  89  91  93  95  97  98  99 100 101 102 104 105 106 108 109 111 113\n",
      " 114 115 116 117 118 120 121 123 124 125 126 127 128 130 131 132 133 134\n",
      " 135 136 138 139 140 141 142 144 148] [  5  12  13  14  15  23  24  25  27  29  34  35  36  37  38  39  45  46\n",
      "  51  52  54  56  57  58  60  65  66  69  76  79  80  81  82  84  90  92\n",
      "  94  96 103 107 110 112 119 122 129 137 143 145 146 147]\n",
      "[  0   1   5   7  10  11  12  13  14  15  16  17  18  19  20  21  22  23\n",
      "  24  25  26  27  29  30  32  33  34  35  36  37  38  39  40  42  44  45\n",
      "  46  49  50  51  52  53  54  56  57  58  60  62  63  64  65  66  68  69\n",
      "  74  75  76  77  79  80  81  82  84  85  89  90  91  92  93  94  96  99\n",
      " 102 103 104 106 107 110 112 113 114 116 119 122 123 125 126 127 128 129\n",
      " 131 137 138 139 143 144 145 146 147] [  2   3   4   6   8   9  28  31  41  43  47  48  55  59  61  67  70  71\n",
      "  72  73  78  83  86  87  88  95  97  98 100 101 105 108 109 111 115 117\n",
      " 118 120 121 124 130 132 133 134 135 136 140 141 142 148]\n",
      "[  2   3   4   5   6   8   9  12  13  14  15  23  24  25  27  28  29  31\n",
      "  34  35  36  37  38  39  41  43  45  46  47  48  51  52  54  55  56  57\n",
      "  58  59  60  61  65  66  67  69  70  71  72  73  76  78  79  80  81  82\n",
      "  83  84  86  87  88  90  92  94  95  96  97  98 100 101 103 105 107 108\n",
      " 109 110 111 112 115 117 118 119 120 121 122 124 129 130 132 133 134 135\n",
      " 136 137 140 141 142 143 145 146 147 148] [  0   1   7  10  11  16  17  18  19  20  21  22  26  30  32  33  40  42\n",
      "  44  49  50  53  62  63  64  68  74  75  77  85  89  91  93  99 102 104\n",
      " 106 113 114 116 123 125 126 127 128 131 138 139 144]\n",
      "K-fold cross-validation accuracy: 97.96%\n"
     ]
    }
   ],
   "source": [
    "# K-fold cross-validation with 𝐾=3\n",
    "from sklearn.model_selection import KFold\n",
    "kf=KFold(n_splits=3, random_state=None, shuffle=True)\n",
    "\n",
    "matrix_list=list()\n",
    "accuracies=[]\n",
    "kf_acc=[]\n",
    "kf_recall=[]\n",
    "kf_prec=[]\n",
    "\n",
    "for train_index, test_index in kf.split(x):\n",
    "    x_train, x_test = x[train_index], x[test_index]\n",
    "    y_train, y_test = y[train_index], y[test_index]\n",
    "    nb.fit(x_train,y_train)\n",
    "    matrix_list.append(confusion_matrix(y_test, nb.predict(x_test)))\n",
    "    kf_acc=accuracy_score(y_test,nb.predict(x_test))\n",
    "    kf_recall=recall_score(y_test,nb.predict(x_test),average='weighted')\n",
    "    kf_prec=precision_score(y_test,nb.predict(x_test),average='weighted')\n",
    "    \n",
    "    accuracies=nb.score(x_test,y_test)\n",
    "\n",
    "acc_avg=np.mean(accuracies)\n",
    "print(\"K-fold cross-validation accuracy: {}%\".format(round(acc_avg*100,2)))\n",
    "\n",
    "matrix_list=np.average(np.array(matrix_list),axis=0)\n",
    "#print(matrix_list.astype(np.int16))"
   ]
  },
  {
   "cell_type": "code",
   "execution_count": 12,
   "id": "f33bd991-c182-4089-9413-05bb25d092cf",
   "metadata": {},
   "outputs": [
    {
     "data": {
      "image/png": "[encoded data removed]",
      "text/plain": [
       "<Figure size 360x360 with 2 Axes>"
      ]
     },
     "metadata": {
      "needs_background": "light"
     },
     "output_type": "display_data"
    }
   ],
   "source": [
    "from sklearn import metrics\n",
    "f, ax = plt.subplots(figsize =(5,5))\n",
    "sns.heatmap(matrix_list,annot = True,linewidths=0.5,linecolor=\"red\",fmt = \".0f\",ax=ax)\n",
    "plt.xlabel(\"y_pred_nb\")\n",
    "plt.ylabel(\"y_true_nb\")\n",
    "plt.title(\"Confusion Matrix\")\n",
    "plt.show()"
   ]
  },
  {
   "cell_type": "markdown",
   "id": "6d035ea3-edec-4e55-8e78-992e5d983be0",
   "metadata": {},
   "source": [
    "# Result\n"
   ]
  },
  {
   "cell_type": "code",
   "execution_count": 16,
   "id": "448ab073-4c3f-4236-8b53-19b64f51de76",
   "metadata": {},
   "outputs": [
    {
     "name": "stdout",
     "output_type": "stream",
     "text": [
      "+---------+----------+---------+-----------+\n",
      "|   Iris  | Accuracy |  Recall | Precision |\n",
      "+---------+----------+---------+-----------+\n",
      "| Holdout | 95.5556  | 95.5556 |  96.2393  |\n",
      "|  Kfold  | 95.9184  | 95.9184 |  96.3719  |\n",
      "+---------+----------+---------+-----------+\n"
     ]
    }
   ],
   "source": [
    "acc=round(np.mean(kf_acc)*100,4)\n",
    "recall=round(np.mean(kf_recall)*100,4)\n",
    "prec=round(np.mean(kf_prec)*100,4)\n",
    "\n",
    "table.add_row([\"Kfold \",acc,recall,prec])\n",
    "print(table)"
   ]
  },
  {
   "cell_type": "markdown",
   "id": "3d8eb1f5-5d4c-4fe3-8546-ae36429d641b",
   "metadata": {},
   "source": [
    "# Question"
   ]
  },
  {
   "cell_type": "code",
   "execution_count": 21,
   "id": "cb5bda94-0ba8-490c-8df2-f533951bfb7c",
   "metadata": {},
   "outputs": [
    {
     "name": "stdout",
     "output_type": "stream",
     "text": [
      "    petal length\n",
      "49           4.7\n",
      "50           4.5\n",
      "51           4.9\n",
      "52           4.0\n",
      "53           4.6\n",
      "54           4.5\n",
      "55           4.7\n",
      "56           3.3\n",
      "57           4.6\n",
      "58           3.9\n",
      "59           3.5\n",
      "60           4.2\n",
      "61           4.0\n",
      "62           4.7\n",
      "63           3.6\n",
      "64           4.4\n",
      "65           4.5\n",
      "66           4.1\n",
      "67           4.5\n",
      "68           3.9\n",
      "69           4.8\n",
      "70           4.0\n",
      "71           4.9\n",
      "72           4.7\n",
      "73           4.3\n",
      "74           4.4\n",
      "75           4.8\n",
      "76           5.0\n",
      "77           4.5\n",
      "78           3.5\n",
      "79           3.8\n",
      "80           3.7\n",
      "81           3.9\n",
      "82           5.1\n",
      "83           4.5\n",
      "84           4.5\n",
      "85           4.7\n",
      "86           4.4\n",
      "87           4.1\n",
      "88           4.0\n",
      "89           4.4\n",
      "90           4.6\n",
      "91           4.0\n",
      "92           3.3\n",
      "93           4.2\n",
      "94           4.2\n",
      "95           4.2\n",
      "96           4.3\n",
      "97           3.0\n",
      "98           4.1\n",
      "𝜇 of 𝑃(𝑋𝑝𝑒𝑡𝑎𝑙_𝑙𝑒𝑛𝑔𝑡ℎ|𝑌=Iris Versicolour): 4.26\n",
      "𝜎 of 𝑃(𝑋𝑝𝑒𝑡𝑎𝑙_𝑙𝑒𝑛𝑔𝑡ℎ|𝑌=Iris Versicolour): 0.4651881339845204\n"
     ]
    }
   ],
   "source": [
    "df=i_data\n",
    "filt = (df['class'] == 'Iris-versicolor')\n",
    "xi=df.loc[filt, ['petal length']]\n",
    "print(xi)\n",
    "\n",
    "print(\"𝜇 of 𝑃(𝑋𝑝𝑒𝑡𝑎𝑙_𝑙𝑒𝑛𝑔𝑡ℎ|𝑌=Iris Versicolour):\", np.average(xi['petal length']))\n",
    "print(\"𝜎 of 𝑃(𝑋𝑝𝑒𝑡𝑎𝑙_𝑙𝑒𝑛𝑔𝑡ℎ|𝑌=Iris Versicolour):\", np.std(xi['petal length']))"
   ]
  },
  {
   "cell_type": "code",
   "execution_count": 22,
   "id": "9939910f-e848-4122-a8ce-b8b9e5eecf1d",
   "metadata": {},
   "outputs": [
    {
     "data": {
      "text/plain": [
       "<AxesSubplot:xlabel='petal length', ylabel='Density'>"
      ]
     },
     "execution_count": 22,
     "metadata": {},
     "output_type": "execute_result"
    },
    {
     "data": {
      "image/png": "[encoded data removed]",
      "text/plain": [
       "<Figure size 432x288 with 1 Axes>"
      ]
     },
     "metadata": {
      "needs_background": "light"
     },
     "output_type": "display_data"
    }
   ],
   "source": [
    "sns.kdeplot(xi['petal length'])"
   ]
  }
 ],
 "metadata": {
  "kernelspec": {
   "display_name": "Python 3",
   "language": "python",
   "name": "python3"
  },
  "language_info": {
   "codemirror_mode": {
    "name": "ipython",
    "version": 3
   },
   "file_extension": ".py",
   "mimetype": "text/x-python",
   "name": "python",
   "nbconvert_exporter": "python",
   "pygments_lexer": "ipython3",
   "version": "3.8.8"
  }
 },
 "nbformat": 4,
 "nbformat_minor": 5
}
