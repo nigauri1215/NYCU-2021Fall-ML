{
 "cells": [
  {
   "cell_type": "markdown",
   "id": "8a68309d-0806-4fd0-9459-b05c8272297a",
   "metadata": {},
   "source": [
    "# Assignment2 Decision Tree & Random Forest & KNN & PCA\n"
   ]
  },
  {
   "cell_type": "code",
   "execution_count": 2,
   "id": "be06659f-e790-47d7-ac09-75415d05cb14",
   "metadata": {},
   "outputs": [],
   "source": [
    "import pandas as pd\n",
    "import numpy as np\n",
    "import seaborn as sns \n",
    "import matplotlib.pyplot as plt\n",
    "import sklearn\n",
    "from sklearn.model_selection import train_test_split\n",
    "from sklearn.preprocessing import OneHotEncoder,LabelEncoder\n",
    "from sklearn.model_selection import KFold\n",
    "from sklearn.tree import DecisionTreeClassifier\n",
    "from sklearn.ensemble import RandomForestClassifier\n",
    "from sklearn.neighbors import KNeighborsClassifier\n",
    "from sklearn.decomposition import PCA\n",
    "from sklearn.metrics import confusion_matrix, accuracy_score, recall_score, precision_score\n",
    "import prettytable"
   ]
  },
  {
   "cell_type": "markdown",
   "id": "46b573f2-6821-4d2c-9ddd-035e5136f8da",
   "metadata": {},
   "source": [
    "# Data input\n"
   ]
  },
  {
   "cell_type": "code",
   "execution_count": 3,
   "id": "97b13ff2-6a7b-463b-9792-bed9b959b66f",
   "metadata": {},
   "outputs": [
    {
     "data": {
      "text/html": [
       "<div>\n",
       "<style scoped>\n",
       "    .dataframe tbody tr th:only-of-type {\n",
       "        vertical-align: middle;\n",
       "    }\n",
       "\n",
       "    .dataframe tbody tr th {\n",
       "        vertical-align: top;\n",
       "    }\n",
       "\n",
       "    .dataframe thead th {\n",
       "        text-align: right;\n",
       "    }\n",
       "</style>\n",
       "<table border=\"1\" class=\"dataframe\">\n",
       "  <thead>\n",
       "    <tr style=\"text-align: right;\">\n",
       "      <th></th>\n",
       "      <th>school</th>\n",
       "      <th>sex</th>\n",
       "      <th>age</th>\n",
       "      <th>address</th>\n",
       "      <th>famsize</th>\n",
       "      <th>Pstatus</th>\n",
       "      <th>Medu</th>\n",
       "      <th>Fedu</th>\n",
       "      <th>Mjob</th>\n",
       "      <th>Fjob</th>\n",
       "      <th>...</th>\n",
       "      <th>famrel</th>\n",
       "      <th>freetime</th>\n",
       "      <th>goout</th>\n",
       "      <th>Dalc</th>\n",
       "      <th>Walc</th>\n",
       "      <th>health</th>\n",
       "      <th>absences</th>\n",
       "      <th>G1</th>\n",
       "      <th>G2</th>\n",
       "      <th>G3</th>\n",
       "    </tr>\n",
       "  </thead>\n",
       "  <tbody>\n",
       "    <tr>\n",
       "      <th>0</th>\n",
       "      <td>GP</td>\n",
       "      <td>F</td>\n",
       "      <td>18</td>\n",
       "      <td>U</td>\n",
       "      <td>GT3</td>\n",
       "      <td>A</td>\n",
       "      <td>4</td>\n",
       "      <td>4</td>\n",
       "      <td>at_home</td>\n",
       "      <td>teacher</td>\n",
       "      <td>...</td>\n",
       "      <td>4</td>\n",
       "      <td>3</td>\n",
       "      <td>4</td>\n",
       "      <td>1</td>\n",
       "      <td>1</td>\n",
       "      <td>3</td>\n",
       "      <td>6</td>\n",
       "      <td>5</td>\n",
       "      <td>6</td>\n",
       "      <td>6</td>\n",
       "    </tr>\n",
       "    <tr>\n",
       "      <th>1</th>\n",
       "      <td>GP</td>\n",
       "      <td>F</td>\n",
       "      <td>17</td>\n",
       "      <td>U</td>\n",
       "      <td>GT3</td>\n",
       "      <td>T</td>\n",
       "      <td>1</td>\n",
       "      <td>1</td>\n",
       "      <td>at_home</td>\n",
       "      <td>other</td>\n",
       "      <td>...</td>\n",
       "      <td>5</td>\n",
       "      <td>3</td>\n",
       "      <td>3</td>\n",
       "      <td>1</td>\n",
       "      <td>1</td>\n",
       "      <td>3</td>\n",
       "      <td>4</td>\n",
       "      <td>5</td>\n",
       "      <td>5</td>\n",
       "      <td>6</td>\n",
       "    </tr>\n",
       "    <tr>\n",
       "      <th>2</th>\n",
       "      <td>GP</td>\n",
       "      <td>F</td>\n",
       "      <td>15</td>\n",
       "      <td>U</td>\n",
       "      <td>LE3</td>\n",
       "      <td>T</td>\n",
       "      <td>1</td>\n",
       "      <td>1</td>\n",
       "      <td>at_home</td>\n",
       "      <td>other</td>\n",
       "      <td>...</td>\n",
       "      <td>4</td>\n",
       "      <td>3</td>\n",
       "      <td>2</td>\n",
       "      <td>2</td>\n",
       "      <td>3</td>\n",
       "      <td>3</td>\n",
       "      <td>10</td>\n",
       "      <td>7</td>\n",
       "      <td>8</td>\n",
       "      <td>10</td>\n",
       "    </tr>\n",
       "    <tr>\n",
       "      <th>3</th>\n",
       "      <td>GP</td>\n",
       "      <td>F</td>\n",
       "      <td>15</td>\n",
       "      <td>U</td>\n",
       "      <td>GT3</td>\n",
       "      <td>T</td>\n",
       "      <td>4</td>\n",
       "      <td>2</td>\n",
       "      <td>health</td>\n",
       "      <td>services</td>\n",
       "      <td>...</td>\n",
       "      <td>3</td>\n",
       "      <td>2</td>\n",
       "      <td>2</td>\n",
       "      <td>1</td>\n",
       "      <td>1</td>\n",
       "      <td>5</td>\n",
       "      <td>2</td>\n",
       "      <td>15</td>\n",
       "      <td>14</td>\n",
       "      <td>15</td>\n",
       "    </tr>\n",
       "    <tr>\n",
       "      <th>4</th>\n",
       "      <td>GP</td>\n",
       "      <td>F</td>\n",
       "      <td>16</td>\n",
       "      <td>U</td>\n",
       "      <td>GT3</td>\n",
       "      <td>T</td>\n",
       "      <td>3</td>\n",
       "      <td>3</td>\n",
       "      <td>other</td>\n",
       "      <td>other</td>\n",
       "      <td>...</td>\n",
       "      <td>4</td>\n",
       "      <td>3</td>\n",
       "      <td>2</td>\n",
       "      <td>1</td>\n",
       "      <td>2</td>\n",
       "      <td>5</td>\n",
       "      <td>4</td>\n",
       "      <td>6</td>\n",
       "      <td>10</td>\n",
       "      <td>10</td>\n",
       "    </tr>\n",
       "  </tbody>\n",
       "</table>\n",
       "<p>5 rows × 33 columns</p>\n",
       "</div>"
      ],
      "text/plain": [
       "  school sex  age address famsize Pstatus  Medu  Fedu     Mjob      Fjob  ...  \\\n",
       "0     GP   F   18       U     GT3       A     4     4  at_home   teacher  ...   \n",
       "1     GP   F   17       U     GT3       T     1     1  at_home     other  ...   \n",
       "2     GP   F   15       U     LE3       T     1     1  at_home     other  ...   \n",
       "3     GP   F   15       U     GT3       T     4     2   health  services  ...   \n",
       "4     GP   F   16       U     GT3       T     3     3    other     other  ...   \n",
       "\n",
       "  famrel freetime  goout  Dalc  Walc health absences  G1  G2  G3  \n",
       "0      4        3      4     1     1      3        6   5   6   6  \n",
       "1      5        3      3     1     1      3        4   5   5   6  \n",
       "2      4        3      2     2     3      3       10   7   8  10  \n",
       "3      3        2      2     1     1      5        2  15  14  15  \n",
       "4      4        3      2     1     2      5        4   6  10  10  \n",
       "\n",
       "[5 rows x 33 columns]"
      ]
     },
     "execution_count": 3,
     "metadata": {},
     "output_type": "execute_result"
    }
   ],
   "source": [
    "df=pd.read_csv('student-mat.csv',sep=';')\n",
    "df.head()"
   ]
  },
  {
   "cell_type": "markdown",
   "id": "e3cda012-6dc3-47dc-b4df-90c37319c30c",
   "metadata": {},
   "source": [
    "# Data Preprocessing\n",
    "## Binary classification\n",
    " pass if G3≥10, else fail"
   ]
  },
  {
   "cell_type": "code",
   "execution_count": 4,
   "id": "2b017f55-7f77-4bde-a319-d90601ff6c53",
   "metadata": {},
   "outputs": [
    {
     "data": {
      "text/html": [
       "<div>\n",
       "<style scoped>\n",
       "    .dataframe tbody tr th:only-of-type {\n",
       "        vertical-align: middle;\n",
       "    }\n",
       "\n",
       "    .dataframe tbody tr th {\n",
       "        vertical-align: top;\n",
       "    }\n",
       "\n",
       "    .dataframe thead th {\n",
       "        text-align: right;\n",
       "    }\n",
       "</style>\n",
       "<table border=\"1\" class=\"dataframe\">\n",
       "  <thead>\n",
       "    <tr style=\"text-align: right;\">\n",
       "      <th></th>\n",
       "      <th>school</th>\n",
       "      <th>sex</th>\n",
       "      <th>age</th>\n",
       "      <th>address</th>\n",
       "      <th>famsize</th>\n",
       "      <th>Pstatus</th>\n",
       "      <th>Medu</th>\n",
       "      <th>Fedu</th>\n",
       "      <th>Mjob</th>\n",
       "      <th>Fjob</th>\n",
       "      <th>...</th>\n",
       "      <th>famrel</th>\n",
       "      <th>freetime</th>\n",
       "      <th>goout</th>\n",
       "      <th>Dalc</th>\n",
       "      <th>Walc</th>\n",
       "      <th>health</th>\n",
       "      <th>absences</th>\n",
       "      <th>G1</th>\n",
       "      <th>G2</th>\n",
       "      <th>pass</th>\n",
       "    </tr>\n",
       "  </thead>\n",
       "  <tbody>\n",
       "    <tr>\n",
       "      <th>0</th>\n",
       "      <td>GP</td>\n",
       "      <td>F</td>\n",
       "      <td>18</td>\n",
       "      <td>U</td>\n",
       "      <td>GT3</td>\n",
       "      <td>A</td>\n",
       "      <td>4</td>\n",
       "      <td>4</td>\n",
       "      <td>at_home</td>\n",
       "      <td>teacher</td>\n",
       "      <td>...</td>\n",
       "      <td>4</td>\n",
       "      <td>3</td>\n",
       "      <td>4</td>\n",
       "      <td>1</td>\n",
       "      <td>1</td>\n",
       "      <td>3</td>\n",
       "      <td>6</td>\n",
       "      <td>5</td>\n",
       "      <td>6</td>\n",
       "      <td>0</td>\n",
       "    </tr>\n",
       "    <tr>\n",
       "      <th>1</th>\n",
       "      <td>GP</td>\n",
       "      <td>F</td>\n",
       "      <td>17</td>\n",
       "      <td>U</td>\n",
       "      <td>GT3</td>\n",
       "      <td>T</td>\n",
       "      <td>1</td>\n",
       "      <td>1</td>\n",
       "      <td>at_home</td>\n",
       "      <td>other</td>\n",
       "      <td>...</td>\n",
       "      <td>5</td>\n",
       "      <td>3</td>\n",
       "      <td>3</td>\n",
       "      <td>1</td>\n",
       "      <td>1</td>\n",
       "      <td>3</td>\n",
       "      <td>4</td>\n",
       "      <td>5</td>\n",
       "      <td>5</td>\n",
       "      <td>0</td>\n",
       "    </tr>\n",
       "    <tr>\n",
       "      <th>2</th>\n",
       "      <td>GP</td>\n",
       "      <td>F</td>\n",
       "      <td>15</td>\n",
       "      <td>U</td>\n",
       "      <td>LE3</td>\n",
       "      <td>T</td>\n",
       "      <td>1</td>\n",
       "      <td>1</td>\n",
       "      <td>at_home</td>\n",
       "      <td>other</td>\n",
       "      <td>...</td>\n",
       "      <td>4</td>\n",
       "      <td>3</td>\n",
       "      <td>2</td>\n",
       "      <td>2</td>\n",
       "      <td>3</td>\n",
       "      <td>3</td>\n",
       "      <td>10</td>\n",
       "      <td>7</td>\n",
       "      <td>8</td>\n",
       "      <td>1</td>\n",
       "    </tr>\n",
       "    <tr>\n",
       "      <th>3</th>\n",
       "      <td>GP</td>\n",
       "      <td>F</td>\n",
       "      <td>15</td>\n",
       "      <td>U</td>\n",
       "      <td>GT3</td>\n",
       "      <td>T</td>\n",
       "      <td>4</td>\n",
       "      <td>2</td>\n",
       "      <td>health</td>\n",
       "      <td>services</td>\n",
       "      <td>...</td>\n",
       "      <td>3</td>\n",
       "      <td>2</td>\n",
       "      <td>2</td>\n",
       "      <td>1</td>\n",
       "      <td>1</td>\n",
       "      <td>5</td>\n",
       "      <td>2</td>\n",
       "      <td>15</td>\n",
       "      <td>14</td>\n",
       "      <td>1</td>\n",
       "    </tr>\n",
       "    <tr>\n",
       "      <th>4</th>\n",
       "      <td>GP</td>\n",
       "      <td>F</td>\n",
       "      <td>16</td>\n",
       "      <td>U</td>\n",
       "      <td>GT3</td>\n",
       "      <td>T</td>\n",
       "      <td>3</td>\n",
       "      <td>3</td>\n",
       "      <td>other</td>\n",
       "      <td>other</td>\n",
       "      <td>...</td>\n",
       "      <td>4</td>\n",
       "      <td>3</td>\n",
       "      <td>2</td>\n",
       "      <td>1</td>\n",
       "      <td>2</td>\n",
       "      <td>5</td>\n",
       "      <td>4</td>\n",
       "      <td>6</td>\n",
       "      <td>10</td>\n",
       "      <td>1</td>\n",
       "    </tr>\n",
       "    <tr>\n",
       "      <th>...</th>\n",
       "      <td>...</td>\n",
       "      <td>...</td>\n",
       "      <td>...</td>\n",
       "      <td>...</td>\n",
       "      <td>...</td>\n",
       "      <td>...</td>\n",
       "      <td>...</td>\n",
       "      <td>...</td>\n",
       "      <td>...</td>\n",
       "      <td>...</td>\n",
       "      <td>...</td>\n",
       "      <td>...</td>\n",
       "      <td>...</td>\n",
       "      <td>...</td>\n",
       "      <td>...</td>\n",
       "      <td>...</td>\n",
       "      <td>...</td>\n",
       "      <td>...</td>\n",
       "      <td>...</td>\n",
       "      <td>...</td>\n",
       "      <td>...</td>\n",
       "    </tr>\n",
       "    <tr>\n",
       "      <th>390</th>\n",
       "      <td>MS</td>\n",
       "      <td>M</td>\n",
       "      <td>20</td>\n",
       "      <td>U</td>\n",
       "      <td>LE3</td>\n",
       "      <td>A</td>\n",
       "      <td>2</td>\n",
       "      <td>2</td>\n",
       "      <td>services</td>\n",
       "      <td>services</td>\n",
       "      <td>...</td>\n",
       "      <td>5</td>\n",
       "      <td>5</td>\n",
       "      <td>4</td>\n",
       "      <td>4</td>\n",
       "      <td>5</td>\n",
       "      <td>4</td>\n",
       "      <td>11</td>\n",
       "      <td>9</td>\n",
       "      <td>9</td>\n",
       "      <td>0</td>\n",
       "    </tr>\n",
       "    <tr>\n",
       "      <th>391</th>\n",
       "      <td>MS</td>\n",
       "      <td>M</td>\n",
       "      <td>17</td>\n",
       "      <td>U</td>\n",
       "      <td>LE3</td>\n",
       "      <td>T</td>\n",
       "      <td>3</td>\n",
       "      <td>1</td>\n",
       "      <td>services</td>\n",
       "      <td>services</td>\n",
       "      <td>...</td>\n",
       "      <td>2</td>\n",
       "      <td>4</td>\n",
       "      <td>5</td>\n",
       "      <td>3</td>\n",
       "      <td>4</td>\n",
       "      <td>2</td>\n",
       "      <td>3</td>\n",
       "      <td>14</td>\n",
       "      <td>16</td>\n",
       "      <td>1</td>\n",
       "    </tr>\n",
       "    <tr>\n",
       "      <th>392</th>\n",
       "      <td>MS</td>\n",
       "      <td>M</td>\n",
       "      <td>21</td>\n",
       "      <td>R</td>\n",
       "      <td>GT3</td>\n",
       "      <td>T</td>\n",
       "      <td>1</td>\n",
       "      <td>1</td>\n",
       "      <td>other</td>\n",
       "      <td>other</td>\n",
       "      <td>...</td>\n",
       "      <td>5</td>\n",
       "      <td>5</td>\n",
       "      <td>3</td>\n",
       "      <td>3</td>\n",
       "      <td>3</td>\n",
       "      <td>3</td>\n",
       "      <td>3</td>\n",
       "      <td>10</td>\n",
       "      <td>8</td>\n",
       "      <td>0</td>\n",
       "    </tr>\n",
       "    <tr>\n",
       "      <th>393</th>\n",
       "      <td>MS</td>\n",
       "      <td>M</td>\n",
       "      <td>18</td>\n",
       "      <td>R</td>\n",
       "      <td>LE3</td>\n",
       "      <td>T</td>\n",
       "      <td>3</td>\n",
       "      <td>2</td>\n",
       "      <td>services</td>\n",
       "      <td>other</td>\n",
       "      <td>...</td>\n",
       "      <td>4</td>\n",
       "      <td>4</td>\n",
       "      <td>1</td>\n",
       "      <td>3</td>\n",
       "      <td>4</td>\n",
       "      <td>5</td>\n",
       "      <td>0</td>\n",
       "      <td>11</td>\n",
       "      <td>12</td>\n",
       "      <td>1</td>\n",
       "    </tr>\n",
       "    <tr>\n",
       "      <th>394</th>\n",
       "      <td>MS</td>\n",
       "      <td>M</td>\n",
       "      <td>19</td>\n",
       "      <td>U</td>\n",
       "      <td>LE3</td>\n",
       "      <td>T</td>\n",
       "      <td>1</td>\n",
       "      <td>1</td>\n",
       "      <td>other</td>\n",
       "      <td>at_home</td>\n",
       "      <td>...</td>\n",
       "      <td>3</td>\n",
       "      <td>2</td>\n",
       "      <td>3</td>\n",
       "      <td>3</td>\n",
       "      <td>3</td>\n",
       "      <td>5</td>\n",
       "      <td>5</td>\n",
       "      <td>8</td>\n",
       "      <td>9</td>\n",
       "      <td>0</td>\n",
       "    </tr>\n",
       "  </tbody>\n",
       "</table>\n",
       "<p>395 rows × 33 columns</p>\n",
       "</div>"
      ],
      "text/plain": [
       "    school sex  age address famsize Pstatus  Medu  Fedu      Mjob      Fjob  \\\n",
       "0       GP   F   18       U     GT3       A     4     4   at_home   teacher   \n",
       "1       GP   F   17       U     GT3       T     1     1   at_home     other   \n",
       "2       GP   F   15       U     LE3       T     1     1   at_home     other   \n",
       "3       GP   F   15       U     GT3       T     4     2    health  services   \n",
       "4       GP   F   16       U     GT3       T     3     3     other     other   \n",
       "..     ...  ..  ...     ...     ...     ...   ...   ...       ...       ...   \n",
       "390     MS   M   20       U     LE3       A     2     2  services  services   \n",
       "391     MS   M   17       U     LE3       T     3     1  services  services   \n",
       "392     MS   M   21       R     GT3       T     1     1     other     other   \n",
       "393     MS   M   18       R     LE3       T     3     2  services     other   \n",
       "394     MS   M   19       U     LE3       T     1     1     other   at_home   \n",
       "\n",
       "     ... famrel freetime  goout  Dalc  Walc health absences  G1  G2 pass  \n",
       "0    ...      4        3      4     1     1      3        6   5   6    0  \n",
       "1    ...      5        3      3     1     1      3        4   5   5    0  \n",
       "2    ...      4        3      2     2     3      3       10   7   8    1  \n",
       "3    ...      3        2      2     1     1      5        2  15  14    1  \n",
       "4    ...      4        3      2     1     2      5        4   6  10    1  \n",
       "..   ...    ...      ...    ...   ...   ...    ...      ...  ..  ..  ...  \n",
       "390  ...      5        5      4     4     5      4       11   9   9    0  \n",
       "391  ...      2        4      5     3     4      2        3  14  16    1  \n",
       "392  ...      5        5      3     3     3      3        3  10   8    0  \n",
       "393  ...      4        4      1     3     4      5        0  11  12    1  \n",
       "394  ...      3        2      3     3     3      5        5   8   9    0  \n",
       "\n",
       "[395 rows x 33 columns]"
      ]
     },
     "execution_count": 4,
     "metadata": {},
     "output_type": "execute_result"
    }
   ],
   "source": [
    "#generate binary label\n",
    "df_bi=df.copy()\n",
    "df_bi['pass']=df_bi.apply(lambda row:1 if row['G3']>=10 else 0,axis=1)\n",
    "df_bi=df_bi.drop(['G3'],axis=1)\n",
    "df_bi"
   ]
  },
  {
   "cell_type": "markdown",
   "id": "48345478-b91f-4b32-b991-34220f60467a",
   "metadata": {},
   "source": [
    "### one-hot-encoding\n",
    "用pandas的get_dummies function將某些字串column轉換成數字型態"
   ]
  },
  {
   "cell_type": "code",
   "execution_count": 5,
   "id": "464bd550-d826-4de2-a1a1-c2713dd2c44a",
   "metadata": {},
   "outputs": [
    {
     "data": {
      "text/html": [
       "<div>\n",
       "<style scoped>\n",
       "    .dataframe tbody tr th:only-of-type {\n",
       "        vertical-align: middle;\n",
       "    }\n",
       "\n",
       "    .dataframe tbody tr th {\n",
       "        vertical-align: top;\n",
       "    }\n",
       "\n",
       "    .dataframe thead th {\n",
       "        text-align: right;\n",
       "    }\n",
       "</style>\n",
       "<table border=\"1\" class=\"dataframe\">\n",
       "  <thead>\n",
       "    <tr style=\"text-align: right;\">\n",
       "      <th></th>\n",
       "      <th>age</th>\n",
       "      <th>Medu</th>\n",
       "      <th>Fedu</th>\n",
       "      <th>traveltime</th>\n",
       "      <th>studytime</th>\n",
       "      <th>failures</th>\n",
       "      <th>famrel</th>\n",
       "      <th>freetime</th>\n",
       "      <th>goout</th>\n",
       "      <th>Dalc</th>\n",
       "      <th>...</th>\n",
       "      <th>activities_no</th>\n",
       "      <th>activities_yes</th>\n",
       "      <th>nursery_no</th>\n",
       "      <th>nursery_yes</th>\n",
       "      <th>higher_no</th>\n",
       "      <th>higher_yes</th>\n",
       "      <th>internet_no</th>\n",
       "      <th>internet_yes</th>\n",
       "      <th>romantic_no</th>\n",
       "      <th>romantic_yes</th>\n",
       "    </tr>\n",
       "  </thead>\n",
       "  <tbody>\n",
       "    <tr>\n",
       "      <th>0</th>\n",
       "      <td>18</td>\n",
       "      <td>4</td>\n",
       "      <td>4</td>\n",
       "      <td>2</td>\n",
       "      <td>2</td>\n",
       "      <td>0</td>\n",
       "      <td>4</td>\n",
       "      <td>3</td>\n",
       "      <td>4</td>\n",
       "      <td>1</td>\n",
       "      <td>...</td>\n",
       "      <td>1</td>\n",
       "      <td>0</td>\n",
       "      <td>0</td>\n",
       "      <td>1</td>\n",
       "      <td>0</td>\n",
       "      <td>1</td>\n",
       "      <td>1</td>\n",
       "      <td>0</td>\n",
       "      <td>1</td>\n",
       "      <td>0</td>\n",
       "    </tr>\n",
       "    <tr>\n",
       "      <th>1</th>\n",
       "      <td>17</td>\n",
       "      <td>1</td>\n",
       "      <td>1</td>\n",
       "      <td>1</td>\n",
       "      <td>2</td>\n",
       "      <td>0</td>\n",
       "      <td>5</td>\n",
       "      <td>3</td>\n",
       "      <td>3</td>\n",
       "      <td>1</td>\n",
       "      <td>...</td>\n",
       "      <td>1</td>\n",
       "      <td>0</td>\n",
       "      <td>1</td>\n",
       "      <td>0</td>\n",
       "      <td>0</td>\n",
       "      <td>1</td>\n",
       "      <td>0</td>\n",
       "      <td>1</td>\n",
       "      <td>1</td>\n",
       "      <td>0</td>\n",
       "    </tr>\n",
       "    <tr>\n",
       "      <th>2</th>\n",
       "      <td>15</td>\n",
       "      <td>1</td>\n",
       "      <td>1</td>\n",
       "      <td>1</td>\n",
       "      <td>2</td>\n",
       "      <td>3</td>\n",
       "      <td>4</td>\n",
       "      <td>3</td>\n",
       "      <td>2</td>\n",
       "      <td>2</td>\n",
       "      <td>...</td>\n",
       "      <td>1</td>\n",
       "      <td>0</td>\n",
       "      <td>0</td>\n",
       "      <td>1</td>\n",
       "      <td>0</td>\n",
       "      <td>1</td>\n",
       "      <td>0</td>\n",
       "      <td>1</td>\n",
       "      <td>1</td>\n",
       "      <td>0</td>\n",
       "    </tr>\n",
       "    <tr>\n",
       "      <th>3</th>\n",
       "      <td>15</td>\n",
       "      <td>4</td>\n",
       "      <td>2</td>\n",
       "      <td>1</td>\n",
       "      <td>3</td>\n",
       "      <td>0</td>\n",
       "      <td>3</td>\n",
       "      <td>2</td>\n",
       "      <td>2</td>\n",
       "      <td>1</td>\n",
       "      <td>...</td>\n",
       "      <td>0</td>\n",
       "      <td>1</td>\n",
       "      <td>0</td>\n",
       "      <td>1</td>\n",
       "      <td>0</td>\n",
       "      <td>1</td>\n",
       "      <td>0</td>\n",
       "      <td>1</td>\n",
       "      <td>0</td>\n",
       "      <td>1</td>\n",
       "    </tr>\n",
       "    <tr>\n",
       "      <th>4</th>\n",
       "      <td>16</td>\n",
       "      <td>3</td>\n",
       "      <td>3</td>\n",
       "      <td>1</td>\n",
       "      <td>2</td>\n",
       "      <td>0</td>\n",
       "      <td>4</td>\n",
       "      <td>3</td>\n",
       "      <td>2</td>\n",
       "      <td>1</td>\n",
       "      <td>...</td>\n",
       "      <td>1</td>\n",
       "      <td>0</td>\n",
       "      <td>0</td>\n",
       "      <td>1</td>\n",
       "      <td>0</td>\n",
       "      <td>1</td>\n",
       "      <td>1</td>\n",
       "      <td>0</td>\n",
       "      <td>1</td>\n",
       "      <td>0</td>\n",
       "    </tr>\n",
       "  </tbody>\n",
       "</table>\n",
       "<p>5 rows × 59 columns</p>\n",
       "</div>"
      ],
      "text/plain": [
       "   age  Medu  Fedu  traveltime  studytime  failures  famrel  freetime  goout  \\\n",
       "0   18     4     4           2          2         0       4         3      4   \n",
       "1   17     1     1           1          2         0       5         3      3   \n",
       "2   15     1     1           1          2         3       4         3      2   \n",
       "3   15     4     2           1          3         0       3         2      2   \n",
       "4   16     3     3           1          2         0       4         3      2   \n",
       "\n",
       "   Dalc  ...  activities_no  activities_yes  nursery_no  nursery_yes  \\\n",
       "0     1  ...              1               0           0            1   \n",
       "1     1  ...              1               0           1            0   \n",
       "2     2  ...              1               0           0            1   \n",
       "3     1  ...              0               1           0            1   \n",
       "4     1  ...              1               0           0            1   \n",
       "\n",
       "   higher_no  higher_yes  internet_no  internet_yes  romantic_no  romantic_yes  \n",
       "0          0           1            1             0            1             0  \n",
       "1          0           1            0             1            1             0  \n",
       "2          0           1            0             1            1             0  \n",
       "3          0           1            0             1            0             1  \n",
       "4          0           1            1             0            1             0  \n",
       "\n",
       "[5 rows x 59 columns]"
      ]
     },
     "execution_count": 5,
     "metadata": {},
     "output_type": "execute_result"
    }
   ],
   "source": [
    "df_bi=pd.get_dummies(df_bi,columns=['sex','school','address','famsize','Pstatus','Mjob','Fjob',\n",
    "                                 'reason','guardian','schoolsup','famsup','paid','activities',\n",
    "                                'nursery','higher','internet','romantic'])\n",
    "df_bi.head()"
   ]
  },
  {
   "cell_type": "markdown",
   "id": "84ba2281-be19-4363-9fac-b193880be256",
   "metadata": {},
   "source": [
    "### shuffle data"
   ]
  },
  {
   "cell_type": "code",
   "execution_count": 6,
   "id": "ed1c0a64-8118-4ffd-8fcc-9d53e2aa62da",
   "metadata": {},
   "outputs": [],
   "source": [
    "df_bi=sklearn.utils.shuffle(df_bi)"
   ]
  },
  {
   "cell_type": "markdown",
   "id": "74a72ae7-37d6-49da-a8d8-50feca20102c",
   "metadata": {},
   "source": [
    "### split training and testing data"
   ]
  },
  {
   "cell_type": "code",
   "execution_count": 7,
   "id": "d62d7f5a-2146-431a-ac08-899c61b87400",
   "metadata": {},
   "outputs": [],
   "source": [
    "y = df_bi['pass'].values\n",
    "x = df_bi.drop(['pass'], axis=1).values"
   ]
  },
  {
   "cell_type": "markdown",
   "id": "de701f06-d371-4fc1-9ea5-9b40d17b87c3",
   "metadata": {},
   "source": [
    "### Build Table"
   ]
  },
  {
   "cell_type": "code",
   "execution_count": 8,
   "id": "6c0e1470-d59c-4ea2-b5d1-3fe167e63fe8",
   "metadata": {},
   "outputs": [],
   "source": [
    "table1=prettytable.PrettyTable()\n",
    "table1.field_names=['[Binary] Decision Tree ','Accuracy','Recall','Precision']\n",
    "\n",
    "table2=prettytable.PrettyTable()\n",
    "table2.field_names=['[Binary] Random Forest','Accuracy','Recall','Precision']\n",
    "\n",
    "table3=prettytable.PrettyTable()\n",
    "table3.field_names=['[Binary] KNN Classifier ','Accuracy','Recall','Precision']"
   ]
  },
  {
   "cell_type": "markdown",
   "id": "86a659fa-ddaf-4996-bd59-c64b0b47feaf",
   "metadata": {},
   "source": [
    "# Model Construction \n",
    "* The data consists of both categorical and numerical features, and you have to treat them differently.\n",
    "* Decision Tree, Random Forest, and K-Nearest Neighbor."
   ]
  },
  {
   "cell_type": "markdown",
   "id": "c1570d86-66aa-4f4d-b837-396b5a169ec8",
   "metadata": {},
   "source": [
    "## Without PCA\n",
    "### Decision Tree"
   ]
  },
  {
   "cell_type": "code",
   "execution_count": 9,
   "id": "f3b20d21-9309-44c9-8c8d-cc99c661fb77",
   "metadata": {},
   "outputs": [],
   "source": [
    "tree = DecisionTreeClassifier()"
   ]
  },
  {
   "cell_type": "code",
   "execution_count": 10,
   "id": "6396e4cb-36fa-479e-89c2-c9cdbf91696b",
   "metadata": {},
   "outputs": [
    {
     "name": "stdout",
     "output_type": "stream",
     "text": [
      "K-fold cross-validation accuracy: 89.31%\n"
     ]
    }
   ],
   "source": [
    "# K-fold cross-validation with 𝐾=3\n",
    "from sklearn.model_selection import KFold\n",
    "kf=KFold(n_splits=3, random_state=None, shuffle=True)\n",
    "\n",
    "matrix_list=list()\n",
    "accuracies=[]\n",
    "kf_acc=[]\n",
    "kf_recall=[]\n",
    "kf_prec=[]\n",
    "\n",
    "for train_index, test_index in kf.split(x):\n",
    "    x_train, x_test = x[train_index], x[test_index]\n",
    "    y_train, y_test = y[train_index], y[test_index]\n",
    "    tree.fit(x_train,y_train)\n",
    "    matrix_list.append(confusion_matrix(y_test, tree.predict(x_test)))\n",
    "    kf_acc=accuracy_score(y_test,tree.predict(x_test))\n",
    "    kf_recall=recall_score(y_test,tree.predict(x_test))\n",
    "    kf_prec=precision_score(y_test,tree.predict(x_test))\n",
    "    \n",
    "    accuracies=tree.score(x_test,y_test)\n",
    "\n",
    "acc_avg=np.mean(accuracies)\n",
    "print(\"K-fold cross-validation accuracy: {}%\".format(round(acc_avg*100,2)))\n",
    "\n",
    "matrix_list=np.average(np.array(matrix_list),axis=0)"
   ]
  },
  {
   "cell_type": "code",
   "execution_count": 11,
   "id": "ba1a9ce0-fa2f-4b3b-ba90-4f33f9f72116",
   "metadata": {},
   "outputs": [
    {
     "data": {
      "image/png": "[encoded data removed]",
      "text/plain": [
       "<Figure size 360x360 with 2 Axes>"
      ]
     },
     "metadata": {
      "needs_background": "light"
     },
     "output_type": "display_data"
    }
   ],
   "source": [
    "from sklearn import metrics\n",
    "f, ax = plt.subplots(figsize =(5,5))\n",
    "sns.heatmap(matrix_list,annot = True,linewidths=0.5,linecolor=\"red\",fmt = \".0f\",ax=ax)\n",
    "plt.xlabel(\"y_pred\")\n",
    "plt.ylabel(\"y_true\")\n",
    "plt.title(\"Decision Tree K-fold Confusion Matrix\")\n",
    "plt.show()"
   ]
  },
  {
   "cell_type": "code",
   "execution_count": 12,
   "id": "800f2d56-047d-48ec-9d2f-40215648f8fe",
   "metadata": {},
   "outputs": [
    {
     "name": "stdout",
     "output_type": "stream",
     "text": [
      "+---------------------------+----------+--------+-----------+\n",
      "|  [Binary] Decision Tree   | Accuracy | Recall | Precision |\n",
      "+---------------------------+----------+--------+-----------+\n",
      "| Decision Tree without PCA |  89.313  |  95.0  |  88.3721  |\n",
      "+---------------------------+----------+--------+-----------+\n"
     ]
    }
   ],
   "source": [
    "acc=round(np.mean(kf_acc)*100,4)\n",
    "recall=round(np.mean(kf_recall)*100,4)\n",
    "prec=round(np.mean(kf_prec)*100,4)\n",
    "\n",
    "table1.add_row([\"Decision Tree without PCA\",acc,recall,prec])\n",
    "print(table1)"
   ]
  },
  {
   "cell_type": "markdown",
   "id": "0b770f24-a4ca-4c35-9118-e2916d9b0409",
   "metadata": {},
   "source": [
    "### Random Forest\n",
    "* numbers of trees=10"
   ]
  },
  {
   "cell_type": "code",
   "execution_count": 13,
   "id": "afb87918-f10a-491d-b6bd-dad571af0619",
   "metadata": {},
   "outputs": [],
   "source": [
    "# n trees=10\n",
    "forest1 = RandomForestClassifier(n_estimators=10)"
   ]
  },
  {
   "cell_type": "code",
   "execution_count": 14,
   "id": "47c0a51c-5076-4ae1-928e-c47c48900e69",
   "metadata": {},
   "outputs": [
    {
     "name": "stdout",
     "output_type": "stream",
     "text": [
      "K-fold cross-validation accuracy: 87.79%\n"
     ]
    }
   ],
   "source": [
    "# K-fold cross-validation with 𝐾=3\n",
    "from sklearn.model_selection import KFold\n",
    "kf=KFold(n_splits=3, random_state=None, shuffle=True)\n",
    "\n",
    "matrix_list=list()\n",
    "accuracies=[]\n",
    "kf_acc=[]\n",
    "kf_recall=[]\n",
    "kf_prec=[]\n",
    "\n",
    "for train_index, test_index in kf.split(x):\n",
    "    x_train, x_test = x[train_index], x[test_index]\n",
    "    y_train, y_test = y[train_index], y[test_index]\n",
    "    forest1.fit(x_train,y_train)\n",
    "    matrix_list.append(confusion_matrix(y_test, forest1.predict(x_test)))\n",
    "    kf_acc=accuracy_score(y_test,forest1.predict(x_test))\n",
    "    kf_recall=recall_score(y_test,forest1.predict(x_test))\n",
    "    kf_prec=precision_score(y_test,forest1.predict(x_test))\n",
    "    \n",
    "    accuracies=forest1.score(x_test,y_test)\n",
    "\n",
    "acc_avg=np.mean(accuracies)\n",
    "print(\"K-fold cross-validation accuracy: {}%\".format(round(acc_avg*100,2)))\n",
    "\n",
    "matrix_list=np.average(np.array(matrix_list),axis=0)"
   ]
  },
  {
   "cell_type": "code",
   "execution_count": 15,
   "id": "3607a4d6-9c7f-4762-8b0a-781ffe09df18",
   "metadata": {},
   "outputs": [
    {
     "data": {
      "image/png": "[encoded data removed]",
      "text/plain": [
       "<Figure size 360x360 with 2 Axes>"
      ]
     },
     "metadata": {
      "needs_background": "light"
     },
     "output_type": "display_data"
    }
   ],
   "source": [
    "from sklearn import metrics\n",
    "f, ax = plt.subplots(figsize =(5,5))\n",
    "sns.heatmap(matrix_list,annot = True,linewidths=0.5,linecolor=\"red\",fmt = \".0f\",ax=ax)\n",
    "plt.xlabel(\"y_pred\")\n",
    "plt.ylabel(\"y_true\")\n",
    "plt.title(\"Random Forest(n=10) K-fold Confusion Matrix\")\n",
    "plt.show()"
   ]
  },
  {
   "cell_type": "code",
   "execution_count": 16,
   "id": "0c3b6f2e-6c3c-4479-a879-8d3e8170e9b5",
   "metadata": {},
   "outputs": [
    {
     "name": "stdout",
     "output_type": "stream",
     "text": [
      "+---------------------------------+----------+---------+-----------+\n",
      "|      [Binary] Random Forest     | Accuracy |  Recall | Precision |\n",
      "+---------------------------------+----------+---------+-----------+\n",
      "| Random Forest(n=10) without PCA | 87.7863  | 89.7436 |  89.7436  |\n",
      "+---------------------------------+----------+---------+-----------+\n"
     ]
    }
   ],
   "source": [
    "acc=round(np.mean(kf_acc)*100,4)\n",
    "recall=round(np.mean(kf_recall)*100,4)\n",
    "prec=round(np.mean(kf_prec)*100,4)\n",
    "\n",
    "table2.add_row([\"Random Forest(n=10) without PCA\",acc,recall,prec])\n",
    "print(table2)"
   ]
  },
  {
   "cell_type": "markdown",
   "id": "d76b117b-b929-4213-9913-e7bf4e36b31c",
   "metadata": {},
   "source": [
    "* numbers of trees=20"
   ]
  },
  {
   "cell_type": "code",
   "execution_count": 17,
   "id": "cc156427-5f07-4377-9e27-2df683b514e6",
   "metadata": {},
   "outputs": [],
   "source": [
    "# n trees=20\n",
    "forest2 = RandomForestClassifier(n_estimators=20)"
   ]
  },
  {
   "cell_type": "code",
   "execution_count": 18,
   "id": "8deb9c73-2785-4e38-8ecc-cef2470ca68d",
   "metadata": {},
   "outputs": [
    {
     "name": "stdout",
     "output_type": "stream",
     "text": [
      "K-fold cross-validation accuracy: 92.37%\n"
     ]
    }
   ],
   "source": [
    "# K-fold cross-validation with 𝐾=3\n",
    "from sklearn.model_selection import KFold\n",
    "kf=KFold(n_splits=3, random_state=None, shuffle=True)\n",
    "\n",
    "matrix_list=list()\n",
    "accuracies=[]\n",
    "kf_acc=[]\n",
    "kf_recall=[]\n",
    "kf_prec=[]\n",
    "\n",
    "for train_index, test_index in kf.split(x):\n",
    "    x_train, x_test = x[train_index], x[test_index]\n",
    "    y_train, y_test = y[train_index], y[test_index]\n",
    "    forest2.fit(x_train,y_train)\n",
    "    matrix_list.append(confusion_matrix(y_test, forest2.predict(x_test)))\n",
    "    kf_acc=accuracy_score(y_test,forest2.predict(x_test))\n",
    "    kf_recall=recall_score(y_test,forest2.predict(x_test))\n",
    "    kf_prec=precision_score(y_test,forest2.predict(x_test))\n",
    "    \n",
    "    accuracies=forest2.score(x_test,y_test)\n",
    "\n",
    "acc_avg=np.mean(accuracies)\n",
    "print(\"K-fold cross-validation accuracy: {}%\".format(round(acc_avg*100,2)))\n",
    "\n",
    "matrix_list=np.average(np.array(matrix_list),axis=0)"
   ]
  },
  {
   "cell_type": "code",
   "execution_count": 19,
   "id": "b4fe0af8-eb1b-47ce-9879-e04e0e2ddcee",
   "metadata": {},
   "outputs": [
    {
     "data": {
      "image/png": "[encoded data removed]",
      "text/plain": [
       "<Figure size 360x360 with 2 Axes>"
      ]
     },
     "metadata": {
      "needs_background": "light"
     },
     "output_type": "display_data"
    }
   ],
   "source": [
    "from sklearn import metrics\n",
    "f, ax = plt.subplots(figsize =(5,5))\n",
    "sns.heatmap(matrix_list,annot = True,linewidths=0.5,linecolor=\"red\",fmt = \".0f\",ax=ax)\n",
    "plt.xlabel(\"y_pred\")\n",
    "plt.ylabel(\"y_true\")\n",
    "plt.title(\"Random Forest(n=20) K-fold Confusion Matrix\")\n",
    "plt.show()"
   ]
  },
  {
   "cell_type": "code",
   "execution_count": 20,
   "id": "f4ebcbb1-d52f-4291-83e5-2d9c40c9672e",
   "metadata": {},
   "outputs": [
    {
     "name": "stdout",
     "output_type": "stream",
     "text": [
      "+---------------------------------+----------+---------+-----------+\n",
      "|      [Binary] Random Forest     | Accuracy |  Recall | Precision |\n",
      "+---------------------------------+----------+---------+-----------+\n",
      "| Random Forest(n=10) without PCA | 87.7863  | 89.7436 |  89.7436  |\n",
      "| Random Forest(n=20) without PCA | 92.3664  | 94.4444 |  94.4444  |\n",
      "+---------------------------------+----------+---------+-----------+\n"
     ]
    }
   ],
   "source": [
    "acc=round(np.mean(kf_acc)*100,4)\n",
    "recall=round(np.mean(kf_recall)*100,4)\n",
    "prec=round(np.mean(kf_prec)*100,4)\n",
    "\n",
    "table2.add_row([\"Random Forest(n=20) without PCA\",acc,recall,prec])\n",
    "print(table2)"
   ]
  },
  {
   "cell_type": "markdown",
   "id": "cfb2873b-0837-4127-99f6-a9a295881a07",
   "metadata": {},
   "source": [
    "* numbers of trees=30"
   ]
  },
  {
   "cell_type": "code",
   "execution_count": 21,
   "id": "633bb608-4ef2-4f6c-a4eb-aac35054e96d",
   "metadata": {},
   "outputs": [],
   "source": [
    "# n trees=30\n",
    "forest3 = RandomForestClassifier(n_estimators=30)"
   ]
  },
  {
   "cell_type": "code",
   "execution_count": 22,
   "id": "fa54ea03-ca07-47cd-a7af-9be04260f906",
   "metadata": {},
   "outputs": [
    {
     "name": "stdout",
     "output_type": "stream",
     "text": [
      "K-fold cross-validation accuracy: 93.89%\n"
     ]
    }
   ],
   "source": [
    "# K-fold cross-validation with 𝐾=3\n",
    "from sklearn.model_selection import KFold\n",
    "kf=KFold(n_splits=3, random_state=None, shuffle=True)\n",
    "\n",
    "matrix_list=list()\n",
    "accuracies=[]\n",
    "kf_acc=[]\n",
    "kf_recall=[]\n",
    "kf_prec=[]\n",
    "\n",
    "for train_index, test_index in kf.split(x):\n",
    "    x_train, x_test = x[train_index], x[test_index]\n",
    "    y_train, y_test = y[train_index], y[test_index]\n",
    "    forest3.fit(x_train,y_train)\n",
    "    matrix_list.append(confusion_matrix(y_test, forest3.predict(x_test)))\n",
    "    kf_acc=accuracy_score(y_test,forest3.predict(x_test))\n",
    "    kf_recall=recall_score(y_test,forest3.predict(x_test))\n",
    "    kf_prec=precision_score(y_test,forest3.predict(x_test))\n",
    "    \n",
    "    accuracies=forest3.score(x_test,y_test)\n",
    "\n",
    "acc_avg=np.mean(accuracies)\n",
    "print(\"K-fold cross-validation accuracy: {}%\".format(round(acc_avg*100,2)))\n",
    "\n",
    "matrix_list=np.average(np.array(matrix_list),axis=0)"
   ]
  },
  {
   "cell_type": "code",
   "execution_count": 23,
   "id": "f7f25604-18a9-472a-98b2-e3dc6f7ad859",
   "metadata": {},
   "outputs": [
    {
     "data": {
      "image/png": "[encoded data removed]",
      "text/plain": [
       "<Figure size 360x360 with 2 Axes>"
      ]
     },
     "metadata": {
      "needs_background": "light"
     },
     "output_type": "display_data"
    }
   ],
   "source": [
    "from sklearn import metrics\n",
    "f, ax = plt.subplots(figsize =(5,5))\n",
    "sns.heatmap(matrix_list,annot = True,linewidths=0.5,linecolor=\"red\",fmt = \".0f\",ax=ax)\n",
    "plt.xlabel(\"y_pred\")\n",
    "plt.ylabel(\"y_true\")\n",
    "plt.title(\"Random Forest(n=20) K-fold Confusion Matrix\")\n",
    "plt.show()"
   ]
  },
  {
   "cell_type": "code",
   "execution_count": 24,
   "id": "ed370b65-d706-42f1-beaf-edb157eeadb0",
   "metadata": {},
   "outputs": [
    {
     "name": "stdout",
     "output_type": "stream",
     "text": [
      "+---------------------------------+----------+---------+-----------+\n",
      "|      [Binary] Random Forest     | Accuracy |  Recall | Precision |\n",
      "+---------------------------------+----------+---------+-----------+\n",
      "| Random Forest(n=10) without PCA | 87.7863  | 89.7436 |  89.7436  |\n",
      "| Random Forest(n=20) without PCA | 92.3664  | 94.4444 |  94.4444  |\n",
      "| Random Forest(n=30) without PCA | 93.8931  | 96.6292 |  94.5055  |\n",
      "+---------------------------------+----------+---------+-----------+\n"
     ]
    }
   ],
   "source": [
    "acc=round(np.mean(kf_acc)*100,4)\n",
    "recall=round(np.mean(kf_recall)*100,4)\n",
    "prec=round(np.mean(kf_prec)*100,4)\n",
    "\n",
    "table2.add_row([\"Random Forest(n=30) without PCA\",acc,recall,prec])\n",
    "print(table2)"
   ]
  },
  {
   "cell_type": "markdown",
   "id": "1bef6c09-976a-434e-b562-cc785425ca2f",
   "metadata": {},
   "source": [
    "### KNN Classifier\n",
    "* neighbors=3"
   ]
  },
  {
   "cell_type": "code",
   "execution_count": 25,
   "id": "3f55bc0e-20da-4b18-8532-febb95c3840c",
   "metadata": {},
   "outputs": [],
   "source": [
    "knn = KNeighborsClassifier(n_neighbors=3)"
   ]
  },
  {
   "cell_type": "code",
   "execution_count": 26,
   "id": "e22497fe-30bd-4621-88ac-ec0ab1f91a1a",
   "metadata": {},
   "outputs": [
    {
     "name": "stdout",
     "output_type": "stream",
     "text": [
      "K-fold cross-validation accuracy: 93.13%\n"
     ]
    }
   ],
   "source": [
    "# K-fold cross-validation with 𝐾=3\n",
    "from sklearn.model_selection import KFold\n",
    "kf=KFold(n_splits=3, random_state=None, shuffle=True)\n",
    "\n",
    "matrix_list=list()\n",
    "accuracies=[]\n",
    "kf_acc=[]\n",
    "kf_recall=[]\n",
    "kf_prec=[]\n",
    "\n",
    "for train_index, test_index in kf.split(x):\n",
    "    x_train, x_test = x[train_index], x[test_index]\n",
    "    y_train, y_test = y[train_index], y[test_index]\n",
    "    knn.fit(x_train,y_train)\n",
    "    matrix_list.append(confusion_matrix(y_test, knn.predict(x_test)))\n",
    "    kf_acc=accuracy_score(y_test,knn.predict(x_test))\n",
    "    kf_recall=recall_score(y_test,knn.predict(x_test))\n",
    "    kf_prec=precision_score(y_test,knn.predict(x_test))\n",
    "    \n",
    "    accuracies=knn.score(x_test,y_test)\n",
    "\n",
    "acc_avg=np.mean(accuracies)\n",
    "print(\"K-fold cross-validation accuracy: {}%\".format(round(acc_avg*100,2)))\n",
    "\n",
    "matrix_list=np.average(np.array(matrix_list),axis=0)"
   ]
  },
  {
   "cell_type": "code",
   "execution_count": 27,
   "id": "4c6a4700-570b-4985-8592-20fb5e64973a",
   "metadata": {},
   "outputs": [
    {
     "data": {
      "image/png": "[encoded data removed]",
      "text/plain": [
       "<Figure size 360x360 with 2 Axes>"
      ]
     },
     "metadata": {
      "needs_background": "light"
     },
     "output_type": "display_data"
    }
   ],
   "source": [
    "from sklearn import metrics\n",
    "f, ax = plt.subplots(figsize =(5,5))\n",
    "sns.heatmap(matrix_list,annot = True,linewidths=0.5,linecolor=\"red\",fmt = \".0f\",ax=ax)\n",
    "plt.xlabel(\"y_pred\")\n",
    "plt.ylabel(\"y_true\")\n",
    "plt.title(\"KNN Classifier K-fold Confusion Matrix\")\n",
    "plt.show()"
   ]
  },
  {
   "cell_type": "code",
   "execution_count": 28,
   "id": "55f42551-ffa0-4dc0-8fef-438d1e0e3db8",
   "metadata": {},
   "outputs": [
    {
     "name": "stdout",
     "output_type": "stream",
     "text": [
      "+---------------------------------+----------+---------+-----------+\n",
      "|     [Binary] KNN Classifier     | Accuracy |  Recall | Precision |\n",
      "+---------------------------------+----------+---------+-----------+\n",
      "| KNN Classifier(n=3) without PCA | 93.1298  | 92.0455 |  97.5904  |\n",
      "+---------------------------------+----------+---------+-----------+\n"
     ]
    }
   ],
   "source": [
    "acc=round(np.mean(kf_acc)*100,4)\n",
    "recall=round(np.mean(kf_recall)*100,4)\n",
    "prec=round(np.mean(kf_prec)*100,4)\n",
    "\n",
    "table3.add_row([\"KNN Classifier(n=3) without PCA\",acc,recall,prec])\n",
    "print(table3)"
   ]
  },
  {
   "cell_type": "markdown",
   "id": "59cf024e-a1be-4892-aa6a-63236050c886",
   "metadata": {},
   "source": [
    "* neighbors=5"
   ]
  },
  {
   "cell_type": "code",
   "execution_count": 29,
   "id": "2dc6fd84-5d1e-47b8-8856-9a9b86b0660e",
   "metadata": {},
   "outputs": [],
   "source": [
    "knn = KNeighborsClassifier(n_neighbors=5)"
   ]
  },
  {
   "cell_type": "code",
   "execution_count": 30,
   "id": "53ee9ab5-9494-4b26-9a4a-5c92a663c1f0",
   "metadata": {},
   "outputs": [
    {
     "name": "stdout",
     "output_type": "stream",
     "text": [
      "K-fold cross-validation accuracy: 90.84%\n"
     ]
    }
   ],
   "source": [
    "# K-fold cross-validation with 𝐾=3\n",
    "from sklearn.model_selection import KFold\n",
    "kf=KFold(n_splits=3, random_state=None, shuffle=True)\n",
    "\n",
    "matrix_list=list()\n",
    "accuracies=[]\n",
    "kf_acc=[]\n",
    "kf_recall=[]\n",
    "kf_prec=[]\n",
    "\n",
    "for train_index, test_index in kf.split(x):\n",
    "    x_train, x_test = x[train_index], x[test_index]\n",
    "    y_train, y_test = y[train_index], y[test_index]\n",
    "    knn.fit(x_train,y_train)\n",
    "    matrix_list.append(confusion_matrix(y_test, knn.predict(x_test)))\n",
    "    kf_acc=accuracy_score(y_test,knn.predict(x_test))\n",
    "    kf_recall=recall_score(y_test,knn.predict(x_test))\n",
    "    kf_prec=precision_score(y_test,knn.predict(x_test))\n",
    "    \n",
    "    accuracies=knn.score(x_test,y_test)\n",
    "\n",
    "acc_avg=np.mean(accuracies)\n",
    "print(\"K-fold cross-validation accuracy: {}%\".format(round(acc_avg*100,2)))\n",
    "\n",
    "matrix_list=np.average(np.array(matrix_list),axis=0)"
   ]
  },
  {
   "cell_type": "code",
   "execution_count": 31,
   "id": "5da6f61f-fd05-4baf-b3f9-3ece7904f06d",
   "metadata": {},
   "outputs": [
    {
     "data": {
      "image/png": "[encoded data removed]",
      "text/plain": [
       "<Figure size 360x360 with 2 Axes>"
      ]
     },
     "metadata": {
      "needs_background": "light"
     },
     "output_type": "display_data"
    }
   ],
   "source": [
    "from sklearn import metrics\n",
    "f, ax = plt.subplots(figsize =(5,5))\n",
    "sns.heatmap(matrix_list,annot = True,linewidths=0.5,linecolor=\"red\",fmt = \".0f\",ax=ax)\n",
    "plt.xlabel(\"y_pred\")\n",
    "plt.ylabel(\"y_true\")\n",
    "plt.title(\"KNN Classifier(n=5) K-fold Confusion Matrix\")\n",
    "plt.show()"
   ]
  },
  {
   "cell_type": "code",
   "execution_count": 32,
   "id": "13541a69-cb71-4a48-b435-9c5af2c28a2b",
   "metadata": {},
   "outputs": [
    {
     "name": "stdout",
     "output_type": "stream",
     "text": [
      "+---------------------------------+----------+---------+-----------+\n",
      "|     [Binary] KNN Classifier     | Accuracy |  Recall | Precision |\n",
      "+---------------------------------+----------+---------+-----------+\n",
      "| KNN Classifier(n=3) without PCA | 93.1298  | 92.0455 |  97.5904  |\n",
      "| KNN Classifier(n=5) without PCA | 90.8397  | 93.5065 |  91.1392  |\n",
      "+---------------------------------+----------+---------+-----------+\n"
     ]
    }
   ],
   "source": [
    "acc=round(np.mean(kf_acc)*100,4)\n",
    "recall=round(np.mean(kf_recall)*100,4)\n",
    "prec=round(np.mean(kf_prec)*100,4)\n",
    "\n",
    "table3.add_row([\"KNN Classifier(n=5) without PCA\",acc,recall,prec])\n",
    "print(table3)"
   ]
  },
  {
   "cell_type": "markdown",
   "id": "adbae7dc-54ba-4a40-a648-9686addb415e",
   "metadata": {},
   "source": [
    "* neighbors=10"
   ]
  },
  {
   "cell_type": "code",
   "execution_count": 33,
   "id": "0b486db7-26ad-47aa-b286-a417e2c35907",
   "metadata": {},
   "outputs": [],
   "source": [
    "knn = KNeighborsClassifier(n_neighbors=10)"
   ]
  },
  {
   "cell_type": "code",
   "execution_count": 34,
   "id": "a4bb8b64-f850-4f98-929d-13ecdd4700ac",
   "metadata": {},
   "outputs": [
    {
     "name": "stdout",
     "output_type": "stream",
     "text": [
      "K-fold cross-validation accuracy: 87.79%\n"
     ]
    }
   ],
   "source": [
    "# K-fold cross-validation with 𝐾=3\n",
    "from sklearn.model_selection import KFold\n",
    "kf=KFold(n_splits=3, random_state=None, shuffle=True)\n",
    "\n",
    "matrix_list=list()\n",
    "accuracies=[]\n",
    "kf_acc=[]\n",
    "kf_recall=[]\n",
    "kf_prec=[]\n",
    "\n",
    "for train_index, test_index in kf.split(x):\n",
    "    x_train, x_test = x[train_index], x[test_index]\n",
    "    y_train, y_test = y[train_index], y[test_index]\n",
    "    knn.fit(x_train,y_train)\n",
    "    matrix_list.append(confusion_matrix(y_test, knn.predict(x_test)))\n",
    "    kf_acc=accuracy_score(y_test,knn.predict(x_test))\n",
    "    kf_recall=recall_score(y_test,knn.predict(x_test))\n",
    "    kf_prec=precision_score(y_test,knn.predict(x_test))\n",
    "    \n",
    "    accuracies=knn.score(x_test,y_test)\n",
    "\n",
    "acc_avg=np.mean(accuracies)\n",
    "print(\"K-fold cross-validation accuracy: {}%\".format(round(acc_avg*100,2)))\n",
    "\n",
    "matrix_list=np.average(np.array(matrix_list),axis=0)"
   ]
  },
  {
   "cell_type": "code",
   "execution_count": 35,
   "id": "7b331d99-74aa-49e6-9027-9ad44eda09bf",
   "metadata": {},
   "outputs": [
    {
     "data": {
      "image/png": "[encoded data removed]",
      "text/plain": [
       "<Figure size 360x360 with 2 Axes>"
      ]
     },
     "metadata": {
      "needs_background": "light"
     },
     "output_type": "display_data"
    }
   ],
   "source": [
    "from sklearn import metrics\n",
    "f, ax = plt.subplots(figsize =(5,5))\n",
    "sns.heatmap(matrix_list,annot = True,linewidths=0.5,linecolor=\"red\",fmt = \".0f\",ax=ax)\n",
    "plt.xlabel(\"y_pred\")\n",
    "plt.ylabel(\"y_true\")\n",
    "plt.title(\"KNN Classifier(n=10) K-fold Confusion Matrix\")\n",
    "plt.show()"
   ]
  },
  {
   "cell_type": "code",
   "execution_count": 36,
   "id": "acaeabf3-eab0-44cf-ac33-4ad40f01b3a2",
   "metadata": {},
   "outputs": [
    {
     "name": "stdout",
     "output_type": "stream",
     "text": [
      "+----------------------------------+----------+---------+-----------+\n",
      "|     [Binary] KNN Classifier      | Accuracy |  Recall | Precision |\n",
      "+----------------------------------+----------+---------+-----------+\n",
      "| KNN Classifier(n=3) without PCA  | 93.1298  | 92.0455 |  97.5904  |\n",
      "| KNN Classifier(n=5) without PCA  | 90.8397  | 93.5065 |  91.1392  |\n",
      "| KNN Classifier(n=10) without PCA | 87.7863  | 90.1099 |  92.1348  |\n",
      "+----------------------------------+----------+---------+-----------+\n"
     ]
    }
   ],
   "source": [
    "acc=round(np.mean(kf_acc)*100,4)\n",
    "recall=round(np.mean(kf_recall)*100,4)\n",
    "prec=round(np.mean(kf_prec)*100,4)\n",
    "\n",
    "table3.add_row([\"KNN Classifier(n=10) without PCA\",acc,recall,prec])\n",
    "print(table3)"
   ]
  },
  {
   "cell_type": "markdown",
   "id": "7c5d6bd7-5c24-45cb-a3c8-16f9516459f7",
   "metadata": {},
   "source": [
    "## With PCA"
   ]
  },
  {
   "cell_type": "markdown",
   "id": "6fe37f38-d2c2-4205-aae5-9b14cc9959ce",
   "metadata": {},
   "source": [
    "## Principal components analysis (PCA)\n",
    "* Compare the results between using the original data and the dimension-reduced one."
   ]
  },
  {
   "cell_type": "markdown",
   "id": "83d5a0dc-4b7a-407b-9e29-14cbf69518cd",
   "metadata": {},
   "source": [
    "### Decision Tree"
   ]
  },
  {
   "cell_type": "code",
   "execution_count": 37,
   "id": "c14f65bf-4236-4b72-83f0-ee0d17971a16",
   "metadata": {},
   "outputs": [],
   "source": [
    "tree = DecisionTreeClassifier()"
   ]
  },
  {
   "cell_type": "code",
   "execution_count": 39,
   "id": "6e63fc73-a375-4f8c-a3f0-a3cdebe02555",
   "metadata": {},
   "outputs": [
    {
     "name": "stdout",
     "output_type": "stream",
     "text": [
      "K-fold cross-validation accuracy: 83.97%\n"
     ]
    }
   ],
   "source": [
    "# K-fold cross-validation with 𝐾=3\n",
    "from sklearn.model_selection import KFold\n",
    "kf=KFold(n_splits=3, random_state=None, shuffle=True)\n",
    "\n",
    "matrix_list=list()\n",
    "accuracies=[]\n",
    "kf_acc=[]\n",
    "kf_recall=[]\n",
    "kf_prec=[]\n",
    "\n",
    "for train_index, test_index in kf.split(x):\n",
    "    x_train, x_test = x[train_index], x[test_index]\n",
    "    y_train, y_test = y[train_index], y[test_index]\n",
    "    pca = PCA(n_components='mle')\n",
    "    pca.fit(x_train)\n",
    "    x_train=pca.transform(x_train)\n",
    "    x_test=pca.transform(x_test)\n",
    "    tree.fit(x_train,y_train)\n",
    "    matrix_list.append(confusion_matrix(y_test, tree.predict(x_test)))\n",
    "    kf_acc=accuracy_score(y_test,tree.predict(x_test))\n",
    "    kf_recall=recall_score(y_test,tree.predict(x_test),average='weighted')\n",
    "    kf_prec=precision_score(y_test,tree.predict(x_test),average='weighted')\n",
    "    \n",
    "    accuracies=tree.score(x_test,y_test)\n",
    "\n",
    "acc_avg=np.mean(accuracies)\n",
    "print(\"K-fold cross-validation accuracy: {}%\".format(round(acc_avg*100,2)))\n",
    "\n",
    "matrix_list=np.average(np.array(matrix_list),axis=0)"
   ]
  },
  {
   "cell_type": "code",
   "execution_count": 40,
   "id": "ca66952f-dae7-4e58-ad11-e6699478d42a",
   "metadata": {},
   "outputs": [
    {
     "data": {
      "image/png": "[encoded data removed]",
      "text/plain": [
       "<Figure size 360x360 with 2 Axes>"
      ]
     },
     "metadata": {
      "needs_background": "light"
     },
     "output_type": "display_data"
    }
   ],
   "source": [
    "from sklearn import metrics\n",
    "f, ax = plt.subplots(figsize =(5,5))\n",
    "sns.heatmap(matrix_list,annot = True,linewidths=0.5,linecolor=\"red\",fmt = \".0f\",ax=ax)\n",
    "plt.xlabel(\"y_pred\")\n",
    "plt.ylabel(\"y_true\")\n",
    "plt.title(\"Decision Tree K-fold Confusion Matrix\")\n",
    "plt.show()"
   ]
  },
  {
   "cell_type": "code",
   "execution_count": 41,
   "id": "500cc151-2d44-441e-8d74-613e667a5db3",
   "metadata": {},
   "outputs": [
    {
     "name": "stdout",
     "output_type": "stream",
     "text": [
      "+---------------------------+----------+---------+-----------+\n",
      "|  [Binary] Decision Tree   | Accuracy |  Recall | Precision |\n",
      "+---------------------------+----------+---------+-----------+\n",
      "| Decision Tree without PCA |  89.313  |   95.0  |  88.3721  |\n",
      "|   Decision Tree with PCA  | 83.9695  | 83.9695 |  83.8975  |\n",
      "+---------------------------+----------+---------+-----------+\n"
     ]
    }
   ],
   "source": [
    "acc=round(np.mean(kf_acc)*100,4)\n",
    "recall=round(np.mean(kf_recall)*100,4)\n",
    "prec=round(np.mean(kf_prec)*100,4)\n",
    "\n",
    "table1.add_row([\"Decision Tree with PCA\",acc,recall,prec])\n",
    "print(table1)"
   ]
  },
  {
   "cell_type": "markdown",
   "id": "229b8ae8-88be-4072-ac69-3e3a68b3de3c",
   "metadata": {},
   "source": [
    "### Random Forest\n",
    "* numbers of trees=10"
   ]
  },
  {
   "cell_type": "code",
   "execution_count": 42,
   "id": "17c6e49d-4ce9-4bce-9b06-5cd6e0a80d93",
   "metadata": {},
   "outputs": [],
   "source": [
    "# n trees=10\n",
    "forest1 = RandomForestClassifier(n_estimators=10)"
   ]
  },
  {
   "cell_type": "code",
   "execution_count": 43,
   "id": "1720206b-5fbd-47bb-909b-1034aaf8f4ed",
   "metadata": {},
   "outputs": [
    {
     "name": "stdout",
     "output_type": "stream",
     "text": [
      "K-fold cross-validation accuracy: 80.92%\n"
     ]
    }
   ],
   "source": [
    "# K-fold cross-validation with 𝐾=3\n",
    "from sklearn.model_selection import KFold\n",
    "kf=KFold(n_splits=3, random_state=None, shuffle=True)\n",
    "\n",
    "matrix_list=list()\n",
    "accuracies=[]\n",
    "kf_acc=[]\n",
    "kf_recall=[]\n",
    "kf_prec=[]\n",
    "\n",
    "for train_index, test_index in kf.split(x):\n",
    "    x_train, x_test = x[train_index], x[test_index]\n",
    "    y_train, y_test = y[train_index], y[test_index]\n",
    "    pca = PCA(n_components='mle')\n",
    "    pca.fit(x_train)\n",
    "    x_train=pca.transform(x_train)\n",
    "    x_test=pca.transform(x_test)\n",
    "    forest1.fit(x_train,y_train)\n",
    "    matrix_list.append(confusion_matrix(y_test, forest1.predict(x_test)))\n",
    "    kf_acc=accuracy_score(y_test,forest1.predict(x_test))\n",
    "    kf_recall=recall_score(y_test,forest1.predict(x_test),average='weighted')\n",
    "    kf_prec=precision_score(y_test,forest1.predict(x_test),average='weighted')\n",
    "    \n",
    "    accuracies=forest1.score(x_test,y_test)\n",
    "\n",
    "acc_avg=np.mean(accuracies)\n",
    "print(\"K-fold cross-validation accuracy: {}%\".format(round(acc_avg*100,2)))\n",
    "\n",
    "matrix_list=np.average(np.array(matrix_list),axis=0)"
   ]
  },
  {
   "cell_type": "code",
   "execution_count": 44,
   "id": "26ceeec4-ac94-422d-9e2c-48e575779dc3",
   "metadata": {},
   "outputs": [
    {
     "data": {
      "image/png": "[encoded data removed]",
      "text/plain": [
       "<Figure size 360x360 with 2 Axes>"
      ]
     },
     "metadata": {
      "needs_background": "light"
     },
     "output_type": "display_data"
    }
   ],
   "source": [
    "from sklearn import metrics\n",
    "f, ax = plt.subplots(figsize =(5,5))\n",
    "sns.heatmap(matrix_list,annot = True,linewidths=0.5,linecolor=\"red\",fmt = \".0f\",ax=ax)\n",
    "plt.xlabel(\"y_pred\")\n",
    "plt.ylabel(\"y_true\")\n",
    "plt.title(\"Random Forest(n=10) K-fold Confusion Matrix\")\n",
    "plt.show()"
   ]
  },
  {
   "cell_type": "code",
   "execution_count": 45,
   "id": "c10c2f8a-0708-4e26-a304-b0399e5fa421",
   "metadata": {},
   "outputs": [
    {
     "name": "stdout",
     "output_type": "stream",
     "text": [
      "+---------------------------------+----------+---------+-----------+\n",
      "|      [Binary] Random Forest     | Accuracy |  Recall | Precision |\n",
      "+---------------------------------+----------+---------+-----------+\n",
      "| Random Forest(n=10) without PCA | 87.7863  | 89.7436 |  89.7436  |\n",
      "| Random Forest(n=20) without PCA | 92.3664  | 94.4444 |  94.4444  |\n",
      "| Random Forest(n=30) without PCA | 93.8931  | 96.6292 |  94.5055  |\n",
      "|   Random Forest(n=10) with PCA  |  80.916  |  80.916 |  81.3166  |\n",
      "+---------------------------------+----------+---------+-----------+\n"
     ]
    }
   ],
   "source": [
    "acc=round(np.mean(kf_acc)*100,4)\n",
    "recall=round(np.mean(kf_recall)*100,4)\n",
    "prec=round(np.mean(kf_prec)*100,4)\n",
    "\n",
    "table2.add_row([\"Random Forest(n=10) with PCA\",acc,recall,prec])\n",
    "print(table2)"
   ]
  },
  {
   "cell_type": "markdown",
   "id": "f0e0b362-e706-46d9-9ea0-c0f14940c300",
   "metadata": {},
   "source": [
    "* numbers of trees=20"
   ]
  },
  {
   "cell_type": "code",
   "execution_count": 367,
   "id": "56c788ff-73e6-4dd4-910a-ef7fc89ee6fa",
   "metadata": {},
   "outputs": [],
   "source": [
    "# n trees=20\n",
    "forest2 = RandomForestClassifier(n_estimators=20)"
   ]
  },
  {
   "cell_type": "code",
   "execution_count": 46,
   "id": "d2c8e39c-65dd-4518-9235-0d923ab6b725",
   "metadata": {},
   "outputs": [
    {
     "name": "stdout",
     "output_type": "stream",
     "text": [
      "K-fold cross-validation accuracy: 92.37%\n"
     ]
    }
   ],
   "source": [
    "# K-fold cross-validation with 𝐾=3\n",
    "from sklearn.model_selection import KFold\n",
    "kf=KFold(n_splits=3, random_state=None, shuffle=True)\n",
    "\n",
    "matrix_list=list()\n",
    "accuracies=[]\n",
    "kf_acc=[]\n",
    "kf_recall=[]\n",
    "kf_prec=[]\n",
    "\n",
    "for train_index, test_index in kf.split(x):\n",
    "    x_train, x_test = x[train_index], x[test_index]\n",
    "    y_train, y_test = y[train_index], y[test_index]\n",
    "    pca = PCA(n_components='mle')\n",
    "    pca.fit(x_train)\n",
    "    x_train=pca.transform(x_train)\n",
    "    x_test=pca.transform(x_test)\n",
    "    forest2.fit(x_train,y_train)\n",
    "    matrix_list.append(confusion_matrix(y_test, forest2.predict(x_test)))\n",
    "    kf_acc=accuracy_score(y_test,forest2.predict(x_test))\n",
    "    kf_recall=recall_score(y_test,forest2.predict(x_test),average='weighted')\n",
    "    kf_prec=precision_score(y_test,forest2.predict(x_test),average='weighted')\n",
    "    \n",
    "    accuracies=forest2.score(x_test,y_test)\n",
    "\n",
    "acc_avg=np.mean(accuracies)\n",
    "print(\"K-fold cross-validation accuracy: {}%\".format(round(acc_avg*100,2)))\n",
    "\n",
    "matrix_list=np.average(np.array(matrix_list),axis=0)"
   ]
  },
  {
   "cell_type": "code",
   "execution_count": 47,
   "id": "a9cc6bc7-fdb4-4910-bd00-b8f30c38008e",
   "metadata": {},
   "outputs": [
    {
     "data": {
      "image/png": "[encoded data removed]",
      "text/plain": [
       "<Figure size 360x360 with 2 Axes>"
      ]
     },
     "metadata": {
      "needs_background": "light"
     },
     "output_type": "display_data"
    }
   ],
   "source": [
    "from sklearn import metrics\n",
    "f, ax = plt.subplots(figsize =(5,5))\n",
    "sns.heatmap(matrix_list,annot = True,linewidths=0.5,linecolor=\"red\",fmt = \".0f\",ax=ax)\n",
    "plt.xlabel(\"y_pred\")\n",
    "plt.ylabel(\"y_true\")\n",
    "plt.title(\"Random Forest(n=20) K-fold Confusion Matrix\")\n",
    "plt.show()"
   ]
  },
  {
   "cell_type": "code",
   "execution_count": 48,
   "id": "a53d0ff2-6393-4d09-abff-be0b550f2f34",
   "metadata": {},
   "outputs": [
    {
     "name": "stdout",
     "output_type": "stream",
     "text": [
      "+---------------------------------+----------+---------+-----------+\n",
      "|      [Binary] Random Forest     | Accuracy |  Recall | Precision |\n",
      "+---------------------------------+----------+---------+-----------+\n",
      "| Random Forest(n=10) without PCA | 87.7863  | 89.7436 |  89.7436  |\n",
      "| Random Forest(n=20) without PCA | 92.3664  | 94.4444 |  94.4444  |\n",
      "| Random Forest(n=30) without PCA | 93.8931  | 96.6292 |  94.5055  |\n",
      "|   Random Forest(n=10) with PCA  |  80.916  |  80.916 |  81.3166  |\n",
      "|   Random Forest(n=20) with PCA  | 92.3664  | 92.3664 |  92.7013  |\n",
      "+---------------------------------+----------+---------+-----------+\n"
     ]
    }
   ],
   "source": [
    "acc=round(np.mean(kf_acc)*100,4)\n",
    "recall=round(np.mean(kf_recall)*100,4)\n",
    "prec=round(np.mean(kf_prec)*100,4)\n",
    "\n",
    "table2.add_row([\"Random Forest(n=20) with PCA\",acc,recall,prec])\n",
    "print(table2)"
   ]
  },
  {
   "cell_type": "markdown",
   "id": "8bcc37f3-40c8-4dc5-9ff9-4fa63ac043c3",
   "metadata": {},
   "source": [
    "* numbers of trees=30"
   ]
  },
  {
   "cell_type": "code",
   "execution_count": 371,
   "id": "c2624b92-c082-458e-a5d9-4fb0ae58e8f1",
   "metadata": {},
   "outputs": [],
   "source": [
    "# n trees=30\n",
    "forest3 = RandomForestClassifier(n_estimators=30)"
   ]
  },
  {
   "cell_type": "code",
   "execution_count": 49,
   "id": "56409972-38a8-4335-8119-876f45c73574",
   "metadata": {},
   "outputs": [
    {
     "name": "stdout",
     "output_type": "stream",
     "text": [
      "K-fold cross-validation accuracy: 87.79%\n"
     ]
    }
   ],
   "source": [
    "# K-fold cross-validation with 𝐾=3\n",
    "from sklearn.model_selection import KFold\n",
    "kf=KFold(n_splits=3, random_state=None, shuffle=True)\n",
    "\n",
    "matrix_list=list()\n",
    "accuracies=[]\n",
    "kf_acc=[]\n",
    "kf_recall=[]\n",
    "kf_prec=[]\n",
    "\n",
    "for train_index, test_index in kf.split(x):\n",
    "    x_train, x_test = x[train_index], x[test_index]\n",
    "    y_train, y_test = y[train_index], y[test_index]\n",
    "    pca = PCA(n_components='mle')\n",
    "    pca.fit(x_train)\n",
    "    x_train=pca.transform(x_train)\n",
    "    x_test=pca.transform(x_test)\n",
    "    forest3.fit(x_train,y_train)\n",
    "    matrix_list.append(confusion_matrix(y_test, forest3.predict(x_test)))\n",
    "    kf_acc=accuracy_score(y_test,forest3.predict(x_test))\n",
    "    kf_recall=recall_score(y_test,forest3.predict(x_test),average='weighted')\n",
    "    kf_prec=precision_score(y_test,forest3.predict(x_test),average='weighted')\n",
    "    \n",
    "    accuracies=forest3.score(x_test,y_test)\n",
    "\n",
    "acc_avg=np.mean(accuracies)\n",
    "print(\"K-fold cross-validation accuracy: {}%\".format(round(acc_avg*100,2)))\n",
    "\n",
    "matrix_list=np.average(np.array(matrix_list),axis=0)"
   ]
  },
  {
   "cell_type": "code",
   "execution_count": 50,
   "id": "bbeb45d4-3d91-4aa5-a8c3-a05b254aea25",
   "metadata": {},
   "outputs": [
    {
     "data": {
      "image/png": "[encoded data removed]",
      "text/plain": [
       "<Figure size 360x360 with 2 Axes>"
      ]
     },
     "metadata": {
      "needs_background": "light"
     },
     "output_type": "display_data"
    }
   ],
   "source": [
    "from sklearn import metrics\n",
    "f, ax = plt.subplots(figsize =(5,5))\n",
    "sns.heatmap(matrix_list,annot = True,linewidths=0.5,linecolor=\"red\",fmt = \".0f\",ax=ax)\n",
    "plt.xlabel(\"y_pred\")\n",
    "plt.ylabel(\"y_true\")\n",
    "plt.title(\"Random Forest(n=20) K-fold Confusion Matrix\")\n",
    "plt.show()"
   ]
  },
  {
   "cell_type": "code",
   "execution_count": 51,
   "id": "1ab4b0f8-f427-40b7-9dee-2605ded40c75",
   "metadata": {},
   "outputs": [
    {
     "name": "stdout",
     "output_type": "stream",
     "text": [
      "+---------------------------------+----------+---------+-----------+\n",
      "|      [Binary] Random Forest     | Accuracy |  Recall | Precision |\n",
      "+---------------------------------+----------+---------+-----------+\n",
      "| Random Forest(n=10) without PCA | 87.7863  | 89.7436 |  89.7436  |\n",
      "| Random Forest(n=20) without PCA | 92.3664  | 94.4444 |  94.4444  |\n",
      "| Random Forest(n=30) without PCA | 93.8931  | 96.6292 |  94.5055  |\n",
      "|   Random Forest(n=10) with PCA  |  80.916  |  80.916 |  81.3166  |\n",
      "|   Random Forest(n=20) with PCA  | 92.3664  | 92.3664 |  92.7013  |\n",
      "|   Random Forest(n=30) with PCA  | 87.7863  | 87.7863 |  87.7225  |\n",
      "+---------------------------------+----------+---------+-----------+\n"
     ]
    }
   ],
   "source": [
    "acc=round(np.mean(kf_acc)*100,4)\n",
    "recall=round(np.mean(kf_recall)*100,4)\n",
    "prec=round(np.mean(kf_prec)*100,4)\n",
    "\n",
    "table2.add_row([\"Random Forest(n=30) with PCA\",acc,recall,prec])\n",
    "print(table2)"
   ]
  },
  {
   "cell_type": "markdown",
   "id": "49e18dd6-73e4-4082-806c-814f52082ffd",
   "metadata": {},
   "source": [
    "### KNN Classifier\n",
    "* neighbors=3"
   ]
  },
  {
   "cell_type": "code",
   "execution_count": 375,
   "id": "bf22dd99-0de3-403f-8616-f06378546c9f",
   "metadata": {},
   "outputs": [],
   "source": [
    "knn = KNeighborsClassifier(n_neighbors=3)"
   ]
  },
  {
   "cell_type": "code",
   "execution_count": 52,
   "id": "ab7a2705-3c5d-45fe-b636-f4cc9c6e0893",
   "metadata": {},
   "outputs": [
    {
     "name": "stdout",
     "output_type": "stream",
     "text": [
      "K-fold cross-validation accuracy: 89.31%\n"
     ]
    }
   ],
   "source": [
    "# K-fold cross-validation with 𝐾=3\n",
    "from sklearn.model_selection import KFold\n",
    "kf=KFold(n_splits=3, random_state=None, shuffle=True)\n",
    "\n",
    "matrix_list=list()\n",
    "accuracies=[]\n",
    "kf_acc=[]\n",
    "kf_recall=[]\n",
    "kf_prec=[]\n",
    "\n",
    "for train_index, test_index in kf.split(x):\n",
    "    x_train, x_test = x[train_index], x[test_index]\n",
    "    y_train, y_test = y[train_index], y[test_index]\n",
    "    pca = PCA(n_components='mle')\n",
    "    pca.fit(x_train)\n",
    "    x_train=pca.transform(x_train)\n",
    "    x_test=pca.transform(x_test)\n",
    "    knn.fit(x_train,y_train)\n",
    "    matrix_list.append(confusion_matrix(y_test, knn.predict(x_test)))\n",
    "    kf_acc=accuracy_score(y_test,knn.predict(x_test))\n",
    "    kf_recall=recall_score(y_test,knn.predict(x_test),average='weighted')\n",
    "    kf_prec=precision_score(y_test,knn.predict(x_test),average='weighted')\n",
    "    \n",
    "    accuracies=knn.score(x_test,y_test)\n",
    "\n",
    "acc_avg=np.mean(accuracies)\n",
    "print(\"K-fold cross-validation accuracy: {}%\".format(round(acc_avg*100,2)))\n",
    "\n",
    "matrix_list=np.average(np.array(matrix_list),axis=0)"
   ]
  },
  {
   "cell_type": "code",
   "execution_count": 53,
   "id": "970741ae-e511-44b0-a69a-342a51c5dbc9",
   "metadata": {},
   "outputs": [
    {
     "data": {
      "image/png": "[encoded data removed]",
      "text/plain": [
       "<Figure size 360x360 with 2 Axes>"
      ]
     },
     "metadata": {
      "needs_background": "light"
     },
     "output_type": "display_data"
    }
   ],
   "source": [
    "from sklearn import metrics\n",
    "f, ax = plt.subplots(figsize =(5,5))\n",
    "sns.heatmap(matrix_list,annot = True,linewidths=0.5,linecolor=\"red\",fmt = \".0f\",ax=ax)\n",
    "plt.xlabel(\"y_pred\")\n",
    "plt.ylabel(\"y_true\")\n",
    "plt.title(\"KNN Classifier K-fold Confusion Matrix\")\n",
    "plt.show()"
   ]
  },
  {
   "cell_type": "code",
   "execution_count": 54,
   "id": "cbaf4195-6451-4e68-8eb7-e8808cb80f7c",
   "metadata": {},
   "outputs": [
    {
     "name": "stdout",
     "output_type": "stream",
     "text": [
      "+----------------------------------+----------+---------+-----------+\n",
      "|     [Binary] KNN Classifier      | Accuracy |  Recall | Precision |\n",
      "+----------------------------------+----------+---------+-----------+\n",
      "| KNN Classifier(n=3) without PCA  | 93.1298  | 92.0455 |  97.5904  |\n",
      "| KNN Classifier(n=5) without PCA  | 90.8397  | 93.5065 |  91.1392  |\n",
      "| KNN Classifier(n=10) without PCA | 87.7863  | 90.1099 |  92.1348  |\n",
      "|   KNN Classifier(n=3) with PCA   |  89.313  |  89.313 |  89.1927  |\n",
      "+----------------------------------+----------+---------+-----------+\n"
     ]
    }
   ],
   "source": [
    "acc=round(np.mean(kf_acc)*100,4)\n",
    "recall=round(np.mean(kf_recall)*100,4)\n",
    "prec=round(np.mean(kf_prec)*100,4)\n",
    "\n",
    "table3.add_row([\"KNN Classifier(n=3) with PCA\",acc,recall,prec])\n",
    "print(table3)"
   ]
  },
  {
   "cell_type": "markdown",
   "id": "0b230eb3-7c85-431c-9b1a-9a3e35cdff11",
   "metadata": {},
   "source": [
    "* neighbors=5"
   ]
  },
  {
   "cell_type": "code",
   "execution_count": 55,
   "id": "34035804-abb2-49e9-8cea-a5c32a1acd70",
   "metadata": {},
   "outputs": [],
   "source": [
    "knn = KNeighborsClassifier(n_neighbors=5)"
   ]
  },
  {
   "cell_type": "code",
   "execution_count": 56,
   "id": "c6fd442c-fa2b-44b1-819b-494ffda9d2c2",
   "metadata": {},
   "outputs": [
    {
     "name": "stdout",
     "output_type": "stream",
     "text": [
      "K-fold cross-validation accuracy: 82.44%\n"
     ]
    }
   ],
   "source": [
    "# K-fold cross-validation with 𝐾=3\n",
    "from sklearn.model_selection import KFold\n",
    "kf=KFold(n_splits=3, random_state=None, shuffle=True)\n",
    "\n",
    "matrix_list=list()\n",
    "accuracies=[]\n",
    "kf_acc=[]\n",
    "kf_recall=[]\n",
    "kf_prec=[]\n",
    "\n",
    "for train_index, test_index in kf.split(x):\n",
    "    x_train, x_test = x[train_index], x[test_index]\n",
    "    y_train, y_test = y[train_index], y[test_index]\n",
    "    pca = PCA(n_components='mle')\n",
    "    pca.fit(x_train)\n",
    "    x_train=pca.transform(x_train)\n",
    "    x_test=pca.transform(x_test)\n",
    "    knn.fit(x_train,y_train)\n",
    "    matrix_list.append(confusion_matrix(y_test, knn.predict(x_test)))\n",
    "    kf_acc=accuracy_score(y_test,knn.predict(x_test))\n",
    "    kf_recall=recall_score(y_test,knn.predict(x_test),average='weighted')\n",
    "    kf_prec=precision_score(y_test,knn.predict(x_test),average='weighted')\n",
    "    \n",
    "    accuracies=knn.score(x_test,y_test)\n",
    "\n",
    "acc_avg=np.mean(accuracies)\n",
    "print(\"K-fold cross-validation accuracy: {}%\".format(round(acc_avg*100,2)))\n",
    "\n",
    "matrix_list=np.average(np.array(matrix_list),axis=0)"
   ]
  },
  {
   "cell_type": "code",
   "execution_count": 57,
   "id": "c2349a85-bba1-46bd-b6fb-2cb05b5e8623",
   "metadata": {},
   "outputs": [
    {
     "data": {
      "image/png": "[encoded data removed]",
      "text/plain": [
       "<Figure size 360x360 with 2 Axes>"
      ]
     },
     "metadata": {
      "needs_background": "light"
     },
     "output_type": "display_data"
    }
   ],
   "source": [
    "from sklearn import metrics\n",
    "f, ax = plt.subplots(figsize =(5,5))\n",
    "sns.heatmap(matrix_list,annot = True,linewidths=0.5,linecolor=\"red\",fmt = \".0f\",ax=ax)\n",
    "plt.xlabel(\"y_pred\")\n",
    "plt.ylabel(\"y_true\")\n",
    "plt.title(\"KNN Classifier(n=5) K-fold Confusion Matrix\")\n",
    "plt.show()"
   ]
  },
  {
   "cell_type": "code",
   "execution_count": 58,
   "id": "3a0e5615-d4d6-49d1-b2a1-b3e4e509c32d",
   "metadata": {},
   "outputs": [
    {
     "name": "stdout",
     "output_type": "stream",
     "text": [
      "+----------------------------------+----------+---------+-----------+\n",
      "|     [Binary] KNN Classifier      | Accuracy |  Recall | Precision |\n",
      "+----------------------------------+----------+---------+-----------+\n",
      "| KNN Classifier(n=3) without PCA  | 93.1298  | 92.0455 |  97.5904  |\n",
      "| KNN Classifier(n=5) without PCA  | 90.8397  | 93.5065 |  91.1392  |\n",
      "| KNN Classifier(n=10) without PCA | 87.7863  | 90.1099 |  92.1348  |\n",
      "|   KNN Classifier(n=3) with PCA   |  89.313  |  89.313 |  89.1927  |\n",
      "|   KNN Classifier(n=5) with PCA   | 82.4427  | 82.4427 |  82.5487  |\n",
      "+----------------------------------+----------+---------+-----------+\n"
     ]
    }
   ],
   "source": [
    "acc=round(np.mean(kf_acc)*100,4)\n",
    "recall=round(np.mean(kf_recall)*100,4)\n",
    "prec=round(np.mean(kf_prec)*100,4)\n",
    "\n",
    "table3.add_row([\"KNN Classifier(n=5) with PCA\",acc,recall,prec])\n",
    "print(table3)"
   ]
  },
  {
   "cell_type": "markdown",
   "id": "7296e592-f85e-4310-a5d8-e8aaaf6cfb78",
   "metadata": {},
   "source": [
    "* neighbors=10"
   ]
  },
  {
   "cell_type": "code",
   "execution_count": 59,
   "id": "501bfd3d-63cd-43e4-8497-d0d429872470",
   "metadata": {},
   "outputs": [],
   "source": [
    "knn = KNeighborsClassifier(n_neighbors=10)"
   ]
  },
  {
   "cell_type": "code",
   "execution_count": 61,
   "id": "9d78e21b-442a-46db-a660-7ab4f19ff7f7",
   "metadata": {},
   "outputs": [
    {
     "name": "stdout",
     "output_type": "stream",
     "text": [
      "K-fold cross-validation accuracy: 87.02%\n"
     ]
    }
   ],
   "source": [
    "# K-fold cross-validation with 𝐾=3\n",
    "from sklearn.model_selection import KFold\n",
    "kf=KFold(n_splits=3, random_state=None, shuffle=True)\n",
    "\n",
    "matrix_list=list()\n",
    "accuracies=[]\n",
    "kf_acc=[]\n",
    "kf_recall=[]\n",
    "kf_prec=[]\n",
    "\n",
    "for train_index, test_index in kf.split(x):\n",
    "    x_train, x_test = x[train_index], x[test_index]\n",
    "    y_train, y_test = y[train_index], y[test_index]\n",
    "    pca = PCA(n_components='mle')\n",
    "    pca.fit(x_train)\n",
    "    x_train=pca.transform(x_train)\n",
    "    x_test=pca.transform(x_test)\n",
    "    knn.fit(x_train,y_train)\n",
    "    matrix_list.append(confusion_matrix(y_test, knn.predict(x_test)))\n",
    "    kf_acc=accuracy_score(y_test,knn.predict(x_test))\n",
    "    kf_recall=recall_score(y_test,knn.predict(x_test),average='weighted')\n",
    "    kf_prec=precision_score(y_test,knn.predict(x_test),average='weighted')\n",
    "    \n",
    "    accuracies=knn.score(x_test,y_test)\n",
    "\n",
    "acc_avg=np.mean(accuracies)\n",
    "print(\"K-fold cross-validation accuracy: {}%\".format(round(acc_avg*100,2)))\n",
    "\n",
    "matrix_list=np.average(np.array(matrix_list),axis=0)"
   ]
  },
  {
   "cell_type": "code",
   "execution_count": 62,
   "id": "d4c833e6-a8c6-49d7-8a38-6e2ce9b599bf",
   "metadata": {},
   "outputs": [
    {
     "data": {
      "image/png": "[encoded data removed]",
      "text/plain": [
       "<Figure size 360x360 with 2 Axes>"
      ]
     },
     "metadata": {
      "needs_background": "light"
     },
     "output_type": "display_data"
    }
   ],
   "source": [
    "from sklearn import metrics\n",
    "f, ax = plt.subplots(figsize =(5,5))\n",
    "sns.heatmap(matrix_list,annot = True,linewidths=0.5,linecolor=\"red\",fmt = \".0f\",ax=ax)\n",
    "plt.xlabel(\"y_pred\")\n",
    "plt.ylabel(\"y_true\")\n",
    "plt.title(\"KNN Classifier(n=10) K-fold Confusion Matrix\")\n",
    "plt.show()"
   ]
  },
  {
   "cell_type": "code",
   "execution_count": 63,
   "id": "ad330c9b-714c-4f3e-8ef2-11423083b1bf",
   "metadata": {},
   "outputs": [
    {
     "name": "stdout",
     "output_type": "stream",
     "text": [
      "+----------------------------------+----------+---------+-----------+\n",
      "|     [Binary] KNN Classifier      | Accuracy |  Recall | Precision |\n",
      "+----------------------------------+----------+---------+-----------+\n",
      "| KNN Classifier(n=3) without PCA  | 93.1298  | 92.0455 |  97.5904  |\n",
      "| KNN Classifier(n=5) without PCA  | 90.8397  | 93.5065 |  91.1392  |\n",
      "| KNN Classifier(n=10) without PCA | 87.7863  | 90.1099 |  92.1348  |\n",
      "|   KNN Classifier(n=3) with PCA   |  89.313  |  89.313 |  89.1927  |\n",
      "|   KNN Classifier(n=5) with PCA   | 82.4427  | 82.4427 |  82.5487  |\n",
      "|  KNN Classifier(n=10) with PCA   | 87.0229  | 87.0229 |  87.7652  |\n",
      "+----------------------------------+----------+---------+-----------+\n"
     ]
    }
   ],
   "source": [
    "acc=round(np.mean(kf_acc)*100,4)\n",
    "recall=round(np.mean(kf_recall)*100,4)\n",
    "prec=round(np.mean(kf_prec)*100,4)\n",
    "\n",
    "table3.add_row([\"KNN Classifier(n=10) with PCA\",acc,recall,prec])\n",
    "print(table3)"
   ]
  },
  {
   "cell_type": "markdown",
   "id": "57dce639-9a59-40dd-84a3-f62f23d811ff",
   "metadata": {},
   "source": [
    "# 5-Level classification\n",
    "based on the Erasmus gra#generate binary label\n",
    "df_bi=df\n",
    "df_bi['pass']=df.apply(lambda row:1 if row['G3']>=10 else 0,axis=1)\n",
    "#df_bi=df_bi.drop(['G3'],axis=1)\n",
    "df_bid conversion system."
   ]
  },
  {
   "cell_type": "code",
   "execution_count": 64,
   "id": "c0d105fb-7014-40cf-b675-48cf8a6afb05",
   "metadata": {},
   "outputs": [
    {
     "data": {
      "text/html": [
       "<div>\n",
       "<style scoped>\n",
       "    .dataframe tbody tr th:only-of-type {\n",
       "        vertical-align: middle;\n",
       "    }\n",
       "\n",
       "    .dataframe tbody tr th {\n",
       "        vertical-align: top;\n",
       "    }\n",
       "\n",
       "    .dataframe thead th {\n",
       "        text-align: right;\n",
       "    }\n",
       "</style>\n",
       "<table border=\"1\" class=\"dataframe\">\n",
       "  <thead>\n",
       "    <tr style=\"text-align: right;\">\n",
       "      <th></th>\n",
       "      <th>school</th>\n",
       "      <th>sex</th>\n",
       "      <th>age</th>\n",
       "      <th>address</th>\n",
       "      <th>famsize</th>\n",
       "      <th>Pstatus</th>\n",
       "      <th>Medu</th>\n",
       "      <th>Fedu</th>\n",
       "      <th>Mjob</th>\n",
       "      <th>Fjob</th>\n",
       "      <th>...</th>\n",
       "      <th>famrel</th>\n",
       "      <th>freetime</th>\n",
       "      <th>goout</th>\n",
       "      <th>Dalc</th>\n",
       "      <th>Walc</th>\n",
       "      <th>health</th>\n",
       "      <th>absences</th>\n",
       "      <th>G1</th>\n",
       "      <th>G2</th>\n",
       "      <th>level</th>\n",
       "    </tr>\n",
       "  </thead>\n",
       "  <tbody>\n",
       "    <tr>\n",
       "      <th>0</th>\n",
       "      <td>GP</td>\n",
       "      <td>F</td>\n",
       "      <td>18</td>\n",
       "      <td>U</td>\n",
       "      <td>GT3</td>\n",
       "      <td>A</td>\n",
       "      <td>4</td>\n",
       "      <td>4</td>\n",
       "      <td>at_home</td>\n",
       "      <td>teacher</td>\n",
       "      <td>...</td>\n",
       "      <td>4</td>\n",
       "      <td>3</td>\n",
       "      <td>4</td>\n",
       "      <td>1</td>\n",
       "      <td>1</td>\n",
       "      <td>3</td>\n",
       "      <td>6</td>\n",
       "      <td>5</td>\n",
       "      <td>6</td>\n",
       "      <td>5</td>\n",
       "    </tr>\n",
       "    <tr>\n",
       "      <th>1</th>\n",
       "      <td>GP</td>\n",
       "      <td>F</td>\n",
       "      <td>17</td>\n",
       "      <td>U</td>\n",
       "      <td>GT3</td>\n",
       "      <td>T</td>\n",
       "      <td>1</td>\n",
       "      <td>1</td>\n",
       "      <td>at_home</td>\n",
       "      <td>other</td>\n",
       "      <td>...</td>\n",
       "      <td>5</td>\n",
       "      <td>3</td>\n",
       "      <td>3</td>\n",
       "      <td>1</td>\n",
       "      <td>1</td>\n",
       "      <td>3</td>\n",
       "      <td>4</td>\n",
       "      <td>5</td>\n",
       "      <td>5</td>\n",
       "      <td>5</td>\n",
       "    </tr>\n",
       "    <tr>\n",
       "      <th>2</th>\n",
       "      <td>GP</td>\n",
       "      <td>F</td>\n",
       "      <td>15</td>\n",
       "      <td>U</td>\n",
       "      <td>LE3</td>\n",
       "      <td>T</td>\n",
       "      <td>1</td>\n",
       "      <td>1</td>\n",
       "      <td>at_home</td>\n",
       "      <td>other</td>\n",
       "      <td>...</td>\n",
       "      <td>4</td>\n",
       "      <td>3</td>\n",
       "      <td>2</td>\n",
       "      <td>2</td>\n",
       "      <td>3</td>\n",
       "      <td>3</td>\n",
       "      <td>10</td>\n",
       "      <td>7</td>\n",
       "      <td>8</td>\n",
       "      <td>4</td>\n",
       "    </tr>\n",
       "    <tr>\n",
       "      <th>3</th>\n",
       "      <td>GP</td>\n",
       "      <td>F</td>\n",
       "      <td>15</td>\n",
       "      <td>U</td>\n",
       "      <td>GT3</td>\n",
       "      <td>T</td>\n",
       "      <td>4</td>\n",
       "      <td>2</td>\n",
       "      <td>health</td>\n",
       "      <td>services</td>\n",
       "      <td>...</td>\n",
       "      <td>3</td>\n",
       "      <td>2</td>\n",
       "      <td>2</td>\n",
       "      <td>1</td>\n",
       "      <td>1</td>\n",
       "      <td>5</td>\n",
       "      <td>2</td>\n",
       "      <td>15</td>\n",
       "      <td>14</td>\n",
       "      <td>2</td>\n",
       "    </tr>\n",
       "    <tr>\n",
       "      <th>4</th>\n",
       "      <td>GP</td>\n",
       "      <td>F</td>\n",
       "      <td>16</td>\n",
       "      <td>U</td>\n",
       "      <td>GT3</td>\n",
       "      <td>T</td>\n",
       "      <td>3</td>\n",
       "      <td>3</td>\n",
       "      <td>other</td>\n",
       "      <td>other</td>\n",
       "      <td>...</td>\n",
       "      <td>4</td>\n",
       "      <td>3</td>\n",
       "      <td>2</td>\n",
       "      <td>1</td>\n",
       "      <td>2</td>\n",
       "      <td>5</td>\n",
       "      <td>4</td>\n",
       "      <td>6</td>\n",
       "      <td>10</td>\n",
       "      <td>4</td>\n",
       "    </tr>\n",
       "    <tr>\n",
       "      <th>...</th>\n",
       "      <td>...</td>\n",
       "      <td>...</td>\n",
       "      <td>...</td>\n",
       "      <td>...</td>\n",
       "      <td>...</td>\n",
       "      <td>...</td>\n",
       "      <td>...</td>\n",
       "      <td>...</td>\n",
       "      <td>...</td>\n",
       "      <td>...</td>\n",
       "      <td>...</td>\n",
       "      <td>...</td>\n",
       "      <td>...</td>\n",
       "      <td>...</td>\n",
       "      <td>...</td>\n",
       "      <td>...</td>\n",
       "      <td>...</td>\n",
       "      <td>...</td>\n",
       "      <td>...</td>\n",
       "      <td>...</td>\n",
       "      <td>...</td>\n",
       "    </tr>\n",
       "    <tr>\n",
       "      <th>390</th>\n",
       "      <td>MS</td>\n",
       "      <td>M</td>\n",
       "      <td>20</td>\n",
       "      <td>U</td>\n",
       "      <td>LE3</td>\n",
       "      <td>A</td>\n",
       "      <td>2</td>\n",
       "      <td>2</td>\n",
       "      <td>services</td>\n",
       "      <td>services</td>\n",
       "      <td>...</td>\n",
       "      <td>5</td>\n",
       "      <td>5</td>\n",
       "      <td>4</td>\n",
       "      <td>4</td>\n",
       "      <td>5</td>\n",
       "      <td>4</td>\n",
       "      <td>11</td>\n",
       "      <td>9</td>\n",
       "      <td>9</td>\n",
       "      <td>5</td>\n",
       "    </tr>\n",
       "    <tr>\n",
       "      <th>391</th>\n",
       "      <td>MS</td>\n",
       "      <td>M</td>\n",
       "      <td>17</td>\n",
       "      <td>U</td>\n",
       "      <td>LE3</td>\n",
       "      <td>T</td>\n",
       "      <td>3</td>\n",
       "      <td>1</td>\n",
       "      <td>services</td>\n",
       "      <td>services</td>\n",
       "      <td>...</td>\n",
       "      <td>2</td>\n",
       "      <td>4</td>\n",
       "      <td>5</td>\n",
       "      <td>3</td>\n",
       "      <td>4</td>\n",
       "      <td>2</td>\n",
       "      <td>3</td>\n",
       "      <td>14</td>\n",
       "      <td>16</td>\n",
       "      <td>1</td>\n",
       "    </tr>\n",
       "    <tr>\n",
       "      <th>392</th>\n",
       "      <td>MS</td>\n",
       "      <td>M</td>\n",
       "      <td>21</td>\n",
       "      <td>R</td>\n",
       "      <td>GT3</td>\n",
       "      <td>T</td>\n",
       "      <td>1</td>\n",
       "      <td>1</td>\n",
       "      <td>other</td>\n",
       "      <td>other</td>\n",
       "      <td>...</td>\n",
       "      <td>5</td>\n",
       "      <td>5</td>\n",
       "      <td>3</td>\n",
       "      <td>3</td>\n",
       "      <td>3</td>\n",
       "      <td>3</td>\n",
       "      <td>3</td>\n",
       "      <td>10</td>\n",
       "      <td>8</td>\n",
       "      <td>5</td>\n",
       "    </tr>\n",
       "    <tr>\n",
       "      <th>393</th>\n",
       "      <td>MS</td>\n",
       "      <td>M</td>\n",
       "      <td>18</td>\n",
       "      <td>R</td>\n",
       "      <td>LE3</td>\n",
       "      <td>T</td>\n",
       "      <td>3</td>\n",
       "      <td>2</td>\n",
       "      <td>services</td>\n",
       "      <td>other</td>\n",
       "      <td>...</td>\n",
       "      <td>4</td>\n",
       "      <td>4</td>\n",
       "      <td>1</td>\n",
       "      <td>3</td>\n",
       "      <td>4</td>\n",
       "      <td>5</td>\n",
       "      <td>0</td>\n",
       "      <td>11</td>\n",
       "      <td>12</td>\n",
       "      <td>4</td>\n",
       "    </tr>\n",
       "    <tr>\n",
       "      <th>394</th>\n",
       "      <td>MS</td>\n",
       "      <td>M</td>\n",
       "      <td>19</td>\n",
       "      <td>U</td>\n",
       "      <td>LE3</td>\n",
       "      <td>T</td>\n",
       "      <td>1</td>\n",
       "      <td>1</td>\n",
       "      <td>other</td>\n",
       "      <td>at_home</td>\n",
       "      <td>...</td>\n",
       "      <td>3</td>\n",
       "      <td>2</td>\n",
       "      <td>3</td>\n",
       "      <td>3</td>\n",
       "      <td>3</td>\n",
       "      <td>5</td>\n",
       "      <td>5</td>\n",
       "      <td>8</td>\n",
       "      <td>9</td>\n",
       "      <td>5</td>\n",
       "    </tr>\n",
       "  </tbody>\n",
       "</table>\n",
       "<p>395 rows × 33 columns</p>\n",
       "</div>"
      ],
      "text/plain": [
       "    school sex  age address famsize Pstatus  Medu  Fedu      Mjob      Fjob  \\\n",
       "0       GP   F   18       U     GT3       A     4     4   at_home   teacher   \n",
       "1       GP   F   17       U     GT3       T     1     1   at_home     other   \n",
       "2       GP   F   15       U     LE3       T     1     1   at_home     other   \n",
       "3       GP   F   15       U     GT3       T     4     2    health  services   \n",
       "4       GP   F   16       U     GT3       T     3     3     other     other   \n",
       "..     ...  ..  ...     ...     ...     ...   ...   ...       ...       ...   \n",
       "390     MS   M   20       U     LE3       A     2     2  services  services   \n",
       "391     MS   M   17       U     LE3       T     3     1  services  services   \n",
       "392     MS   M   21       R     GT3       T     1     1     other     other   \n",
       "393     MS   M   18       R     LE3       T     3     2  services     other   \n",
       "394     MS   M   19       U     LE3       T     1     1     other   at_home   \n",
       "\n",
       "     ... famrel freetime  goout  Dalc  Walc health absences  G1  G2 level  \n",
       "0    ...      4        3      4     1     1      3        6   5   6     5  \n",
       "1    ...      5        3      3     1     1      3        4   5   5     5  \n",
       "2    ...      4        3      2     2     3      3       10   7   8     4  \n",
       "3    ...      3        2      2     1     1      5        2  15  14     2  \n",
       "4    ...      4        3      2     1     2      5        4   6  10     4  \n",
       "..   ...    ...      ...    ...   ...   ...    ...      ...  ..  ..   ...  \n",
       "390  ...      5        5      4     4     5      4       11   9   9     5  \n",
       "391  ...      2        4      5     3     4      2        3  14  16     1  \n",
       "392  ...      5        5      3     3     3      3        3  10   8     5  \n",
       "393  ...      4        4      1     3     4      5        0  11  12     4  \n",
       "394  ...      3        2      3     3     3      5        5   8   9     5  \n",
       "\n",
       "[395 rows x 33 columns]"
      ]
     },
     "execution_count": 64,
     "metadata": {},
     "output_type": "execute_result"
    }
   ],
   "source": [
    "#generate binary label\n",
    "df_level=df.copy()\n",
    "\n",
    "def classifier(row):\n",
    "    if row<=20 & row>=16:\n",
    "        return '1'\n",
    "    if row<=15 & row>=14:\n",
    "        return '2'\n",
    "    if row<=13 & row>=12:\n",
    "        return '3'\n",
    "    if row<=11 & row>=10:\n",
    "        return '4'\n",
    "    else:\n",
    "        return '5'\n",
    "\n",
    "df_level['level']=df_level.apply(lambda row: classifier(row['G3']),axis=1 )\n",
    "df_level=df_level.drop(['G3'],axis=1)\n",
    "df_level"
   ]
  },
  {
   "cell_type": "markdown",
   "id": "0e753ac9-2fa4-43ae-b1fa-efd1e0a0cbff",
   "metadata": {},
   "source": [
    "### one-hot-encoding\n",
    "* 不確定level可不可以直接換成數字而不是用等第ABC(應該沒差)"
   ]
  },
  {
   "cell_type": "code",
   "execution_count": 65,
   "id": "b4690971-6afc-4b9e-94ba-22ea7a47f628",
   "metadata": {},
   "outputs": [
    {
     "data": {
      "text/html": [
       "<div>\n",
       "<style scoped>\n",
       "    .dataframe tbody tr th:only-of-type {\n",
       "        vertical-align: middle;\n",
       "    }\n",
       "\n",
       "    .dataframe tbody tr th {\n",
       "        vertical-align: top;\n",
       "    }\n",
       "\n",
       "    .dataframe thead th {\n",
       "        text-align: right;\n",
       "    }\n",
       "</style>\n",
       "<table border=\"1\" class=\"dataframe\">\n",
       "  <thead>\n",
       "    <tr style=\"text-align: right;\">\n",
       "      <th></th>\n",
       "      <th>age</th>\n",
       "      <th>Medu</th>\n",
       "      <th>Fedu</th>\n",
       "      <th>traveltime</th>\n",
       "      <th>studytime</th>\n",
       "      <th>failures</th>\n",
       "      <th>famrel</th>\n",
       "      <th>freetime</th>\n",
       "      <th>goout</th>\n",
       "      <th>Dalc</th>\n",
       "      <th>...</th>\n",
       "      <th>activities_no</th>\n",
       "      <th>activities_yes</th>\n",
       "      <th>nursery_no</th>\n",
       "      <th>nursery_yes</th>\n",
       "      <th>higher_no</th>\n",
       "      <th>higher_yes</th>\n",
       "      <th>internet_no</th>\n",
       "      <th>internet_yes</th>\n",
       "      <th>romantic_no</th>\n",
       "      <th>romantic_yes</th>\n",
       "    </tr>\n",
       "  </thead>\n",
       "  <tbody>\n",
       "    <tr>\n",
       "      <th>0</th>\n",
       "      <td>18</td>\n",
       "      <td>4</td>\n",
       "      <td>4</td>\n",
       "      <td>2</td>\n",
       "      <td>2</td>\n",
       "      <td>0</td>\n",
       "      <td>4</td>\n",
       "      <td>3</td>\n",
       "      <td>4</td>\n",
       "      <td>1</td>\n",
       "      <td>...</td>\n",
       "      <td>1</td>\n",
       "      <td>0</td>\n",
       "      <td>0</td>\n",
       "      <td>1</td>\n",
       "      <td>0</td>\n",
       "      <td>1</td>\n",
       "      <td>1</td>\n",
       "      <td>0</td>\n",
       "      <td>1</td>\n",
       "      <td>0</td>\n",
       "    </tr>\n",
       "    <tr>\n",
       "      <th>1</th>\n",
       "      <td>17</td>\n",
       "      <td>1</td>\n",
       "      <td>1</td>\n",
       "      <td>1</td>\n",
       "      <td>2</td>\n",
       "      <td>0</td>\n",
       "      <td>5</td>\n",
       "      <td>3</td>\n",
       "      <td>3</td>\n",
       "      <td>1</td>\n",
       "      <td>...</td>\n",
       "      <td>1</td>\n",
       "      <td>0</td>\n",
       "      <td>1</td>\n",
       "      <td>0</td>\n",
       "      <td>0</td>\n",
       "      <td>1</td>\n",
       "      <td>0</td>\n",
       "      <td>1</td>\n",
       "      <td>1</td>\n",
       "      <td>0</td>\n",
       "    </tr>\n",
       "    <tr>\n",
       "      <th>2</th>\n",
       "      <td>15</td>\n",
       "      <td>1</td>\n",
       "      <td>1</td>\n",
       "      <td>1</td>\n",
       "      <td>2</td>\n",
       "      <td>3</td>\n",
       "      <td>4</td>\n",
       "      <td>3</td>\n",
       "      <td>2</td>\n",
       "      <td>2</td>\n",
       "      <td>...</td>\n",
       "      <td>1</td>\n",
       "      <td>0</td>\n",
       "      <td>0</td>\n",
       "      <td>1</td>\n",
       "      <td>0</td>\n",
       "      <td>1</td>\n",
       "      <td>0</td>\n",
       "      <td>1</td>\n",
       "      <td>1</td>\n",
       "      <td>0</td>\n",
       "    </tr>\n",
       "    <tr>\n",
       "      <th>3</th>\n",
       "      <td>15</td>\n",
       "      <td>4</td>\n",
       "      <td>2</td>\n",
       "      <td>1</td>\n",
       "      <td>3</td>\n",
       "      <td>0</td>\n",
       "      <td>3</td>\n",
       "      <td>2</td>\n",
       "      <td>2</td>\n",
       "      <td>1</td>\n",
       "      <td>...</td>\n",
       "      <td>0</td>\n",
       "      <td>1</td>\n",
       "      <td>0</td>\n",
       "      <td>1</td>\n",
       "      <td>0</td>\n",
       "      <td>1</td>\n",
       "      <td>0</td>\n",
       "      <td>1</td>\n",
       "      <td>0</td>\n",
       "      <td>1</td>\n",
       "    </tr>\n",
       "    <tr>\n",
       "      <th>4</th>\n",
       "      <td>16</td>\n",
       "      <td>3</td>\n",
       "      <td>3</td>\n",
       "      <td>1</td>\n",
       "      <td>2</td>\n",
       "      <td>0</td>\n",
       "      <td>4</td>\n",
       "      <td>3</td>\n",
       "      <td>2</td>\n",
       "      <td>1</td>\n",
       "      <td>...</td>\n",
       "      <td>1</td>\n",
       "      <td>0</td>\n",
       "      <td>0</td>\n",
       "      <td>1</td>\n",
       "      <td>0</td>\n",
       "      <td>1</td>\n",
       "      <td>1</td>\n",
       "      <td>0</td>\n",
       "      <td>1</td>\n",
       "      <td>0</td>\n",
       "    </tr>\n",
       "  </tbody>\n",
       "</table>\n",
       "<p>5 rows × 59 columns</p>\n",
       "</div>"
      ],
      "text/plain": [
       "   age  Medu  Fedu  traveltime  studytime  failures  famrel  freetime  goout  \\\n",
       "0   18     4     4           2          2         0       4         3      4   \n",
       "1   17     1     1           1          2         0       5         3      3   \n",
       "2   15     1     1           1          2         3       4         3      2   \n",
       "3   15     4     2           1          3         0       3         2      2   \n",
       "4   16     3     3           1          2         0       4         3      2   \n",
       "\n",
       "   Dalc  ...  activities_no  activities_yes  nursery_no  nursery_yes  \\\n",
       "0     1  ...              1               0           0            1   \n",
       "1     1  ...              1               0           1            0   \n",
       "2     2  ...              1               0           0            1   \n",
       "3     1  ...              0               1           0            1   \n",
       "4     1  ...              1               0           0            1   \n",
       "\n",
       "   higher_no higher_yes  internet_no  internet_yes  romantic_no  romantic_yes  \n",
       "0          0          1            1             0            1             0  \n",
       "1          0          1            0             1            1             0  \n",
       "2          0          1            0             1            1             0  \n",
       "3          0          1            0             1            0             1  \n",
       "4          0          1            1             0            1             0  \n",
       "\n",
       "[5 rows x 59 columns]"
      ]
     },
     "execution_count": 65,
     "metadata": {},
     "output_type": "execute_result"
    }
   ],
   "source": [
    "df_level=pd.get_dummies(df_level,columns=['sex','school','address','famsize','Pstatus','Mjob','Fjob',\n",
    "                                 'reason','guardian','schoolsup','famsup','paid','activities',\n",
    "                                'nursery','higher','internet','romantic'])\n",
    "df_level.head()"
   ]
  },
  {
   "cell_type": "markdown",
   "id": "04d01883-1db3-4029-bc9a-6a5801fd1efd",
   "metadata": {},
   "source": [
    "### shffule data"
   ]
  },
  {
   "cell_type": "code",
   "execution_count": 66,
   "id": "1a934237-f15a-452b-b6da-f54c610c75cd",
   "metadata": {},
   "outputs": [],
   "source": [
    "df_level=sklearn.utils.shuffle(df_level)"
   ]
  },
  {
   "cell_type": "code",
   "execution_count": 67,
   "id": "f435bb0d-0f2e-4aaf-aa85-8feb3387c383",
   "metadata": {},
   "outputs": [],
   "source": [
    "y = df_level['level'].values\n",
    "x = df_level.drop(['level'], axis=1).values"
   ]
  },
  {
   "cell_type": "markdown",
   "id": "325020c4-733f-4817-943e-f8b252d0fe99",
   "metadata": {},
   "source": [
    "### Build Table"
   ]
  },
  {
   "cell_type": "code",
   "execution_count": 68,
   "id": "715f0edd-2486-4db2-81ba-65f654d578da",
   "metadata": {},
   "outputs": [],
   "source": [
    "table1=prettytable.PrettyTable()\n",
    "table1.field_names=['[5-level] Decision Tree ','Accuracy','Recall','Precision']\n",
    "\n",
    "table2=prettytable.PrettyTable()\n",
    "table2.field_names=['[5-level] Random Forest','Accuracy','Recall','Precision']\n",
    "\n",
    "table3=prettytable.PrettyTable()\n",
    "table3.field_names=['[5-level] KNN Classifier ','Accuracy','Recall','Precision']"
   ]
  },
  {
   "cell_type": "markdown",
   "id": "19d91b9b-d225-4a02-89b2-ff3768f3a933",
   "metadata": {},
   "source": [
    "## Without PCA\n",
    "### Decision Tree"
   ]
  },
  {
   "cell_type": "code",
   "execution_count": 69,
   "id": "42bd6d5d-e515-4669-a6c6-3866cb89e722",
   "metadata": {},
   "outputs": [],
   "source": [
    "tree = DecisionTreeClassifier()"
   ]
  },
  {
   "cell_type": "code",
   "execution_count": 70,
   "id": "9d2ee75e-39e6-4e6b-a946-92cbb834c6c9",
   "metadata": {},
   "outputs": [
    {
     "name": "stdout",
     "output_type": "stream",
     "text": [
      "K-fold cross-validation accuracy: 65.65%\n"
     ]
    }
   ],
   "source": [
    "# K-fold cross-validation with 𝐾=3\n",
    "from sklearn.model_selection import KFold\n",
    "kf=KFold(n_splits=3, random_state=None, shuffle=True)\n",
    "\n",
    "matrix_list=list()\n",
    "accuracies=[]\n",
    "kf_acc=[]\n",
    "kf_recall=[]\n",
    "kf_prec=[]\n",
    "\n",
    "for train_index, test_index in kf.split(x):\n",
    "    x_train, x_test = x[train_index], x[test_index]\n",
    "    y_train, y_test = y[train_index], y[test_index]\n",
    "    tree.fit(x_train,y_train)\n",
    "    matrix_list.append(confusion_matrix(y_test, tree.predict(x_test)))\n",
    "    kf_acc=accuracy_score(y_test,tree.predict(x_test))\n",
    "    kf_recall=recall_score(y_test,tree.predict(x_test),average='weighted')\n",
    "    kf_prec=precision_score(y_test,tree.predict(x_test),average='weighted')\n",
    "    \n",
    "    accuracies=tree.score(x_test,y_test)\n",
    "\n",
    "acc_avg=np.mean(accuracies)\n",
    "print(\"K-fold cross-validation accuracy: {}%\".format(round(acc_avg*100,2)))\n",
    "\n",
    "matrix_list=np.average(np.array(matrix_list),axis=0)"
   ]
  },
  {
   "cell_type": "code",
   "execution_count": 71,
   "id": "b23acd37-0fd4-45ac-b2c4-a8849b4751ea",
   "metadata": {},
   "outputs": [
    {
     "data": {
      "image/png": "[encoded data removed]",
      "text/plain": [
       "<Figure size 360x360 with 2 Axes>"
      ]
     },
     "metadata": {
      "needs_background": "light"
     },
     "output_type": "display_data"
    }
   ],
   "source": [
    "from sklearn import metrics\n",
    "f, ax = plt.subplots(figsize =(5,5))\n",
    "sns.heatmap(matrix_list,annot = True,linewidths=0.5,linecolor=\"red\",fmt = \".0f\",ax=ax)\n",
    "plt.xlabel(\"y_pred\")\n",
    "plt.ylabel(\"y_true\")\n",
    "plt.title(\"Decision Tree K-fold Confusion Matrix\")\n",
    "plt.show()"
   ]
  },
  {
   "cell_type": "code",
   "execution_count": 72,
   "id": "cdb78749-e2e5-4496-ab72-2e4412247803",
   "metadata": {},
   "outputs": [
    {
     "name": "stdout",
     "output_type": "stream",
     "text": [
      "+---------------------------+----------+---------+-----------+\n",
      "|  [5-level] Decision Tree  | Accuracy |  Recall | Precision |\n",
      "+---------------------------+----------+---------+-----------+\n",
      "| Decision Tree without PCA | 65.6489  | 65.6489 |  67.3165  |\n",
      "+---------------------------+----------+---------+-----------+\n"
     ]
    }
   ],
   "source": [
    "acc=round(np.mean(kf_acc)*100,4)\n",
    "recall=round(np.mean(kf_recall)*100,4)\n",
    "prec=round(np.mean(kf_prec)*100,4)\n",
    "\n",
    "table1.add_row([\"Decision Tree without PCA\",acc,recall,prec])\n",
    "print(table1)"
   ]
  },
  {
   "cell_type": "markdown",
   "id": "811acf61-aee5-4108-bc23-1e740bef2360",
   "metadata": {},
   "source": [
    "### Random Forest\n",
    "* numbers of trees=10"
   ]
  },
  {
   "cell_type": "code",
   "execution_count": 73,
   "id": "d82ef9f5-507b-4186-a457-568b558e6b79",
   "metadata": {},
   "outputs": [],
   "source": [
    "# n trees=10\n",
    "forest1 = RandomForestClassifier(n_estimators=10)"
   ]
  },
  {
   "cell_type": "code",
   "execution_count": 74,
   "id": "5042824c-d78e-4e9b-a674-7af8e142328e",
   "metadata": {},
   "outputs": [
    {
     "name": "stdout",
     "output_type": "stream",
     "text": [
      "K-fold cross-validation accuracy: 65.65%\n"
     ]
    }
   ],
   "source": [
    "# K-fold cross-validation with 𝐾=3\n",
    "from sklearn.model_selection import KFold\n",
    "kf=KFold(n_splits=3, random_state=None, shuffle=True)\n",
    "\n",
    "matrix_list=list()\n",
    "accuracies=[]\n",
    "kf_acc=[]\n",
    "kf_recall=[]\n",
    "kf_prec=[]\n",
    "\n",
    "for train_index, test_index in kf.split(x):\n",
    "    x_train, x_test = x[train_index], x[test_index]\n",
    "    y_train, y_test = y[train_index], y[test_index]\n",
    "    forest1.fit(x_train,y_train)\n",
    "    matrix_list.append(confusion_matrix(y_test, forest1.predict(x_test)))\n",
    "    kf_acc=accuracy_score(y_test,forest1.predict(x_test))\n",
    "    kf_recall=recall_score(y_test,forest1.predict(x_test),average='weighted')\n",
    "    kf_prec=precision_score(y_test,forest1.predict(x_test),average='weighted')\n",
    "    \n",
    "    accuracies=forest1.score(x_test,y_test)\n",
    "\n",
    "acc_avg=np.mean(accuracies)\n",
    "print(\"K-fold cross-validation accuracy: {}%\".format(round(acc_avg*100,2)))\n",
    "\n",
    "matrix_list=np.average(np.array(matrix_list),axis=0)"
   ]
  },
  {
   "cell_type": "code",
   "execution_count": 75,
   "id": "30b95945-bdbe-4ff9-813a-3129a06dcd82",
   "metadata": {},
   "outputs": [
    {
     "data": {
      "image/png": "[encoded data removed]",
      "text/plain": [
       "<Figure size 360x360 with 2 Axes>"
      ]
     },
     "metadata": {
      "needs_background": "light"
     },
     "output_type": "display_data"
    }
   ],
   "source": [
    "from sklearn import metrics\n",
    "f, ax = plt.subplots(figsize =(5,5))\n",
    "sns.heatmap(matrix_list,annot = True,linewidths=0.5,linecolor=\"red\",fmt = \".0f\",ax=ax)\n",
    "plt.xlabel(\"y_pred\")\n",
    "plt.ylabel(\"y_true\")\n",
    "plt.title(\"Random Forest(n=10) K-fold Confusion Matrix\")\n",
    "plt.show()"
   ]
  },
  {
   "cell_type": "code",
   "execution_count": 76,
   "id": "52722653-d4c8-4537-aef2-073f46cc5741",
   "metadata": {},
   "outputs": [
    {
     "name": "stdout",
     "output_type": "stream",
     "text": [
      "+---------------------------------+----------+---------+-----------+\n",
      "|     [5-level] Random Forest     | Accuracy |  Recall | Precision |\n",
      "+---------------------------------+----------+---------+-----------+\n",
      "| Random Forest(n=10) without PCA | 65.6489  | 65.6489 |  65.3066  |\n",
      "+---------------------------------+----------+---------+-----------+\n"
     ]
    }
   ],
   "source": [
    "acc=round(np.mean(kf_acc)*100,4)\n",
    "recall=round(np.mean(kf_recall)*100,4)\n",
    "prec=round(np.mean(kf_prec)*100,4)\n",
    "\n",
    "table2.add_row([\"Random Forest(n=10) without PCA\",acc,recall,prec])\n",
    "print(table2)"
   ]
  },
  {
   "cell_type": "markdown",
   "id": "e82edb94-c9bb-4e08-baca-ba048a62ae39",
   "metadata": {},
   "source": [
    "* numbers of trees=20"
   ]
  },
  {
   "cell_type": "code",
   "execution_count": 77,
   "id": "f493b512-ff30-4ef0-aa78-481b3b05b8a5",
   "metadata": {},
   "outputs": [],
   "source": [
    "# n trees=20\n",
    "forest2 = RandomForestClassifier(n_estimators=20)"
   ]
  },
  {
   "cell_type": "code",
   "execution_count": 78,
   "id": "d86241c4-6265-4f9b-8f23-8e22876d144e",
   "metadata": {},
   "outputs": [
    {
     "name": "stdout",
     "output_type": "stream",
     "text": [
      "K-fold cross-validation accuracy: 62.6%\n"
     ]
    },
    {
     "name": "stderr",
     "output_type": "stream",
     "text": [
      "C:\\Users\\Suyin\\anaconda3\\lib\\site-packages\\sklearn\\metrics\\_classification.py:1245: UndefinedMetricWarning: Precision is ill-defined and being set to 0.0 in labels with no predicted samples. Use `zero_division` parameter to control this behavior.\n",
      "  _warn_prf(average, modifier, msg_start, len(result))\n"
     ]
    }
   ],
   "source": [
    "# K-fold cross-validation with 𝐾=3\n",
    "from sklearn.model_selection import KFold\n",
    "kf=KFold(n_splits=3, random_state=None, shuffle=True)\n",
    "\n",
    "matrix_list=list()\n",
    "accuracies=[]\n",
    "kf_acc=[]\n",
    "kf_recall=[]\n",
    "kf_prec=[]\n",
    "\n",
    "for train_index, test_index in kf.split(x):\n",
    "    x_train, x_test = x[train_index], x[test_index]\n",
    "    y_train, y_test = y[train_index], y[test_index]\n",
    "    forest2.fit(x_train,y_train)\n",
    "    matrix_list.append(confusion_matrix(y_test, forest2.predict(x_test)))\n",
    "    kf_acc=accuracy_score(y_test,forest2.predict(x_test))\n",
    "    kf_recall=recall_score(y_test,forest2.predict(x_test),average='weighted')\n",
    "    kf_prec=precision_score(y_test,forest2.predict(x_test),average='weighted')\n",
    "    \n",
    "    accuracies=forest2.score(x_test,y_test)\n",
    "\n",
    "acc_avg=np.mean(accuracies)\n",
    "print(\"K-fold cross-validation accuracy: {}%\".format(round(acc_avg*100,2)))\n",
    "\n",
    "matrix_list=np.average(np.array(matrix_list),axis=0)"
   ]
  },
  {
   "cell_type": "code",
   "execution_count": 79,
   "id": "c83f6d1d-3c73-4863-a57e-f117d44332f7",
   "metadata": {},
   "outputs": [
    {
     "data": {
      "image/png": "[encoded data removed]",
      "text/plain": [
       "<Figure size 360x360 with 2 Axes>"
      ]
     },
     "metadata": {
      "needs_background": "light"
     },
     "output_type": "display_data"
    }
   ],
   "source": [
    "from sklearn import metrics\n",
    "f, ax = plt.subplots(figsize =(5,5))\n",
    "sns.heatmap(matrix_list,annot = True,linewidths=0.5,linecolor=\"red\",fmt = \".0f\",ax=ax)\n",
    "plt.xlabel(\"y_pred\")\n",
    "plt.ylabel(\"y_true\")\n",
    "plt.title(\"Random Forest(n=20) K-fold Confusion Matrix\")\n",
    "plt.show()"
   ]
  },
  {
   "cell_type": "code",
   "execution_count": 80,
   "id": "e476f530-79aa-4933-b865-f40ae11bfbae",
   "metadata": {},
   "outputs": [
    {
     "name": "stdout",
     "output_type": "stream",
     "text": [
      "+---------------------------------+----------+---------+-----------+\n",
      "|     [5-level] Random Forest     | Accuracy |  Recall | Precision |\n",
      "+---------------------------------+----------+---------+-----------+\n",
      "| Random Forest(n=10) without PCA | 65.6489  | 65.6489 |  65.3066  |\n",
      "| Random Forest(n=20) without PCA | 62.5954  | 62.5954 |  62.0153  |\n",
      "+---------------------------------+----------+---------+-----------+\n"
     ]
    }
   ],
   "source": [
    "acc=round(np.mean(kf_acc)*100,4)\n",
    "recall=round(np.mean(kf_recall)*100,4)\n",
    "prec=round(np.mean(kf_prec)*100,4)\n",
    "\n",
    "table2.add_row([\"Random Forest(n=20) without PCA\",acc,recall,prec])\n",
    "print(table2)"
   ]
  },
  {
   "cell_type": "markdown",
   "id": "f28e6a06-71aa-48c9-93d4-0511a6fbb0ab",
   "metadata": {},
   "source": [
    "* numbers of trees=30"
   ]
  },
  {
   "cell_type": "code",
   "execution_count": 81,
   "id": "12bb0bcf-5995-4cb2-81db-6ebfb08c102c",
   "metadata": {},
   "outputs": [],
   "source": [
    "# n trees=30\n",
    "forest3 = RandomForestClassifier(n_estimators=30)"
   ]
  },
  {
   "cell_type": "code",
   "execution_count": 82,
   "id": "9a498fc5-f286-4ca1-8584-0187b6a0466f",
   "metadata": {},
   "outputs": [
    {
     "name": "stdout",
     "output_type": "stream",
     "text": [
      "K-fold cross-validation accuracy: 57.25%\n"
     ]
    },
    {
     "name": "stderr",
     "output_type": "stream",
     "text": [
      "C:\\Users\\Suyin\\anaconda3\\lib\\site-packages\\sklearn\\metrics\\_classification.py:1245: UndefinedMetricWarning: Precision is ill-defined and being set to 0.0 in labels with no predicted samples. Use `zero_division` parameter to control this behavior.\n",
      "  _warn_prf(average, modifier, msg_start, len(result))\n"
     ]
    }
   ],
   "source": [
    "# K-fold cross-validation with 𝐾=3\n",
    "from sklearn.model_selection import KFold\n",
    "kf=KFold(n_splits=3, random_state=None, shuffle=True)\n",
    "\n",
    "matrix_list=list()\n",
    "accuracies=[]\n",
    "kf_acc=[]\n",
    "kf_recall=[]\n",
    "kf_prec=[]\n",
    "\n",
    "for train_index, test_index in kf.split(x):\n",
    "    x_train, x_test = x[train_index], x[test_index]\n",
    "    y_train, y_test = y[train_index], y[test_index]\n",
    "    forest3.fit(x_train,y_train)\n",
    "    matrix_list.append(confusion_matrix(y_test, forest3.predict(x_test)))\n",
    "    kf_acc=accuracy_score(y_test,forest3.predict(x_test))\n",
    "    kf_recall=recall_score(y_test,forest3.predict(x_test),average='weighted')\n",
    "    kf_prec=precision_score(y_test,forest3.predict(x_test),average='weighted')\n",
    "    \n",
    "    accuracies=forest3.score(x_test,y_test)\n",
    "\n",
    "acc_avg=np.mean(accuracies)\n",
    "print(\"K-fold cross-validation accuracy: {}%\".format(round(acc_avg*100,2)))\n",
    "\n",
    "matrix_list=np.average(np.array(matrix_list),axis=0)"
   ]
  },
  {
   "cell_type": "code",
   "execution_count": 83,
   "id": "e03aa269-27a9-4adf-a35e-4991380cf18b",
   "metadata": {},
   "outputs": [
    {
     "data": {
      "image/png": "[encoded data removed]",
      "text/plain": [
       "<Figure size 360x360 with 2 Axes>"
      ]
     },
     "metadata": {
      "needs_background": "light"
     },
     "output_type": "display_data"
    }
   ],
   "source": [
    "from sklearn import metrics\n",
    "f, ax = plt.subplots(figsize =(5,5))\n",
    "sns.heatmap(matrix_list,annot = True,linewidths=0.5,linecolor=\"red\",fmt = \".0f\",ax=ax)\n",
    "plt.xlabel(\"y_pred\")\n",
    "plt.ylabel(\"y_true\")\n",
    "plt.title(\"Random Forest(n=20) K-fold Confusion Matrix\")\n",
    "plt.show()"
   ]
  },
  {
   "cell_type": "code",
   "execution_count": 84,
   "id": "79efcf02-0ca5-4eb7-8324-e6da53b0d503",
   "metadata": {},
   "outputs": [
    {
     "name": "stdout",
     "output_type": "stream",
     "text": [
      "+---------------------------------+----------+---------+-----------+\n",
      "|     [5-level] Random Forest     | Accuracy |  Recall | Precision |\n",
      "+---------------------------------+----------+---------+-----------+\n",
      "| Random Forest(n=10) without PCA | 65.6489  | 65.6489 |  65.3066  |\n",
      "| Random Forest(n=20) without PCA | 62.5954  | 62.5954 |  62.0153  |\n",
      "| Random Forest(n=30) without PCA | 57.2519  | 57.2519 |  57.3426  |\n",
      "+---------------------------------+----------+---------+-----------+\n"
     ]
    }
   ],
   "source": [
    "acc=round(np.mean(kf_acc)*100,4)\n",
    "recall=round(np.mean(kf_recall)*100,4)\n",
    "prec=round(np.mean(kf_prec)*100,4)\n",
    "\n",
    "table2.add_row([\"Random Forest(n=30) without PCA\",acc,recall,prec])\n",
    "print(table2)"
   ]
  },
  {
   "cell_type": "markdown",
   "id": "deab7983-cee0-4cb1-a415-435400ac8119",
   "metadata": {},
   "source": [
    "### KNN Classifier\n",
    "* neighbors=3"
   ]
  },
  {
   "cell_type": "code",
   "execution_count": 85,
   "id": "dcec5375-bd13-49f6-81c1-bd35b882ed17",
   "metadata": {},
   "outputs": [],
   "source": [
    "knn = KNeighborsClassifier(n_neighbors=3)"
   ]
  },
  {
   "cell_type": "code",
   "execution_count": 86,
   "id": "ee799d17-8fc0-4b24-98e4-f03b585e0f0f",
   "metadata": {},
   "outputs": [
    {
     "name": "stdout",
     "output_type": "stream",
     "text": [
      "K-fold cross-validation accuracy: 57.25%\n"
     ]
    }
   ],
   "source": [
    "# K-fold cross-validation with 𝐾=3\n",
    "from sklearn.model_selection import KFold\n",
    "kf=KFold(n_splits=3, random_state=None, shuffle=True)\n",
    "\n",
    "matrix_list=list()\n",
    "accuracies=[]\n",
    "kf_acc=[]\n",
    "kf_recall=[]\n",
    "kf_prec=[]\n",
    "\n",
    "for train_index, test_index in kf.split(x):\n",
    "    x_train, x_test = x[train_index], x[test_index]\n",
    "    y_train, y_test = y[train_index], y[test_index]\n",
    "    knn.fit(x_train,y_train)\n",
    "    matrix_list.append(confusion_matrix(y_test, knn.predict(x_test)))\n",
    "    kf_acc=accuracy_score(y_test,knn.predict(x_test))\n",
    "    kf_recall=recall_score(y_test,knn.predict(x_test),average='weighted')\n",
    "    kf_prec=precision_score(y_test,knn.predict(x_test),average='weighted')\n",
    "    \n",
    "    accuracies=knn.score(x_test,y_test)\n",
    "\n",
    "acc_avg=np.mean(accuracies)\n",
    "print(\"K-fold cross-validation accuracy: {}%\".format(round(acc_avg*100,2)))\n",
    "\n",
    "matrix_list=np.average(np.array(matrix_list),axis=0)"
   ]
  },
  {
   "cell_type": "code",
   "execution_count": 87,
   "id": "ee3f5425-4aab-4daa-a4c0-9f7e975e055d",
   "metadata": {},
   "outputs": [
    {
     "data": {
      "image/png": "[encoded data removed]",
      "text/plain": [
       "<Figure size 360x360 with 2 Axes>"
      ]
     },
     "metadata": {
      "needs_background": "light"
     },
     "output_type": "display_data"
    }
   ],
   "source": [
    "from sklearn import metrics\n",
    "f, ax = plt.subplots(figsize =(5,5))\n",
    "sns.heatmap(matrix_list,annot = True,linewidths=0.5,linecolor=\"red\",fmt = \".0f\",ax=ax)\n",
    "plt.xlabel(\"y_pred\")\n",
    "plt.ylabel(\"y_true\")\n",
    "plt.title(\"KNN Classifier K-fold Confusion Matrix\")\n",
    "plt.show()"
   ]
  },
  {
   "cell_type": "code",
   "execution_count": 88,
   "id": "1b8cc493-7646-413d-9917-d380fb43ea02",
   "metadata": {},
   "outputs": [
    {
     "name": "stdout",
     "output_type": "stream",
     "text": [
      "+---------------------------------+----------+---------+-----------+\n",
      "|    [5-level] KNN Classifier     | Accuracy |  Recall | Precision |\n",
      "+---------------------------------+----------+---------+-----------+\n",
      "| KNN Classifier(n=3) without PCA | 57.2519  | 57.2519 |  58.9757  |\n",
      "+---------------------------------+----------+---------+-----------+\n"
     ]
    }
   ],
   "source": [
    "acc=round(np.mean(kf_acc)*100,4)\n",
    "recall=round(np.mean(kf_recall)*100,4)\n",
    "prec=round(np.mean(kf_prec)*100,4)\n",
    "\n",
    "table3.add_row([\"KNN Classifier(n=3) without PCA\",acc,recall,prec])\n",
    "print(table3)"
   ]
  },
  {
   "cell_type": "markdown",
   "id": "d4fd75ef-8244-4e0e-b786-0e5aa4369bbf",
   "metadata": {},
   "source": [
    "* neighbors=5"
   ]
  },
  {
   "cell_type": "code",
   "execution_count": 89,
   "id": "306b1109-719d-4de9-a6cf-66e32a9d12be",
   "metadata": {},
   "outputs": [],
   "source": [
    "knn = KNeighborsClassifier(n_neighbors=5)"
   ]
  },
  {
   "cell_type": "code",
   "execution_count": 90,
   "id": "4f5beed3-bdbc-47cf-8859-9d389b535ab5",
   "metadata": {},
   "outputs": [
    {
     "name": "stdout",
     "output_type": "stream",
     "text": [
      "K-fold cross-validation accuracy: 62.6%\n"
     ]
    },
    {
     "name": "stderr",
     "output_type": "stream",
     "text": [
      "C:\\Users\\Suyin\\anaconda3\\lib\\site-packages\\sklearn\\metrics\\_classification.py:1245: UndefinedMetricWarning: Precision is ill-defined and being set to 0.0 in labels with no predicted samples. Use `zero_division` parameter to control this behavior.\n",
      "  _warn_prf(average, modifier, msg_start, len(result))\n"
     ]
    }
   ],
   "source": [
    "# K-fold cross-validation with 𝐾=3\n",
    "from sklearn.model_selection import KFold\n",
    "kf=KFold(n_splits=3, random_state=None, shuffle=True)\n",
    "\n",
    "matrix_list=list()\n",
    "accuracies=[]\n",
    "kf_acc=[]\n",
    "kf_recall=[]\n",
    "kf_prec=[]\n",
    "\n",
    "for train_index, test_index in kf.split(x):\n",
    "    x_train, x_test = x[train_index], x[test_index]\n",
    "    y_train, y_test = y[train_index], y[test_index]\n",
    "    knn.fit(x_train,y_train)\n",
    "    matrix_list.append(confusion_matrix(y_test, knn.predict(x_test)))\n",
    "    kf_acc=accuracy_score(y_test,knn.predict(x_test))\n",
    "    kf_recall=recall_score(y_test,knn.predict(x_test),average='weighted')\n",
    "    kf_prec=precision_score(y_test,knn.predict(x_test),average='weighted')\n",
    "    \n",
    "    accuracies=knn.score(x_test,y_test)\n",
    "\n",
    "acc_avg=np.mean(accuracies)\n",
    "print(\"K-fold cross-validation accuracy: {}%\".format(round(acc_avg*100,2)))\n",
    "\n",
    "matrix_list=np.average(np.array(matrix_list),axis=0)"
   ]
  },
  {
   "cell_type": "code",
   "execution_count": 91,
   "id": "780c9508-0a3c-47be-84c1-cf19e0b97a1a",
   "metadata": {},
   "outputs": [
    {
     "data": {
      "image/png": "[encoded data removed]",
      "text/plain": [
       "<Figure size 360x360 with 2 Axes>"
      ]
     },
     "metadata": {
      "needs_background": "light"
     },
     "output_type": "display_data"
    }
   ],
   "source": [
    "from sklearn import metrics\n",
    "f, ax = plt.subplots(figsize =(5,5))\n",
    "sns.heatmap(matrix_list,annot = True,linewidths=0.5,linecolor=\"red\",fmt = \".0f\",ax=ax)\n",
    "plt.xlabel(\"y_pred\")\n",
    "plt.ylabel(\"y_true\")\n",
    "plt.title(\"KNN Classifier(n=5) K-fold Confusion Matrix\")\n",
    "plt.show()"
   ]
  },
  {
   "cell_type": "code",
   "execution_count": 92,
   "id": "73af6fee-f0d9-455e-a2c5-61dacb7fc7e2",
   "metadata": {},
   "outputs": [
    {
     "name": "stdout",
     "output_type": "stream",
     "text": [
      "+---------------------------------+----------+---------+-----------+\n",
      "|    [5-level] KNN Classifier     | Accuracy |  Recall | Precision |\n",
      "+---------------------------------+----------+---------+-----------+\n",
      "| KNN Classifier(n=3) without PCA | 57.2519  | 57.2519 |  58.9757  |\n",
      "| KNN Classifier(n=5) without PCA | 62.5954  | 62.5954 |  60.1562  |\n",
      "+---------------------------------+----------+---------+-----------+\n"
     ]
    }
   ],
   "source": [
    "acc=round(np.mean(kf_acc)*100,4)\n",
    "recall=round(np.mean(kf_recall)*100,4)\n",
    "prec=round(np.mean(kf_prec)*100,4)\n",
    "\n",
    "table3.add_row([\"KNN Classifier(n=5) without PCA\",acc,recall,prec])\n",
    "print(table3)"
   ]
  },
  {
   "cell_type": "markdown",
   "id": "d6b2c5ea-dfa9-4888-8925-691d4789f5fa",
   "metadata": {},
   "source": [
    "* neighbors=10"
   ]
  },
  {
   "cell_type": "code",
   "execution_count": 93,
   "id": "d68ab981-11e3-4f86-af6f-528cd6672166",
   "metadata": {},
   "outputs": [],
   "source": [
    "knn = KNeighborsClassifier(n_neighbors=10)"
   ]
  },
  {
   "cell_type": "code",
   "execution_count": 94,
   "id": "835727b2-ca4a-4c00-85f8-a4c017226221",
   "metadata": {},
   "outputs": [
    {
     "name": "stdout",
     "output_type": "stream",
     "text": [
      "K-fold cross-validation accuracy: 67.18%\n"
     ]
    },
    {
     "name": "stderr",
     "output_type": "stream",
     "text": [
      "C:\\Users\\Suyin\\anaconda3\\lib\\site-packages\\sklearn\\metrics\\_classification.py:1245: UndefinedMetricWarning: Precision is ill-defined and being set to 0.0 in labels with no predicted samples. Use `zero_division` parameter to control this behavior.\n",
      "  _warn_prf(average, modifier, msg_start, len(result))\n"
     ]
    }
   ],
   "source": [
    "# K-fold cross-validation with 𝐾=3\n",
    "from sklearn.model_selection import KFold\n",
    "kf=KFold(n_splits=3, random_state=None, shuffle=True)\n",
    "\n",
    "matrix_list=list()\n",
    "accuracies=[]\n",
    "kf_acc=[]\n",
    "kf_recall=[]\n",
    "kf_prec=[]\n",
    "\n",
    "for train_index, test_index in kf.split(x):\n",
    "    x_train, x_test = x[train_index], x[test_index]\n",
    "    y_train, y_test = y[train_index], y[test_index]\n",
    "    knn.fit(x_train,y_train)\n",
    "    matrix_list.append(confusion_matrix(y_test, knn.predict(x_test)))\n",
    "    kf_acc=accuracy_score(y_test,knn.predict(x_test))\n",
    "    kf_recall=recall_score(y_test,knn.predict(x_test),average='weighted')\n",
    "    kf_prec=precision_score(y_test,knn.predict(x_test),average='weighted')\n",
    "    \n",
    "    accuracies=knn.score(x_test,y_test)\n",
    "\n",
    "acc_avg=np.mean(accuracies)\n",
    "print(\"K-fold cross-validation accuracy: {}%\".format(round(acc_avg*100,2)))\n",
    "\n",
    "matrix_list=np.average(np.array(matrix_list),axis=0)"
   ]
  },
  {
   "cell_type": "code",
   "execution_count": 95,
   "id": "662efd72-29c3-4769-a634-cce3ea50ddc7",
   "metadata": {},
   "outputs": [
    {
     "data": {
      "image/png": "[encoded data removed]",
      "text/plain": [
       "<Figure size 360x360 with 2 Axes>"
      ]
     },
     "metadata": {
      "needs_background": "light"
     },
     "output_type": "display_data"
    }
   ],
   "source": [
    "from sklearn import metrics\n",
    "f, ax = plt.subplots(figsize =(5,5))\n",
    "sns.heatmap(matrix_list,annot = True,linewidths=0.5,linecolor=\"red\",fmt = \".0f\",ax=ax)\n",
    "plt.xlabel(\"y_pred\")\n",
    "plt.ylabel(\"y_true\")\n",
    "plt.title(\"KNN Classifier(n=10) K-fold Confusion Matrix\")\n",
    "plt.show()"
   ]
  },
  {
   "cell_type": "code",
   "execution_count": 96,
   "id": "2c6cdf83-0c7e-491b-96f9-eeedb07426dd",
   "metadata": {},
   "outputs": [
    {
     "name": "stdout",
     "output_type": "stream",
     "text": [
      "+----------------------------------+----------+---------+-----------+\n",
      "|    [5-level] KNN Classifier      | Accuracy |  Recall | Precision |\n",
      "+----------------------------------+----------+---------+-----------+\n",
      "| KNN Classifier(n=3) without PCA  | 57.2519  | 57.2519 |  58.9757  |\n",
      "| KNN Classifier(n=5) without PCA  | 62.5954  | 62.5954 |  60.1562  |\n",
      "| KNN Classifier(n=10) without PCA | 67.1756  | 67.1756 |  69.1306  |\n",
      "+----------------------------------+----------+---------+-----------+\n"
     ]
    }
   ],
   "source": [
    "acc=round(np.mean(kf_acc)*100,4)\n",
    "recall=round(np.mean(kf_recall)*100,4)\n",
    "prec=round(np.mean(kf_prec)*100,4)\n",
    "\n",
    "table3.add_row([\"KNN Classifier(n=10) without PCA\",acc,recall,prec])\n",
    "print(table3)"
   ]
  },
  {
   "cell_type": "markdown",
   "id": "706fe90e-a9ec-4d18-8609-31b8b41d4d24",
   "metadata": {},
   "source": [
    "## With PCA"
   ]
  },
  {
   "cell_type": "markdown",
   "id": "0628d6a9-6507-487a-9780-fc1388e32e64",
   "metadata": {},
   "source": [
    "## Principal components analysis (PCA)\n",
    "* Compare the results between using the original data and the dimension-reduced one."
   ]
  },
  {
   "cell_type": "markdown",
   "id": "8738f0b5-f693-4e4b-9a40-394c965f17d1",
   "metadata": {},
   "source": [
    "### Decision Tree"
   ]
  },
  {
   "cell_type": "code",
   "execution_count": 97,
   "id": "e503c220-9a9a-4b6a-a098-68e73146529a",
   "metadata": {},
   "outputs": [],
   "source": [
    "tree = DecisionTreeClassifier()"
   ]
  },
  {
   "cell_type": "code",
   "execution_count": 99,
   "id": "35bbbb49-180b-4617-9ba7-033d587b3692",
   "metadata": {},
   "outputs": [
    {
     "name": "stdout",
     "output_type": "stream",
     "text": [
      "K-fold cross-validation accuracy: 57.25%\n"
     ]
    }
   ],
   "source": [
    "# K-fold cross-validation with 𝐾=3\n",
    "from sklearn.model_selection import KFold\n",
    "kf=KFold(n_splits=3, random_state=None, shuffle=True)\n",
    "\n",
    "matrix_list=list()\n",
    "accuracies=[]\n",
    "kf_acc=[]\n",
    "kf_recall=[]\n",
    "kf_prec=[]\n",
    "\n",
    "for train_index, test_index in kf.split(x):\n",
    "    x_train, x_test = x[train_index], x[test_index]\n",
    "    y_train, y_test = y[train_index], y[test_index]\n",
    "    pca = PCA(n_components='mle')\n",
    "    pca.fit(x_train)\n",
    "    x_train=pca.transform(x_train)\n",
    "    x_test=pca.transform(x_test)\n",
    "    tree.fit(x_train,y_train)\n",
    "    matrix_list.append(confusion_matrix(y_test, tree.predict(x_test)))\n",
    "    kf_acc=accuracy_score(y_test,tree.predict(x_test))\n",
    "    kf_recall=recall_score(y_test,tree.predict(x_test),average='weighted')\n",
    "    kf_prec=precision_score(y_test,tree.predict(x_test),average='weighted')\n",
    "    \n",
    "    accuracies=tree.score(x_test,y_test)\n",
    "\n",
    "acc_avg=np.mean(accuracies)\n",
    "print(\"K-fold cross-validation accuracy: {}%\".format(round(acc_avg*100,2)))\n",
    "\n",
    "matrix_list=np.average(np.array(matrix_list),axis=0)"
   ]
  },
  {
   "cell_type": "code",
   "execution_count": 100,
   "id": "459f63cc-c950-43e4-b6b7-43fc94c482e2",
   "metadata": {},
   "outputs": [
    {
     "data": {
      "image/png": "[encoded data removed]",
      "text/plain": [
       "<Figure size 360x360 with 2 Axes>"
      ]
     },
     "metadata": {
      "needs_background": "light"
     },
     "output_type": "display_data"
    }
   ],
   "source": [
    "from sklearn import metrics\n",
    "f, ax = plt.subplots(figsize =(5,5))\n",
    "sns.heatmap(matrix_list,annot = True,linewidths=0.5,linecolor=\"red\",fmt = \".0f\",ax=ax)\n",
    "plt.xlabel(\"y_pred\")\n",
    "plt.ylabel(\"y_true\")\n",
    "plt.title(\"Decision Tree K-fold Confusion Matrix\")\n",
    "plt.show()"
   ]
  },
  {
   "cell_type": "code",
   "execution_count": 101,
   "id": "305caec4-ab72-4737-be7c-bafff5d41af4",
   "metadata": {},
   "outputs": [
    {
     "name": "stdout",
     "output_type": "stream",
     "text": [
      "+---------------------------+----------+---------+-----------+\n",
      "|  [5-level] Decision Tree  | Accuracy |  Recall | Precision |\n",
      "+---------------------------+----------+---------+-----------+\n",
      "| Decision Tree without PCA | 65.6489  | 65.6489 |  67.3165  |\n",
      "|   Decision Tree with PCA  | 57.2519  | 57.2519 |  59.8556  |\n",
      "+---------------------------+----------+---------+-----------+\n"
     ]
    }
   ],
   "source": [
    "acc=round(np.mean(kf_acc)*100,4)\n",
    "recall=round(np.mean(kf_recall)*100,4)\n",
    "prec=round(np.mean(kf_prec)*100,4)\n",
    "\n",
    "table1.add_row([\"Decision Tree with PCA\",acc,recall,prec])\n",
    "print(table1)"
   ]
  },
  {
   "cell_type": "markdown",
   "id": "3b6e2837-a3fc-4742-8aa4-3565c8d171c7",
   "metadata": {},
   "source": [
    "### Random Forest\n",
    "* numbers of trees=10"
   ]
  },
  {
   "cell_type": "code",
   "execution_count": 102,
   "id": "7ec255d2-4610-4ea6-a691-6fae22f581eb",
   "metadata": {},
   "outputs": [],
   "source": [
    "# n trees=10\n",
    "forest1 = RandomForestClassifier(n_estimators=10)"
   ]
  },
  {
   "cell_type": "code",
   "execution_count": 103,
   "id": "dfa525e6-451e-4607-a7c7-d5b8625e277e",
   "metadata": {},
   "outputs": [
    {
     "name": "stdout",
     "output_type": "stream",
     "text": [
      "K-fold cross-validation accuracy: 48.85%\n"
     ]
    }
   ],
   "source": [
    "# K-fold cross-validation with 𝐾=3\n",
    "from sklearn.model_selection import KFold\n",
    "kf=KFold(n_splits=3, random_state=None, shuffle=True)\n",
    "\n",
    "matrix_list=list()\n",
    "accuracies=[]\n",
    "kf_acc=[]\n",
    "kf_recall=[]\n",
    "kf_prec=[]\n",
    "\n",
    "for train_index, test_index in kf.split(x):\n",
    "    x_train, x_test = x[train_index], x[test_index]\n",
    "    y_train, y_test = y[train_index], y[test_index]\n",
    "    pca = PCA(n_components='mle')\n",
    "    pca.fit(x_train)\n",
    "    x_train=pca.transform(x_train)\n",
    "    x_test=pca.transform(x_test)\n",
    "    forest1.fit(x_train,y_train)\n",
    "    matrix_list.append(confusion_matrix(y_test, forest1.predict(x_test)))\n",
    "    kf_acc=accuracy_score(y_test,forest1.predict(x_test))\n",
    "    kf_recall=recall_score(y_test,forest1.predict(x_test),average='weighted')\n",
    "    kf_prec=precision_score(y_test,forest1.predict(x_test),average='weighted')\n",
    "    \n",
    "    accuracies=forest1.score(x_test,y_test)\n",
    "\n",
    "acc_avg=np.mean(accuracies)\n",
    "print(\"K-fold cross-validation accuracy: {}%\".format(round(acc_avg*100,2)))\n",
    "\n",
    "matrix_list=np.average(np.array(matrix_list),axis=0)"
   ]
  },
  {
   "cell_type": "code",
   "execution_count": 104,
   "id": "ab550903-3100-4293-9155-826afb5a432c",
   "metadata": {},
   "outputs": [
    {
     "data": {
      "image/png": "[encoded data removed]",
      "text/plain": [
       "<Figure size 360x360 with 2 Axes>"
      ]
     },
     "metadata": {
      "needs_background": "light"
     },
     "output_type": "display_data"
    }
   ],
   "source": [
    "from sklearn import metrics\n",
    "f, ax = plt.subplots(figsize =(5,5))\n",
    "sns.heatmap(matrix_list,annot = True,linewidths=0.5,linecolor=\"red\",fmt = \".0f\",ax=ax)\n",
    "plt.xlabel(\"y_pred\")\n",
    "plt.ylabel(\"y_true\")\n",
    "plt.title(\"Random Forest(n=10) K-fold Confusion Matrix\")\n",
    "plt.show()"
   ]
  },
  {
   "cell_type": "code",
   "execution_count": 105,
   "id": "21a3d673-eb39-4f7f-bf97-673eec937de3",
   "metadata": {},
   "outputs": [
    {
     "name": "stdout",
     "output_type": "stream",
     "text": [
      "+---------------------------------+----------+---------+-----------+\n",
      "|     [5-level] Random Forest     | Accuracy |  Recall | Precision |\n",
      "+---------------------------------+----------+---------+-----------+\n",
      "| Random Forest(n=10) without PCA | 65.6489  | 65.6489 |  65.3066  |\n",
      "| Random Forest(n=20) without PCA | 62.5954  | 62.5954 |  62.0153  |\n",
      "| Random Forest(n=30) without PCA | 57.2519  | 57.2519 |  57.3426  |\n",
      "|   Random Forest(n=10) with PCA  |  48.855  |  48.855 |  46.8888  |\n",
      "+---------------------------------+----------+---------+-----------+\n"
     ]
    }
   ],
   "source": [
    "acc=round(np.mean(kf_acc)*100,4)\n",
    "recall=round(np.mean(kf_recall)*100,4)\n",
    "prec=round(np.mean(kf_prec)*100,4)\n",
    "\n",
    "table2.add_row([\"Random Forest(n=10) with PCA\",acc,recall,prec])\n",
    "print(table2)"
   ]
  },
  {
   "cell_type": "markdown",
   "id": "865a2576-6590-4214-ba59-f25a362d9c53",
   "metadata": {},
   "source": [
    "* numbers of trees=20"
   ]
  },
  {
   "cell_type": "code",
   "execution_count": 106,
   "id": "826f404b-df12-47a5-adf8-3482840e3b4b",
   "metadata": {},
   "outputs": [],
   "source": [
    "# n trees=20\n",
    "forest2 = RandomForestClassifier(n_estimators=20)"
   ]
  },
  {
   "cell_type": "code",
   "execution_count": 107,
   "id": "bca61101-28c6-4cf6-99d2-0d6b8792f0f2",
   "metadata": {},
   "outputs": [
    {
     "name": "stdout",
     "output_type": "stream",
     "text": [
      "K-fold cross-validation accuracy: 50.38%\n"
     ]
    }
   ],
   "source": [
    "# K-fold cross-validation with 𝐾=3\n",
    "from sklearn.model_selection import KFold\n",
    "kf=KFold(n_splits=3, random_state=None, shuffle=True)\n",
    "\n",
    "matrix_list=list()\n",
    "accuracies=[]\n",
    "kf_acc=[]\n",
    "kf_recall=[]\n",
    "kf_prec=[]\n",
    "\n",
    "for train_index, test_index in kf.split(x):\n",
    "    x_train, x_test = x[train_index], x[test_index]\n",
    "    y_train, y_test = y[train_index], y[test_index]\n",
    "    pca = PCA(n_components='mle')\n",
    "    pca.fit(x_train)\n",
    "    x_train=pca.transform(x_train)\n",
    "    x_test=pca.transform(x_test)\n",
    "    forest2.fit(x_train,y_train)\n",
    "    matrix_list.append(confusion_matrix(y_test, forest2.predict(x_test)))\n",
    "    kf_acc=accuracy_score(y_test,forest2.predict(x_test))\n",
    "    kf_recall=recall_score(y_test,forest2.predict(x_test),average='weighted')\n",
    "    kf_prec=precision_score(y_test,forest2.predict(x_test),average='weighted')\n",
    "    \n",
    "    accuracies=forest2.score(x_test,y_test)\n",
    "\n",
    "acc_avg=np.mean(accuracies)\n",
    "print(\"K-fold cross-validation accuracy: {}%\".format(round(acc_avg*100,2)))\n",
    "\n",
    "matrix_list=np.average(np.array(matrix_list),axis=0)"
   ]
  },
  {
   "cell_type": "code",
   "execution_count": 108,
   "id": "60931a25-e5fb-4236-ac19-9c2bf5350fab",
   "metadata": {},
   "outputs": [
    {
     "data": {
      "image/png": "[encoded data removed]",
      "text/plain": [
       "<Figure size 360x360 with 2 Axes>"
      ]
     },
     "metadata": {
      "needs_background": "light"
     },
     "output_type": "display_data"
    }
   ],
   "source": [
    "from sklearn import metrics\n",
    "f, ax = plt.subplots(figsize =(5,5))\n",
    "sns.heatmap(matrix_list,annot = True,linewidths=0.5,linecolor=\"red\",fmt = \".0f\",ax=ax)\n",
    "plt.xlabel(\"y_pred\")\n",
    "plt.ylabel(\"y_true\")\n",
    "plt.title(\"Random Forest(n=20) K-fold Confusion Matrix\")\n",
    "plt.show()"
   ]
  },
  {
   "cell_type": "code",
   "execution_count": 109,
   "id": "1147b79b-f62b-48ad-814f-180e98728bb4",
   "metadata": {},
   "outputs": [
    {
     "name": "stdout",
     "output_type": "stream",
     "text": [
      "+---------------------------------+----------+---------+-----------+\n",
      "|     [5-level] Random Forest     | Accuracy |  Recall | Precision |\n",
      "+---------------------------------+----------+---------+-----------+\n",
      "| Random Forest(n=10) without PCA | 65.6489  | 65.6489 |  65.3066  |\n",
      "| Random Forest(n=20) without PCA | 62.5954  | 62.5954 |  62.0153  |\n",
      "| Random Forest(n=30) without PCA | 57.2519  | 57.2519 |  57.3426  |\n",
      "|   Random Forest(n=10) with PCA  |  48.855  |  48.855 |  46.8888  |\n",
      "|   Random Forest(n=20) with PCA  | 50.3817  | 50.3817 |  47.5212  |\n",
      "+---------------------------------+----------+---------+-----------+\n"
     ]
    }
   ],
   "source": [
    "acc=round(np.mean(kf_acc)*100,4)\n",
    "recall=round(np.mean(kf_recall)*100,4)\n",
    "prec=round(np.mean(kf_prec)*100,4)\n",
    "\n",
    "table2.add_row([\"Random Forest(n=20) with PCA\",acc,recall,prec])\n",
    "print(table2)"
   ]
  },
  {
   "cell_type": "markdown",
   "id": "98873440-61db-40cb-a770-6cae3b6f1323",
   "metadata": {},
   "source": [
    "* numbers of trees=30"
   ]
  },
  {
   "cell_type": "code",
   "execution_count": 110,
   "id": "d9b1cce3-6134-4bbf-bebb-28261871937e",
   "metadata": {},
   "outputs": [],
   "source": [
    "# n trees=30\n",
    "forest3 = RandomForestClassifier(n_estimators=30)"
   ]
  },
  {
   "cell_type": "code",
   "execution_count": 111,
   "id": "1cd6a7db-715e-4dab-a759-70907a3e959f",
   "metadata": {},
   "outputs": [
    {
     "name": "stdout",
     "output_type": "stream",
     "text": [
      "K-fold cross-validation accuracy: 54.2%\n"
     ]
    },
    {
     "name": "stderr",
     "output_type": "stream",
     "text": [
      "C:\\Users\\Suyin\\anaconda3\\lib\\site-packages\\sklearn\\metrics\\_classification.py:1245: UndefinedMetricWarning: Precision is ill-defined and being set to 0.0 in labels with no predicted samples. Use `zero_division` parameter to control this behavior.\n",
      "  _warn_prf(average, modifier, msg_start, len(result))\n"
     ]
    }
   ],
   "source": [
    "# K-fold cross-validation with 𝐾=3\n",
    "from sklearn.model_selection import KFold\n",
    "kf=KFold(n_splits=3, random_state=None, shuffle=True)\n",
    "\n",
    "matrix_list=list()\n",
    "accuracies=[]\n",
    "kf_acc=[]\n",
    "kf_recall=[]\n",
    "kf_prec=[]\n",
    "\n",
    "for train_index, test_index in kf.split(x):\n",
    "    x_train, x_test = x[train_index], x[test_index]\n",
    "    y_train, y_test = y[train_index], y[test_index]\n",
    "    pca = PCA(n_components='mle')\n",
    "    pca.fit(x_train)\n",
    "    x_train=pca.transform(x_train)\n",
    "    x_test=pca.transform(x_test)\n",
    "    forest3.fit(x_train,y_train)\n",
    "    matrix_list.append(confusion_matrix(y_test, forest3.predict(x_test)))\n",
    "    kf_acc=accuracy_score(y_test,forest3.predict(x_test))\n",
    "    kf_recall=recall_score(y_test,forest3.predict(x_test),average='weighted')\n",
    "    kf_prec=precision_score(y_test,forest3.predict(x_test),average='weighted')\n",
    "    \n",
    "    accuracies=forest3.score(x_test,y_test)\n",
    "\n",
    "acc_avg=np.mean(accuracies)\n",
    "print(\"K-fold cross-validation accuracy: {}%\".format(round(acc_avg*100,2)))\n",
    "\n",
    "matrix_list=np.average(np.array(matrix_list),axis=0)"
   ]
  },
  {
   "cell_type": "code",
   "execution_count": 112,
   "id": "a42b2d13-eb7f-4caa-a940-ec3c2e2820fd",
   "metadata": {},
   "outputs": [
    {
     "data": {
      "image/png": "[encoded data removed]",
      "text/plain": [
       "<Figure size 360x360 with 2 Axes>"
      ]
     },
     "metadata": {
      "needs_background": "light"
     },
     "output_type": "display_data"
    }
   ],
   "source": [
    "from sklearn import metrics\n",
    "f, ax = plt.subplots(figsize =(5,5))\n",
    "sns.heatmap(matrix_list,annot = True,linewidths=0.5,linecolor=\"red\",fmt = \".0f\",ax=ax)\n",
    "plt.xlabel(\"y_pred\")\n",
    "plt.ylabel(\"y_true\")\n",
    "plt.title(\"Random Forest(n=20) K-fold Confusion Matrix\")\n",
    "plt.show()"
   ]
  },
  {
   "cell_type": "code",
   "execution_count": 113,
   "id": "2f7a16af-8968-4aef-bfff-2c86b6da3c67",
   "metadata": {},
   "outputs": [
    {
     "name": "stdout",
     "output_type": "stream",
     "text": [
      "+---------------------------------+----------+---------+-----------+\n",
      "|     [5-level] Random Forest     | Accuracy |  Recall | Precision |\n",
      "+---------------------------------+----------+---------+-----------+\n",
      "| Random Forest(n=10) without PCA | 65.6489  | 65.6489 |  65.3066  |\n",
      "| Random Forest(n=20) without PCA | 62.5954  | 62.5954 |  62.0153  |\n",
      "| Random Forest(n=30) without PCA | 57.2519  | 57.2519 |  57.3426  |\n",
      "|   Random Forest(n=10) with PCA  |  48.855  |  48.855 |  46.8888  |\n",
      "|   Random Forest(n=20) with PCA  | 50.3817  | 50.3817 |  47.5212  |\n",
      "|   Random Forest(n=30) with PCA  | 54.1985  | 54.1985 |  51.8963  |\n",
      "+---------------------------------+----------+---------+-----------+\n"
     ]
    }
   ],
   "source": [
    "acc=round(np.mean(kf_acc)*100,4)\n",
    "recall=round(np.mean(kf_recall)*100,4)\n",
    "prec=round(np.mean(kf_prec)*100,4)\n",
    "\n",
    "table2.add_row([\"Random Forest(n=30) with PCA\",acc,recall,prec])\n",
    "print(table2)"
   ]
  },
  {
   "cell_type": "markdown",
   "id": "d7d17dce-c6d6-4cee-89bc-564054713992",
   "metadata": {},
   "source": [
    "### KNN Classifier\n",
    "* neighbors=3"
   ]
  },
  {
   "cell_type": "code",
   "execution_count": 114,
   "id": "2e309faa-646e-474f-a5f9-14809b576e58",
   "metadata": {},
   "outputs": [],
   "source": [
    "knn = KNeighborsClassifier(n_neighbors=3)"
   ]
  },
  {
   "cell_type": "code",
   "execution_count": 115,
   "id": "f014f78d-7490-47fc-81d2-7845d48ed828",
   "metadata": {},
   "outputs": [
    {
     "name": "stdout",
     "output_type": "stream",
     "text": [
      "K-fold cross-validation accuracy: 59.54%\n"
     ]
    }
   ],
   "source": [
    "# K-fold cross-validation with 𝐾=3\n",
    "from sklearn.model_selection import KFold\n",
    "kf=KFold(n_splits=3, random_state=None, shuffle=True)\n",
    "\n",
    "matrix_list=list()\n",
    "accuracies=[]\n",
    "kf_acc=[]\n",
    "kf_recall=[]\n",
    "kf_prec=[]\n",
    "\n",
    "for train_index, test_index in kf.split(x):\n",
    "    x_train, x_test = x[train_index], x[test_index]\n",
    "    y_train, y_test = y[train_index], y[test_index]\n",
    "    pca = PCA(n_components='mle')\n",
    "    pca.fit(x_train)\n",
    "    x_train=pca.transform(x_train)\n",
    "    x_test=pca.transform(x_test)\n",
    "    knn.fit(x_train,y_train)\n",
    "    matrix_list.append(confusion_matrix(y_test, knn.predict(x_test)))\n",
    "    kf_acc=accuracy_score(y_test,knn.predict(x_test))\n",
    "    kf_recall=recall_score(y_test,knn.predict(x_test),average='weighted')\n",
    "    kf_prec=precision_score(y_test,knn.predict(x_test),average='weighted')\n",
    "    \n",
    "    accuracies=knn.score(x_test,y_test)\n",
    "\n",
    "acc_avg=np.mean(accuracies)\n",
    "print(\"K-fold cross-validation accuracy: {}%\".format(round(acc_avg*100,2)))\n",
    "\n",
    "matrix_list=np.average(np.array(matrix_list),axis=0)"
   ]
  },
  {
   "cell_type": "code",
   "execution_count": 116,
   "id": "01c0bac5-e70b-4bc4-a83b-187065ad101a",
   "metadata": {},
   "outputs": [
    {
     "data": {
      "image/png": "[encoded data removed]",
      "text/plain": [
       "<Figure size 360x360 with 2 Axes>"
      ]
     },
     "metadata": {
      "needs_background": "light"
     },
     "output_type": "display_data"
    }
   ],
   "source": [
    "from sklearn import metrics\n",
    "f, ax = plt.subplots(figsize =(5,5))\n",
    "sns.heatmap(matrix_list,annot = True,linewidths=0.5,linecolor=\"red\",fmt = \".0f\",ax=ax)\n",
    "plt.xlabel(\"y_pred\")\n",
    "plt.ylabel(\"y_true\")\n",
    "plt.title(\"KNN Classifier K-fold Confusion Matrix\")\n",
    "plt.show()"
   ]
  },
  {
   "cell_type": "code",
   "execution_count": 117,
   "id": "aa57a553-2e1e-4f7d-ae7c-5b89547c745d",
   "metadata": {},
   "outputs": [
    {
     "name": "stdout",
     "output_type": "stream",
     "text": [
      "+----------------------------------+----------+---------+-----------+\n",
      "|    [5-level] KNN Classifier      | Accuracy |  Recall | Precision |\n",
      "+----------------------------------+----------+---------+-----------+\n",
      "| KNN Classifier(n=3) without PCA  | 57.2519  | 57.2519 |  58.9757  |\n",
      "| KNN Classifier(n=5) without PCA  | 62.5954  | 62.5954 |  60.1562  |\n",
      "| KNN Classifier(n=10) without PCA | 67.1756  | 67.1756 |  69.1306  |\n",
      "|   KNN Classifier(n=3) with PCA   |  59.542  |  59.542 |   64.29   |\n",
      "+----------------------------------+----------+---------+-----------+\n"
     ]
    }
   ],
   "source": [
    "acc=round(np.mean(kf_acc)*100,4)\n",
    "recall=round(np.mean(kf_recall)*100,4)\n",
    "prec=round(np.mean(kf_prec)*100,4)\n",
    "\n",
    "table3.add_row([\"KNN Classifier(n=3) with PCA\",acc,recall,prec])\n",
    "print(table3)"
   ]
  },
  {
   "cell_type": "markdown",
   "id": "e94781a8-73d6-42fc-841b-62db8088147c",
   "metadata": {},
   "source": [
    "* neighbors=5"
   ]
  },
  {
   "cell_type": "code",
   "execution_count": 118,
   "id": "cd5ce621-b17f-472f-86a6-2d3560bd56de",
   "metadata": {},
   "outputs": [],
   "source": [
    "knn = KNeighborsClassifier(n_neighbors=5)"
   ]
  },
  {
   "cell_type": "code",
   "execution_count": 119,
   "id": "619e3574-24a4-4061-b71f-4559b1fcd319",
   "metadata": {},
   "outputs": [
    {
     "name": "stdout",
     "output_type": "stream",
     "text": [
      "K-fold cross-validation accuracy: 64.12%\n"
     ]
    }
   ],
   "source": [
    "# K-fold cross-validation with 𝐾=3\n",
    "from sklearn.model_selection import KFold\n",
    "kf=KFold(n_splits=3, random_state=None, shuffle=True)\n",
    "\n",
    "matrix_list=list()\n",
    "accuracies=[]\n",
    "kf_acc=[]\n",
    "kf_recall=[]\n",
    "kf_prec=[]\n",
    "\n",
    "for train_index, test_index in kf.split(x):\n",
    "    x_train, x_test = x[train_index], x[test_index]\n",
    "    y_train, y_test = y[train_index], y[test_index]\n",
    "    pca = PCA(n_components='mle')\n",
    "    pca.fit(x_train)\n",
    "    x_train=pca.transform(x_train)\n",
    "    x_test=pca.transform(x_test)\n",
    "    knn.fit(x_train,y_train)\n",
    "    matrix_list.append(confusion_matrix(y_test, knn.predict(x_test)))\n",
    "    kf_acc=accuracy_score(y_test,knn.predict(x_test))\n",
    "    kf_recall=recall_score(y_test,knn.predict(x_test),average='weighted')\n",
    "    kf_prec=precision_score(y_test,knn.predict(x_test),average='weighted')\n",
    "    \n",
    "    accuracies=knn.score(x_test,y_test)\n",
    "\n",
    "acc_avg=np.mean(accuracies)\n",
    "print(\"K-fold cross-validation accuracy: {}%\".format(round(acc_avg*100,2)))\n",
    "\n",
    "matrix_list=np.average(np.array(matrix_list),axis=0)"
   ]
  },
  {
   "cell_type": "code",
   "execution_count": 120,
   "id": "02f75985-b27a-45d6-b4d5-7b7656ca6141",
   "metadata": {},
   "outputs": [
    {
     "data": {
      "image/png": "[encoded data removed]",
      "text/plain": [
       "<Figure size 360x360 with 2 Axes>"
      ]
     },
     "metadata": {
      "needs_background": "light"
     },
     "output_type": "display_data"
    }
   ],
   "source": [
    "from sklearn import metrics\n",
    "f, ax = plt.subplots(figsize =(5,5))\n",
    "sns.heatmap(matrix_list,annot = True,linewidths=0.5,linecolor=\"red\",fmt = \".0f\",ax=ax)\n",
    "plt.xlabel(\"y_pred\")\n",
    "plt.ylabel(\"y_true\")\n",
    "plt.title(\"KNN Classifier(n=5) K-fold Confusion Matrix\")\n",
    "plt.show()"
   ]
  },
  {
   "cell_type": "code",
   "execution_count": 121,
   "id": "633b740c-515a-4b1d-93de-c74def95f9a3",
   "metadata": {},
   "outputs": [
    {
     "name": "stdout",
     "output_type": "stream",
     "text": [
      "+----------------------------------+----------+---------+-----------+\n",
      "|    [5-level] KNN Classifier      | Accuracy |  Recall | Precision |\n",
      "+----------------------------------+----------+---------+-----------+\n",
      "| KNN Classifier(n=3) without PCA  | 57.2519  | 57.2519 |  58.9757  |\n",
      "| KNN Classifier(n=5) without PCA  | 62.5954  | 62.5954 |  60.1562  |\n",
      "| KNN Classifier(n=10) without PCA | 67.1756  | 67.1756 |  69.1306  |\n",
      "|   KNN Classifier(n=3) with PCA   |  59.542  |  59.542 |   64.29   |\n",
      "|   KNN Classifier(n=5) with PCA   | 64.1221  | 64.1221 |   65.954  |\n",
      "+----------------------------------+----------+---------+-----------+\n"
     ]
    }
   ],
   "source": [
    "acc=round(np.mean(kf_acc)*100,4)\n",
    "recall=round(np.mean(kf_recall)*100,4)\n",
    "prec=round(np.mean(kf_prec)*100,4)\n",
    "\n",
    "table3.add_row([\"KNN Classifier(n=5) with PCA\",acc,recall,prec])\n",
    "print(table3)"
   ]
  },
  {
   "cell_type": "markdown",
   "id": "59b708e5-e360-4913-97ee-c37dda4150fb",
   "metadata": {},
   "source": [
    "* neighbors=10"
   ]
  },
  {
   "cell_type": "code",
   "execution_count": 122,
   "id": "d7f1f99c-49bc-4ddf-8400-c4f834038c82",
   "metadata": {},
   "outputs": [],
   "source": [
    "knn = KNeighborsClassifier(n_neighbors=10)"
   ]
  },
  {
   "cell_type": "code",
   "execution_count": 123,
   "id": "e0961543-9293-4282-ae0f-4eb08aa34c6f",
   "metadata": {},
   "outputs": [
    {
     "name": "stdout",
     "output_type": "stream",
     "text": [
      "K-fold cross-validation accuracy: 58.78%\n"
     ]
    },
    {
     "name": "stderr",
     "output_type": "stream",
     "text": [
      "C:\\Users\\Suyin\\anaconda3\\lib\\site-packages\\sklearn\\metrics\\_classification.py:1245: UndefinedMetricWarning: Precision is ill-defined and being set to 0.0 in labels with no predicted samples. Use `zero_division` parameter to control this behavior.\n",
      "  _warn_prf(average, modifier, msg_start, len(result))\n"
     ]
    }
   ],
   "source": [
    "# K-fold cross-validation with 𝐾=3\n",
    "from sklearn.model_selection import KFold\n",
    "kf=KFold(n_splits=3, random_state=None, shuffle=True)\n",
    "\n",
    "matrix_list=list()\n",
    "accuracies=[]\n",
    "kf_acc=[]\n",
    "kf_recall=[]\n",
    "kf_prec=[]\n",
    "\n",
    "for train_index, test_index in kf.split(x):\n",
    "    x_train, x_test = x[train_index], x[test_index]\n",
    "    y_train, y_test = y[train_index], y[test_index]\n",
    "    pca = PCA(n_components='mle')\n",
    "    pca.fit(x_train)\n",
    "    x_train=pca.transform(x_train)\n",
    "    x_test=pca.transform(x_test)\n",
    "    knn.fit(x_train,y_train)\n",
    "    matrix_list.append(confusion_matrix(y_test, knn.predict(x_test)))\n",
    "    kf_acc=accuracy_score(y_test,knn.predict(x_test))\n",
    "    kf_recall=recall_score(y_test,knn.predict(x_test),average='weighted')\n",
    "    kf_prec=precision_score(y_test,knn.predict(x_test),average='weighted')\n",
    "    \n",
    "    accuracies=knn.score(x_test,y_test)\n",
    "\n",
    "acc_avg=np.mean(accuracies)\n",
    "print(\"K-fold cross-validation accuracy: {}%\".format(round(acc_avg*100,2)))\n",
    "\n",
    "matrix_list=np.average(np.array(matrix_list),axis=0)"
   ]
  },
  {
   "cell_type": "code",
   "execution_count": 124,
   "id": "981b7de1-b3fb-408d-982c-fe354810282f",
   "metadata": {},
   "outputs": [
    {
     "data": {
      "image/png": "[encoded data removed]",
      "text/plain": [
       "<Figure size 360x360 with 2 Axes>"
      ]
     },
     "metadata": {
      "needs_background": "light"
     },
     "output_type": "display_data"
    }
   ],
   "source": [
    "from sklearn import metrics\n",
    "f, ax = plt.subplots(figsize =(5,5))\n",
    "sns.heatmap(matrix_list,annot = True,linewidths=0.5,linecolor=\"red\",fmt = \".0f\",ax=ax)\n",
    "plt.xlabel(\"y_pred\")\n",
    "plt.ylabel(\"y_true\")\n",
    "plt.title(\"KNN Classifier(n=10) K-fold Confusion Matrix\")\n",
    "plt.show()"
   ]
  },
  {
   "cell_type": "code",
   "execution_count": 125,
   "id": "73ff5925-7671-4638-b798-e02e59e63246",
   "metadata": {},
   "outputs": [
    {
     "name": "stdout",
     "output_type": "stream",
     "text": [
      "+----------------------------------+----------+---------+-----------+\n",
      "|    [5-level] KNN Classifier      | Accuracy |  Recall | Precision |\n",
      "+----------------------------------+----------+---------+-----------+\n",
      "| KNN Classifier(n=3) without PCA  | 57.2519  | 57.2519 |  58.9757  |\n",
      "| KNN Classifier(n=5) without PCA  | 62.5954  | 62.5954 |  60.1562  |\n",
      "| KNN Classifier(n=10) without PCA | 67.1756  | 67.1756 |  69.1306  |\n",
      "|   KNN Classifier(n=3) with PCA   |  59.542  |  59.542 |   64.29   |\n",
      "|   KNN Classifier(n=5) with PCA   | 64.1221  | 64.1221 |   65.954  |\n",
      "|  KNN Classifier(n=10) with PCA   | 58.7786  | 58.7786 |  58.7126  |\n",
      "+----------------------------------+----------+---------+-----------+\n"
     ]
    }
   ],
   "source": [
    "acc=round(np.mean(kf_acc)*100,4)\n",
    "recall=round(np.mean(kf_recall)*100,4)\n",
    "prec=round(np.mean(kf_prec)*100,4)\n",
    "\n",
    "table3.add_row([\"KNN Classifier(n=10) with PCA\",acc,recall,prec])\n",
    "print(table3)"
   ]
  },
  {
   "cell_type": "code",
   "execution_count": null,
   "id": "d78491fe-4926-4957-85e3-d670e1507660",
   "metadata": {},
   "outputs": [],
   "source": []
  }
 ],
 "metadata": {
  "kernelspec": {
   "display_name": "Python 3",
   "language": "python",
   "name": "python3"
  },
  "language_info": {
   "codemirror_mode": {
    "name": "ipython",
    "version": 3
   },
   "file_extension": ".py",
   "mimetype": "text/x-python",
   "name": "python",
   "nbconvert_exporter": "python",
   "pygments_lexer": "ipython3",
   "version": "3.8.8"
  }
 },
 "nbformat": 4,
 "nbformat_minor": 5
}
