{
 "cells": [
  {
   "cell_type": "markdown",
   "id": "8a68309d-0806-4fd0-9459-b05c8272297a",
   "metadata": {},
   "source": [
    "# Assignment2 Decision Tree & Random Forest & KNN & PCA\n"
   ]
  },
  {
   "cell_type": "code",
   "execution_count": 1,
   "id": "be06659f-e790-47d7-ac09-75415d05cb14",
   "metadata": {},
   "outputs": [],
   "source": [
    "import pandas as pd\n",
    "import numpy as np\n",
    "import seaborn as sns \n",
    "import matplotlib.pyplot as plt\n",
    "import sklearn\n",
    "from sklearn.model_selection import train_test_split\n",
    "from sklearn.preprocessing import OneHotEncoder,LabelEncoder\n",
    "from sklearn.model_selection import KFold\n",
    "from sklearn.tree import DecisionTreeClassifier\n",
    "from sklearn.ensemble import RandomForestClassifier\n",
    "from sklearn.neighbors import KNeighborsClassifier\n",
    "from sklearn.decomposition import PCA\n",
    "from sklearn import tree\n",
    "from sklearn.metrics import confusion_matrix, accuracy_score, recall_score, precision_score\n",
    "from six import StringIO\n",
    "import prettytable"
   ]
  },
  {
   "cell_type": "markdown",
   "id": "46b573f2-6821-4d2c-9ddd-035e5136f8da",
   "metadata": {},
   "source": [
    "# Data input\n"
   ]
  },
  {
   "cell_type": "code",
   "execution_count": 2,
   "id": "97b13ff2-6a7b-463b-9792-bed9b959b66f",
   "metadata": {},
   "outputs": [
    {
     "data": {
      "text/html": [
       "<div>\n",
       "<style scoped>\n",
       "    .dataframe tbody tr th:only-of-type {\n",
       "        vertical-align: middle;\n",
       "    }\n",
       "\n",
       "    .dataframe tbody tr th {\n",
       "        vertical-align: top;\n",
       "    }\n",
       "\n",
       "    .dataframe thead th {\n",
       "        text-align: right;\n",
       "    }\n",
       "</style>\n",
       "<table border=\"1\" class=\"dataframe\">\n",
       "  <thead>\n",
       "    <tr style=\"text-align: right;\">\n",
       "      <th></th>\n",
       "      <th>school</th>\n",
       "      <th>sex</th>\n",
       "      <th>age</th>\n",
       "      <th>address</th>\n",
       "      <th>famsize</th>\n",
       "      <th>Pstatus</th>\n",
       "      <th>Medu</th>\n",
       "      <th>Fedu</th>\n",
       "      <th>Mjob</th>\n",
       "      <th>Fjob</th>\n",
       "      <th>...</th>\n",
       "      <th>famrel</th>\n",
       "      <th>freetime</th>\n",
       "      <th>goout</th>\n",
       "      <th>Dalc</th>\n",
       "      <th>Walc</th>\n",
       "      <th>health</th>\n",
       "      <th>absences</th>\n",
       "      <th>G1</th>\n",
       "      <th>G2</th>\n",
       "      <th>G3</th>\n",
       "    </tr>\n",
       "  </thead>\n",
       "  <tbody>\n",
       "    <tr>\n",
       "      <th>0</th>\n",
       "      <td>GP</td>\n",
       "      <td>F</td>\n",
       "      <td>18</td>\n",
       "      <td>U</td>\n",
       "      <td>GT3</td>\n",
       "      <td>A</td>\n",
       "      <td>4</td>\n",
       "      <td>4</td>\n",
       "      <td>at_home</td>\n",
       "      <td>teacher</td>\n",
       "      <td>...</td>\n",
       "      <td>4</td>\n",
       "      <td>3</td>\n",
       "      <td>4</td>\n",
       "      <td>1</td>\n",
       "      <td>1</td>\n",
       "      <td>3</td>\n",
       "      <td>6</td>\n",
       "      <td>5</td>\n",
       "      <td>6</td>\n",
       "      <td>6</td>\n",
       "    </tr>\n",
       "    <tr>\n",
       "      <th>1</th>\n",
       "      <td>GP</td>\n",
       "      <td>F</td>\n",
       "      <td>17</td>\n",
       "      <td>U</td>\n",
       "      <td>GT3</td>\n",
       "      <td>T</td>\n",
       "      <td>1</td>\n",
       "      <td>1</td>\n",
       "      <td>at_home</td>\n",
       "      <td>other</td>\n",
       "      <td>...</td>\n",
       "      <td>5</td>\n",
       "      <td>3</td>\n",
       "      <td>3</td>\n",
       "      <td>1</td>\n",
       "      <td>1</td>\n",
       "      <td>3</td>\n",
       "      <td>4</td>\n",
       "      <td>5</td>\n",
       "      <td>5</td>\n",
       "      <td>6</td>\n",
       "    </tr>\n",
       "    <tr>\n",
       "      <th>2</th>\n",
       "      <td>GP</td>\n",
       "      <td>F</td>\n",
       "      <td>15</td>\n",
       "      <td>U</td>\n",
       "      <td>LE3</td>\n",
       "      <td>T</td>\n",
       "      <td>1</td>\n",
       "      <td>1</td>\n",
       "      <td>at_home</td>\n",
       "      <td>other</td>\n",
       "      <td>...</td>\n",
       "      <td>4</td>\n",
       "      <td>3</td>\n",
       "      <td>2</td>\n",
       "      <td>2</td>\n",
       "      <td>3</td>\n",
       "      <td>3</td>\n",
       "      <td>10</td>\n",
       "      <td>7</td>\n",
       "      <td>8</td>\n",
       "      <td>10</td>\n",
       "    </tr>\n",
       "    <tr>\n",
       "      <th>3</th>\n",
       "      <td>GP</td>\n",
       "      <td>F</td>\n",
       "      <td>15</td>\n",
       "      <td>U</td>\n",
       "      <td>GT3</td>\n",
       "      <td>T</td>\n",
       "      <td>4</td>\n",
       "      <td>2</td>\n",
       "      <td>health</td>\n",
       "      <td>services</td>\n",
       "      <td>...</td>\n",
       "      <td>3</td>\n",
       "      <td>2</td>\n",
       "      <td>2</td>\n",
       "      <td>1</td>\n",
       "      <td>1</td>\n",
       "      <td>5</td>\n",
       "      <td>2</td>\n",
       "      <td>15</td>\n",
       "      <td>14</td>\n",
       "      <td>15</td>\n",
       "    </tr>\n",
       "    <tr>\n",
       "      <th>4</th>\n",
       "      <td>GP</td>\n",
       "      <td>F</td>\n",
       "      <td>16</td>\n",
       "      <td>U</td>\n",
       "      <td>GT3</td>\n",
       "      <td>T</td>\n",
       "      <td>3</td>\n",
       "      <td>3</td>\n",
       "      <td>other</td>\n",
       "      <td>other</td>\n",
       "      <td>...</td>\n",
       "      <td>4</td>\n",
       "      <td>3</td>\n",
       "      <td>2</td>\n",
       "      <td>1</td>\n",
       "      <td>2</td>\n",
       "      <td>5</td>\n",
       "      <td>4</td>\n",
       "      <td>6</td>\n",
       "      <td>10</td>\n",
       "      <td>10</td>\n",
       "    </tr>\n",
       "    <tr>\n",
       "      <th>...</th>\n",
       "      <td>...</td>\n",
       "      <td>...</td>\n",
       "      <td>...</td>\n",
       "      <td>...</td>\n",
       "      <td>...</td>\n",
       "      <td>...</td>\n",
       "      <td>...</td>\n",
       "      <td>...</td>\n",
       "      <td>...</td>\n",
       "      <td>...</td>\n",
       "      <td>...</td>\n",
       "      <td>...</td>\n",
       "      <td>...</td>\n",
       "      <td>...</td>\n",
       "      <td>...</td>\n",
       "      <td>...</td>\n",
       "      <td>...</td>\n",
       "      <td>...</td>\n",
       "      <td>...</td>\n",
       "      <td>...</td>\n",
       "      <td>...</td>\n",
       "    </tr>\n",
       "    <tr>\n",
       "      <th>390</th>\n",
       "      <td>MS</td>\n",
       "      <td>M</td>\n",
       "      <td>20</td>\n",
       "      <td>U</td>\n",
       "      <td>LE3</td>\n",
       "      <td>A</td>\n",
       "      <td>2</td>\n",
       "      <td>2</td>\n",
       "      <td>services</td>\n",
       "      <td>services</td>\n",
       "      <td>...</td>\n",
       "      <td>5</td>\n",
       "      <td>5</td>\n",
       "      <td>4</td>\n",
       "      <td>4</td>\n",
       "      <td>5</td>\n",
       "      <td>4</td>\n",
       "      <td>11</td>\n",
       "      <td>9</td>\n",
       "      <td>9</td>\n",
       "      <td>9</td>\n",
       "    </tr>\n",
       "    <tr>\n",
       "      <th>391</th>\n",
       "      <td>MS</td>\n",
       "      <td>M</td>\n",
       "      <td>17</td>\n",
       "      <td>U</td>\n",
       "      <td>LE3</td>\n",
       "      <td>T</td>\n",
       "      <td>3</td>\n",
       "      <td>1</td>\n",
       "      <td>services</td>\n",
       "      <td>services</td>\n",
       "      <td>...</td>\n",
       "      <td>2</td>\n",
       "      <td>4</td>\n",
       "      <td>5</td>\n",
       "      <td>3</td>\n",
       "      <td>4</td>\n",
       "      <td>2</td>\n",
       "      <td>3</td>\n",
       "      <td>14</td>\n",
       "      <td>16</td>\n",
       "      <td>16</td>\n",
       "    </tr>\n",
       "    <tr>\n",
       "      <th>392</th>\n",
       "      <td>MS</td>\n",
       "      <td>M</td>\n",
       "      <td>21</td>\n",
       "      <td>R</td>\n",
       "      <td>GT3</td>\n",
       "      <td>T</td>\n",
       "      <td>1</td>\n",
       "      <td>1</td>\n",
       "      <td>other</td>\n",
       "      <td>other</td>\n",
       "      <td>...</td>\n",
       "      <td>5</td>\n",
       "      <td>5</td>\n",
       "      <td>3</td>\n",
       "      <td>3</td>\n",
       "      <td>3</td>\n",
       "      <td>3</td>\n",
       "      <td>3</td>\n",
       "      <td>10</td>\n",
       "      <td>8</td>\n",
       "      <td>7</td>\n",
       "    </tr>\n",
       "    <tr>\n",
       "      <th>393</th>\n",
       "      <td>MS</td>\n",
       "      <td>M</td>\n",
       "      <td>18</td>\n",
       "      <td>R</td>\n",
       "      <td>LE3</td>\n",
       "      <td>T</td>\n",
       "      <td>3</td>\n",
       "      <td>2</td>\n",
       "      <td>services</td>\n",
       "      <td>other</td>\n",
       "      <td>...</td>\n",
       "      <td>4</td>\n",
       "      <td>4</td>\n",
       "      <td>1</td>\n",
       "      <td>3</td>\n",
       "      <td>4</td>\n",
       "      <td>5</td>\n",
       "      <td>0</td>\n",
       "      <td>11</td>\n",
       "      <td>12</td>\n",
       "      <td>10</td>\n",
       "    </tr>\n",
       "    <tr>\n",
       "      <th>394</th>\n",
       "      <td>MS</td>\n",
       "      <td>M</td>\n",
       "      <td>19</td>\n",
       "      <td>U</td>\n",
       "      <td>LE3</td>\n",
       "      <td>T</td>\n",
       "      <td>1</td>\n",
       "      <td>1</td>\n",
       "      <td>other</td>\n",
       "      <td>at_home</td>\n",
       "      <td>...</td>\n",
       "      <td>3</td>\n",
       "      <td>2</td>\n",
       "      <td>3</td>\n",
       "      <td>3</td>\n",
       "      <td>3</td>\n",
       "      <td>5</td>\n",
       "      <td>5</td>\n",
       "      <td>8</td>\n",
       "      <td>9</td>\n",
       "      <td>9</td>\n",
       "    </tr>\n",
       "  </tbody>\n",
       "</table>\n",
       "<p>395 rows × 33 columns</p>\n",
       "</div>"
      ],
      "text/plain": [
       "    school sex  age address famsize Pstatus  Medu  Fedu      Mjob      Fjob  \\\n",
       "0       GP   F   18       U     GT3       A     4     4   at_home   teacher   \n",
       "1       GP   F   17       U     GT3       T     1     1   at_home     other   \n",
       "2       GP   F   15       U     LE3       T     1     1   at_home     other   \n",
       "3       GP   F   15       U     GT3       T     4     2    health  services   \n",
       "4       GP   F   16       U     GT3       T     3     3     other     other   \n",
       "..     ...  ..  ...     ...     ...     ...   ...   ...       ...       ...   \n",
       "390     MS   M   20       U     LE3       A     2     2  services  services   \n",
       "391     MS   M   17       U     LE3       T     3     1  services  services   \n",
       "392     MS   M   21       R     GT3       T     1     1     other     other   \n",
       "393     MS   M   18       R     LE3       T     3     2  services     other   \n",
       "394     MS   M   19       U     LE3       T     1     1     other   at_home   \n",
       "\n",
       "     ... famrel freetime  goout  Dalc  Walc health absences  G1  G2  G3  \n",
       "0    ...      4        3      4     1     1      3        6   5   6   6  \n",
       "1    ...      5        3      3     1     1      3        4   5   5   6  \n",
       "2    ...      4        3      2     2     3      3       10   7   8  10  \n",
       "3    ...      3        2      2     1     1      5        2  15  14  15  \n",
       "4    ...      4        3      2     1     2      5        4   6  10  10  \n",
       "..   ...    ...      ...    ...   ...   ...    ...      ...  ..  ..  ..  \n",
       "390  ...      5        5      4     4     5      4       11   9   9   9  \n",
       "391  ...      2        4      5     3     4      2        3  14  16  16  \n",
       "392  ...      5        5      3     3     3      3        3  10   8   7  \n",
       "393  ...      4        4      1     3     4      5        0  11  12  10  \n",
       "394  ...      3        2      3     3     3      5        5   8   9   9  \n",
       "\n",
       "[395 rows x 33 columns]"
      ]
     },
     "execution_count": 2,
     "metadata": {},
     "output_type": "execute_result"
    }
   ],
   "source": [
    "df=pd.read_csv('student-mat.csv',sep=';')\n",
    "df"
   ]
  },
  {
   "cell_type": "markdown",
   "id": "e3cda012-6dc3-47dc-b4df-90c37319c30c",
   "metadata": {},
   "source": [
    "# Data Preprocessing\n",
    "## Binary classification\n",
    " pass if G3≥10, else fail"
   ]
  },
  {
   "cell_type": "code",
   "execution_count": 3,
   "id": "2b017f55-7f77-4bde-a319-d90601ff6c53",
   "metadata": {},
   "outputs": [
    {
     "data": {
      "text/html": [
       "<div>\n",
       "<style scoped>\n",
       "    .dataframe tbody tr th:only-of-type {\n",
       "        vertical-align: middle;\n",
       "    }\n",
       "\n",
       "    .dataframe tbody tr th {\n",
       "        vertical-align: top;\n",
       "    }\n",
       "\n",
       "    .dataframe thead th {\n",
       "        text-align: right;\n",
       "    }\n",
       "</style>\n",
       "<table border=\"1\" class=\"dataframe\">\n",
       "  <thead>\n",
       "    <tr style=\"text-align: right;\">\n",
       "      <th></th>\n",
       "      <th>school</th>\n",
       "      <th>sex</th>\n",
       "      <th>age</th>\n",
       "      <th>address</th>\n",
       "      <th>famsize</th>\n",
       "      <th>Pstatus</th>\n",
       "      <th>Medu</th>\n",
       "      <th>Fedu</th>\n",
       "      <th>Mjob</th>\n",
       "      <th>Fjob</th>\n",
       "      <th>...</th>\n",
       "      <th>famrel</th>\n",
       "      <th>freetime</th>\n",
       "      <th>goout</th>\n",
       "      <th>Dalc</th>\n",
       "      <th>Walc</th>\n",
       "      <th>health</th>\n",
       "      <th>absences</th>\n",
       "      <th>G1</th>\n",
       "      <th>G2</th>\n",
       "      <th>pass</th>\n",
       "    </tr>\n",
       "  </thead>\n",
       "  <tbody>\n",
       "    <tr>\n",
       "      <th>0</th>\n",
       "      <td>GP</td>\n",
       "      <td>F</td>\n",
       "      <td>18</td>\n",
       "      <td>U</td>\n",
       "      <td>GT3</td>\n",
       "      <td>A</td>\n",
       "      <td>4</td>\n",
       "      <td>4</td>\n",
       "      <td>at_home</td>\n",
       "      <td>teacher</td>\n",
       "      <td>...</td>\n",
       "      <td>4</td>\n",
       "      <td>3</td>\n",
       "      <td>4</td>\n",
       "      <td>1</td>\n",
       "      <td>1</td>\n",
       "      <td>3</td>\n",
       "      <td>6</td>\n",
       "      <td>5</td>\n",
       "      <td>6</td>\n",
       "      <td>0</td>\n",
       "    </tr>\n",
       "    <tr>\n",
       "      <th>1</th>\n",
       "      <td>GP</td>\n",
       "      <td>F</td>\n",
       "      <td>17</td>\n",
       "      <td>U</td>\n",
       "      <td>GT3</td>\n",
       "      <td>T</td>\n",
       "      <td>1</td>\n",
       "      <td>1</td>\n",
       "      <td>at_home</td>\n",
       "      <td>other</td>\n",
       "      <td>...</td>\n",
       "      <td>5</td>\n",
       "      <td>3</td>\n",
       "      <td>3</td>\n",
       "      <td>1</td>\n",
       "      <td>1</td>\n",
       "      <td>3</td>\n",
       "      <td>4</td>\n",
       "      <td>5</td>\n",
       "      <td>5</td>\n",
       "      <td>0</td>\n",
       "    </tr>\n",
       "    <tr>\n",
       "      <th>2</th>\n",
       "      <td>GP</td>\n",
       "      <td>F</td>\n",
       "      <td>15</td>\n",
       "      <td>U</td>\n",
       "      <td>LE3</td>\n",
       "      <td>T</td>\n",
       "      <td>1</td>\n",
       "      <td>1</td>\n",
       "      <td>at_home</td>\n",
       "      <td>other</td>\n",
       "      <td>...</td>\n",
       "      <td>4</td>\n",
       "      <td>3</td>\n",
       "      <td>2</td>\n",
       "      <td>2</td>\n",
       "      <td>3</td>\n",
       "      <td>3</td>\n",
       "      <td>10</td>\n",
       "      <td>7</td>\n",
       "      <td>8</td>\n",
       "      <td>1</td>\n",
       "    </tr>\n",
       "    <tr>\n",
       "      <th>3</th>\n",
       "      <td>GP</td>\n",
       "      <td>F</td>\n",
       "      <td>15</td>\n",
       "      <td>U</td>\n",
       "      <td>GT3</td>\n",
       "      <td>T</td>\n",
       "      <td>4</td>\n",
       "      <td>2</td>\n",
       "      <td>health</td>\n",
       "      <td>services</td>\n",
       "      <td>...</td>\n",
       "      <td>3</td>\n",
       "      <td>2</td>\n",
       "      <td>2</td>\n",
       "      <td>1</td>\n",
       "      <td>1</td>\n",
       "      <td>5</td>\n",
       "      <td>2</td>\n",
       "      <td>15</td>\n",
       "      <td>14</td>\n",
       "      <td>1</td>\n",
       "    </tr>\n",
       "    <tr>\n",
       "      <th>4</th>\n",
       "      <td>GP</td>\n",
       "      <td>F</td>\n",
       "      <td>16</td>\n",
       "      <td>U</td>\n",
       "      <td>GT3</td>\n",
       "      <td>T</td>\n",
       "      <td>3</td>\n",
       "      <td>3</td>\n",
       "      <td>other</td>\n",
       "      <td>other</td>\n",
       "      <td>...</td>\n",
       "      <td>4</td>\n",
       "      <td>3</td>\n",
       "      <td>2</td>\n",
       "      <td>1</td>\n",
       "      <td>2</td>\n",
       "      <td>5</td>\n",
       "      <td>4</td>\n",
       "      <td>6</td>\n",
       "      <td>10</td>\n",
       "      <td>1</td>\n",
       "    </tr>\n",
       "    <tr>\n",
       "      <th>...</th>\n",
       "      <td>...</td>\n",
       "      <td>...</td>\n",
       "      <td>...</td>\n",
       "      <td>...</td>\n",
       "      <td>...</td>\n",
       "      <td>...</td>\n",
       "      <td>...</td>\n",
       "      <td>...</td>\n",
       "      <td>...</td>\n",
       "      <td>...</td>\n",
       "      <td>...</td>\n",
       "      <td>...</td>\n",
       "      <td>...</td>\n",
       "      <td>...</td>\n",
       "      <td>...</td>\n",
       "      <td>...</td>\n",
       "      <td>...</td>\n",
       "      <td>...</td>\n",
       "      <td>...</td>\n",
       "      <td>...</td>\n",
       "      <td>...</td>\n",
       "    </tr>\n",
       "    <tr>\n",
       "      <th>390</th>\n",
       "      <td>MS</td>\n",
       "      <td>M</td>\n",
       "      <td>20</td>\n",
       "      <td>U</td>\n",
       "      <td>LE3</td>\n",
       "      <td>A</td>\n",
       "      <td>2</td>\n",
       "      <td>2</td>\n",
       "      <td>services</td>\n",
       "      <td>services</td>\n",
       "      <td>...</td>\n",
       "      <td>5</td>\n",
       "      <td>5</td>\n",
       "      <td>4</td>\n",
       "      <td>4</td>\n",
       "      <td>5</td>\n",
       "      <td>4</td>\n",
       "      <td>11</td>\n",
       "      <td>9</td>\n",
       "      <td>9</td>\n",
       "      <td>0</td>\n",
       "    </tr>\n",
       "    <tr>\n",
       "      <th>391</th>\n",
       "      <td>MS</td>\n",
       "      <td>M</td>\n",
       "      <td>17</td>\n",
       "      <td>U</td>\n",
       "      <td>LE3</td>\n",
       "      <td>T</td>\n",
       "      <td>3</td>\n",
       "      <td>1</td>\n",
       "      <td>services</td>\n",
       "      <td>services</td>\n",
       "      <td>...</td>\n",
       "      <td>2</td>\n",
       "      <td>4</td>\n",
       "      <td>5</td>\n",
       "      <td>3</td>\n",
       "      <td>4</td>\n",
       "      <td>2</td>\n",
       "      <td>3</td>\n",
       "      <td>14</td>\n",
       "      <td>16</td>\n",
       "      <td>1</td>\n",
       "    </tr>\n",
       "    <tr>\n",
       "      <th>392</th>\n",
       "      <td>MS</td>\n",
       "      <td>M</td>\n",
       "      <td>21</td>\n",
       "      <td>R</td>\n",
       "      <td>GT3</td>\n",
       "      <td>T</td>\n",
       "      <td>1</td>\n",
       "      <td>1</td>\n",
       "      <td>other</td>\n",
       "      <td>other</td>\n",
       "      <td>...</td>\n",
       "      <td>5</td>\n",
       "      <td>5</td>\n",
       "      <td>3</td>\n",
       "      <td>3</td>\n",
       "      <td>3</td>\n",
       "      <td>3</td>\n",
       "      <td>3</td>\n",
       "      <td>10</td>\n",
       "      <td>8</td>\n",
       "      <td>0</td>\n",
       "    </tr>\n",
       "    <tr>\n",
       "      <th>393</th>\n",
       "      <td>MS</td>\n",
       "      <td>M</td>\n",
       "      <td>18</td>\n",
       "      <td>R</td>\n",
       "      <td>LE3</td>\n",
       "      <td>T</td>\n",
       "      <td>3</td>\n",
       "      <td>2</td>\n",
       "      <td>services</td>\n",
       "      <td>other</td>\n",
       "      <td>...</td>\n",
       "      <td>4</td>\n",
       "      <td>4</td>\n",
       "      <td>1</td>\n",
       "      <td>3</td>\n",
       "      <td>4</td>\n",
       "      <td>5</td>\n",
       "      <td>0</td>\n",
       "      <td>11</td>\n",
       "      <td>12</td>\n",
       "      <td>1</td>\n",
       "    </tr>\n",
       "    <tr>\n",
       "      <th>394</th>\n",
       "      <td>MS</td>\n",
       "      <td>M</td>\n",
       "      <td>19</td>\n",
       "      <td>U</td>\n",
       "      <td>LE3</td>\n",
       "      <td>T</td>\n",
       "      <td>1</td>\n",
       "      <td>1</td>\n",
       "      <td>other</td>\n",
       "      <td>at_home</td>\n",
       "      <td>...</td>\n",
       "      <td>3</td>\n",
       "      <td>2</td>\n",
       "      <td>3</td>\n",
       "      <td>3</td>\n",
       "      <td>3</td>\n",
       "      <td>5</td>\n",
       "      <td>5</td>\n",
       "      <td>8</td>\n",
       "      <td>9</td>\n",
       "      <td>0</td>\n",
       "    </tr>\n",
       "  </tbody>\n",
       "</table>\n",
       "<p>395 rows × 33 columns</p>\n",
       "</div>"
      ],
      "text/plain": [
       "    school sex  age address famsize Pstatus  Medu  Fedu      Mjob      Fjob  \\\n",
       "0       GP   F   18       U     GT3       A     4     4   at_home   teacher   \n",
       "1       GP   F   17       U     GT3       T     1     1   at_home     other   \n",
       "2       GP   F   15       U     LE3       T     1     1   at_home     other   \n",
       "3       GP   F   15       U     GT3       T     4     2    health  services   \n",
       "4       GP   F   16       U     GT3       T     3     3     other     other   \n",
       "..     ...  ..  ...     ...     ...     ...   ...   ...       ...       ...   \n",
       "390     MS   M   20       U     LE3       A     2     2  services  services   \n",
       "391     MS   M   17       U     LE3       T     3     1  services  services   \n",
       "392     MS   M   21       R     GT3       T     1     1     other     other   \n",
       "393     MS   M   18       R     LE3       T     3     2  services     other   \n",
       "394     MS   M   19       U     LE3       T     1     1     other   at_home   \n",
       "\n",
       "     ... famrel freetime  goout  Dalc  Walc health absences  G1  G2 pass  \n",
       "0    ...      4        3      4     1     1      3        6   5   6    0  \n",
       "1    ...      5        3      3     1     1      3        4   5   5    0  \n",
       "2    ...      4        3      2     2     3      3       10   7   8    1  \n",
       "3    ...      3        2      2     1     1      5        2  15  14    1  \n",
       "4    ...      4        3      2     1     2      5        4   6  10    1  \n",
       "..   ...    ...      ...    ...   ...   ...    ...      ...  ..  ..  ...  \n",
       "390  ...      5        5      4     4     5      4       11   9   9    0  \n",
       "391  ...      2        4      5     3     4      2        3  14  16    1  \n",
       "392  ...      5        5      3     3     3      3        3  10   8    0  \n",
       "393  ...      4        4      1     3     4      5        0  11  12    1  \n",
       "394  ...      3        2      3     3     3      5        5   8   9    0  \n",
       "\n",
       "[395 rows x 33 columns]"
      ]
     },
     "execution_count": 3,
     "metadata": {},
     "output_type": "execute_result"
    }
   ],
   "source": [
    "#generate binary label\n",
    "df_bi=df.copy()\n",
    "df_bi['pass']=df_bi.apply(lambda row:1 if row['G3']>=10 else 0,axis=1)\n",
    "df_bi=df_bi.drop(['G3'],axis=1)\n",
    "df_bi"
   ]
  },
  {
   "cell_type": "markdown",
   "id": "48345478-b91f-4b32-b991-34220f60467a",
   "metadata": {},
   "source": [
    "### one-hot-encoding"
   ]
  },
  {
   "cell_type": "code",
   "execution_count": 4,
   "id": "464bd550-d826-4de2-a1a1-c2713dd2c44a",
   "metadata": {},
   "outputs": [
    {
     "data": {
      "text/html": [
       "<div>\n",
       "<style scoped>\n",
       "    .dataframe tbody tr th:only-of-type {\n",
       "        vertical-align: middle;\n",
       "    }\n",
       "\n",
       "    .dataframe tbody tr th {\n",
       "        vertical-align: top;\n",
       "    }\n",
       "\n",
       "    .dataframe thead th {\n",
       "        text-align: right;\n",
       "    }\n",
       "</style>\n",
       "<table border=\"1\" class=\"dataframe\">\n",
       "  <thead>\n",
       "    <tr style=\"text-align: right;\">\n",
       "      <th></th>\n",
       "      <th>age</th>\n",
       "      <th>Medu</th>\n",
       "      <th>Fedu</th>\n",
       "      <th>traveltime</th>\n",
       "      <th>studytime</th>\n",
       "      <th>failures</th>\n",
       "      <th>famrel</th>\n",
       "      <th>freetime</th>\n",
       "      <th>goout</th>\n",
       "      <th>Dalc</th>\n",
       "      <th>...</th>\n",
       "      <th>activities_no</th>\n",
       "      <th>activities_yes</th>\n",
       "      <th>nursery_no</th>\n",
       "      <th>nursery_yes</th>\n",
       "      <th>higher_no</th>\n",
       "      <th>higher_yes</th>\n",
       "      <th>internet_no</th>\n",
       "      <th>internet_yes</th>\n",
       "      <th>romantic_no</th>\n",
       "      <th>romantic_yes</th>\n",
       "    </tr>\n",
       "  </thead>\n",
       "  <tbody>\n",
       "    <tr>\n",
       "      <th>0</th>\n",
       "      <td>18</td>\n",
       "      <td>4</td>\n",
       "      <td>4</td>\n",
       "      <td>2</td>\n",
       "      <td>2</td>\n",
       "      <td>0</td>\n",
       "      <td>4</td>\n",
       "      <td>3</td>\n",
       "      <td>4</td>\n",
       "      <td>1</td>\n",
       "      <td>...</td>\n",
       "      <td>1</td>\n",
       "      <td>0</td>\n",
       "      <td>0</td>\n",
       "      <td>1</td>\n",
       "      <td>0</td>\n",
       "      <td>1</td>\n",
       "      <td>1</td>\n",
       "      <td>0</td>\n",
       "      <td>1</td>\n",
       "      <td>0</td>\n",
       "    </tr>\n",
       "    <tr>\n",
       "      <th>1</th>\n",
       "      <td>17</td>\n",
       "      <td>1</td>\n",
       "      <td>1</td>\n",
       "      <td>1</td>\n",
       "      <td>2</td>\n",
       "      <td>0</td>\n",
       "      <td>5</td>\n",
       "      <td>3</td>\n",
       "      <td>3</td>\n",
       "      <td>1</td>\n",
       "      <td>...</td>\n",
       "      <td>1</td>\n",
       "      <td>0</td>\n",
       "      <td>1</td>\n",
       "      <td>0</td>\n",
       "      <td>0</td>\n",
       "      <td>1</td>\n",
       "      <td>0</td>\n",
       "      <td>1</td>\n",
       "      <td>1</td>\n",
       "      <td>0</td>\n",
       "    </tr>\n",
       "    <tr>\n",
       "      <th>2</th>\n",
       "      <td>15</td>\n",
       "      <td>1</td>\n",
       "      <td>1</td>\n",
       "      <td>1</td>\n",
       "      <td>2</td>\n",
       "      <td>3</td>\n",
       "      <td>4</td>\n",
       "      <td>3</td>\n",
       "      <td>2</td>\n",
       "      <td>2</td>\n",
       "      <td>...</td>\n",
       "      <td>1</td>\n",
       "      <td>0</td>\n",
       "      <td>0</td>\n",
       "      <td>1</td>\n",
       "      <td>0</td>\n",
       "      <td>1</td>\n",
       "      <td>0</td>\n",
       "      <td>1</td>\n",
       "      <td>1</td>\n",
       "      <td>0</td>\n",
       "    </tr>\n",
       "    <tr>\n",
       "      <th>3</th>\n",
       "      <td>15</td>\n",
       "      <td>4</td>\n",
       "      <td>2</td>\n",
       "      <td>1</td>\n",
       "      <td>3</td>\n",
       "      <td>0</td>\n",
       "      <td>3</td>\n",
       "      <td>2</td>\n",
       "      <td>2</td>\n",
       "      <td>1</td>\n",
       "      <td>...</td>\n",
       "      <td>0</td>\n",
       "      <td>1</td>\n",
       "      <td>0</td>\n",
       "      <td>1</td>\n",
       "      <td>0</td>\n",
       "      <td>1</td>\n",
       "      <td>0</td>\n",
       "      <td>1</td>\n",
       "      <td>0</td>\n",
       "      <td>1</td>\n",
       "    </tr>\n",
       "    <tr>\n",
       "      <th>4</th>\n",
       "      <td>16</td>\n",
       "      <td>3</td>\n",
       "      <td>3</td>\n",
       "      <td>1</td>\n",
       "      <td>2</td>\n",
       "      <td>0</td>\n",
       "      <td>4</td>\n",
       "      <td>3</td>\n",
       "      <td>2</td>\n",
       "      <td>1</td>\n",
       "      <td>...</td>\n",
       "      <td>1</td>\n",
       "      <td>0</td>\n",
       "      <td>0</td>\n",
       "      <td>1</td>\n",
       "      <td>0</td>\n",
       "      <td>1</td>\n",
       "      <td>1</td>\n",
       "      <td>0</td>\n",
       "      <td>1</td>\n",
       "      <td>0</td>\n",
       "    </tr>\n",
       "    <tr>\n",
       "      <th>...</th>\n",
       "      <td>...</td>\n",
       "      <td>...</td>\n",
       "      <td>...</td>\n",
       "      <td>...</td>\n",
       "      <td>...</td>\n",
       "      <td>...</td>\n",
       "      <td>...</td>\n",
       "      <td>...</td>\n",
       "      <td>...</td>\n",
       "      <td>...</td>\n",
       "      <td>...</td>\n",
       "      <td>...</td>\n",
       "      <td>...</td>\n",
       "      <td>...</td>\n",
       "      <td>...</td>\n",
       "      <td>...</td>\n",
       "      <td>...</td>\n",
       "      <td>...</td>\n",
       "      <td>...</td>\n",
       "      <td>...</td>\n",
       "      <td>...</td>\n",
       "    </tr>\n",
       "    <tr>\n",
       "      <th>390</th>\n",
       "      <td>20</td>\n",
       "      <td>2</td>\n",
       "      <td>2</td>\n",
       "      <td>1</td>\n",
       "      <td>2</td>\n",
       "      <td>2</td>\n",
       "      <td>5</td>\n",
       "      <td>5</td>\n",
       "      <td>4</td>\n",
       "      <td>4</td>\n",
       "      <td>...</td>\n",
       "      <td>1</td>\n",
       "      <td>0</td>\n",
       "      <td>0</td>\n",
       "      <td>1</td>\n",
       "      <td>0</td>\n",
       "      <td>1</td>\n",
       "      <td>1</td>\n",
       "      <td>0</td>\n",
       "      <td>1</td>\n",
       "      <td>0</td>\n",
       "    </tr>\n",
       "    <tr>\n",
       "      <th>391</th>\n",
       "      <td>17</td>\n",
       "      <td>3</td>\n",
       "      <td>1</td>\n",
       "      <td>2</td>\n",
       "      <td>1</td>\n",
       "      <td>0</td>\n",
       "      <td>2</td>\n",
       "      <td>4</td>\n",
       "      <td>5</td>\n",
       "      <td>3</td>\n",
       "      <td>...</td>\n",
       "      <td>1</td>\n",
       "      <td>0</td>\n",
       "      <td>1</td>\n",
       "      <td>0</td>\n",
       "      <td>0</td>\n",
       "      <td>1</td>\n",
       "      <td>0</td>\n",
       "      <td>1</td>\n",
       "      <td>1</td>\n",
       "      <td>0</td>\n",
       "    </tr>\n",
       "    <tr>\n",
       "      <th>392</th>\n",
       "      <td>21</td>\n",
       "      <td>1</td>\n",
       "      <td>1</td>\n",
       "      <td>1</td>\n",
       "      <td>1</td>\n",
       "      <td>3</td>\n",
       "      <td>5</td>\n",
       "      <td>5</td>\n",
       "      <td>3</td>\n",
       "      <td>3</td>\n",
       "      <td>...</td>\n",
       "      <td>1</td>\n",
       "      <td>0</td>\n",
       "      <td>1</td>\n",
       "      <td>0</td>\n",
       "      <td>0</td>\n",
       "      <td>1</td>\n",
       "      <td>1</td>\n",
       "      <td>0</td>\n",
       "      <td>1</td>\n",
       "      <td>0</td>\n",
       "    </tr>\n",
       "    <tr>\n",
       "      <th>393</th>\n",
       "      <td>18</td>\n",
       "      <td>3</td>\n",
       "      <td>2</td>\n",
       "      <td>3</td>\n",
       "      <td>1</td>\n",
       "      <td>0</td>\n",
       "      <td>4</td>\n",
       "      <td>4</td>\n",
       "      <td>1</td>\n",
       "      <td>3</td>\n",
       "      <td>...</td>\n",
       "      <td>1</td>\n",
       "      <td>0</td>\n",
       "      <td>1</td>\n",
       "      <td>0</td>\n",
       "      <td>0</td>\n",
       "      <td>1</td>\n",
       "      <td>0</td>\n",
       "      <td>1</td>\n",
       "      <td>1</td>\n",
       "      <td>0</td>\n",
       "    </tr>\n",
       "    <tr>\n",
       "      <th>394</th>\n",
       "      <td>19</td>\n",
       "      <td>1</td>\n",
       "      <td>1</td>\n",
       "      <td>1</td>\n",
       "      <td>1</td>\n",
       "      <td>0</td>\n",
       "      <td>3</td>\n",
       "      <td>2</td>\n",
       "      <td>3</td>\n",
       "      <td>3</td>\n",
       "      <td>...</td>\n",
       "      <td>1</td>\n",
       "      <td>0</td>\n",
       "      <td>0</td>\n",
       "      <td>1</td>\n",
       "      <td>0</td>\n",
       "      <td>1</td>\n",
       "      <td>0</td>\n",
       "      <td>1</td>\n",
       "      <td>1</td>\n",
       "      <td>0</td>\n",
       "    </tr>\n",
       "  </tbody>\n",
       "</table>\n",
       "<p>395 rows × 59 columns</p>\n",
       "</div>"
      ],
      "text/plain": [
       "     age  Medu  Fedu  traveltime  studytime  failures  famrel  freetime  \\\n",
       "0     18     4     4           2          2         0       4         3   \n",
       "1     17     1     1           1          2         0       5         3   \n",
       "2     15     1     1           1          2         3       4         3   \n",
       "3     15     4     2           1          3         0       3         2   \n",
       "4     16     3     3           1          2         0       4         3   \n",
       "..   ...   ...   ...         ...        ...       ...     ...       ...   \n",
       "390   20     2     2           1          2         2       5         5   \n",
       "391   17     3     1           2          1         0       2         4   \n",
       "392   21     1     1           1          1         3       5         5   \n",
       "393   18     3     2           3          1         0       4         4   \n",
       "394   19     1     1           1          1         0       3         2   \n",
       "\n",
       "     goout  Dalc  ...  activities_no  activities_yes  nursery_no  nursery_yes  \\\n",
       "0        4     1  ...              1               0           0            1   \n",
       "1        3     1  ...              1               0           1            0   \n",
       "2        2     2  ...              1               0           0            1   \n",
       "3        2     1  ...              0               1           0            1   \n",
       "4        2     1  ...              1               0           0            1   \n",
       "..     ...   ...  ...            ...             ...         ...          ...   \n",
       "390      4     4  ...              1               0           0            1   \n",
       "391      5     3  ...              1               0           1            0   \n",
       "392      3     3  ...              1               0           1            0   \n",
       "393      1     3  ...              1               0           1            0   \n",
       "394      3     3  ...              1               0           0            1   \n",
       "\n",
       "     higher_no  higher_yes  internet_no  internet_yes  romantic_no  \\\n",
       "0            0           1            1             0            1   \n",
       "1            0           1            0             1            1   \n",
       "2            0           1            0             1            1   \n",
       "3            0           1            0             1            0   \n",
       "4            0           1            1             0            1   \n",
       "..         ...         ...          ...           ...          ...   \n",
       "390          0           1            1             0            1   \n",
       "391          0           1            0             1            1   \n",
       "392          0           1            1             0            1   \n",
       "393          0           1            0             1            1   \n",
       "394          0           1            0             1            1   \n",
       "\n",
       "     romantic_yes  \n",
       "0               0  \n",
       "1               0  \n",
       "2               0  \n",
       "3               1  \n",
       "4               0  \n",
       "..            ...  \n",
       "390             0  \n",
       "391             0  \n",
       "392             0  \n",
       "393             0  \n",
       "394             0  \n",
       "\n",
       "[395 rows x 59 columns]"
      ]
     },
     "execution_count": 4,
     "metadata": {},
     "output_type": "execute_result"
    }
   ],
   "source": [
    "df_bi=pd.get_dummies(df_bi,columns=['sex','school','address','famsize','Pstatus','Mjob','Fjob',\n",
    "                                 'reason','guardian','schoolsup','famsup','paid','activities',\n",
    "                                'nursery','higher','internet','romantic'])\n",
    "df_bi"
   ]
  },
  {
   "cell_type": "markdown",
   "id": "84ba2281-be19-4363-9fac-b193880be256",
   "metadata": {},
   "source": [
    "### shuffle data"
   ]
  },
  {
   "cell_type": "code",
   "execution_count": 5,
   "id": "ed1c0a64-8118-4ffd-8fcc-9d53e2aa62da",
   "metadata": {},
   "outputs": [],
   "source": [
    "df_bi=sklearn.utils.shuffle(df_bi)"
   ]
  },
  {
   "cell_type": "markdown",
   "id": "74a72ae7-37d6-49da-a8d8-50feca20102c",
   "metadata": {},
   "source": [
    "### split training and testing data"
   ]
  },
  {
   "cell_type": "code",
   "execution_count": 6,
   "id": "d62d7f5a-2146-431a-ac08-899c61b87400",
   "metadata": {},
   "outputs": [],
   "source": [
    "y = df_bi['pass'].values\n",
    "x = df_bi.drop(['pass'], axis=1).values"
   ]
  },
  {
   "cell_type": "markdown",
   "id": "de701f06-d371-4fc1-9ea5-9b40d17b87c3",
   "metadata": {},
   "source": [
    "### Build Table"
   ]
  },
  {
   "cell_type": "code",
   "execution_count": 368,
   "id": "6c0e1470-d59c-4ea2-b5d1-3fe167e63fe8",
   "metadata": {},
   "outputs": [],
   "source": [
    "table1=prettytable.PrettyTable()\n",
    "table1.field_names=['[Binary] Decision Tree ','Accuracy','Recall','Precision']\n",
    "\n",
    "table2=prettytable.PrettyTable()\n",
    "table2.field_names=['[Binary] Random Forest','Accuracy','Recall','Precision']\n",
    "\n",
    "table3=prettytable.PrettyTable()\n",
    "table3.field_names=['[Binary] KNN Classifier ','Accuracy','Recall','Precision']"
   ]
  },
  {
   "cell_type": "markdown",
   "id": "86a659fa-ddaf-4996-bd59-c64b0b47feaf",
   "metadata": {},
   "source": [
    "# Model Construction \n",
    "* The data consists of both categorical and numerical features, and you have to treat them differently.\n",
    "* Decision Tree, Random Forest, and K-Nearest Neighbor."
   ]
  },
  {
   "cell_type": "markdown",
   "id": "c1570d86-66aa-4f4d-b837-396b5a169ec8",
   "metadata": {},
   "source": [
    "## Without PCA\n",
    "### Decision Tree"
   ]
  },
  {
   "cell_type": "code",
   "execution_count": 369,
   "id": "f3b20d21-9309-44c9-8c8d-cc99c661fb77",
   "metadata": {},
   "outputs": [],
   "source": [
    "dtc = DecisionTreeClassifier()"
   ]
  },
  {
   "cell_type": "code",
   "execution_count": 370,
   "id": "6396e4cb-36fa-479e-89c2-c9cdbf91696b",
   "metadata": {},
   "outputs": [
    {
     "name": "stdout",
     "output_type": "stream",
     "text": [
      "K-fold cross-validation accuracy: 89.31%\n"
     ]
    }
   ],
   "source": [
    "# K-fold cross-validation with 𝐾=3\n",
    "from sklearn.model_selection import KFold\n",
    "kf=KFold(n_splits=3, random_state=None, shuffle=True)\n",
    "\n",
    "matrix_list=list()\n",
    "accuracies=[]\n",
    "kf_acc=[]\n",
    "kf_recall=[]\n",
    "kf_prec=[]\n",
    "\n",
    "for train_index, test_index in kf.split(x):\n",
    "    x_train, x_test = x[train_index], x[test_index]\n",
    "    y_train, y_test = y[train_index], y[test_index]\n",
    "    dtc.fit(x_train,y_train)\n",
    "    matrix_list.append(confusion_matrix(y_test, dtc.predict(x_test)))\n",
    "    kf_acc=accuracy_score(y_test,dtc.predict(x_test))\n",
    "    kf_recall=recall_score(y_test,dtc.predict(x_test),average='weighted')\n",
    "    kf_prec=precision_score(y_test,dtc.predict(x_test),average='weighted')\n",
    "    \n",
    "    accuracies=dtc.score(x_test,y_test)\n",
    "\n",
    "acc_avg=np.mean(accuracies)\n",
    "print(\"K-fold cross-validation accuracy: {}%\".format(round(acc_avg*100,2)))\n",
    "\n",
    "matrix_list=np.average(np.array(matrix_list),axis=0)"
   ]
  },
  {
   "cell_type": "code",
   "execution_count": 371,
   "id": "ba1a9ce0-fa2f-4b3b-ba90-4f33f9f72116",
   "metadata": {},
   "outputs": [
    {
     "data": {
      "image/png": "[encoded data removed]",
      "text/plain": [
       "<Figure size 360x360 with 2 Axes>"
      ]
     },
     "metadata": {
      "needs_background": "light"
     },
     "output_type": "display_data"
    }
   ],
   "source": [
    "from sklearn import metrics\n",
    "f, ax = plt.subplots(figsize =(5,5))\n",
    "sns.heatmap(matrix_list,annot = True,linewidths=0.5,linecolor=\"red\",fmt = \".0f\",ax=ax)\n",
    "plt.xlabel(\"y_pred\")\n",
    "plt.ylabel(\"y_true\")\n",
    "plt.title(\"Decision Tree K-fold Confusion Matrix\")\n",
    "plt.show()"
   ]
  },
  {
   "cell_type": "code",
   "execution_count": 372,
   "id": "800f2d56-047d-48ec-9d2f-40215648f8fe",
   "metadata": {},
   "outputs": [
    {
     "name": "stdout",
     "output_type": "stream",
     "text": [
      "+---------------------------+----------+--------+-----------+\n",
      "|  [Binary] Decision Tree   | Accuracy | Recall | Precision |\n",
      "+---------------------------+----------+--------+-----------+\n",
      "| Decision Tree without PCA |  89.313  | 89.313 |  89.8136  |\n",
      "+---------------------------+----------+--------+-----------+\n"
     ]
    }
   ],
   "source": [
    "acc=round(np.mean(kf_acc)*100,4)\n",
    "recall=round(np.mean(kf_recall)*100,4)\n",
    "prec=round(np.mean(kf_prec)*100,4)\n",
    "\n",
    "table1.add_row([\"Decision Tree without PCA\",acc,recall,prec])\n",
    "print(table1)"
   ]
  },
  {
   "cell_type": "code",
   "execution_count": 373,
   "id": "cf32243a-8cef-425f-bc44-8db445e0a278",
   "metadata": {},
   "outputs": [
    {
     "name": "stdout",
     "output_type": "stream",
     "text": [
      "              precision    recall  f1-score   support\n",
      "\n",
      "           0      0.780     0.865     0.821        37\n",
      "           1      0.944     0.904     0.924        94\n",
      "\n",
      "    accuracy                          0.893       131\n",
      "   macro avg      0.862     0.885     0.872       131\n",
      "weighted avg      0.898     0.893     0.895       131\n",
      "\n"
     ]
    }
   ],
   "source": [
    "# Print the precision and recall, among other metrics\n",
    "print(metrics.classification_report(y_test, dtc.predict(x_test), digits=3))"
   ]
  },
  {
   "cell_type": "markdown",
   "id": "0b770f24-a4ca-4c35-9118-e2916d9b0409",
   "metadata": {},
   "source": [
    "### Random Forest\n",
    "* numbers of trees=10"
   ]
  },
  {
   "cell_type": "code",
   "execution_count": 374,
   "id": "afb87918-f10a-491d-b6bd-dad571af0619",
   "metadata": {},
   "outputs": [],
   "source": [
    "# n trees=10\n",
    "forest1 = RandomForestClassifier(n_estimators=10)"
   ]
  },
  {
   "cell_type": "code",
   "execution_count": 375,
   "id": "47c0a51c-5076-4ae1-928e-c47c48900e69",
   "metadata": {},
   "outputs": [
    {
     "name": "stdout",
     "output_type": "stream",
     "text": [
      "K-fold cross-validation accuracy: 87.02%\n"
     ]
    }
   ],
   "source": [
    "# K-fold cross-validation with 𝐾=3\n",
    "from sklearn.model_selection import KFold\n",
    "kf=KFold(n_splits=3, random_state=None, shuffle=True)\n",
    "\n",
    "matrix_list=list()\n",
    "accuracies=[]\n",
    "kf_acc=[]\n",
    "kf_recall=[]\n",
    "kf_prec=[]\n",
    "\n",
    "for train_index, test_index in kf.split(x):\n",
    "    x_train, x_test = x[train_index], x[test_index]\n",
    "    y_train, y_test = y[train_index], y[test_index]\n",
    "    forest1.fit(x_train,y_train)\n",
    "    matrix_list.append(confusion_matrix(y_test, forest1.predict(x_test)))\n",
    "    kf_acc=accuracy_score(y_test,forest1.predict(x_test))\n",
    "    kf_recall=recall_score(y_test,forest1.predict(x_test))\n",
    "    kf_prec=precision_score(y_test,forest1.predict(x_test))\n",
    "    \n",
    "    accuracies=forest1.score(x_test,y_test)\n",
    "\n",
    "acc_avg=np.mean(accuracies)\n",
    "print(\"K-fold cross-validation accuracy: {}%\".format(round(acc_avg*100,2)))\n",
    "\n",
    "matrix_list=np.average(np.array(matrix_list),axis=0)"
   ]
  },
  {
   "cell_type": "code",
   "execution_count": 376,
   "id": "3607a4d6-9c7f-4762-8b0a-781ffe09df18",
   "metadata": {},
   "outputs": [
    {
     "data": {
      "image/png": "[encoded data removed]",
      "text/plain": [
       "<Figure size 360x360 with 2 Axes>"
      ]
     },
     "metadata": {
      "needs_background": "light"
     },
     "output_type": "display_data"
    }
   ],
   "source": [
    "from sklearn import metrics\n",
    "f, ax = plt.subplots(figsize =(5,5))\n",
    "sns.heatmap(matrix_list,annot = True,linewidths=0.5,linecolor=\"red\",fmt = \".0f\",ax=ax)\n",
    "plt.xlabel(\"y_pred\")\n",
    "plt.ylabel(\"y_true\")\n",
    "plt.title(\"Random Forest(n=10) K-fold Confusion Matrix\")\n",
    "plt.show()"
   ]
  },
  {
   "cell_type": "code",
   "execution_count": 377,
   "id": "0c3b6f2e-6c3c-4479-a879-8d3e8170e9b5",
   "metadata": {},
   "outputs": [
    {
     "name": "stdout",
     "output_type": "stream",
     "text": [
      "+---------------------------------+----------+--------+-----------+\n",
      "|      [Binary] Random Forest     | Accuracy | Recall | Precision |\n",
      "+---------------------------------+----------+--------+-----------+\n",
      "| Random Forest(n=10) without PCA | 87.0229  | 88.764 |  91.8605  |\n",
      "+---------------------------------+----------+--------+-----------+\n"
     ]
    }
   ],
   "source": [
    "acc=round(np.mean(kf_acc)*100,4)\n",
    "recall=round(np.mean(kf_recall)*100,4)\n",
    "prec=round(np.mean(kf_prec)*100,4)\n",
    "\n",
    "table2.add_row([\"Random Forest(n=10) without PCA\",acc,recall,prec])\n",
    "print(table2)"
   ]
  },
  {
   "cell_type": "code",
   "execution_count": 378,
   "id": "6dbe204b-5a0d-4eba-bdcb-7da2b938b953",
   "metadata": {},
   "outputs": [
    {
     "name": "stdout",
     "output_type": "stream",
     "text": [
      "              precision    recall  f1-score   support\n",
      "\n",
      "           0      0.778     0.833     0.805        42\n",
      "           1      0.919     0.888     0.903        89\n",
      "\n",
      "    accuracy                          0.870       131\n",
      "   macro avg      0.848     0.860     0.854       131\n",
      "weighted avg      0.873     0.870     0.871       131\n",
      "\n"
     ]
    }
   ],
   "source": [
    "print(metrics.classification_report(y_test, forest1.predict(x_test), digits=3))"
   ]
  },
  {
   "cell_type": "markdown",
   "id": "1bef6c09-976a-434e-b562-cc785425ca2f",
   "metadata": {},
   "source": [
    "### KNN Classifier"
   ]
  },
  {
   "cell_type": "markdown",
   "id": "59cf024e-a1be-4892-aa6a-63236050c886",
   "metadata": {},
   "source": [
    "* neighbors=5"
   ]
  },
  {
   "cell_type": "code",
   "execution_count": 7,
   "id": "2dc6fd84-5d1e-47b8-8856-9a9b86b0660e",
   "metadata": {},
   "outputs": [],
   "source": [
    "knn = KNeighborsClassifier(n_neighbors=5)"
   ]
  },
  {
   "cell_type": "code",
   "execution_count": 8,
   "id": "53ee9ab5-9494-4b26-9a4a-5c92a663c1f0",
   "metadata": {},
   "outputs": [
    {
     "name": "stdout",
     "output_type": "stream",
     "text": [
      "K-fold cross-validation accuracy: 87.79%\n"
     ]
    }
   ],
   "source": [
    "# K-fold cross-validation with 𝐾=3\n",
    "from sklearn.model_selection import KFold\n",
    "kf=KFold(n_splits=3, random_state=None, shuffle=True)\n",
    "\n",
    "matrix_list=list()\n",
    "accuracies=[]\n",
    "kf_acc=[]\n",
    "kf_recall=[]\n",
    "kf_prec=[]\n",
    "\n",
    "for train_index, test_index in kf.split(x):\n",
    "    x_train, x_test = x[train_index], x[test_index]\n",
    "    y_train, y_test = y[train_index], y[test_index]\n",
    "    knn.fit(x_train,y_train)\n",
    "    matrix_list.append(confusion_matrix(y_test, knn.predict(x_test)))\n",
    "    kf_acc=accuracy_score(y_test,knn.predict(x_test))\n",
    "    kf_recall=recall_score(y_test,knn.predict(x_test))\n",
    "    kf_prec=precision_score(y_test,knn.predict(x_test))\n",
    "    \n",
    "    accuracies=knn.score(x_test,y_test)\n",
    "\n",
    "acc_avg=np.mean(accuracies)\n",
    "print(\"K-fold cross-validation accuracy: {}%\".format(round(acc_avg*100,2)))\n",
    "\n",
    "matrix_list=np.average(np.array(matrix_list),axis=0)"
   ]
  },
  {
   "cell_type": "code",
   "execution_count": 9,
   "id": "5da6f61f-fd05-4baf-b3f9-3ece7904f06d",
   "metadata": {},
   "outputs": [
    {
     "data": {
      "image/png": "[encoded data removed]",
      "text/plain": [
       "<Figure size 360x360 with 2 Axes>"
      ]
     },
     "metadata": {
      "needs_background": "light"
     },
     "output_type": "display_data"
    }
   ],
   "source": [
    "from sklearn import metrics\n",
    "f, ax = plt.subplots(figsize =(5,5))\n",
    "sns.heatmap(matrix_list,annot = True,linewidths=0.5,linecolor=\"red\",fmt = \".0f\",ax=ax)\n",
    "plt.xlabel(\"y_pred\")\n",
    "plt.ylabel(\"y_true\")\n",
    "plt.title(\"KNN Classifier(n=5) K-fold Confusion Matrix\")\n",
    "plt.show()"
   ]
  },
  {
   "cell_type": "code",
   "execution_count": 15,
   "id": "114ca0b4-8057-497b-8cac-91f5a91eabd6",
   "metadata": {},
   "outputs": [],
   "source": [
    "error_rate=[]\n",
    "\n",
    "for i in range(1,60):\n",
    "    knn=KNeighborsClassifier(n_neighbors=i)\n",
    "    knn.fit(x_train,y_train)\n",
    "    pred_list=knn.predict(x_test)\n",
    "    error_rate.append(np.mean(pred_list!=y_test))"
   ]
  },
  {
   "cell_type": "code",
   "execution_count": 16,
   "id": "7ba5c12f-ef4b-4799-ba7c-3be699007ba0",
   "metadata": {},
   "outputs": [
    {
     "data": {
      "text/plain": [
       "[<matplotlib.lines.Line2D at 0x1a49d2ec970>]"
      ]
     },
     "execution_count": 16,
     "metadata": {},
     "output_type": "execute_result"
    },
    {
     "data": {
      "image/png": "[encoded data removed]",
      "text/plain": [
       "<Figure size 720x432 with 1 Axes>"
      ]
     },
     "metadata": {
      "needs_background": "light"
     },
     "output_type": "display_data"
    }
   ],
   "source": [
    "plt.figure(figsize=(10,6))\n",
    "plt.plot(range(1,60),error_rate,color='blue',marker='o')"
   ]
  },
  {
   "cell_type": "code",
   "execution_count": 17,
   "id": "13541a69-cb71-4a48-b435-9c5af2c28a2b",
   "metadata": {},
   "outputs": [
    {
     "ename": "NameError",
     "evalue": "name 'table3' is not defined",
     "output_type": "error",
     "traceback": [
      "\u001b[1;31m---------------------------------------------------------------------------\u001b[0m",
      "\u001b[1;31mNameError\u001b[0m                                 Traceback (most recent call last)",
      "\u001b[1;32m~\\AppData\\Local\\Temp/ipykernel_16036/1370095072.py\u001b[0m in \u001b[0;36m<module>\u001b[1;34m\u001b[0m\n\u001b[0;32m      3\u001b[0m \u001b[0mprec\u001b[0m\u001b[1;33m=\u001b[0m\u001b[0mround\u001b[0m\u001b[1;33m(\u001b[0m\u001b[0mnp\u001b[0m\u001b[1;33m.\u001b[0m\u001b[0mmean\u001b[0m\u001b[1;33m(\u001b[0m\u001b[0mkf_prec\u001b[0m\u001b[1;33m)\u001b[0m\u001b[1;33m*\u001b[0m\u001b[1;36m100\u001b[0m\u001b[1;33m,\u001b[0m\u001b[1;36m4\u001b[0m\u001b[1;33m)\u001b[0m\u001b[1;33m\u001b[0m\u001b[1;33m\u001b[0m\u001b[0m\n\u001b[0;32m      4\u001b[0m \u001b[1;33m\u001b[0m\u001b[0m\n\u001b[1;32m----> 5\u001b[1;33m \u001b[0mtable3\u001b[0m\u001b[1;33m.\u001b[0m\u001b[0madd_row\u001b[0m\u001b[1;33m(\u001b[0m\u001b[1;33m[\u001b[0m\u001b[1;34m\"KNN Classifier(n=5) without PCA\"\u001b[0m\u001b[1;33m,\u001b[0m\u001b[0macc\u001b[0m\u001b[1;33m,\u001b[0m\u001b[0mrecall\u001b[0m\u001b[1;33m,\u001b[0m\u001b[0mprec\u001b[0m\u001b[1;33m]\u001b[0m\u001b[1;33m)\u001b[0m\u001b[1;33m\u001b[0m\u001b[1;33m\u001b[0m\u001b[0m\n\u001b[0m\u001b[0;32m      6\u001b[0m \u001b[0mprint\u001b[0m\u001b[1;33m(\u001b[0m\u001b[0mtable3\u001b[0m\u001b[1;33m)\u001b[0m\u001b[1;33m\u001b[0m\u001b[1;33m\u001b[0m\u001b[0m\n",
      "\u001b[1;31mNameError\u001b[0m: name 'table3' is not defined"
     ]
    }
   ],
   "source": [
    "acc=round(np.mean(kf_acc)*100,4)\n",
    "recall=round(np.mean(kf_recall)*100,4)\n",
    "prec=round(np.mean(kf_prec)*100,4)\n",
    "\n",
    "table3.add_row([\"KNN Classifier(n=5) without PCA\",acc,recall,prec])\n",
    "print(table3)"
   ]
  },
  {
   "cell_type": "code",
   "execution_count": 383,
   "id": "5215c3cc-865d-4008-8159-934bea381d1e",
   "metadata": {},
   "outputs": [
    {
     "name": "stdout",
     "output_type": "stream",
     "text": [
      "              precision    recall  f1-score   support\n",
      "\n",
      "           0      0.775     0.721     0.747        43\n",
      "           1      0.868     0.898     0.883        88\n",
      "\n",
      "    accuracy                          0.840       131\n",
      "   macro avg      0.822     0.809     0.815       131\n",
      "weighted avg      0.838     0.840     0.838       131\n",
      "\n"
     ]
    }
   ],
   "source": [
    "print(metrics.classification_report(y_test, knn.predict(x_test), digits=3))"
   ]
  },
  {
   "cell_type": "markdown",
   "id": "7c5d6bd7-5c24-45cb-a3c8-16f9516459f7",
   "metadata": {},
   "source": [
    "## With PCA"
   ]
  },
  {
   "cell_type": "markdown",
   "id": "6fe37f38-d2c2-4205-aae5-9b14cc9959ce",
   "metadata": {},
   "source": [
    "## Principal components analysis (PCA)\n",
    "* Compare the results between using the original data and the dimension-reduced one."
   ]
  },
  {
   "cell_type": "markdown",
   "id": "83d5a0dc-4b7a-407b-9e29-14cbf69518cd",
   "metadata": {},
   "source": [
    "### Decision Tree"
   ]
  },
  {
   "cell_type": "code",
   "execution_count": 384,
   "id": "c14f65bf-4236-4b72-83f0-ee0d17971a16",
   "metadata": {},
   "outputs": [],
   "source": [
    "dtc = DecisionTreeClassifier()"
   ]
  },
  {
   "cell_type": "code",
   "execution_count": 385,
   "id": "6e63fc73-a375-4f8c-a3f0-a3cdebe02555",
   "metadata": {},
   "outputs": [
    {
     "name": "stdout",
     "output_type": "stream",
     "text": [
      "K-fold cross-validation accuracy: 89.31%\n"
     ]
    }
   ],
   "source": [
    "# K-fold cross-validation with 𝐾=3\n",
    "from sklearn.model_selection import KFold\n",
    "kf=KFold(n_splits=3, random_state=None, shuffle=True)\n",
    "\n",
    "matrix_list=list()\n",
    "accuracies=[]\n",
    "kf_acc=[]\n",
    "kf_recall=[]\n",
    "kf_prec=[]\n",
    "\n",
    "for train_index, test_index in kf.split(x):\n",
    "    x_train, x_test = x[train_index], x[test_index]\n",
    "    y_train, y_test = y[train_index], y[test_index]\n",
    "    pca = PCA(n_components='mle')\n",
    "    pca.fit(x_train)\n",
    "    x_train=pca.transform(x_train)\n",
    "    x_test=pca.transform(x_test)\n",
    "    dtc.fit(x_train,y_train)\n",
    "    matrix_list.append(confusion_matrix(y_test, dtc.predict(x_test)))\n",
    "    kf_acc=accuracy_score(y_test,dtc.predict(x_test))\n",
    "    kf_recall=recall_score(y_test,dtc.predict(x_test),average='weighted')\n",
    "    kf_prec=precision_score(y_test,dtc.predict(x_test),average='weighted')\n",
    "    \n",
    "    accuracies=dtc.score(x_test,y_test)\n",
    "\n",
    "acc_avg=np.mean(accuracies)\n",
    "print(\"K-fold cross-validation accuracy: {}%\".format(round(acc_avg*100,2)))\n",
    "\n",
    "matrix_list=np.average(np.array(matrix_list),axis=0)"
   ]
  },
  {
   "cell_type": "code",
   "execution_count": 386,
   "id": "ca66952f-dae7-4e58-ad11-e6699478d42a",
   "metadata": {},
   "outputs": [
    {
     "data": {
      "image/png": "[encoded data removed]",
      "text/plain": [
       "<Figure size 360x360 with 2 Axes>"
      ]
     },
     "metadata": {
      "needs_background": "light"
     },
     "output_type": "display_data"
    }
   ],
   "source": [
    "from sklearn import metrics\n",
    "f, ax = plt.subplots(figsize =(5,5))\n",
    "sns.heatmap(matrix_list,annot = True,linewidths=0.5,linecolor=\"red\",fmt = \".0f\",ax=ax)\n",
    "plt.xlabel(\"y_pred\")\n",
    "plt.ylabel(\"y_true\")\n",
    "plt.title(\"Decision Tree K-fold Confusion Matrix\")\n",
    "plt.show()"
   ]
  },
  {
   "cell_type": "code",
   "execution_count": 387,
   "id": "500cc151-2d44-441e-8d74-613e667a5db3",
   "metadata": {},
   "outputs": [
    {
     "name": "stdout",
     "output_type": "stream",
     "text": [
      "+---------------------------+----------+--------+-----------+\n",
      "|  [Binary] Decision Tree   | Accuracy | Recall | Precision |\n",
      "+---------------------------+----------+--------+-----------+\n",
      "| Decision Tree without PCA |  89.313  | 89.313 |  89.8136  |\n",
      "|   Decision Tree with PCA  |  89.313  | 89.313 |  89.2635  |\n",
      "+---------------------------+----------+--------+-----------+\n"
     ]
    }
   ],
   "source": [
    "acc=round(np.mean(kf_acc)*100,4)\n",
    "recall=round(np.mean(kf_recall)*100,4)\n",
    "prec=round(np.mean(kf_prec)*100,4)\n",
    "\n",
    "table1.add_row([\"Decision Tree with PCA\",acc,recall,prec])\n",
    "print(table1)"
   ]
  },
  {
   "cell_type": "code",
   "execution_count": 388,
   "id": "3bfe6582-7107-49e0-aed1-2bc393bc3039",
   "metadata": {},
   "outputs": [
    {
     "name": "stdout",
     "output_type": "stream",
     "text": [
      "              precision    recall  f1-score   support\n",
      "\n",
      "           0      0.872     0.837     0.854        49\n",
      "           1      0.905     0.927     0.916        82\n",
      "\n",
      "    accuracy                          0.893       131\n",
      "   macro avg      0.889     0.882     0.885       131\n",
      "weighted avg      0.893     0.893     0.893       131\n",
      "\n"
     ]
    }
   ],
   "source": [
    "print(metrics.classification_report(y_test, dtc.predict(x_test), digits=3))"
   ]
  },
  {
   "cell_type": "markdown",
   "id": "229b8ae8-88be-4072-ac69-3e3a68b3de3c",
   "metadata": {},
   "source": [
    "### Random Forest\n",
    "* numbers of trees=10"
   ]
  },
  {
   "cell_type": "code",
   "execution_count": 389,
   "id": "17c6e49d-4ce9-4bce-9b06-5cd6e0a80d93",
   "metadata": {},
   "outputs": [],
   "source": [
    "# n trees=10\n",
    "forest1 = RandomForestClassifier(n_estimators=10)"
   ]
  },
  {
   "cell_type": "code",
   "execution_count": 390,
   "id": "1720206b-5fbd-47bb-909b-1034aaf8f4ed",
   "metadata": {},
   "outputs": [
    {
     "name": "stdout",
     "output_type": "stream",
     "text": [
      "K-fold cross-validation accuracy: 90.08%\n"
     ]
    }
   ],
   "source": [
    "# K-fold cross-validation with 𝐾=3\n",
    "from sklearn.model_selection import KFold\n",
    "kf=KFold(n_splits=3, random_state=None, shuffle=True)\n",
    "\n",
    "matrix_list=list()\n",
    "accuracies=[]\n",
    "kf_acc=[]\n",
    "kf_recall=[]\n",
    "kf_prec=[]\n",
    "\n",
    "for train_index, test_index in kf.split(x):\n",
    "    x_train, x_test = x[train_index], x[test_index]\n",
    "    y_train, y_test = y[train_index], y[test_index]\n",
    "    pca = PCA(n_components='mle')\n",
    "    pca.fit(x_train)\n",
    "    x_train=pca.transform(x_train)\n",
    "    x_test=pca.transform(x_test)\n",
    "    forest1.fit(x_train,y_train)\n",
    "    matrix_list.append(confusion_matrix(y_test, forest1.predict(x_test)))\n",
    "    kf_acc=accuracy_score(y_test,forest1.predict(x_test))\n",
    "    kf_recall=recall_score(y_test,forest1.predict(x_test),average='weighted')\n",
    "    kf_prec=precision_score(y_test,forest1.predict(x_test),average='weighted')\n",
    "    \n",
    "    accuracies=forest1.score(x_test,y_test)\n",
    "\n",
    "acc_avg=np.mean(accuracies)\n",
    "print(\"K-fold cross-validation accuracy: {}%\".format(round(acc_avg*100,2)))\n",
    "\n",
    "matrix_list=np.average(np.array(matrix_list),axis=0)"
   ]
  },
  {
   "cell_type": "code",
   "execution_count": 391,
   "id": "26ceeec4-ac94-422d-9e2c-48e575779dc3",
   "metadata": {},
   "outputs": [
    {
     "data": {
      "image/png": "[encoded data removed]",
      "text/plain": [
       "<Figure size 360x360 with 2 Axes>"
      ]
     },
     "metadata": {
      "needs_background": "light"
     },
     "output_type": "display_data"
    }
   ],
   "source": [
    "from sklearn import metrics\n",
    "f, ax = plt.subplots(figsize =(5,5))\n",
    "sns.heatmap(matrix_list,annot = True,linewidths=0.5,linecolor=\"red\",fmt = \".0f\",ax=ax)\n",
    "plt.xlabel(\"y_pred\")\n",
    "plt.ylabel(\"y_true\")\n",
    "plt.title(\"Random Forest(n=10) K-fold Confusion Matrix\")\n",
    "plt.show()"
   ]
  },
  {
   "cell_type": "code",
   "execution_count": 392,
   "id": "c10c2f8a-0708-4e26-a304-b0399e5fa421",
   "metadata": {},
   "outputs": [
    {
     "name": "stdout",
     "output_type": "stream",
     "text": [
      "+---------------------------------+----------+---------+-----------+\n",
      "|      [Binary] Random Forest     | Accuracy |  Recall | Precision |\n",
      "+---------------------------------+----------+---------+-----------+\n",
      "| Random Forest(n=10) without PCA | 87.0229  |  88.764 |  91.8605  |\n",
      "|   Random Forest(n=10) with PCA  | 90.0763  | 90.0763 |  89.9642  |\n",
      "+---------------------------------+----------+---------+-----------+\n"
     ]
    }
   ],
   "source": [
    "acc=round(np.mean(kf_acc)*100,4)\n",
    "recall=round(np.mean(kf_recall)*100,4)\n",
    "prec=round(np.mean(kf_prec)*100,4)\n",
    "\n",
    "table2.add_row([\"Random Forest(n=10) with PCA\",acc,recall,prec])\n",
    "print(table2)"
   ]
  },
  {
   "cell_type": "code",
   "execution_count": 393,
   "id": "68cc5e51-48a1-4e6e-8b52-7af1887f76f4",
   "metadata": {},
   "outputs": [
    {
     "name": "stdout",
     "output_type": "stream",
     "text": [
      "              precision    recall  f1-score   support\n",
      "\n",
      "           0      0.879     0.763     0.817        38\n",
      "           1      0.908     0.957     0.932        93\n",
      "\n",
      "    accuracy                          0.901       131\n",
      "   macro avg      0.893     0.860     0.874       131\n",
      "weighted avg      0.900     0.901     0.899       131\n",
      "\n"
     ]
    }
   ],
   "source": [
    "print(metrics.classification_report(y_test, forest1.predict(x_test), digits=3))"
   ]
  },
  {
   "cell_type": "markdown",
   "id": "f0e0b362-e706-46d9-9ea0-c0f14940c300",
   "metadata": {},
   "source": [
    "* numbers of trees=20"
   ]
  },
  {
   "cell_type": "code",
   "execution_count": 394,
   "id": "56c788ff-73e6-4dd4-910a-ef7fc89ee6fa",
   "metadata": {},
   "outputs": [],
   "source": [
    "# n trees=20\n",
    "forest2 = RandomForestClassifier(n_estimators=20)"
   ]
  },
  {
   "cell_type": "code",
   "execution_count": 395,
   "id": "d2c8e39c-65dd-4518-9235-0d923ab6b725",
   "metadata": {},
   "outputs": [
    {
     "name": "stdout",
     "output_type": "stream",
     "text": [
      "K-fold cross-validation accuracy: 90.08%\n"
     ]
    }
   ],
   "source": [
    "# K-fold cross-validation with 𝐾=3\n",
    "from sklearn.model_selection import KFold\n",
    "kf=KFold(n_splits=3, random_state=None, shuffle=True)\n",
    "\n",
    "matrix_list=list()\n",
    "accuracies=[]\n",
    "kf_acc=[]\n",
    "kf_recall=[]\n",
    "kf_prec=[]\n",
    "\n",
    "for train_index, test_index in kf.split(x):\n",
    "    x_train, x_test = x[train_index], x[test_index]\n",
    "    y_train, y_test = y[train_index], y[test_index]\n",
    "    pca = PCA(n_components='mle')\n",
    "    pca.fit(x_train)\n",
    "    x_train=pca.transform(x_train)\n",
    "    x_test=pca.transform(x_test)\n",
    "    forest2.fit(x_train,y_train)\n",
    "    matrix_list.append(confusion_matrix(y_test, forest2.predict(x_test)))\n",
    "    kf_acc=accuracy_score(y_test,forest2.predict(x_test))\n",
    "    kf_recall=recall_score(y_test,forest2.predict(x_test),average='weighted')\n",
    "    kf_prec=precision_score(y_test,forest2.predict(x_test),average='weighted')\n",
    "    \n",
    "    accuracies=forest2.score(x_test,y_test)\n",
    "\n",
    "acc_avg=np.mean(accuracies)\n",
    "print(\"K-fold cross-validation accuracy: {}%\".format(round(acc_avg*100,2)))\n",
    "\n",
    "matrix_list=np.average(np.array(matrix_list),axis=0)"
   ]
  },
  {
   "cell_type": "code",
   "execution_count": 396,
   "id": "a9cc6bc7-fdb4-4910-bd00-b8f30c38008e",
   "metadata": {},
   "outputs": [
    {
     "data": {
      "image/png": "[encoded data removed]",
      "text/plain": [
       "<Figure size 360x360 with 2 Axes>"
      ]
     },
     "metadata": {
      "needs_background": "light"
     },
     "output_type": "display_data"
    }
   ],
   "source": [
    "from sklearn import metrics\n",
    "f, ax = plt.subplots(figsize =(5,5))\n",
    "sns.heatmap(matrix_list,annot = True,linewidths=0.5,linecolor=\"red\",fmt = \".0f\",ax=ax)\n",
    "plt.xlabel(\"y_pred\")\n",
    "plt.ylabel(\"y_true\")\n",
    "plt.title(\"Random Forest(n=20) K-fold Confusion Matrix\")\n",
    "plt.show()"
   ]
  },
  {
   "cell_type": "code",
   "execution_count": 397,
   "id": "a53d0ff2-6393-4d09-abff-be0b550f2f34",
   "metadata": {},
   "outputs": [
    {
     "name": "stdout",
     "output_type": "stream",
     "text": [
      "+---------------------------------+----------+---------+-----------+\n",
      "|      [Binary] Random Forest     | Accuracy |  Recall | Precision |\n",
      "+---------------------------------+----------+---------+-----------+\n",
      "| Random Forest(n=10) without PCA | 87.0229  |  88.764 |  91.8605  |\n",
      "|   Random Forest(n=10) with PCA  | 90.0763  | 90.0763 |  89.9642  |\n",
      "|   Random Forest(n=20) with PCA  | 90.0763  | 90.0763 |  89.9618  |\n",
      "+---------------------------------+----------+---------+-----------+\n"
     ]
    }
   ],
   "source": [
    "acc=round(np.mean(kf_acc)*100,4)\n",
    "recall=round(np.mean(kf_recall)*100,4)\n",
    "prec=round(np.mean(kf_prec)*100,4)\n",
    "\n",
    "table2.add_row([\"Random Forest(n=20) with PCA\",acc,recall,prec])\n",
    "print(table2)"
   ]
  },
  {
   "cell_type": "code",
   "execution_count": 398,
   "id": "fcbeab1d-7fbe-4e8e-a70c-fc314b81af13",
   "metadata": {},
   "outputs": [
    {
     "name": "stdout",
     "output_type": "stream",
     "text": [
      "              precision    recall  f1-score   support\n",
      "\n",
      "           0      0.865     0.800     0.831        40\n",
      "           1      0.915     0.945     0.930        91\n",
      "\n",
      "    accuracy                          0.901       131\n",
      "   macro avg      0.890     0.873     0.880       131\n",
      "weighted avg      0.900     0.901     0.900       131\n",
      "\n"
     ]
    }
   ],
   "source": [
    "print(metrics.classification_report(y_test, forest2.predict(x_test), digits=3))"
   ]
  },
  {
   "cell_type": "markdown",
   "id": "8bcc37f3-40c8-4dc5-9ff9-4fa63ac043c3",
   "metadata": {},
   "source": [
    "* numbers of trees=30"
   ]
  },
  {
   "cell_type": "code",
   "execution_count": 399,
   "id": "c2624b92-c082-458e-a5d9-4fb0ae58e8f1",
   "metadata": {},
   "outputs": [],
   "source": [
    "# n trees=30\n",
    "forest3 = RandomForestClassifier(n_estimators=30)"
   ]
  },
  {
   "cell_type": "code",
   "execution_count": 400,
   "id": "56409972-38a8-4335-8119-876f45c73574",
   "metadata": {},
   "outputs": [
    {
     "name": "stdout",
     "output_type": "stream",
     "text": [
      "K-fold cross-validation accuracy: 88.55%\n"
     ]
    }
   ],
   "source": [
    "# K-fold cross-validation with 𝐾=3\n",
    "from sklearn.model_selection import KFold\n",
    "kf=KFold(n_splits=3, random_state=None, shuffle=True)\n",
    "\n",
    "matrix_list=list()\n",
    "accuracies=[]\n",
    "kf_acc=[]\n",
    "kf_recall=[]\n",
    "kf_prec=[]\n",
    "\n",
    "for train_index, test_index in kf.split(x):\n",
    "    x_train, x_test = x[train_index], x[test_index]\n",
    "    y_train, y_test = y[train_index], y[test_index]\n",
    "    pca = PCA(n_components='mle')\n",
    "    pca.fit(x_train)\n",
    "    x_train=pca.transform(x_train)\n",
    "    x_test=pca.transform(x_test)\n",
    "    forest3.fit(x_train,y_train)\n",
    "    matrix_list.append(confusion_matrix(y_test, forest3.predict(x_test)))\n",
    "    kf_acc=accuracy_score(y_test,forest3.predict(x_test))\n",
    "    kf_recall=recall_score(y_test,forest3.predict(x_test),average='weighted')\n",
    "    kf_prec=precision_score(y_test,forest3.predict(x_test),average='weighted')\n",
    "    \n",
    "    accuracies=forest3.score(x_test,y_test)\n",
    "\n",
    "acc_avg=np.mean(accuracies)\n",
    "print(\"K-fold cross-validation accuracy: {}%\".format(round(acc_avg*100,2)))\n",
    "\n",
    "matrix_list=np.average(np.array(matrix_list),axis=0)"
   ]
  },
  {
   "cell_type": "code",
   "execution_count": 401,
   "id": "bbeb45d4-3d91-4aa5-a8c3-a05b254aea25",
   "metadata": {},
   "outputs": [
    {
     "data": {
      "image/png": "[encoded data removed]",
      "text/plain": [
       "<Figure size 360x360 with 2 Axes>"
      ]
     },
     "metadata": {
      "needs_background": "light"
     },
     "output_type": "display_data"
    }
   ],
   "source": [
    "from sklearn import metrics\n",
    "f, ax = plt.subplots(figsize =(5,5))\n",
    "sns.heatmap(matrix_list,annot = True,linewidths=0.5,linecolor=\"red\",fmt = \".0f\",ax=ax)\n",
    "plt.xlabel(\"y_pred\")\n",
    "plt.ylabel(\"y_true\")\n",
    "plt.title(\"Random Forest(n=20) K-fold Confusion Matrix\")\n",
    "plt.show()"
   ]
  },
  {
   "cell_type": "code",
   "execution_count": 402,
   "id": "1ab4b0f8-f427-40b7-9dee-2605ded40c75",
   "metadata": {},
   "outputs": [
    {
     "name": "stdout",
     "output_type": "stream",
     "text": [
      "+---------------------------------+----------+---------+-----------+\n",
      "|      [Binary] Random Forest     | Accuracy |  Recall | Precision |\n",
      "+---------------------------------+----------+---------+-----------+\n",
      "| Random Forest(n=10) without PCA | 87.0229  |  88.764 |  91.8605  |\n",
      "|   Random Forest(n=10) with PCA  | 90.0763  | 90.0763 |  89.9642  |\n",
      "|   Random Forest(n=20) with PCA  | 90.0763  | 90.0763 |  89.9618  |\n",
      "|   Random Forest(n=30) with PCA  | 88.5496  | 88.5496 |  88.5019  |\n",
      "+---------------------------------+----------+---------+-----------+\n"
     ]
    }
   ],
   "source": [
    "acc=round(np.mean(kf_acc)*100,4)\n",
    "recall=round(np.mean(kf_recall)*100,4)\n",
    "prec=round(np.mean(kf_prec)*100,4)\n",
    "\n",
    "table2.add_row([\"Random Forest(n=30) with PCA\",acc,recall,prec])\n",
    "print(table2)"
   ]
  },
  {
   "cell_type": "code",
   "execution_count": 403,
   "id": "e2f43319-b017-49f6-8ef7-7520879e098a",
   "metadata": {},
   "outputs": [
    {
     "name": "stdout",
     "output_type": "stream",
     "text": [
      "              precision    recall  f1-score   support\n",
      "\n",
      "           0      0.844     0.826     0.835        46\n",
      "           1      0.907     0.918     0.912        85\n",
      "\n",
      "    accuracy                          0.885       131\n",
      "   macro avg      0.876     0.872     0.874       131\n",
      "weighted avg      0.885     0.885     0.885       131\n",
      "\n"
     ]
    }
   ],
   "source": [
    "print(metrics.classification_report(y_test, forest3.predict(x_test), digits=3))"
   ]
  },
  {
   "cell_type": "markdown",
   "id": "49e18dd6-73e4-4082-806c-814f52082ffd",
   "metadata": {},
   "source": [
    "### KNN Classifier\n",
    "* neighbors=3"
   ]
  },
  {
   "cell_type": "code",
   "execution_count": 404,
   "id": "bf22dd99-0de3-403f-8616-f06378546c9f",
   "metadata": {},
   "outputs": [],
   "source": [
    "knn = KNeighborsClassifier(n_neighbors=3)"
   ]
  },
  {
   "cell_type": "code",
   "execution_count": 405,
   "id": "ab7a2705-3c5d-45fe-b636-f4cc9c6e0893",
   "metadata": {},
   "outputs": [
    {
     "name": "stdout",
     "output_type": "stream",
     "text": [
      "K-fold cross-validation accuracy: 81.68%\n"
     ]
    }
   ],
   "source": [
    "# K-fold cross-validation with 𝐾=3\n",
    "from sklearn.model_selection import KFold\n",
    "kf=KFold(n_splits=3, random_state=None, shuffle=True)\n",
    "\n",
    "matrix_list=list()\n",
    "accuracies=[]\n",
    "kf_acc=[]\n",
    "kf_recall=[]\n",
    "kf_prec=[]\n",
    "\n",
    "for train_index, test_index in kf.split(x):\n",
    "    x_train, x_test = x[train_index], x[test_index]\n",
    "    y_train, y_test = y[train_index], y[test_index]\n",
    "    pca = PCA(n_components='mle')\n",
    "    pca.fit(x_train)\n",
    "    x_train=pca.transform(x_train)\n",
    "    x_test=pca.transform(x_test)\n",
    "    knn.fit(x_train,y_train)\n",
    "    matrix_list.append(confusion_matrix(y_test, knn.predict(x_test)))\n",
    "    kf_acc=accuracy_score(y_test,knn.predict(x_test))\n",
    "    kf_recall=recall_score(y_test,knn.predict(x_test),average='weighted')\n",
    "    kf_prec=precision_score(y_test,knn.predict(x_test),average='weighted')\n",
    "    \n",
    "    accuracies=knn.score(x_test,y_test)\n",
    "\n",
    "acc_avg=np.mean(accuracies)\n",
    "print(\"K-fold cross-validation accuracy: {}%\".format(round(acc_avg*100,2)))\n",
    "\n",
    "matrix_list=np.average(np.array(matrix_list),axis=0)"
   ]
  },
  {
   "cell_type": "code",
   "execution_count": 406,
   "id": "970741ae-e511-44b0-a69a-342a51c5dbc9",
   "metadata": {},
   "outputs": [
    {
     "data": {
      "image/png": "[encoded data removed]",
      "text/plain": [
       "<Figure size 360x360 with 2 Axes>"
      ]
     },
     "metadata": {
      "needs_background": "light"
     },
     "output_type": "display_data"
    }
   ],
   "source": [
    "from sklearn import metrics\n",
    "f, ax = plt.subplots(figsize =(5,5))\n",
    "sns.heatmap(matrix_list,annot = True,linewidths=0.5,linecolor=\"red\",fmt = \".0f\",ax=ax)\n",
    "plt.xlabel(\"y_pred\")\n",
    "plt.ylabel(\"y_true\")\n",
    "plt.title(\"KNN Classifier K-fold Confusion Matrix\")\n",
    "plt.show()"
   ]
  },
  {
   "cell_type": "code",
   "execution_count": 407,
   "id": "cbaf4195-6451-4e68-8eb7-e8808cb80f7c",
   "metadata": {},
   "outputs": [
    {
     "name": "stdout",
     "output_type": "stream",
     "text": [
      "+---------------------------------+----------+---------+-----------+\n",
      "|     [Binary] KNN Classifier     | Accuracy |  Recall | Precision |\n",
      "+---------------------------------+----------+---------+-----------+\n",
      "| KNN Classifier(n=5) without PCA | 83.9695  | 89.7727 |  86.8132  |\n",
      "|   KNN Classifier(n=3) with PCA  | 81.6794  | 81.6794 |  82.3541  |\n",
      "+---------------------------------+----------+---------+-----------+\n"
     ]
    }
   ],
   "source": [
    "acc=round(np.mean(kf_acc)*100,4)\n",
    "recall=round(np.mean(kf_recall)*100,4)\n",
    "prec=round(np.mean(kf_prec)*100,4)\n",
    "\n",
    "table3.add_row([\"KNN Classifier(n=3) with PCA\",acc,recall,prec])\n",
    "print(table3)"
   ]
  },
  {
   "cell_type": "code",
   "execution_count": 408,
   "id": "5191cd30-9ff2-4b84-8a3e-4555b08e5e7e",
   "metadata": {},
   "outputs": [
    {
     "name": "stdout",
     "output_type": "stream",
     "text": [
      "              precision    recall  f1-score   support\n",
      "\n",
      "           0      0.667     0.737     0.700        38\n",
      "           1      0.888     0.849     0.868        93\n",
      "\n",
      "    accuracy                          0.817       131\n",
      "   macro avg      0.777     0.793     0.784       131\n",
      "weighted avg      0.824     0.817     0.819       131\n",
      "\n"
     ]
    }
   ],
   "source": [
    "print(metrics.classification_report(y_test, knn.predict(x_test), digits=3))"
   ]
  },
  {
   "cell_type": "markdown",
   "id": "0b230eb3-7c85-431c-9b1a-9a3e35cdff11",
   "metadata": {},
   "source": [
    "* neighbors=5"
   ]
  },
  {
   "cell_type": "code",
   "execution_count": 409,
   "id": "34035804-abb2-49e9-8cea-a5c32a1acd70",
   "metadata": {},
   "outputs": [],
   "source": [
    "knn = KNeighborsClassifier(n_neighbors=5)"
   ]
  },
  {
   "cell_type": "code",
   "execution_count": 410,
   "id": "c6fd442c-fa2b-44b1-819b-494ffda9d2c2",
   "metadata": {},
   "outputs": [
    {
     "name": "stdout",
     "output_type": "stream",
     "text": [
      "K-fold cross-validation accuracy: 84.73%\n"
     ]
    }
   ],
   "source": [
    "# K-fold cross-validation with 𝐾=3\n",
    "from sklearn.model_selection import KFold\n",
    "kf=KFold(n_splits=3, random_state=None, shuffle=True)\n",
    "\n",
    "matrix_list=list()\n",
    "accuracies=[]\n",
    "kf_acc=[]\n",
    "kf_recall=[]\n",
    "kf_prec=[]\n",
    "\n",
    "for train_index, test_index in kf.split(x):\n",
    "    x_train, x_test = x[train_index], x[test_index]\n",
    "    y_train, y_test = y[train_index], y[test_index]\n",
    "    pca = PCA(n_components='mle')\n",
    "    pca.fit(x_train)\n",
    "    x_train=pca.transform(x_train)\n",
    "    x_test=pca.transform(x_test)\n",
    "    knn.fit(x_train,y_train)\n",
    "    matrix_list.append(confusion_matrix(y_test, knn.predict(x_test)))\n",
    "    kf_acc=accuracy_score(y_test,knn.predict(x_test))\n",
    "    kf_recall=recall_score(y_test,knn.predict(x_test),average='weighted')\n",
    "    kf_prec=precision_score(y_test,knn.predict(x_test),average='weighted')\n",
    "    \n",
    "    accuracies=knn.score(x_test,y_test)\n",
    "\n",
    "acc_avg=np.mean(accuracies)\n",
    "print(\"K-fold cross-validation accuracy: {}%\".format(round(acc_avg*100,2)))\n",
    "\n",
    "matrix_list=np.average(np.array(matrix_list),axis=0)"
   ]
  },
  {
   "cell_type": "code",
   "execution_count": 411,
   "id": "c2349a85-bba1-46bd-b6fb-2cb05b5e8623",
   "metadata": {},
   "outputs": [
    {
     "data": {
      "image/png": "[encoded data removed]",
      "text/plain": [
       "<Figure size 360x360 with 2 Axes>"
      ]
     },
     "metadata": {
      "needs_background": "light"
     },
     "output_type": "display_data"
    }
   ],
   "source": [
    "from sklearn import metrics\n",
    "f, ax = plt.subplots(figsize =(5,5))\n",
    "sns.heatmap(matrix_list,annot = True,linewidths=0.5,linecolor=\"red\",fmt = \".0f\",ax=ax)\n",
    "plt.xlabel(\"y_pred\")\n",
    "plt.ylabel(\"y_true\")\n",
    "plt.title(\"KNN Classifier(n=5) K-fold Confusion Matrix\")\n",
    "plt.show()"
   ]
  },
  {
   "cell_type": "code",
   "execution_count": 412,
   "id": "3a0e5615-d4d6-49d1-b2a1-b3e4e509c32d",
   "metadata": {},
   "outputs": [
    {
     "name": "stdout",
     "output_type": "stream",
     "text": [
      "+---------------------------------+----------+---------+-----------+\n",
      "|     [Binary] KNN Classifier     | Accuracy |  Recall | Precision |\n",
      "+---------------------------------+----------+---------+-----------+\n",
      "| KNN Classifier(n=5) without PCA | 83.9695  | 89.7727 |  86.8132  |\n",
      "|   KNN Classifier(n=3) with PCA  | 81.6794  | 81.6794 |  82.3541  |\n",
      "|   KNN Classifier(n=5) with PCA  | 84.7328  | 84.7328 |  84.5579  |\n",
      "+---------------------------------+----------+---------+-----------+\n"
     ]
    }
   ],
   "source": [
    "acc=round(np.mean(kf_acc)*100,4)\n",
    "recall=round(np.mean(kf_recall)*100,4)\n",
    "prec=round(np.mean(kf_prec)*100,4)\n",
    "\n",
    "table3.add_row([\"KNN Classifier(n=5) with PCA\",acc,recall,prec])\n",
    "print(table3)"
   ]
  },
  {
   "cell_type": "code",
   "execution_count": 413,
   "id": "1edadd28-5a12-448a-869e-9c2bac1c0daf",
   "metadata": {},
   "outputs": [
    {
     "name": "stdout",
     "output_type": "stream",
     "text": [
      "              precision    recall  f1-score   support\n",
      "\n",
      "           0      0.821     0.711     0.762        45\n",
      "           1      0.859     0.919     0.888        86\n",
      "\n",
      "    accuracy                          0.847       131\n",
      "   macro avg      0.840     0.815     0.825       131\n",
      "weighted avg      0.846     0.847     0.844       131\n",
      "\n"
     ]
    }
   ],
   "source": [
    "print(metrics.classification_report(y_test, knn.predict(x_test), digits=3))"
   ]
  },
  {
   "cell_type": "markdown",
   "id": "7296e592-f85e-4310-a5d8-e8aaaf6cfb78",
   "metadata": {},
   "source": [
    "* neighbors=10"
   ]
  },
  {
   "cell_type": "code",
   "execution_count": 414,
   "id": "501bfd3d-63cd-43e4-8497-d0d429872470",
   "metadata": {},
   "outputs": [],
   "source": [
    "knn = KNeighborsClassifier(n_neighbors=10)"
   ]
  },
  {
   "cell_type": "code",
   "execution_count": 415,
   "id": "9d78e21b-442a-46db-a660-7ab4f19ff7f7",
   "metadata": {},
   "outputs": [
    {
     "name": "stdout",
     "output_type": "stream",
     "text": [
      "K-fold cross-validation accuracy: 88.55%\n"
     ]
    }
   ],
   "source": [
    "# K-fold cross-validation with 𝐾=3\n",
    "from sklearn.model_selection import KFold\n",
    "kf=KFold(n_splits=3, random_state=None, shuffle=True)\n",
    "\n",
    "matrix_list=list()\n",
    "accuracies=[]\n",
    "kf_acc=[]\n",
    "kf_recall=[]\n",
    "kf_prec=[]\n",
    "\n",
    "for train_index, test_index in kf.split(x):\n",
    "    x_train, x_test = x[train_index], x[test_index]\n",
    "    y_train, y_test = y[train_index], y[test_index]\n",
    "    pca = PCA(n_components='mle')\n",
    "    pca.fit(x_train)\n",
    "    x_train=pca.transform(x_train)\n",
    "    x_test=pca.transform(x_test)\n",
    "    knn.fit(x_train,y_train)\n",
    "    matrix_list.append(confusion_matrix(y_test, knn.predict(x_test)))\n",
    "    kf_acc=accuracy_score(y_test,knn.predict(x_test))\n",
    "    kf_recall=recall_score(y_test,knn.predict(x_test),average='weighted')\n",
    "    kf_prec=precision_score(y_test,knn.predict(x_test),average='weighted')\n",
    "    \n",
    "    accuracies=knn.score(x_test,y_test)\n",
    "\n",
    "acc_avg=np.mean(accuracies)\n",
    "print(\"K-fold cross-validation accuracy: {}%\".format(round(acc_avg*100,2)))\n",
    "\n",
    "matrix_list=np.average(np.array(matrix_list),axis=0)"
   ]
  },
  {
   "cell_type": "code",
   "execution_count": 416,
   "id": "d4c833e6-a8c6-49d7-8a38-6e2ce9b599bf",
   "metadata": {},
   "outputs": [
    {
     "data": {
      "image/png": "[encoded data removed]",
      "text/plain": [
       "<Figure size 360x360 with 2 Axes>"
      ]
     },
     "metadata": {
      "needs_background": "light"
     },
     "output_type": "display_data"
    }
   ],
   "source": [
    "from sklearn import metrics\n",
    "f, ax = plt.subplots(figsize =(5,5))\n",
    "sns.heatmap(matrix_list,annot = True,linewidths=0.5,linecolor=\"red\",fmt = \".0f\",ax=ax)\n",
    "plt.xlabel(\"y_pred\")\n",
    "plt.ylabel(\"y_true\")\n",
    "plt.title(\"KNN Classifier(n=10) K-fold Confusion Matrix\")\n",
    "plt.show()"
   ]
  },
  {
   "cell_type": "code",
   "execution_count": 417,
   "id": "ad330c9b-714c-4f3e-8ef2-11423083b1bf",
   "metadata": {},
   "outputs": [
    {
     "name": "stdout",
     "output_type": "stream",
     "text": [
      "+---------------------------------+----------+---------+-----------+\n",
      "|     [Binary] KNN Classifier     | Accuracy |  Recall | Precision |\n",
      "+---------------------------------+----------+---------+-----------+\n",
      "| KNN Classifier(n=5) without PCA | 83.9695  | 89.7727 |  86.8132  |\n",
      "|   KNN Classifier(n=3) with PCA  | 81.6794  | 81.6794 |  82.3541  |\n",
      "|   KNN Classifier(n=5) with PCA  | 84.7328  | 84.7328 |  84.5579  |\n",
      "|  KNN Classifier(n=10) with PCA  | 88.5496  | 88.5496 |  89.6666  |\n",
      "+---------------------------------+----------+---------+-----------+\n"
     ]
    }
   ],
   "source": [
    "acc=round(np.mean(kf_acc)*100,4)\n",
    "recall=round(np.mean(kf_recall)*100,4)\n",
    "prec=round(np.mean(kf_prec)*100,4)\n",
    "\n",
    "table3.add_row([\"KNN Classifier(n=10) with PCA\",acc,recall,prec])\n",
    "print(table3)"
   ]
  },
  {
   "cell_type": "code",
   "execution_count": 418,
   "id": "a162af0b-4cc8-4cae-a154-006bba038257",
   "metadata": {},
   "outputs": [
    {
     "name": "stdout",
     "output_type": "stream",
     "text": [
      "              precision    recall  f1-score   support\n",
      "\n",
      "           0      0.970     0.696     0.810        46\n",
      "           1      0.857     0.988     0.918        85\n",
      "\n",
      "    accuracy                          0.885       131\n",
      "   macro avg      0.913     0.842     0.864       131\n",
      "weighted avg      0.897     0.885     0.880       131\n",
      "\n"
     ]
    }
   ],
   "source": [
    "print(metrics.classification_report(y_test, knn.predict(x_test), digits=3))"
   ]
  },
  {
   "cell_type": "markdown",
   "id": "57dce639-9a59-40dd-84a3-f62f23d811ff",
   "metadata": {},
   "source": [
    "# 5-Level classification"
   ]
  },
  {
   "cell_type": "code",
   "execution_count": 419,
   "id": "c0d105fb-7014-40cf-b675-48cf8a6afb05",
   "metadata": {},
   "outputs": [
    {
     "data": {
      "text/html": [
       "<div>\n",
       "<style scoped>\n",
       "    .dataframe tbody tr th:only-of-type {\n",
       "        vertical-align: middle;\n",
       "    }\n",
       "\n",
       "    .dataframe tbody tr th {\n",
       "        vertical-align: top;\n",
       "    }\n",
       "\n",
       "    .dataframe thead th {\n",
       "        text-align: right;\n",
       "    }\n",
       "</style>\n",
       "<table border=\"1\" class=\"dataframe\">\n",
       "  <thead>\n",
       "    <tr style=\"text-align: right;\">\n",
       "      <th></th>\n",
       "      <th>school</th>\n",
       "      <th>sex</th>\n",
       "      <th>age</th>\n",
       "      <th>address</th>\n",
       "      <th>famsize</th>\n",
       "      <th>Pstatus</th>\n",
       "      <th>Medu</th>\n",
       "      <th>Fedu</th>\n",
       "      <th>Mjob</th>\n",
       "      <th>Fjob</th>\n",
       "      <th>...</th>\n",
       "      <th>famrel</th>\n",
       "      <th>freetime</th>\n",
       "      <th>goout</th>\n",
       "      <th>Dalc</th>\n",
       "      <th>Walc</th>\n",
       "      <th>health</th>\n",
       "      <th>absences</th>\n",
       "      <th>G1</th>\n",
       "      <th>G2</th>\n",
       "      <th>level</th>\n",
       "    </tr>\n",
       "  </thead>\n",
       "  <tbody>\n",
       "    <tr>\n",
       "      <th>0</th>\n",
       "      <td>GP</td>\n",
       "      <td>F</td>\n",
       "      <td>18</td>\n",
       "      <td>U</td>\n",
       "      <td>GT3</td>\n",
       "      <td>A</td>\n",
       "      <td>4</td>\n",
       "      <td>4</td>\n",
       "      <td>at_home</td>\n",
       "      <td>teacher</td>\n",
       "      <td>...</td>\n",
       "      <td>4</td>\n",
       "      <td>3</td>\n",
       "      <td>4</td>\n",
       "      <td>1</td>\n",
       "      <td>1</td>\n",
       "      <td>3</td>\n",
       "      <td>6</td>\n",
       "      <td>5</td>\n",
       "      <td>6</td>\n",
       "      <td>5</td>\n",
       "    </tr>\n",
       "    <tr>\n",
       "      <th>1</th>\n",
       "      <td>GP</td>\n",
       "      <td>F</td>\n",
       "      <td>17</td>\n",
       "      <td>U</td>\n",
       "      <td>GT3</td>\n",
       "      <td>T</td>\n",
       "      <td>1</td>\n",
       "      <td>1</td>\n",
       "      <td>at_home</td>\n",
       "      <td>other</td>\n",
       "      <td>...</td>\n",
       "      <td>5</td>\n",
       "      <td>3</td>\n",
       "      <td>3</td>\n",
       "      <td>1</td>\n",
       "      <td>1</td>\n",
       "      <td>3</td>\n",
       "      <td>4</td>\n",
       "      <td>5</td>\n",
       "      <td>5</td>\n",
       "      <td>5</td>\n",
       "    </tr>\n",
       "    <tr>\n",
       "      <th>2</th>\n",
       "      <td>GP</td>\n",
       "      <td>F</td>\n",
       "      <td>15</td>\n",
       "      <td>U</td>\n",
       "      <td>LE3</td>\n",
       "      <td>T</td>\n",
       "      <td>1</td>\n",
       "      <td>1</td>\n",
       "      <td>at_home</td>\n",
       "      <td>other</td>\n",
       "      <td>...</td>\n",
       "      <td>4</td>\n",
       "      <td>3</td>\n",
       "      <td>2</td>\n",
       "      <td>2</td>\n",
       "      <td>3</td>\n",
       "      <td>3</td>\n",
       "      <td>10</td>\n",
       "      <td>7</td>\n",
       "      <td>8</td>\n",
       "      <td>4</td>\n",
       "    </tr>\n",
       "    <tr>\n",
       "      <th>3</th>\n",
       "      <td>GP</td>\n",
       "      <td>F</td>\n",
       "      <td>15</td>\n",
       "      <td>U</td>\n",
       "      <td>GT3</td>\n",
       "      <td>T</td>\n",
       "      <td>4</td>\n",
       "      <td>2</td>\n",
       "      <td>health</td>\n",
       "      <td>services</td>\n",
       "      <td>...</td>\n",
       "      <td>3</td>\n",
       "      <td>2</td>\n",
       "      <td>2</td>\n",
       "      <td>1</td>\n",
       "      <td>1</td>\n",
       "      <td>5</td>\n",
       "      <td>2</td>\n",
       "      <td>15</td>\n",
       "      <td>14</td>\n",
       "      <td>2</td>\n",
       "    </tr>\n",
       "    <tr>\n",
       "      <th>4</th>\n",
       "      <td>GP</td>\n",
       "      <td>F</td>\n",
       "      <td>16</td>\n",
       "      <td>U</td>\n",
       "      <td>GT3</td>\n",
       "      <td>T</td>\n",
       "      <td>3</td>\n",
       "      <td>3</td>\n",
       "      <td>other</td>\n",
       "      <td>other</td>\n",
       "      <td>...</td>\n",
       "      <td>4</td>\n",
       "      <td>3</td>\n",
       "      <td>2</td>\n",
       "      <td>1</td>\n",
       "      <td>2</td>\n",
       "      <td>5</td>\n",
       "      <td>4</td>\n",
       "      <td>6</td>\n",
       "      <td>10</td>\n",
       "      <td>4</td>\n",
       "    </tr>\n",
       "    <tr>\n",
       "      <th>...</th>\n",
       "      <td>...</td>\n",
       "      <td>...</td>\n",
       "      <td>...</td>\n",
       "      <td>...</td>\n",
       "      <td>...</td>\n",
       "      <td>...</td>\n",
       "      <td>...</td>\n",
       "      <td>...</td>\n",
       "      <td>...</td>\n",
       "      <td>...</td>\n",
       "      <td>...</td>\n",
       "      <td>...</td>\n",
       "      <td>...</td>\n",
       "      <td>...</td>\n",
       "      <td>...</td>\n",
       "      <td>...</td>\n",
       "      <td>...</td>\n",
       "      <td>...</td>\n",
       "      <td>...</td>\n",
       "      <td>...</td>\n",
       "      <td>...</td>\n",
       "    </tr>\n",
       "    <tr>\n",
       "      <th>390</th>\n",
       "      <td>MS</td>\n",
       "      <td>M</td>\n",
       "      <td>20</td>\n",
       "      <td>U</td>\n",
       "      <td>LE3</td>\n",
       "      <td>A</td>\n",
       "      <td>2</td>\n",
       "      <td>2</td>\n",
       "      <td>services</td>\n",
       "      <td>services</td>\n",
       "      <td>...</td>\n",
       "      <td>5</td>\n",
       "      <td>5</td>\n",
       "      <td>4</td>\n",
       "      <td>4</td>\n",
       "      <td>5</td>\n",
       "      <td>4</td>\n",
       "      <td>11</td>\n",
       "      <td>9</td>\n",
       "      <td>9</td>\n",
       "      <td>5</td>\n",
       "    </tr>\n",
       "    <tr>\n",
       "      <th>391</th>\n",
       "      <td>MS</td>\n",
       "      <td>M</td>\n",
       "      <td>17</td>\n",
       "      <td>U</td>\n",
       "      <td>LE3</td>\n",
       "      <td>T</td>\n",
       "      <td>3</td>\n",
       "      <td>1</td>\n",
       "      <td>services</td>\n",
       "      <td>services</td>\n",
       "      <td>...</td>\n",
       "      <td>2</td>\n",
       "      <td>4</td>\n",
       "      <td>5</td>\n",
       "      <td>3</td>\n",
       "      <td>4</td>\n",
       "      <td>2</td>\n",
       "      <td>3</td>\n",
       "      <td>14</td>\n",
       "      <td>16</td>\n",
       "      <td>1</td>\n",
       "    </tr>\n",
       "    <tr>\n",
       "      <th>392</th>\n",
       "      <td>MS</td>\n",
       "      <td>M</td>\n",
       "      <td>21</td>\n",
       "      <td>R</td>\n",
       "      <td>GT3</td>\n",
       "      <td>T</td>\n",
       "      <td>1</td>\n",
       "      <td>1</td>\n",
       "      <td>other</td>\n",
       "      <td>other</td>\n",
       "      <td>...</td>\n",
       "      <td>5</td>\n",
       "      <td>5</td>\n",
       "      <td>3</td>\n",
       "      <td>3</td>\n",
       "      <td>3</td>\n",
       "      <td>3</td>\n",
       "      <td>3</td>\n",
       "      <td>10</td>\n",
       "      <td>8</td>\n",
       "      <td>5</td>\n",
       "    </tr>\n",
       "    <tr>\n",
       "      <th>393</th>\n",
       "      <td>MS</td>\n",
       "      <td>M</td>\n",
       "      <td>18</td>\n",
       "      <td>R</td>\n",
       "      <td>LE3</td>\n",
       "      <td>T</td>\n",
       "      <td>3</td>\n",
       "      <td>2</td>\n",
       "      <td>services</td>\n",
       "      <td>other</td>\n",
       "      <td>...</td>\n",
       "      <td>4</td>\n",
       "      <td>4</td>\n",
       "      <td>1</td>\n",
       "      <td>3</td>\n",
       "      <td>4</td>\n",
       "      <td>5</td>\n",
       "      <td>0</td>\n",
       "      <td>11</td>\n",
       "      <td>12</td>\n",
       "      <td>4</td>\n",
       "    </tr>\n",
       "    <tr>\n",
       "      <th>394</th>\n",
       "      <td>MS</td>\n",
       "      <td>M</td>\n",
       "      <td>19</td>\n",
       "      <td>U</td>\n",
       "      <td>LE3</td>\n",
       "      <td>T</td>\n",
       "      <td>1</td>\n",
       "      <td>1</td>\n",
       "      <td>other</td>\n",
       "      <td>at_home</td>\n",
       "      <td>...</td>\n",
       "      <td>3</td>\n",
       "      <td>2</td>\n",
       "      <td>3</td>\n",
       "      <td>3</td>\n",
       "      <td>3</td>\n",
       "      <td>5</td>\n",
       "      <td>5</td>\n",
       "      <td>8</td>\n",
       "      <td>9</td>\n",
       "      <td>5</td>\n",
       "    </tr>\n",
       "  </tbody>\n",
       "</table>\n",
       "<p>395 rows × 33 columns</p>\n",
       "</div>"
      ],
      "text/plain": [
       "    school sex  age address famsize Pstatus  Medu  Fedu      Mjob      Fjob  \\\n",
       "0       GP   F   18       U     GT3       A     4     4   at_home   teacher   \n",
       "1       GP   F   17       U     GT3       T     1     1   at_home     other   \n",
       "2       GP   F   15       U     LE3       T     1     1   at_home     other   \n",
       "3       GP   F   15       U     GT3       T     4     2    health  services   \n",
       "4       GP   F   16       U     GT3       T     3     3     other     other   \n",
       "..     ...  ..  ...     ...     ...     ...   ...   ...       ...       ...   \n",
       "390     MS   M   20       U     LE3       A     2     2  services  services   \n",
       "391     MS   M   17       U     LE3       T     3     1  services  services   \n",
       "392     MS   M   21       R     GT3       T     1     1     other     other   \n",
       "393     MS   M   18       R     LE3       T     3     2  services     other   \n",
       "394     MS   M   19       U     LE3       T     1     1     other   at_home   \n",
       "\n",
       "     ... famrel freetime  goout  Dalc  Walc health absences  G1  G2 level  \n",
       "0    ...      4        3      4     1     1      3        6   5   6     5  \n",
       "1    ...      5        3      3     1     1      3        4   5   5     5  \n",
       "2    ...      4        3      2     2     3      3       10   7   8     4  \n",
       "3    ...      3        2      2     1     1      5        2  15  14     2  \n",
       "4    ...      4        3      2     1     2      5        4   6  10     4  \n",
       "..   ...    ...      ...    ...   ...   ...    ...      ...  ..  ..   ...  \n",
       "390  ...      5        5      4     4     5      4       11   9   9     5  \n",
       "391  ...      2        4      5     3     4      2        3  14  16     1  \n",
       "392  ...      5        5      3     3     3      3        3  10   8     5  \n",
       "393  ...      4        4      1     3     4      5        0  11  12     4  \n",
       "394  ...      3        2      3     3     3      5        5   8   9     5  \n",
       "\n",
       "[395 rows x 33 columns]"
      ]
     },
     "execution_count": 419,
     "metadata": {},
     "output_type": "execute_result"
    }
   ],
   "source": [
    "df_level=df.copy()\n",
    "\n",
    "def classifier(row):\n",
    "    if row>=16:\n",
    "        return '1'\n",
    "    if row<=15 and row>=14:\n",
    "        return '2'\n",
    "    if row<=13 and row>=12:\n",
    "        return '3'\n",
    "    if row<=11 and row>=10:\n",
    "        return '4'\n",
    "    if row<=9 and row>=0:\n",
    "        return '5'\n",
    "\n",
    "df_level['level']=df_level.apply(lambda row: classifier(row['G3']),axis=1 )\n",
    "df_level=df_level.drop(['G3'],axis=1)\n",
    "df_level"
   ]
  },
  {
   "cell_type": "markdown",
   "id": "0e753ac9-2fa4-43ae-b1fa-efd1e0a0cbff",
   "metadata": {},
   "source": [
    "### one-hot-encoding"
   ]
  },
  {
   "cell_type": "code",
   "execution_count": 420,
   "id": "b4690971-6afc-4b9e-94ba-22ea7a47f628",
   "metadata": {},
   "outputs": [
    {
     "data": {
      "text/html": [
       "<div>\n",
       "<style scoped>\n",
       "    .dataframe tbody tr th:only-of-type {\n",
       "        vertical-align: middle;\n",
       "    }\n",
       "\n",
       "    .dataframe tbody tr th {\n",
       "        vertical-align: top;\n",
       "    }\n",
       "\n",
       "    .dataframe thead th {\n",
       "        text-align: right;\n",
       "    }\n",
       "</style>\n",
       "<table border=\"1\" class=\"dataframe\">\n",
       "  <thead>\n",
       "    <tr style=\"text-align: right;\">\n",
       "      <th></th>\n",
       "      <th>age</th>\n",
       "      <th>Medu</th>\n",
       "      <th>Fedu</th>\n",
       "      <th>traveltime</th>\n",
       "      <th>studytime</th>\n",
       "      <th>failures</th>\n",
       "      <th>famrel</th>\n",
       "      <th>freetime</th>\n",
       "      <th>goout</th>\n",
       "      <th>Dalc</th>\n",
       "      <th>...</th>\n",
       "      <th>activities_no</th>\n",
       "      <th>activities_yes</th>\n",
       "      <th>nursery_no</th>\n",
       "      <th>nursery_yes</th>\n",
       "      <th>higher_no</th>\n",
       "      <th>higher_yes</th>\n",
       "      <th>internet_no</th>\n",
       "      <th>internet_yes</th>\n",
       "      <th>romantic_no</th>\n",
       "      <th>romantic_yes</th>\n",
       "    </tr>\n",
       "  </thead>\n",
       "  <tbody>\n",
       "    <tr>\n",
       "      <th>0</th>\n",
       "      <td>18</td>\n",
       "      <td>4</td>\n",
       "      <td>4</td>\n",
       "      <td>2</td>\n",
       "      <td>2</td>\n",
       "      <td>0</td>\n",
       "      <td>4</td>\n",
       "      <td>3</td>\n",
       "      <td>4</td>\n",
       "      <td>1</td>\n",
       "      <td>...</td>\n",
       "      <td>1</td>\n",
       "      <td>0</td>\n",
       "      <td>0</td>\n",
       "      <td>1</td>\n",
       "      <td>0</td>\n",
       "      <td>1</td>\n",
       "      <td>1</td>\n",
       "      <td>0</td>\n",
       "      <td>1</td>\n",
       "      <td>0</td>\n",
       "    </tr>\n",
       "    <tr>\n",
       "      <th>1</th>\n",
       "      <td>17</td>\n",
       "      <td>1</td>\n",
       "      <td>1</td>\n",
       "      <td>1</td>\n",
       "      <td>2</td>\n",
       "      <td>0</td>\n",
       "      <td>5</td>\n",
       "      <td>3</td>\n",
       "      <td>3</td>\n",
       "      <td>1</td>\n",
       "      <td>...</td>\n",
       "      <td>1</td>\n",
       "      <td>0</td>\n",
       "      <td>1</td>\n",
       "      <td>0</td>\n",
       "      <td>0</td>\n",
       "      <td>1</td>\n",
       "      <td>0</td>\n",
       "      <td>1</td>\n",
       "      <td>1</td>\n",
       "      <td>0</td>\n",
       "    </tr>\n",
       "    <tr>\n",
       "      <th>2</th>\n",
       "      <td>15</td>\n",
       "      <td>1</td>\n",
       "      <td>1</td>\n",
       "      <td>1</td>\n",
       "      <td>2</td>\n",
       "      <td>3</td>\n",
       "      <td>4</td>\n",
       "      <td>3</td>\n",
       "      <td>2</td>\n",
       "      <td>2</td>\n",
       "      <td>...</td>\n",
       "      <td>1</td>\n",
       "      <td>0</td>\n",
       "      <td>0</td>\n",
       "      <td>1</td>\n",
       "      <td>0</td>\n",
       "      <td>1</td>\n",
       "      <td>0</td>\n",
       "      <td>1</td>\n",
       "      <td>1</td>\n",
       "      <td>0</td>\n",
       "    </tr>\n",
       "    <tr>\n",
       "      <th>3</th>\n",
       "      <td>15</td>\n",
       "      <td>4</td>\n",
       "      <td>2</td>\n",
       "      <td>1</td>\n",
       "      <td>3</td>\n",
       "      <td>0</td>\n",
       "      <td>3</td>\n",
       "      <td>2</td>\n",
       "      <td>2</td>\n",
       "      <td>1</td>\n",
       "      <td>...</td>\n",
       "      <td>0</td>\n",
       "      <td>1</td>\n",
       "      <td>0</td>\n",
       "      <td>1</td>\n",
       "      <td>0</td>\n",
       "      <td>1</td>\n",
       "      <td>0</td>\n",
       "      <td>1</td>\n",
       "      <td>0</td>\n",
       "      <td>1</td>\n",
       "    </tr>\n",
       "    <tr>\n",
       "      <th>4</th>\n",
       "      <td>16</td>\n",
       "      <td>3</td>\n",
       "      <td>3</td>\n",
       "      <td>1</td>\n",
       "      <td>2</td>\n",
       "      <td>0</td>\n",
       "      <td>4</td>\n",
       "      <td>3</td>\n",
       "      <td>2</td>\n",
       "      <td>1</td>\n",
       "      <td>...</td>\n",
       "      <td>1</td>\n",
       "      <td>0</td>\n",
       "      <td>0</td>\n",
       "      <td>1</td>\n",
       "      <td>0</td>\n",
       "      <td>1</td>\n",
       "      <td>1</td>\n",
       "      <td>0</td>\n",
       "      <td>1</td>\n",
       "      <td>0</td>\n",
       "    </tr>\n",
       "  </tbody>\n",
       "</table>\n",
       "<p>5 rows × 59 columns</p>\n",
       "</div>"
      ],
      "text/plain": [
       "   age  Medu  Fedu  traveltime  studytime  failures  famrel  freetime  goout  \\\n",
       "0   18     4     4           2          2         0       4         3      4   \n",
       "1   17     1     1           1          2         0       5         3      3   \n",
       "2   15     1     1           1          2         3       4         3      2   \n",
       "3   15     4     2           1          3         0       3         2      2   \n",
       "4   16     3     3           1          2         0       4         3      2   \n",
       "\n",
       "   Dalc  ...  activities_no  activities_yes  nursery_no  nursery_yes  \\\n",
       "0     1  ...              1               0           0            1   \n",
       "1     1  ...              1               0           1            0   \n",
       "2     2  ...              1               0           0            1   \n",
       "3     1  ...              0               1           0            1   \n",
       "4     1  ...              1               0           0            1   \n",
       "\n",
       "   higher_no higher_yes  internet_no  internet_yes  romantic_no  romantic_yes  \n",
       "0          0          1            1             0            1             0  \n",
       "1          0          1            0             1            1             0  \n",
       "2          0          1            0             1            1             0  \n",
       "3          0          1            0             1            0             1  \n",
       "4          0          1            1             0            1             0  \n",
       "\n",
       "[5 rows x 59 columns]"
      ]
     },
     "execution_count": 420,
     "metadata": {},
     "output_type": "execute_result"
    }
   ],
   "source": [
    "df_level=pd.get_dummies(df_level,columns=['sex','school','address','famsize','Pstatus','Mjob','Fjob',\n",
    "                                 'reason','guardian','schoolsup','famsup','paid','activities',\n",
    "                                'nursery','higher','internet','romantic'])\n",
    "df_level.head()"
   ]
  },
  {
   "cell_type": "markdown",
   "id": "04d01883-1db3-4029-bc9a-6a5801fd1efd",
   "metadata": {},
   "source": [
    "### shffule data"
   ]
  },
  {
   "cell_type": "code",
   "execution_count": 421,
   "id": "1a934237-f15a-452b-b6da-f54c610c75cd",
   "metadata": {},
   "outputs": [],
   "source": [
    "df_level=sklearn.utils.shuffle(df_level)"
   ]
  },
  {
   "cell_type": "code",
   "execution_count": 422,
   "id": "f435bb0d-0f2e-4aaf-aa85-8feb3387c383",
   "metadata": {},
   "outputs": [],
   "source": [
    "y = df_level['level'].values\n",
    "x = df_level.drop(['level'], axis=1).values"
   ]
  },
  {
   "cell_type": "markdown",
   "id": "325020c4-733f-4817-943e-f8b252d0fe99",
   "metadata": {},
   "source": [
    "### Build Table"
   ]
  },
  {
   "cell_type": "code",
   "execution_count": 510,
   "id": "715f0edd-2486-4db2-81ba-65f654d578da",
   "metadata": {},
   "outputs": [],
   "source": [
    "table1=prettytable.PrettyTable()\n",
    "table1.field_names=['[5-level] Decision Tree ','Accuracy','Recall','Precision']\n",
    "\n",
    "table2=prettytable.PrettyTable()\n",
    "table2.field_names=['[5-level] Random Forest','Accuracy','Recall','Precision']\n",
    "\n",
    "table3=prettytable.PrettyTable()\n",
    "table3.field_names=['[5-level] KNN Classifier ','Accuracy','Recall','Precision']"
   ]
  },
  {
   "cell_type": "markdown",
   "id": "19d91b9b-d225-4a02-89b2-ff3768f3a933",
   "metadata": {},
   "source": [
    "## Without PCA\n",
    "### Decision Tree"
   ]
  },
  {
   "cell_type": "code",
   "execution_count": 511,
   "id": "42bd6d5d-e515-4669-a6c6-3866cb89e722",
   "metadata": {},
   "outputs": [],
   "source": [
    "dtc = DecisionTreeClassifier()"
   ]
  },
  {
   "cell_type": "code",
   "execution_count": 512,
   "id": "9d2ee75e-39e6-4e6b-a946-92cbb834c6c9",
   "metadata": {},
   "outputs": [
    {
     "name": "stdout",
     "output_type": "stream",
     "text": [
      "K-fold cross-validation accuracy: 69.47%\n"
     ]
    }
   ],
   "source": [
    "# K-fold cross-validation with 𝐾=3\n",
    "from sklearn.model_selection import KFold\n",
    "kf=KFold(n_splits=3, random_state=None, shuffle=True)\n",
    "\n",
    "matrix_list=list()\n",
    "accuracies=[]\n",
    "kf_acc=[]\n",
    "kf_recall=[]\n",
    "kf_prec=[]\n",
    "\n",
    "for train_index, test_index in kf.split(x):\n",
    "    x_train, x_test = x[train_index], x[test_index]\n",
    "    y_train, y_test = y[train_index], y[test_index]\n",
    "    dtc.fit(x_train,y_train)\n",
    "    matrix_list.append(confusion_matrix(y_test, dtc.predict(x_test)))\n",
    "    kf_acc=accuracy_score(y_test,dtc.predict(x_test))\n",
    "    kf_recall=recall_score(y_test,dtc.predict(x_test),average='weighted')\n",
    "    kf_prec=precision_score(y_test,dtc.predict(x_test),average='weighted')\n",
    "    \n",
    "    accuracies=dtc.score(x_test,y_test)\n",
    "\n",
    "acc_avg=np.mean(accuracies)\n",
    "print(\"K-fold cross-validation accuracy: {}%\".format(round(acc_avg*100,2)))\n",
    "\n",
    "matrix_list=np.average(np.array(matrix_list),axis=0)"
   ]
  },
  {
   "cell_type": "code",
   "execution_count": 513,
   "id": "b23acd37-0fd4-45ac-b2c4-a8849b4751ea",
   "metadata": {},
   "outputs": [
    {
     "data": {
      "image/png": "[encoded data removed]",
      "text/plain": [
       "<Figure size 360x360 with 2 Axes>"
      ]
     },
     "metadata": {
      "needs_background": "light"
     },
     "output_type": "display_data"
    }
   ],
   "source": [
    "from sklearn import metrics\n",
    "f, ax = plt.subplots(figsize =(5,5))\n",
    "sns.heatmap(matrix_list,annot = True,linewidths=0.5,linecolor=\"red\",fmt = \".0f\",ax=ax)\n",
    "plt.xlabel(\"y_pred\")\n",
    "plt.ylabel(\"y_true\")\n",
    "plt.title(\"Decision Tree K-fold Confusion Matrix\")\n",
    "plt.show()"
   ]
  },
  {
   "cell_type": "code",
   "execution_count": 514,
   "id": "cdb78749-e2e5-4496-ab72-2e4412247803",
   "metadata": {},
   "outputs": [
    {
     "name": "stdout",
     "output_type": "stream",
     "text": [
      "+---------------------------+----------+---------+-----------+\n",
      "|  [5-level] Decision Tree  | Accuracy |  Recall | Precision |\n",
      "+---------------------------+----------+---------+-----------+\n",
      "| Decision Tree without PCA | 69.4656  | 69.4656 |  69.7535  |\n",
      "+---------------------------+----------+---------+-----------+\n"
     ]
    }
   ],
   "source": [
    "acc=round(np.mean(kf_acc)*100,4)\n",
    "recall=round(np.mean(kf_recall)*100,4)\n",
    "prec=round(np.mean(kf_prec)*100,4)\n",
    "\n",
    "table1.add_row([\"Decision Tree without PCA\",acc,recall,prec])\n",
    "print(table1)"
   ]
  },
  {
   "cell_type": "code",
   "execution_count": 515,
   "id": "bcdcec4b-ce11-405c-9f94-ef2a6cd5fc65",
   "metadata": {},
   "outputs": [
    {
     "name": "stdout",
     "output_type": "stream",
     "text": [
      "              precision    recall  f1-score   support\n",
      "\n",
      "           1      0.733     0.786     0.759        14\n",
      "           2      0.647     0.550     0.595        20\n",
      "           3      0.571     0.545     0.558        22\n",
      "           4      0.562     0.643     0.600        28\n",
      "           5      0.848     0.830     0.839        47\n",
      "\n",
      "    accuracy                          0.695       131\n",
      "   macro avg      0.672     0.671     0.670       131\n",
      "weighted avg      0.698     0.695     0.695       131\n",
      "\n"
     ]
    }
   ],
   "source": [
    "print(metrics.classification_report(y_test, dtc.predict(x_test), digits=3))"
   ]
  },
  {
   "cell_type": "markdown",
   "id": "811acf61-aee5-4108-bc23-1e740bef2360",
   "metadata": {},
   "source": [
    "### Random Forest"
   ]
  },
  {
   "cell_type": "code",
   "execution_count": 520,
   "id": "d82ef9f5-507b-4186-a457-568b558e6b79",
   "metadata": {},
   "outputs": [],
   "source": [
    "forest1 = RandomForestClassifier(n_estimators=20)"
   ]
  },
  {
   "cell_type": "code",
   "execution_count": 521,
   "id": "5042824c-d78e-4e9b-a674-7af8e142328e",
   "metadata": {},
   "outputs": [
    {
     "name": "stdout",
     "output_type": "stream",
     "text": [
      "K-fold cross-validation accuracy: 61.07%\n"
     ]
    }
   ],
   "source": [
    "# K-fold cross-validation with 𝐾=3\n",
    "from sklearn.model_selection import KFold\n",
    "kf=KFold(n_splits=3, random_state=None, shuffle=True)\n",
    "\n",
    "matrix_list=list()\n",
    "accuracies=[]\n",
    "kf_acc=[]\n",
    "kf_recall=[]\n",
    "kf_prec=[]\n",
    "\n",
    "for train_index, test_index in kf.split(x):\n",
    "    x_train, x_test = x[train_index], x[test_index]\n",
    "    y_train, y_test = y[train_index], y[test_index]\n",
    "    forest1.fit(x_train,y_train)\n",
    "    matrix_list.append(confusion_matrix(y_test, forest1.predict(x_test)))\n",
    "    kf_acc=accuracy_score(y_test,forest1.predict(x_test))\n",
    "    kf_recall=recall_score(y_test,forest1.predict(x_test),average='weighted')\n",
    "    kf_prec=precision_score(y_test,forest1.predict(x_test),average='weighted')\n",
    "    \n",
    "    accuracies=forest1.score(x_test,y_test)\n",
    "\n",
    "acc_avg=np.mean(accuracies)\n",
    "print(\"K-fold cross-validation accuracy: {}%\".format(round(acc_avg*100,2)))\n",
    "\n",
    "matrix_list=np.average(np.array(matrix_list),axis=0)"
   ]
  },
  {
   "cell_type": "code",
   "execution_count": 522,
   "id": "30b95945-bdbe-4ff9-813a-3129a06dcd82",
   "metadata": {},
   "outputs": [
    {
     "data": {
      "image/png": "[encoded data removed]",
      "text/plain": [
       "<Figure size 360x360 with 2 Axes>"
      ]
     },
     "metadata": {
      "needs_background": "light"
     },
     "output_type": "display_data"
    }
   ],
   "source": [
    "from sklearn import metrics\n",
    "f, ax = plt.subplots(figsize =(5,5))\n",
    "sns.heatmap(matrix_list,annot = True,linewidths=0.5,linecolor=\"red\",fmt = \".0f\",ax=ax)\n",
    "plt.xlabel(\"y_pred\")\n",
    "plt.ylabel(\"y_true\")\n",
    "plt.title(\"Random Forest(n=20) K-fold Confusion Matrix\")\n",
    "plt.show()"
   ]
  },
  {
   "cell_type": "code",
   "execution_count": 523,
   "id": "52722653-d4c8-4537-aef2-073f46cc5741",
   "metadata": {},
   "outputs": [
    {
     "name": "stdout",
     "output_type": "stream",
     "text": [
      "+---------------------------------+----------+---------+-----------+\n",
      "|     [5-level] Random Forest     | Accuracy |  Recall | Precision |\n",
      "+---------------------------------+----------+---------+-----------+\n",
      "| Random Forest(n=20) without PCA | 61.0687  | 61.0687 |  60.4382  |\n",
      "+---------------------------------+----------+---------+-----------+\n"
     ]
    }
   ],
   "source": [
    "acc=round(np.mean(kf_acc)*100,4)\n",
    "recall=round(np.mean(kf_recall)*100,4)\n",
    "prec=round(np.mean(kf_prec)*100,4)\n",
    "\n",
    "table2.add_row([\"Random Forest(n=20) without PCA\",acc,recall,prec])\n",
    "print(table2)"
   ]
  },
  {
   "cell_type": "code",
   "execution_count": 524,
   "id": "e1580f32-8c12-44df-abcb-fc8d82e1b003",
   "metadata": {},
   "outputs": [
    {
     "name": "stdout",
     "output_type": "stream",
     "text": [
      "              precision    recall  f1-score   support\n",
      "\n",
      "           1      0.500     0.600     0.545        10\n",
      "           2      0.524     0.550     0.537        20\n",
      "           3      0.571     0.400     0.471        20\n",
      "           4      0.562     0.500     0.529        36\n",
      "           5      0.712     0.822     0.763        45\n",
      "\n",
      "    accuracy                          0.611       131\n",
      "   macro avg      0.574     0.574     0.569       131\n",
      "weighted avg      0.604     0.611     0.603       131\n",
      "\n"
     ]
    }
   ],
   "source": [
    "print(metrics.classification_report(y_test, forest1.predict(x_test), digits=3))"
   ]
  },
  {
   "cell_type": "markdown",
   "id": "deab7983-cee0-4cb1-a415-435400ac8119",
   "metadata": {},
   "source": [
    "### KNN Classifier"
   ]
  },
  {
   "cell_type": "markdown",
   "id": "d6b2c5ea-dfa9-4888-8925-691d4789f5fa",
   "metadata": {},
   "source": [
    "* neighbors=5"
   ]
  },
  {
   "cell_type": "code",
   "execution_count": 525,
   "id": "d68ab981-11e3-4f86-af6f-528cd6672166",
   "metadata": {},
   "outputs": [],
   "source": [
    "knn = KNeighborsClassifier(n_neighbors=5)"
   ]
  },
  {
   "cell_type": "code",
   "execution_count": 526,
   "id": "835727b2-ca4a-4c00-85f8-a4c017226221",
   "metadata": {},
   "outputs": [
    {
     "name": "stdout",
     "output_type": "stream",
     "text": [
      "K-fold cross-validation accuracy: 64.12%\n"
     ]
    }
   ],
   "source": [
    "# K-fold cross-validation with 𝐾=3\n",
    "from sklearn.model_selection import KFold\n",
    "kf=KFold(n_splits=3, random_state=None, shuffle=True)\n",
    "\n",
    "matrix_list=list()\n",
    "accuracies=[]\n",
    "kf_acc=[]\n",
    "kf_recall=[]\n",
    "kf_prec=[]\n",
    "\n",
    "for train_index, test_index in kf.split(x):\n",
    "    x_train, x_test = x[train_index], x[test_index]\n",
    "    y_train, y_test = y[train_index], y[test_index]\n",
    "    knn.fit(x_train,y_train)\n",
    "    matrix_list.append(confusion_matrix(y_test, knn.predict(x_test)))\n",
    "    kf_acc=accuracy_score(y_test,knn.predict(x_test))\n",
    "    kf_recall=recall_score(y_test,knn.predict(x_test),average='weighted')\n",
    "    kf_prec=precision_score(y_test,knn.predict(x_test),average='weighted')\n",
    "    \n",
    "    accuracies=knn.score(x_test,y_test)\n",
    "\n",
    "acc_avg=np.mean(accuracies)\n",
    "print(\"K-fold cross-validation accuracy: {}%\".format(round(acc_avg*100,2)))\n",
    "\n",
    "matrix_list=np.average(np.array(matrix_list),axis=0)"
   ]
  },
  {
   "cell_type": "code",
   "execution_count": 527,
   "id": "662efd72-29c3-4769-a634-cce3ea50ddc7",
   "metadata": {},
   "outputs": [
    {
     "data": {
      "image/png": "[encoded data removed]",
      "text/plain": [
       "<Figure size 360x360 with 2 Axes>"
      ]
     },
     "metadata": {
      "needs_background": "light"
     },
     "output_type": "display_data"
    }
   ],
   "source": [
    "from sklearn import metrics\n",
    "f, ax = plt.subplots(figsize =(5,5))\n",
    "sns.heatmap(matrix_list,annot = True,linewidths=0.5,linecolor=\"red\",fmt = \".0f\",ax=ax)\n",
    "plt.xlabel(\"y_pred\")\n",
    "plt.ylabel(\"y_true\")\n",
    "plt.title(\"KNN Classifier(k=5) K-fold Confusion Matrix\")\n",
    "plt.show()"
   ]
  },
  {
   "cell_type": "code",
   "execution_count": 528,
   "id": "2c6cdf83-0c7e-491b-96f9-eeedb07426dd",
   "metadata": {},
   "outputs": [
    {
     "name": "stdout",
     "output_type": "stream",
     "text": [
      "+---------------------------------+----------+---------+-----------+\n",
      "|    [5-level] KNN Classifier     | Accuracy |  Recall | Precision |\n",
      "+---------------------------------+----------+---------+-----------+\n",
      "| KNN Classifier(k=5) without PCA | 64.1221  | 64.1221 |  63.9549  |\n",
      "+---------------------------------+----------+---------+-----------+\n"
     ]
    }
   ],
   "source": [
    "acc=round(np.mean(kf_acc)*100,4)\n",
    "recall=round(np.mean(kf_recall)*100,4)\n",
    "prec=round(np.mean(kf_prec)*100,4)\n",
    "\n",
    "table3.add_row([\"KNN Classifier(k=5) without PCA\",acc,recall,prec])\n",
    "print(table3)"
   ]
  },
  {
   "cell_type": "code",
   "execution_count": 529,
   "id": "70c2be01-7e9b-497a-b4ec-94c137491fd6",
   "metadata": {},
   "outputs": [
    {
     "name": "stdout",
     "output_type": "stream",
     "text": [
      "              precision    recall  f1-score   support\n",
      "\n",
      "           1      0.800     0.800     0.800        15\n",
      "           2      0.609     0.700     0.651        20\n",
      "           3      0.435     0.526     0.476        19\n",
      "           4      0.577     0.405     0.476        37\n",
      "           5      0.750     0.825     0.786        40\n",
      "\n",
      "    accuracy                          0.641       131\n",
      "   macro avg      0.634     0.651     0.638       131\n",
      "weighted avg      0.640     0.641     0.634       131\n",
      "\n"
     ]
    }
   ],
   "source": [
    "print(metrics.classification_report(y_test, knn.predict(x_test), digits=3))"
   ]
  },
  {
   "cell_type": "markdown",
   "id": "706fe90e-a9ec-4d18-8609-31b8b41d4d24",
   "metadata": {},
   "source": [
    "## With PCA"
   ]
  },
  {
   "cell_type": "markdown",
   "id": "0628d6a9-6507-487a-9780-fc1388e32e64",
   "metadata": {},
   "source": [
    "## Principal components analysis (PCA)\n",
    "* Compare the results between using the original data and the dimension-reduced one."
   ]
  },
  {
   "cell_type": "markdown",
   "id": "8738f0b5-f693-4e4b-9a40-394c965f17d1",
   "metadata": {},
   "source": [
    "### Decision Tree"
   ]
  },
  {
   "cell_type": "code",
   "execution_count": 530,
   "id": "e503c220-9a9a-4b6a-a098-68e73146529a",
   "metadata": {},
   "outputs": [],
   "source": [
    "dtc = DecisionTreeClassifier()"
   ]
  },
  {
   "cell_type": "code",
   "execution_count": 531,
   "id": "35bbbb49-180b-4617-9ba7-033d587b3692",
   "metadata": {},
   "outputs": [
    {
     "name": "stdout",
     "output_type": "stream",
     "text": [
      "K-fold cross-validation accuracy: 54.2%\n"
     ]
    }
   ],
   "source": [
    "# K-fold cross-validation with 𝐾=3\n",
    "from sklearn.model_selection import KFold\n",
    "kf=KFold(n_splits=3, random_state=None, shuffle=True)\n",
    "\n",
    "matrix_list=list()\n",
    "accuracies=[]\n",
    "kf_acc=[]\n",
    "kf_recall=[]\n",
    "kf_prec=[]\n",
    "\n",
    "for train_index, test_index in kf.split(x):\n",
    "    x_train, x_test = x[train_index], x[test_index]\n",
    "    y_train, y_test = y[train_index], y[test_index]\n",
    "    pca = PCA(n_components='mle')\n",
    "    pca.fit(x_train)\n",
    "    x_train=pca.transform(x_train)\n",
    "    x_test=pca.transform(x_test)\n",
    "    dtc.fit(x_train,y_train)\n",
    "    matrix_list.append(confusion_matrix(y_test, dtc.predict(x_test)))\n",
    "    kf_acc=accuracy_score(y_test,dtc.predict(x_test))\n",
    "    kf_recall=recall_score(y_test,dtc.predict(x_test),average='weighted')\n",
    "    kf_prec=precision_score(y_test,dtc.predict(x_test),average='weighted')\n",
    "    \n",
    "    accuracies=dtc.score(x_test,y_test)\n",
    "\n",
    "acc_avg=np.mean(accuracies)\n",
    "print(\"K-fold cross-validation accuracy: {}%\".format(round(acc_avg*100,2)))\n",
    "\n",
    "matrix_list=np.average(np.array(matrix_list),axis=0)"
   ]
  },
  {
   "cell_type": "code",
   "execution_count": 532,
   "id": "459f63cc-c950-43e4-b6b7-43fc94c482e2",
   "metadata": {},
   "outputs": [
    {
     "data": {
      "image/png": "[encoded data removed]",
      "text/plain": [
       "<Figure size 360x360 with 2 Axes>"
      ]
     },
     "metadata": {
      "needs_background": "light"
     },
     "output_type": "display_data"
    }
   ],
   "source": [
    "from sklearn import metrics\n",
    "f, ax = plt.subplots(figsize =(5,5))\n",
    "sns.heatmap(matrix_list,annot = True,linewidths=0.5,linecolor=\"red\",fmt = \".0f\",ax=ax)\n",
    "plt.xlabel(\"y_pred\")\n",
    "plt.ylabel(\"y_true\")\n",
    "plt.title(\"Decision Tree K-fold Confusion Matrix\")\n",
    "plt.show()"
   ]
  },
  {
   "cell_type": "code",
   "execution_count": 533,
   "id": "305caec4-ab72-4737-be7c-bafff5d41af4",
   "metadata": {},
   "outputs": [
    {
     "name": "stdout",
     "output_type": "stream",
     "text": [
      "+---------------------------+----------+---------+-----------+\n",
      "|  [5-level] Decision Tree  | Accuracy |  Recall | Precision |\n",
      "+---------------------------+----------+---------+-----------+\n",
      "| Decision Tree without PCA | 69.4656  | 69.4656 |  69.7535  |\n",
      "|   Decision Tree with PCA  | 54.1985  | 54.1985 |  54.7327  |\n",
      "+---------------------------+----------+---------+-----------+\n"
     ]
    }
   ],
   "source": [
    "acc=round(np.mean(kf_acc)*100,4)\n",
    "recall=round(np.mean(kf_recall)*100,4)\n",
    "prec=round(np.mean(kf_prec)*100,4)\n",
    "\n",
    "table1.add_row([\"Decision Tree with PCA\",acc,recall,prec])\n",
    "print(table1)"
   ]
  },
  {
   "cell_type": "code",
   "execution_count": 534,
   "id": "9ca5267e-a40c-472a-874c-32d8e0f27bd0",
   "metadata": {},
   "outputs": [
    {
     "name": "stdout",
     "output_type": "stream",
     "text": [
      "              precision    recall  f1-score   support\n",
      "\n",
      "           1      0.444     0.571     0.500         7\n",
      "           2      0.400     0.444     0.421        18\n",
      "           3      0.571     0.500     0.533        24\n",
      "           4      0.474     0.474     0.474        38\n",
      "           5      0.674     0.659     0.667        44\n",
      "\n",
      "    accuracy                          0.542       131\n",
      "   macro avg      0.513     0.530     0.519       131\n",
      "weighted avg      0.547     0.542     0.544       131\n",
      "\n"
     ]
    }
   ],
   "source": [
    "print(metrics.classification_report(y_test, dtc.predict(x_test), digits=3))"
   ]
  },
  {
   "cell_type": "markdown",
   "id": "3b6e2837-a3fc-4742-8aa4-3565c8d171c7",
   "metadata": {},
   "source": [
    "### Random Forest"
   ]
  },
  {
   "cell_type": "code",
   "execution_count": 537,
   "id": "7ec255d2-4610-4ea6-a691-6fae22f581eb",
   "metadata": {},
   "outputs": [],
   "source": [
    "forest1 = RandomForestClassifier(n_estimators=20)"
   ]
  },
  {
   "cell_type": "code",
   "execution_count": 538,
   "id": "dfa525e6-451e-4607-a7c7-d5b8625e277e",
   "metadata": {},
   "outputs": [
    {
     "name": "stdout",
     "output_type": "stream",
     "text": [
      "K-fold cross-validation accuracy: 60.31%\n"
     ]
    }
   ],
   "source": [
    "# K-fold cross-validation with 𝐾=3\n",
    "from sklearn.model_selection import KFold\n",
    "kf=KFold(n_splits=3, random_state=None, shuffle=True)\n",
    "\n",
    "matrix_list=list()\n",
    "accuracies=[]\n",
    "kf_acc=[]\n",
    "kf_recall=[]\n",
    "kf_prec=[]\n",
    "\n",
    "for train_index, test_index in kf.split(x):\n",
    "    x_train, x_test = x[train_index], x[test_index]\n",
    "    y_train, y_test = y[train_index], y[test_index]\n",
    "    pca = PCA(n_components='mle')\n",
    "    pca.fit(x_train)\n",
    "    x_train=pca.transform(x_train)\n",
    "    x_test=pca.transform(x_test)\n",
    "    forest1.fit(x_train,y_train)\n",
    "    matrix_list.append(confusion_matrix(y_test, forest1.predict(x_test)))\n",
    "    kf_acc=accuracy_score(y_test,forest1.predict(x_test))\n",
    "    kf_recall=recall_score(y_test,forest1.predict(x_test),average='weighted')\n",
    "    kf_prec=precision_score(y_test,forest1.predict(x_test),average='weighted')\n",
    "    \n",
    "    accuracies=forest1.score(x_test,y_test)\n",
    "\n",
    "acc_avg=np.mean(accuracies)\n",
    "print(\"K-fold cross-validation accuracy: {}%\".format(round(acc_avg*100,2)))\n",
    "\n",
    "matrix_list=np.average(np.array(matrix_list),axis=0)"
   ]
  },
  {
   "cell_type": "code",
   "execution_count": 539,
   "id": "ab550903-3100-4293-9155-826afb5a432c",
   "metadata": {},
   "outputs": [
    {
     "data": {
      "image/png": "[encoded data removed]",
      "text/plain": [
       "<Figure size 360x360 with 2 Axes>"
      ]
     },
     "metadata": {
      "needs_background": "light"
     },
     "output_type": "display_data"
    }
   ],
   "source": [
    "from sklearn import metrics\n",
    "f, ax = plt.subplots(figsize =(5,5))\n",
    "sns.heatmap(matrix_list,annot = True,linewidths=0.5,linecolor=\"red\",fmt = \".0f\",ax=ax)\n",
    "plt.xlabel(\"y_pred\")\n",
    "plt.ylabel(\"y_true\")\n",
    "plt.title(\"Random Forest(n=20) K-fold Confusion Matrix\")\n",
    "plt.show()"
   ]
  },
  {
   "cell_type": "code",
   "execution_count": 540,
   "id": "21a3d673-eb39-4f7f-bf97-673eec937de3",
   "metadata": {},
   "outputs": [
    {
     "name": "stdout",
     "output_type": "stream",
     "text": [
      "+---------------------------------+----------+---------+-----------+\n",
      "|     [5-level] Random Forest     | Accuracy |  Recall | Precision |\n",
      "+---------------------------------+----------+---------+-----------+\n",
      "| Random Forest(n=20) without PCA | 61.0687  | 61.0687 |  60.4382  |\n",
      "|   Random Forest(n=20) with PCA  | 60.3053  | 60.3053 |  57.1654  |\n",
      "+---------------------------------+----------+---------+-----------+\n"
     ]
    }
   ],
   "source": [
    "acc=round(np.mean(kf_acc)*100,4)\n",
    "recall=round(np.mean(kf_recall)*100,4)\n",
    "prec=round(np.mean(kf_prec)*100,4)\n",
    "\n",
    "table2.add_row([\"Random Forest(n=20) with PCA\",acc,recall,prec])\n",
    "print(table2)"
   ]
  },
  {
   "cell_type": "code",
   "execution_count": 541,
   "id": "4ff2d082-6ab1-4f36-b1d6-aa3832d28d37",
   "metadata": {},
   "outputs": [
    {
     "name": "stdout",
     "output_type": "stream",
     "text": [
      "              precision    recall  f1-score   support\n",
      "\n",
      "           1      0.571     0.615     0.593        13\n",
      "           2      0.556     0.476     0.513        21\n",
      "           3      0.250     0.158     0.194        19\n",
      "           4      0.594     0.514     0.551        37\n",
      "           5      0.709     0.951     0.812        41\n",
      "\n",
      "    accuracy                          0.603       131\n",
      "   macro avg      0.536     0.543     0.532       131\n",
      "weighted avg      0.572     0.603     0.579       131\n",
      "\n"
     ]
    }
   ],
   "source": [
    "print(metrics.classification_report(y_test, forest1.predict(x_test), digits=3))"
   ]
  },
  {
   "cell_type": "markdown",
   "id": "d7d17dce-c6d6-4cee-89bc-564054713992",
   "metadata": {},
   "source": [
    "### KNN Classifier"
   ]
  },
  {
   "cell_type": "markdown",
   "id": "e94781a8-73d6-42fc-841b-62db8088147c",
   "metadata": {},
   "source": [
    "* neighbors=5"
   ]
  },
  {
   "cell_type": "code",
   "execution_count": 542,
   "id": "cd5ce621-b17f-472f-86a6-2d3560bd56de",
   "metadata": {},
   "outputs": [],
   "source": [
    "knn = KNeighborsClassifier(n_neighbors=5)"
   ]
  },
  {
   "cell_type": "code",
   "execution_count": 543,
   "id": "619e3574-24a4-4061-b71f-4559b1fcd319",
   "metadata": {},
   "outputs": [
    {
     "name": "stdout",
     "output_type": "stream",
     "text": [
      "K-fold cross-validation accuracy: 64.12%\n"
     ]
    }
   ],
   "source": [
    "# K-fold cross-validation with 𝐾=3\n",
    "from sklearn.model_selection import KFold\n",
    "kf=KFold(n_splits=3, random_state=None, shuffle=True)\n",
    "\n",
    "matrix_list=list()\n",
    "accuracies=[]\n",
    "kf_acc=[]\n",
    "kf_recall=[]\n",
    "kf_prec=[]\n",
    "\n",
    "for train_index, test_index in kf.split(x):\n",
    "    x_train, x_test = x[train_index], x[test_index]\n",
    "    y_train, y_test = y[train_index], y[test_index]\n",
    "    pca = PCA(n_components='mle')\n",
    "    pca.fit(x_train)\n",
    "    x_train=pca.transform(x_train)\n",
    "    x_test=pca.transform(x_test)\n",
    "    knn.fit(x_train,y_train)\n",
    "    matrix_list.append(confusion_matrix(y_test, knn.predict(x_test)))\n",
    "    kf_acc=accuracy_score(y_test,knn.predict(x_test))\n",
    "    kf_recall=recall_score(y_test,knn.predict(x_test),average='weighted')\n",
    "    kf_prec=precision_score(y_test,knn.predict(x_test),average='weighted')\n",
    "    \n",
    "    accuracies=knn.score(x_test,y_test)\n",
    "\n",
    "acc_avg=np.mean(accuracies)\n",
    "print(\"K-fold cross-validation accuracy: {}%\".format(round(acc_avg*100,2)))\n",
    "\n",
    "matrix_list=np.average(np.array(matrix_list),axis=0)"
   ]
  },
  {
   "cell_type": "code",
   "execution_count": 544,
   "id": "02f75985-b27a-45d6-b4d5-7b7656ca6141",
   "metadata": {},
   "outputs": [
    {
     "data": {
      "image/png": "[encoded data removed]",
      "text/plain": [
       "<Figure size 360x360 with 2 Axes>"
      ]
     },
     "metadata": {
      "needs_background": "light"
     },
     "output_type": "display_data"
    }
   ],
   "source": [
    "from sklearn import metrics\n",
    "f, ax = plt.subplots(figsize =(5,5))\n",
    "sns.heatmap(matrix_list,annot = True,linewidths=0.5,linecolor=\"red\",fmt = \".0f\",ax=ax)\n",
    "plt.xlabel(\"y_pred\")\n",
    "plt.ylabel(\"y_true\")\n",
    "plt.title(\"KNN Classifier(k=5) K-fold Confusion Matrix\")\n",
    "plt.show()"
   ]
  },
  {
   "cell_type": "code",
   "execution_count": 545,
   "id": "633b740c-515a-4b1d-93de-c74def95f9a3",
   "metadata": {},
   "outputs": [
    {
     "name": "stdout",
     "output_type": "stream",
     "text": [
      "+---------------------------------+----------+---------+-----------+\n",
      "|    [5-level] KNN Classifier     | Accuracy |  Recall | Precision |\n",
      "+---------------------------------+----------+---------+-----------+\n",
      "| KNN Classifier(k=5) without PCA | 64.1221  | 64.1221 |  63.9549  |\n",
      "|   KNN Classifier(k=5) with PCA  | 64.1221  | 64.1221 |  67.3968  |\n",
      "+---------------------------------+----------+---------+-----------+\n"
     ]
    }
   ],
   "source": [
    "acc=round(np.mean(kf_acc)*100,4)\n",
    "recall=round(np.mean(kf_recall)*100,4)\n",
    "prec=round(np.mean(kf_prec)*100,4)\n",
    "\n",
    "table3.add_row([\"KNN Classifier(k=5) with PCA\",acc,recall,prec])\n",
    "print(table3)"
   ]
  },
  {
   "cell_type": "code",
   "execution_count": 546,
   "id": "99796fca-0288-4a78-b7c8-adff03a33245",
   "metadata": {},
   "outputs": [
    {
     "name": "stdout",
     "output_type": "stream",
     "text": [
      "              precision    recall  f1-score   support\n",
      "\n",
      "           1      0.875     0.700     0.778        10\n",
      "           2      0.577     0.789     0.667        19\n",
      "           3      0.500     0.364     0.421        22\n",
      "           4      0.511     0.686     0.585        35\n",
      "           5      0.882     0.667     0.759        45\n",
      "\n",
      "    accuracy                          0.641       131\n",
      "   macro avg      0.669     0.641     0.642       131\n",
      "weighted avg      0.674     0.641     0.644       131\n",
      "\n"
     ]
    }
   ],
   "source": [
    "print(metrics.classification_report(y_test, knn.predict(x_test), digits=3))"
   ]
  },
  {
   "cell_type": "markdown",
   "id": "d2838289-a3e6-443c-b7f0-62b7c8aefb57",
   "metadata": {},
   "source": [
    "# Questions"
   ]
  },
  {
   "cell_type": "markdown",
   "id": "f0fb0f0c-73f8-42a2-aec7-2b626ba58b41",
   "metadata": {},
   "source": [
    "## Decision Tree\n",
    "- Show the prediction and reasoning of one arbitrary sample in the testing set"
   ]
  },
  {
   "cell_type": "code",
   "execution_count": 290,
   "id": "91fd8efa-02e0-43e6-ba11-2a6096215a43",
   "metadata": {},
   "outputs": [],
   "source": [
    "dy = df_bi['pass'].values\n",
    "dx = df_bi.drop(['pass'], axis=1).values"
   ]
  },
  {
   "cell_type": "code",
   "execution_count": 291,
   "id": "89fa58f7-0c57-4032-9198-eeabeef11efa",
   "metadata": {},
   "outputs": [],
   "source": [
    "clf=DecisionTreeClassifier(random_state=0)\n",
    "dx_train, dx_test, dy_train, dy_test = train_test_split(\n",
    "    dx, dy, test_size=0.33, random_state=42)\n",
    "clf=clf.fit(dx_train,dy_train)"
   ]
  },
  {
   "cell_type": "code",
   "execution_count": 292,
   "id": "0feaa4ab-761f-4c0c-9ac4-f98863eb83f1",
   "metadata": {},
   "outputs": [
    {
     "data": {
      "text/plain": [
       "'DecisionTree.pdf'"
      ]
     },
     "execution_count": 292,
     "metadata": {},
     "output_type": "execute_result"
    }
   ],
   "source": [
    "import graphviz \n",
    "dot_data = tree.export_graphviz(clf, out_file=None) \n",
    "graph = graphviz.Source(dot_data) \n",
    "graph.render(\"DecisionTree\")"
   ]
  },
  {
   "cell_type": "code",
   "execution_count": 547,
   "id": "aaa7a788-a406-4904-b6c8-3faf17da5ed0",
   "metadata": {},
   "outputs": [
    {
     "data": {
      "image/svg+xml": [
       "<?xml version=\"1.0\" encoding=\"UTF-8\" standalone=\"no\"?>\r\n",
       "<!DOCTYPE svg PUBLIC \"-//W3C//DTD SVG 1.1//EN\"\r\n",
       " \"http://www.w3.org/Graphics/SVG/1.1/DTD/svg11.dtd\">\r\n",
       "<!-- Generated by graphviz version 2.38.0 (20140413.2041)\r\n",
       " -->\r\n",
       "<!-- Title: Tree Pages: 1 -->\r\n",
       "<svg width=\"1224pt\" height=\"1431pt\"\r\n",
       " viewBox=\"0.00 0.00 1224.00 1431.00\" xmlns=\"http://www.w3.org/2000/svg\" xmlns:xlink=\"http://www.w3.org/1999/xlink\">\r\n",
       "<g id=\"graph0\" class=\"graph\" transform=\"scale(1 1) rotate(0) translate(4 1427)\">\r\n",
       "<title>Tree</title>\r\n",
       "<polygon fill=\"white\" stroke=\"none\" points=\"-4,4 -4,-1427 1220,-1427 1220,4 -4,4\"/>\r\n",
       "<!-- 0 -->\r\n",
       "<g id=\"node1\" class=\"node\"><title>0</title>\r\n",
       "<path fill=\"#92c9f1\" stroke=\"black\" d=\"M837.5,-1423C837.5,-1423 739.5,-1423 739.5,-1423 733.5,-1423 727.5,-1417 727.5,-1411 727.5,-1411 727.5,-1337 727.5,-1337 727.5,-1331 733.5,-1325 739.5,-1325 739.5,-1325 837.5,-1325 837.5,-1325 843.5,-1325 849.5,-1331 849.5,-1337 849.5,-1337 849.5,-1411 849.5,-1411 849.5,-1417 843.5,-1423 837.5,-1423\"/>\r\n",
       "<text text-anchor=\"start\" x=\"762\" y=\"-1407.8\" font-family=\"Helvetica,sans-Serif\" font-size=\"14.00\">node #0</text>\r\n",
       "<text text-anchor=\"start\" x=\"761\" y=\"-1392.8\" font-family=\"Helvetica,sans-Serif\" font-size=\"14.00\">G2 ≤ 9.5</text>\r\n",
       "<text text-anchor=\"start\" x=\"751\" y=\"-1377.8\" font-family=\"Helvetica,sans-Serif\" font-size=\"14.00\">gini = 0.428</text>\r\n",
       "<text text-anchor=\"start\" x=\"741\" y=\"-1362.8\" font-family=\"Helvetica,sans-Serif\" font-size=\"14.00\">samples = 264</text>\r\n",
       "<text text-anchor=\"start\" x=\"735.5\" y=\"-1347.8\" font-family=\"Helvetica,sans-Serif\" font-size=\"14.00\">value = [82, 182]</text>\r\n",
       "<text text-anchor=\"start\" x=\"755\" y=\"-1332.8\" font-family=\"Helvetica,sans-Serif\" font-size=\"14.00\">class = fail</text>\r\n",
       "</g>\r\n",
       "<!-- 1 -->\r\n",
       "<g id=\"node2\" class=\"node\"><title>1</title>\r\n",
       "<path fill=\"#eb9e66\" stroke=\"black\" d=\"M704,-1289C704,-1289 615,-1289 615,-1289 609,-1289 603,-1283 603,-1277 603,-1277 603,-1203 603,-1203 603,-1197 609,-1191 615,-1191 615,-1191 704,-1191 704,-1191 710,-1191 716,-1197 716,-1203 716,-1203 716,-1277 716,-1277 716,-1283 710,-1289 704,-1289\"/>\r\n",
       "<text text-anchor=\"start\" x=\"633\" y=\"-1273.8\" font-family=\"Helvetica,sans-Serif\" font-size=\"14.00\">node #1</text>\r\n",
       "<text text-anchor=\"start\" x=\"632\" y=\"-1258.8\" font-family=\"Helvetica,sans-Serif\" font-size=\"14.00\">G2 ≤ 7.5</text>\r\n",
       "<text text-anchor=\"start\" x=\"622\" y=\"-1243.8\" font-family=\"Helvetica,sans-Serif\" font-size=\"14.00\">gini = 0.302</text>\r\n",
       "<text text-anchor=\"start\" x=\"616\" y=\"-1228.8\" font-family=\"Helvetica,sans-Serif\" font-size=\"14.00\">samples = 97</text>\r\n",
       "<text text-anchor=\"start\" x=\"611\" y=\"-1213.8\" font-family=\"Helvetica,sans-Serif\" font-size=\"14.00\">value = [79, 18]</text>\r\n",
       "<text text-anchor=\"start\" x=\"619.5\" y=\"-1198.8\" font-family=\"Helvetica,sans-Serif\" font-size=\"14.00\">class = pass</text>\r\n",
       "</g>\r\n",
       "<!-- 0&#45;&gt;1 -->\r\n",
       "<g id=\"edge1\" class=\"edge\"><title>0&#45;&gt;1</title>\r\n",
       "<path fill=\"none\" stroke=\"black\" d=\"M741.563,-1324.97C732.493,-1315.69 722.921,-1305.9 713.643,-1296.4\"/>\r\n",
       "<polygon fill=\"black\" stroke=\"black\" points=\"716.111,-1293.92 706.618,-1289.21 711.104,-1298.81 716.111,-1293.92\"/>\r\n",
       "<text text-anchor=\"middle\" x=\"706.331\" y=\"-1310.51\" font-family=\"Helvetica,sans-Serif\" font-size=\"14.00\">True</text>\r\n",
       "</g>\r\n",
       "<!-- 30 -->\r\n",
       "<g id=\"node31\" class=\"node\"><title>30</title>\r\n",
       "<path fill=\"#3d9fe5\" stroke=\"black\" d=\"M899,-1289C899,-1289 810,-1289 810,-1289 804,-1289 798,-1283 798,-1277 798,-1277 798,-1203 798,-1203 798,-1197 804,-1191 810,-1191 810,-1191 899,-1191 899,-1191 905,-1191 911,-1197 911,-1203 911,-1203 911,-1277 911,-1277 911,-1283 905,-1289 899,-1289\"/>\r\n",
       "<text text-anchor=\"start\" x=\"824\" y=\"-1273.8\" font-family=\"Helvetica,sans-Serif\" font-size=\"14.00\">node #30</text>\r\n",
       "<text text-anchor=\"start\" x=\"822.5\" y=\"-1258.8\" font-family=\"Helvetica,sans-Serif\" font-size=\"14.00\">G1 ≤ 10.5</text>\r\n",
       "<text text-anchor=\"start\" x=\"817\" y=\"-1243.8\" font-family=\"Helvetica,sans-Serif\" font-size=\"14.00\">gini = 0.035</text>\r\n",
       "<text text-anchor=\"start\" x=\"807\" y=\"-1228.8\" font-family=\"Helvetica,sans-Serif\" font-size=\"14.00\">samples = 167</text>\r\n",
       "<text text-anchor=\"start\" x=\"806\" y=\"-1213.8\" font-family=\"Helvetica,sans-Serif\" font-size=\"14.00\">value = [3, 164]</text>\r\n",
       "<text text-anchor=\"start\" x=\"821\" y=\"-1198.8\" font-family=\"Helvetica,sans-Serif\" font-size=\"14.00\">class = fail</text>\r\n",
       "</g>\r\n",
       "<!-- 0&#45;&gt;30 -->\r\n",
       "<g id=\"edge30\" class=\"edge\"><title>0&#45;&gt;30</title>\r\n",
       "<path fill=\"none\" stroke=\"black\" d=\"M812.514,-1324.97C816.836,-1316.33 821.381,-1307.24 825.82,-1298.36\"/>\r\n",
       "<polygon fill=\"black\" stroke=\"black\" points=\"829.051,-1299.72 830.393,-1289.21 822.79,-1296.59 829.051,-1299.72\"/>\r\n",
       "<text text-anchor=\"middle\" x=\"838.299\" y=\"-1309.23\" font-family=\"Helvetica,sans-Serif\" font-size=\"14.00\">False</text>\r\n",
       "</g>\r\n",
       "<!-- 2 -->\r\n",
       "<g id=\"node3\" class=\"node\"><title>2</title>\r\n",
       "<path fill=\"#e58139\" stroke=\"black\" d=\"M573,-1147.5C573,-1147.5 492,-1147.5 492,-1147.5 486,-1147.5 480,-1141.5 480,-1135.5 480,-1135.5 480,-1076.5 480,-1076.5 480,-1070.5 486,-1064.5 492,-1064.5 492,-1064.5 573,-1064.5 573,-1064.5 579,-1064.5 585,-1070.5 585,-1076.5 585,-1076.5 585,-1135.5 585,-1135.5 585,-1141.5 579,-1147.5 573,-1147.5\"/>\r\n",
       "<text text-anchor=\"start\" x=\"506\" y=\"-1132.3\" font-family=\"Helvetica,sans-Serif\" font-size=\"14.00\">node #2</text>\r\n",
       "<text text-anchor=\"start\" x=\"503.5\" y=\"-1117.3\" font-family=\"Helvetica,sans-Serif\" font-size=\"14.00\">gini = 0.0</text>\r\n",
       "<text text-anchor=\"start\" x=\"489\" y=\"-1102.3\" font-family=\"Helvetica,sans-Serif\" font-size=\"14.00\">samples = 42</text>\r\n",
       "<text text-anchor=\"start\" x=\"488\" y=\"-1087.3\" font-family=\"Helvetica,sans-Serif\" font-size=\"14.00\">value = [42, 0]</text>\r\n",
       "<text text-anchor=\"start\" x=\"492.5\" y=\"-1072.3\" font-family=\"Helvetica,sans-Serif\" font-size=\"14.00\">class = pass</text>\r\n",
       "</g>\r\n",
       "<!-- 1&#45;&gt;2 -->\r\n",
       "<g id=\"edge2\" class=\"edge\"><title>1&#45;&gt;2</title>\r\n",
       "<path fill=\"none\" stroke=\"black\" d=\"M613.291,-1190.97C602.12,-1179.36 590.177,-1166.95 578.994,-1155.32\"/>\r\n",
       "<polygon fill=\"black\" stroke=\"black\" points=\"581.226,-1152.6 571.77,-1147.82 576.182,-1157.45 581.226,-1152.6\"/>\r\n",
       "</g>\r\n",
       "<!-- 3 -->\r\n",
       "<g id=\"node4\" class=\"node\"><title>3</title>\r\n",
       "<path fill=\"#f2be99\" stroke=\"black\" d=\"M704,-1155C704,-1155 615,-1155 615,-1155 609,-1155 603,-1149 603,-1143 603,-1143 603,-1069 603,-1069 603,-1063 609,-1057 615,-1057 615,-1057 704,-1057 704,-1057 710,-1057 716,-1063 716,-1069 716,-1069 716,-1143 716,-1143 716,-1149 710,-1155 704,-1155\"/>\r\n",
       "<text text-anchor=\"start\" x=\"633\" y=\"-1139.8\" font-family=\"Helvetica,sans-Serif\" font-size=\"14.00\">node #3</text>\r\n",
       "<text text-anchor=\"start\" x=\"632\" y=\"-1124.8\" font-family=\"Helvetica,sans-Serif\" font-size=\"14.00\">G1 ≤ 7.5</text>\r\n",
       "<text text-anchor=\"start\" x=\"626\" y=\"-1109.8\" font-family=\"Helvetica,sans-Serif\" font-size=\"14.00\">gini = 0.44</text>\r\n",
       "<text text-anchor=\"start\" x=\"616\" y=\"-1094.8\" font-family=\"Helvetica,sans-Serif\" font-size=\"14.00\">samples = 55</text>\r\n",
       "<text text-anchor=\"start\" x=\"611\" y=\"-1079.8\" font-family=\"Helvetica,sans-Serif\" font-size=\"14.00\">value = [37, 18]</text>\r\n",
       "<text text-anchor=\"start\" x=\"619.5\" y=\"-1064.8\" font-family=\"Helvetica,sans-Serif\" font-size=\"14.00\">class = pass</text>\r\n",
       "</g>\r\n",
       "<!-- 1&#45;&gt;3 -->\r\n",
       "<g id=\"edge3\" class=\"edge\"><title>1&#45;&gt;3</title>\r\n",
       "<path fill=\"none\" stroke=\"black\" d=\"M659.5,-1190.97C659.5,-1182.69 659.5,-1174 659.5,-1165.48\"/>\r\n",
       "<polygon fill=\"black\" stroke=\"black\" points=\"663,-1165.21 659.5,-1155.21 656,-1165.21 663,-1165.21\"/>\r\n",
       "</g>\r\n",
       "<!-- 4 -->\r\n",
       "<g id=\"node5\" class=\"node\"><title>4</title>\r\n",
       "<path fill=\"#e58139\" stroke=\"black\" d=\"M573,-1013.5C573,-1013.5 492,-1013.5 492,-1013.5 486,-1013.5 480,-1007.5 480,-1001.5 480,-1001.5 480,-942.5 480,-942.5 480,-936.5 486,-930.5 492,-930.5 492,-930.5 573,-930.5 573,-930.5 579,-930.5 585,-936.5 585,-942.5 585,-942.5 585,-1001.5 585,-1001.5 585,-1007.5 579,-1013.5 573,-1013.5\"/>\r\n",
       "<text text-anchor=\"start\" x=\"506\" y=\"-998.3\" font-family=\"Helvetica,sans-Serif\" font-size=\"14.00\">node #4</text>\r\n",
       "<text text-anchor=\"start\" x=\"503.5\" y=\"-983.3\" font-family=\"Helvetica,sans-Serif\" font-size=\"14.00\">gini = 0.0</text>\r\n",
       "<text text-anchor=\"start\" x=\"489\" y=\"-968.3\" font-family=\"Helvetica,sans-Serif\" font-size=\"14.00\">samples = 10</text>\r\n",
       "<text text-anchor=\"start\" x=\"488\" y=\"-953.3\" font-family=\"Helvetica,sans-Serif\" font-size=\"14.00\">value = [10, 0]</text>\r\n",
       "<text text-anchor=\"start\" x=\"492.5\" y=\"-938.3\" font-family=\"Helvetica,sans-Serif\" font-size=\"14.00\">class = pass</text>\r\n",
       "</g>\r\n",
       "<!-- 3&#45;&gt;4 -->\r\n",
       "<g id=\"edge4\" class=\"edge\"><title>3&#45;&gt;4</title>\r\n",
       "<path fill=\"none\" stroke=\"black\" d=\"M613.291,-1056.97C602.12,-1045.36 590.177,-1032.95 578.994,-1021.32\"/>\r\n",
       "<polygon fill=\"black\" stroke=\"black\" points=\"581.226,-1018.6 571.77,-1013.82 576.182,-1023.45 581.226,-1018.6\"/>\r\n",
       "</g>\r\n",
       "<!-- 5 -->\r\n",
       "<g id=\"node6\" class=\"node\"><title>5</title>\r\n",
       "<path fill=\"#f6d5bd\" stroke=\"black\" d=\"M704,-1021C704,-1021 615,-1021 615,-1021 609,-1021 603,-1015 603,-1009 603,-1009 603,-935 603,-935 603,-929 609,-923 615,-923 615,-923 704,-923 704,-923 710,-923 716,-929 716,-935 716,-935 716,-1009 716,-1009 716,-1015 710,-1021 704,-1021\"/>\r\n",
       "<text text-anchor=\"start\" x=\"633\" y=\"-1005.8\" font-family=\"Helvetica,sans-Serif\" font-size=\"14.00\">node #5</text>\r\n",
       "<text text-anchor=\"start\" x=\"623.5\" y=\"-990.8\" font-family=\"Helvetica,sans-Serif\" font-size=\"14.00\">goout ≤ 4.5</text>\r\n",
       "<text text-anchor=\"start\" x=\"626\" y=\"-975.8\" font-family=\"Helvetica,sans-Serif\" font-size=\"14.00\">gini = 0.48</text>\r\n",
       "<text text-anchor=\"start\" x=\"616\" y=\"-960.8\" font-family=\"Helvetica,sans-Serif\" font-size=\"14.00\">samples = 45</text>\r\n",
       "<text text-anchor=\"start\" x=\"611\" y=\"-945.8\" font-family=\"Helvetica,sans-Serif\" font-size=\"14.00\">value = [27, 18]</text>\r\n",
       "<text text-anchor=\"start\" x=\"619.5\" y=\"-930.8\" font-family=\"Helvetica,sans-Serif\" font-size=\"14.00\">class = pass</text>\r\n",
       "</g>\r\n",
       "<!-- 3&#45;&gt;5 -->\r\n",
       "<g id=\"edge5\" class=\"edge\"><title>3&#45;&gt;5</title>\r\n",
       "<path fill=\"none\" stroke=\"black\" d=\"M659.5,-1056.97C659.5,-1048.69 659.5,-1040 659.5,-1031.48\"/>\r\n",
       "<polygon fill=\"black\" stroke=\"black\" points=\"663,-1031.21 659.5,-1021.21 656,-1031.21 663,-1031.21\"/>\r\n",
       "</g>\r\n",
       "<!-- 6 -->\r\n",
       "<g id=\"node7\" class=\"node\"><title>6</title>\r\n",
       "<path fill=\"#f1bd98\" stroke=\"black\" d=\"M520.5,-887C520.5,-887 414.5,-887 414.5,-887 408.5,-887 402.5,-881 402.5,-875 402.5,-875 402.5,-801 402.5,-801 402.5,-795 408.5,-789 414.5,-789 414.5,-789 520.5,-789 520.5,-789 526.5,-789 532.5,-795 532.5,-801 532.5,-801 532.5,-875 532.5,-875 532.5,-881 526.5,-887 520.5,-887\"/>\r\n",
       "<text text-anchor=\"start\" x=\"441\" y=\"-871.8\" font-family=\"Helvetica,sans-Serif\" font-size=\"14.00\">node #6</text>\r\n",
       "<text text-anchor=\"start\" x=\"410.5\" y=\"-856.8\" font-family=\"Helvetica,sans-Serif\" font-size=\"14.00\">romantic_no ≤ 0.5</text>\r\n",
       "<text text-anchor=\"start\" x=\"430\" y=\"-841.8\" font-family=\"Helvetica,sans-Serif\" font-size=\"14.00\">gini = 0.438</text>\r\n",
       "<text text-anchor=\"start\" x=\"424\" y=\"-826.8\" font-family=\"Helvetica,sans-Serif\" font-size=\"14.00\">samples = 37</text>\r\n",
       "<text text-anchor=\"start\" x=\"419\" y=\"-811.8\" font-family=\"Helvetica,sans-Serif\" font-size=\"14.00\">value = [25, 12]</text>\r\n",
       "<text text-anchor=\"start\" x=\"427.5\" y=\"-796.8\" font-family=\"Helvetica,sans-Serif\" font-size=\"14.00\">class = pass</text>\r\n",
       "</g>\r\n",
       "<!-- 5&#45;&gt;6 -->\r\n",
       "<g id=\"edge6\" class=\"edge\"><title>5&#45;&gt;6</title>\r\n",
       "<path fill=\"none\" stroke=\"black\" d=\"M602.724,-929.483C599.612,-927.278 596.523,-925.105 593.5,-923 576.629,-911.249 558.308,-898.838 540.996,-887.268\"/>\r\n",
       "<polygon fill=\"black\" stroke=\"black\" points=\"542.851,-884.298 532.59,-881.662 538.968,-890.122 542.851,-884.298\"/>\r\n",
       "</g>\r\n",
       "<!-- 25 -->\r\n",
       "<g id=\"node26\" class=\"node\"><title>25</title>\r\n",
       "<path fill=\"#7bbeee\" stroke=\"black\" d=\"M696,-887C696,-887 623,-887 623,-887 617,-887 611,-881 611,-875 611,-875 611,-801 611,-801 611,-795 617,-789 623,-789 623,-789 696,-789 696,-789 702,-789 708,-795 708,-801 708,-801 708,-875 708,-875 708,-881 702,-887 696,-887\"/>\r\n",
       "<text text-anchor=\"start\" x=\"629\" y=\"-871.8\" font-family=\"Helvetica,sans-Serif\" font-size=\"14.00\">node #25</text>\r\n",
       "<text text-anchor=\"start\" x=\"627.5\" y=\"-856.8\" font-family=\"Helvetica,sans-Serif\" font-size=\"14.00\">G1 ≤ 10.5</text>\r\n",
       "<text text-anchor=\"start\" x=\"622\" y=\"-841.8\" font-family=\"Helvetica,sans-Serif\" font-size=\"14.00\">gini = 0.375</text>\r\n",
       "<text text-anchor=\"start\" x=\"620\" y=\"-826.8\" font-family=\"Helvetica,sans-Serif\" font-size=\"14.00\">samples = 8</text>\r\n",
       "<text text-anchor=\"start\" x=\"619\" y=\"-811.8\" font-family=\"Helvetica,sans-Serif\" font-size=\"14.00\">value = [2, 6]</text>\r\n",
       "<text text-anchor=\"start\" x=\"626\" y=\"-796.8\" font-family=\"Helvetica,sans-Serif\" font-size=\"14.00\">class = fail</text>\r\n",
       "</g>\r\n",
       "<!-- 5&#45;&gt;25 -->\r\n",
       "<g id=\"edge25\" class=\"edge\"><title>5&#45;&gt;25</title>\r\n",
       "<path fill=\"none\" stroke=\"black\" d=\"M659.5,-922.972C659.5,-914.691 659.5,-906.003 659.5,-897.483\"/>\r\n",
       "<polygon fill=\"black\" stroke=\"black\" points=\"663,-897.214 659.5,-887.214 656,-897.214 663,-897.214\"/>\r\n",
       "</g>\r\n",
       "<!-- 7 -->\r\n",
       "<g id=\"node8\" class=\"node\"><title>7</title>\r\n",
       "<path fill=\"#e78c49\" stroke=\"black\" d=\"M232,-753C232,-753 151,-753 151,-753 145,-753 139,-747 139,-741 139,-741 139,-667 139,-667 139,-661 145,-655 151,-655 151,-655 232,-655 232,-655 238,-655 244,-661 244,-667 244,-667 244,-741 244,-741 244,-747 238,-753 232,-753\"/>\r\n",
       "<text text-anchor=\"start\" x=\"165\" y=\"-737.8\" font-family=\"Helvetica,sans-Serif\" font-size=\"14.00\">node #7</text>\r\n",
       "<text text-anchor=\"start\" x=\"147.5\" y=\"-722.8\" font-family=\"Helvetica,sans-Serif\" font-size=\"14.00\">freetime ≤ 3.5</text>\r\n",
       "<text text-anchor=\"start\" x=\"154\" y=\"-707.8\" font-family=\"Helvetica,sans-Serif\" font-size=\"14.00\">gini = 0.142</text>\r\n",
       "<text text-anchor=\"start\" x=\"148\" y=\"-692.8\" font-family=\"Helvetica,sans-Serif\" font-size=\"14.00\">samples = 13</text>\r\n",
       "<text text-anchor=\"start\" x=\"147\" y=\"-677.8\" font-family=\"Helvetica,sans-Serif\" font-size=\"14.00\">value = [12, 1]</text>\r\n",
       "<text text-anchor=\"start\" x=\"151.5\" y=\"-662.8\" font-family=\"Helvetica,sans-Serif\" font-size=\"14.00\">class = pass</text>\r\n",
       "</g>\r\n",
       "<!-- 6&#45;&gt;7 -->\r\n",
       "<g id=\"edge7\" class=\"edge\"><title>6&#45;&gt;7</title>\r\n",
       "<path fill=\"none\" stroke=\"black\" d=\"M402.441,-805.885C357.359,-784.324 297.702,-755.792 253.336,-734.574\"/>\r\n",
       "<polygon fill=\"black\" stroke=\"black\" points=\"254.644,-731.319 244.112,-730.162 251.623,-737.634 254.644,-731.319\"/>\r\n",
       "</g>\r\n",
       "<!-- 12 -->\r\n",
       "<g id=\"node13\" class=\"node\"><title>12</title>\r\n",
       "<path fill=\"#fbece1\" stroke=\"black\" d=\"M512,-753C512,-753 423,-753 423,-753 417,-753 411,-747 411,-741 411,-741 411,-667 411,-667 411,-661 417,-655 423,-655 423,-655 512,-655 512,-655 518,-655 524,-661 524,-667 524,-667 524,-741 524,-741 524,-747 518,-753 512,-753\"/>\r\n",
       "<text text-anchor=\"start\" x=\"437\" y=\"-737.8\" font-family=\"Helvetica,sans-Serif\" font-size=\"14.00\">node #12</text>\r\n",
       "<text text-anchor=\"start\" x=\"431.5\" y=\"-722.8\" font-family=\"Helvetica,sans-Serif\" font-size=\"14.00\">goout ≤ 3.5</text>\r\n",
       "<text text-anchor=\"start\" x=\"430\" y=\"-707.8\" font-family=\"Helvetica,sans-Serif\" font-size=\"14.00\">gini = 0.497</text>\r\n",
       "<text text-anchor=\"start\" x=\"424\" y=\"-692.8\" font-family=\"Helvetica,sans-Serif\" font-size=\"14.00\">samples = 24</text>\r\n",
       "<text text-anchor=\"start\" x=\"419\" y=\"-677.8\" font-family=\"Helvetica,sans-Serif\" font-size=\"14.00\">value = [13, 11]</text>\r\n",
       "<text text-anchor=\"start\" x=\"427.5\" y=\"-662.8\" font-family=\"Helvetica,sans-Serif\" font-size=\"14.00\">class = pass</text>\r\n",
       "</g>\r\n",
       "<!-- 6&#45;&gt;12 -->\r\n",
       "<g id=\"edge12\" class=\"edge\"><title>6&#45;&gt;12</title>\r\n",
       "<path fill=\"none\" stroke=\"black\" d=\"M467.5,-788.972C467.5,-780.691 467.5,-772.003 467.5,-763.483\"/>\r\n",
       "<polygon fill=\"black\" stroke=\"black\" points=\"471,-763.214 467.5,-753.214 464,-763.214 471,-763.214\"/>\r\n",
       "</g>\r\n",
       "<!-- 8 -->\r\n",
       "<g id=\"node9\" class=\"node\"><title>8</title>\r\n",
       "<path fill=\"#e58139\" stroke=\"black\" d=\"M93,-611.5C93,-611.5 12,-611.5 12,-611.5 6,-611.5 0,-605.5 0,-599.5 0,-599.5 0,-540.5 0,-540.5 0,-534.5 6,-528.5 12,-528.5 12,-528.5 93,-528.5 93,-528.5 99,-528.5 105,-534.5 105,-540.5 105,-540.5 105,-599.5 105,-599.5 105,-605.5 99,-611.5 93,-611.5\"/>\r\n",
       "<text text-anchor=\"start\" x=\"26\" y=\"-596.3\" font-family=\"Helvetica,sans-Serif\" font-size=\"14.00\">node #8</text>\r\n",
       "<text text-anchor=\"start\" x=\"23.5\" y=\"-581.3\" font-family=\"Helvetica,sans-Serif\" font-size=\"14.00\">gini = 0.0</text>\r\n",
       "<text text-anchor=\"start\" x=\"9\" y=\"-566.3\" font-family=\"Helvetica,sans-Serif\" font-size=\"14.00\">samples = 11</text>\r\n",
       "<text text-anchor=\"start\" x=\"8\" y=\"-551.3\" font-family=\"Helvetica,sans-Serif\" font-size=\"14.00\">value = [11, 0]</text>\r\n",
       "<text text-anchor=\"start\" x=\"12.5\" y=\"-536.3\" font-family=\"Helvetica,sans-Serif\" font-size=\"14.00\">class = pass</text>\r\n",
       "</g>\r\n",
       "<!-- 7&#45;&gt;8 -->\r\n",
       "<g id=\"edge8\" class=\"edge\"><title>7&#45;&gt;8</title>\r\n",
       "<path fill=\"none\" stroke=\"black\" d=\"M140.925,-654.972C128.582,-643.251 115.378,-630.712 103.038,-618.993\"/>\r\n",
       "<polygon fill=\"black\" stroke=\"black\" points=\"105.143,-616.165 95.4811,-611.817 100.322,-621.241 105.143,-616.165\"/>\r\n",
       "</g>\r\n",
       "<!-- 9 -->\r\n",
       "<g id=\"node10\" class=\"node\"><title>9</title>\r\n",
       "<path fill=\"#ffffff\" stroke=\"black\" d=\"M247.5,-619C247.5,-619 135.5,-619 135.5,-619 129.5,-619 123.5,-613 123.5,-607 123.5,-607 123.5,-533 123.5,-533 123.5,-527 129.5,-521 135.5,-521 135.5,-521 247.5,-521 247.5,-521 253.5,-521 259.5,-527 259.5,-533 259.5,-533 259.5,-607 259.5,-607 259.5,-613 253.5,-619 247.5,-619\"/>\r\n",
       "<text text-anchor=\"start\" x=\"165\" y=\"-603.8\" font-family=\"Helvetica,sans-Serif\" font-size=\"14.00\">node #9</text>\r\n",
       "<text text-anchor=\"start\" x=\"131.5\" y=\"-588.8\" font-family=\"Helvetica,sans-Serif\" font-size=\"14.00\">reason_other ≤ 0.5</text>\r\n",
       "<text text-anchor=\"start\" x=\"162.5\" y=\"-573.8\" font-family=\"Helvetica,sans-Serif\" font-size=\"14.00\">gini = 0.5</text>\r\n",
       "<text text-anchor=\"start\" x=\"152\" y=\"-558.8\" font-family=\"Helvetica,sans-Serif\" font-size=\"14.00\">samples = 2</text>\r\n",
       "<text text-anchor=\"start\" x=\"151\" y=\"-543.8\" font-family=\"Helvetica,sans-Serif\" font-size=\"14.00\">value = [1, 1]</text>\r\n",
       "<text text-anchor=\"start\" x=\"151.5\" y=\"-528.8\" font-family=\"Helvetica,sans-Serif\" font-size=\"14.00\">class = pass</text>\r\n",
       "</g>\r\n",
       "<!-- 7&#45;&gt;9 -->\r\n",
       "<g id=\"edge9\" class=\"edge\"><title>7&#45;&gt;9</title>\r\n",
       "<path fill=\"none\" stroke=\"black\" d=\"M191.5,-654.972C191.5,-646.691 191.5,-638.003 191.5,-629.483\"/>\r\n",
       "<polygon fill=\"black\" stroke=\"black\" points=\"195,-629.214 191.5,-619.214 188,-629.214 195,-629.214\"/>\r\n",
       "</g>\r\n",
       "<!-- 10 -->\r\n",
       "<g id=\"node11\" class=\"node\"><title>10</title>\r\n",
       "<path fill=\"#e58139\" stroke=\"black\" d=\"M113,-477.5C113,-477.5 40,-477.5 40,-477.5 34,-477.5 28,-471.5 28,-465.5 28,-465.5 28,-406.5 28,-406.5 28,-400.5 34,-394.5 40,-394.5 40,-394.5 113,-394.5 113,-394.5 119,-394.5 125,-400.5 125,-406.5 125,-406.5 125,-465.5 125,-465.5 125,-471.5 119,-477.5 113,-477.5\"/>\r\n",
       "<text text-anchor=\"start\" x=\"46\" y=\"-462.3\" font-family=\"Helvetica,sans-Serif\" font-size=\"14.00\">node #10</text>\r\n",
       "<text text-anchor=\"start\" x=\"47.5\" y=\"-447.3\" font-family=\"Helvetica,sans-Serif\" font-size=\"14.00\">gini = 0.0</text>\r\n",
       "<text text-anchor=\"start\" x=\"37\" y=\"-432.3\" font-family=\"Helvetica,sans-Serif\" font-size=\"14.00\">samples = 1</text>\r\n",
       "<text text-anchor=\"start\" x=\"36\" y=\"-417.3\" font-family=\"Helvetica,sans-Serif\" font-size=\"14.00\">value = [1, 0]</text>\r\n",
       "<text text-anchor=\"start\" x=\"36.5\" y=\"-402.3\" font-family=\"Helvetica,sans-Serif\" font-size=\"14.00\">class = pass</text>\r\n",
       "</g>\r\n",
       "<!-- 9&#45;&gt;10 -->\r\n",
       "<g id=\"edge10\" class=\"edge\"><title>9&#45;&gt;10</title>\r\n",
       "<path fill=\"none\" stroke=\"black\" d=\"M149.657,-520.972C139.639,-509.472 128.934,-497.185 118.89,-485.657\"/>\r\n",
       "<polygon fill=\"black\" stroke=\"black\" points=\"121.268,-483.057 112.06,-477.817 115.99,-487.656 121.268,-483.057\"/>\r\n",
       "</g>\r\n",
       "<!-- 11 -->\r\n",
       "<g id=\"node12\" class=\"node\"><title>11</title>\r\n",
       "<path fill=\"#399de5\" stroke=\"black\" d=\"M228,-477.5C228,-477.5 155,-477.5 155,-477.5 149,-477.5 143,-471.5 143,-465.5 143,-465.5 143,-406.5 143,-406.5 143,-400.5 149,-394.5 155,-394.5 155,-394.5 228,-394.5 228,-394.5 234,-394.5 240,-400.5 240,-406.5 240,-406.5 240,-465.5 240,-465.5 240,-471.5 234,-477.5 228,-477.5\"/>\r\n",
       "<text text-anchor=\"start\" x=\"161\" y=\"-462.3\" font-family=\"Helvetica,sans-Serif\" font-size=\"14.00\">node #11</text>\r\n",
       "<text text-anchor=\"start\" x=\"162.5\" y=\"-447.3\" font-family=\"Helvetica,sans-Serif\" font-size=\"14.00\">gini = 0.0</text>\r\n",
       "<text text-anchor=\"start\" x=\"152\" y=\"-432.3\" font-family=\"Helvetica,sans-Serif\" font-size=\"14.00\">samples = 1</text>\r\n",
       "<text text-anchor=\"start\" x=\"151\" y=\"-417.3\" font-family=\"Helvetica,sans-Serif\" font-size=\"14.00\">value = [0, 1]</text>\r\n",
       "<text text-anchor=\"start\" x=\"158\" y=\"-402.3\" font-family=\"Helvetica,sans-Serif\" font-size=\"14.00\">class = fail</text>\r\n",
       "</g>\r\n",
       "<!-- 9&#45;&gt;11 -->\r\n",
       "<g id=\"edge11\" class=\"edge\"><title>9&#45;&gt;11</title>\r\n",
       "<path fill=\"none\" stroke=\"black\" d=\"M191.5,-520.972C191.5,-510.246 191.5,-498.835 191.5,-487.994\"/>\r\n",
       "<polygon fill=\"black\" stroke=\"black\" points=\"195,-487.817 191.5,-477.817 188,-487.817 195,-487.817\"/>\r\n",
       "</g>\r\n",
       "<!-- 13 -->\r\n",
       "<g id=\"node14\" class=\"node\"><title>13</title>\r\n",
       "<path fill=\"#b0d8f5\" stroke=\"black\" d=\"M465.5,-619C465.5,-619 349.5,-619 349.5,-619 343.5,-619 337.5,-613 337.5,-607 337.5,-607 337.5,-533 337.5,-533 337.5,-527 343.5,-521 349.5,-521 349.5,-521 465.5,-521 465.5,-521 471.5,-521 477.5,-527 477.5,-533 477.5,-533 477.5,-607 477.5,-607 477.5,-613 471.5,-619 465.5,-619\"/>\r\n",
       "<text text-anchor=\"start\" x=\"377\" y=\"-603.8\" font-family=\"Helvetica,sans-Serif\" font-size=\"14.00\">node #13</text>\r\n",
       "<text text-anchor=\"start\" x=\"345.5\" y=\"-588.8\" font-family=\"Helvetica,sans-Serif\" font-size=\"14.00\">reason_home ≤ 0.5</text>\r\n",
       "<text text-anchor=\"start\" x=\"370\" y=\"-573.8\" font-family=\"Helvetica,sans-Serif\" font-size=\"14.00\">gini = 0.469</text>\r\n",
       "<text text-anchor=\"start\" x=\"364\" y=\"-558.8\" font-family=\"Helvetica,sans-Serif\" font-size=\"14.00\">samples = 16</text>\r\n",
       "<text text-anchor=\"start\" x=\"363\" y=\"-543.8\" font-family=\"Helvetica,sans-Serif\" font-size=\"14.00\">value = [6, 10]</text>\r\n",
       "<text text-anchor=\"start\" x=\"374\" y=\"-528.8\" font-family=\"Helvetica,sans-Serif\" font-size=\"14.00\">class = fail</text>\r\n",
       "</g>\r\n",
       "<!-- 12&#45;&gt;13 -->\r\n",
       "<g id=\"edge13\" class=\"edge\"><title>12&#45;&gt;13</title>\r\n",
       "<path fill=\"none\" stroke=\"black\" d=\"M445.669,-654.972C441.74,-646.327 437.608,-637.238 433.573,-628.361\"/>\r\n",
       "<polygon fill=\"black\" stroke=\"black\" points=\"436.74,-626.869 429.415,-619.214 430.367,-629.766 436.74,-626.869\"/>\r\n",
       "</g>\r\n",
       "<!-- 22 -->\r\n",
       "<g id=\"node23\" class=\"node\"><title>22</title>\r\n",
       "<path fill=\"#e99355\" stroke=\"black\" d=\"M581,-619C581,-619 508,-619 508,-619 502,-619 496,-613 496,-607 496,-607 496,-533 496,-533 496,-527 502,-521 508,-521 508,-521 581,-521 581,-521 587,-521 593,-527 593,-533 593,-533 593,-607 593,-607 593,-613 587,-619 581,-619\"/>\r\n",
       "<text text-anchor=\"start\" x=\"514\" y=\"-603.8\" font-family=\"Helvetica,sans-Serif\" font-size=\"14.00\">node #22</text>\r\n",
       "<text text-anchor=\"start\" x=\"512.5\" y=\"-588.8\" font-family=\"Helvetica,sans-Serif\" font-size=\"14.00\">G1 ≤ 10.5</text>\r\n",
       "<text text-anchor=\"start\" x=\"507\" y=\"-573.8\" font-family=\"Helvetica,sans-Serif\" font-size=\"14.00\">gini = 0.219</text>\r\n",
       "<text text-anchor=\"start\" x=\"505\" y=\"-558.8\" font-family=\"Helvetica,sans-Serif\" font-size=\"14.00\">samples = 8</text>\r\n",
       "<text text-anchor=\"start\" x=\"504\" y=\"-543.8\" font-family=\"Helvetica,sans-Serif\" font-size=\"14.00\">value = [7, 1]</text>\r\n",
       "<text text-anchor=\"start\" x=\"504.5\" y=\"-528.8\" font-family=\"Helvetica,sans-Serif\" font-size=\"14.00\">class = pass</text>\r\n",
       "</g>\r\n",
       "<!-- 12&#45;&gt;22 -->\r\n",
       "<g id=\"edge22\" class=\"edge\"><title>12&#45;&gt;22</title>\r\n",
       "<path fill=\"none\" stroke=\"black\" d=\"M495.517,-654.972C500.612,-646.236 505.973,-637.046 511.203,-628.08\"/>\r\n",
       "<polygon fill=\"black\" stroke=\"black\" points=\"514.36,-629.615 516.375,-619.214 508.313,-626.088 514.36,-629.615\"/>\r\n",
       "</g>\r\n",
       "<!-- 14 -->\r\n",
       "<g id=\"node15\" class=\"node\"><title>14</title>\r\n",
       "<path fill=\"#fbeade\" stroke=\"black\" d=\"M350.5,-485C350.5,-485 270.5,-485 270.5,-485 264.5,-485 258.5,-479 258.5,-473 258.5,-473 258.5,-399 258.5,-399 258.5,-393 264.5,-387 270.5,-387 270.5,-387 350.5,-387 350.5,-387 356.5,-387 362.5,-393 362.5,-399 362.5,-399 362.5,-473 362.5,-473 362.5,-479 356.5,-485 350.5,-485\"/>\r\n",
       "<text text-anchor=\"start\" x=\"280\" y=\"-469.8\" font-family=\"Helvetica,sans-Serif\" font-size=\"14.00\">node #14</text>\r\n",
       "<text text-anchor=\"start\" x=\"266.5\" y=\"-454.8\" font-family=\"Helvetica,sans-Serif\" font-size=\"14.00\">freetime ≤ 3.5</text>\r\n",
       "<text text-anchor=\"start\" x=\"273\" y=\"-439.8\" font-family=\"Helvetica,sans-Serif\" font-size=\"14.00\">gini = 0.496</text>\r\n",
       "<text text-anchor=\"start\" x=\"267\" y=\"-424.8\" font-family=\"Helvetica,sans-Serif\" font-size=\"14.00\">samples = 11</text>\r\n",
       "<text text-anchor=\"start\" x=\"270\" y=\"-409.8\" font-family=\"Helvetica,sans-Serif\" font-size=\"14.00\">value = [6, 5]</text>\r\n",
       "<text text-anchor=\"start\" x=\"270.5\" y=\"-394.8\" font-family=\"Helvetica,sans-Serif\" font-size=\"14.00\">class = pass</text>\r\n",
       "</g>\r\n",
       "<!-- 13&#45;&gt;14 -->\r\n",
       "<g id=\"edge14\" class=\"edge\"><title>13&#45;&gt;14</title>\r\n",
       "<path fill=\"none\" stroke=\"black\" d=\"M372.206,-520.972C365.654,-512.054 358.753,-502.663 352.034,-493.52\"/>\r\n",
       "<polygon fill=\"black\" stroke=\"black\" points=\"354.672,-491.2 345.93,-485.214 349.031,-495.345 354.672,-491.2\"/>\r\n",
       "</g>\r\n",
       "<!-- 21 -->\r\n",
       "<g id=\"node22\" class=\"node\"><title>21</title>\r\n",
       "<path fill=\"#399de5\" stroke=\"black\" d=\"M466,-477.5C466,-477.5 393,-477.5 393,-477.5 387,-477.5 381,-471.5 381,-465.5 381,-465.5 381,-406.5 381,-406.5 381,-400.5 387,-394.5 393,-394.5 393,-394.5 466,-394.5 466,-394.5 472,-394.5 478,-400.5 478,-406.5 478,-406.5 478,-465.5 478,-465.5 478,-471.5 472,-477.5 466,-477.5\"/>\r\n",
       "<text text-anchor=\"start\" x=\"399\" y=\"-462.3\" font-family=\"Helvetica,sans-Serif\" font-size=\"14.00\">node #21</text>\r\n",
       "<text text-anchor=\"start\" x=\"400.5\" y=\"-447.3\" font-family=\"Helvetica,sans-Serif\" font-size=\"14.00\">gini = 0.0</text>\r\n",
       "<text text-anchor=\"start\" x=\"390\" y=\"-432.3\" font-family=\"Helvetica,sans-Serif\" font-size=\"14.00\">samples = 5</text>\r\n",
       "<text text-anchor=\"start\" x=\"389\" y=\"-417.3\" font-family=\"Helvetica,sans-Serif\" font-size=\"14.00\">value = [0, 5]</text>\r\n",
       "<text text-anchor=\"start\" x=\"396\" y=\"-402.3\" font-family=\"Helvetica,sans-Serif\" font-size=\"14.00\">class = fail</text>\r\n",
       "</g>\r\n",
       "<!-- 13&#45;&gt;21 -->\r\n",
       "<g id=\"edge21\" class=\"edge\"><title>13&#45;&gt;21</title>\r\n",
       "<path fill=\"none\" stroke=\"black\" d=\"M415.505,-520.972C417.292,-510.246 419.194,-498.835 421.001,-487.994\"/>\r\n",
       "<polygon fill=\"black\" stroke=\"black\" points=\"424.506,-488.256 422.697,-477.817 417.601,-487.105 424.506,-488.256\"/>\r\n",
       "</g>\r\n",
       "<!-- 15 -->\r\n",
       "<g id=\"node16\" class=\"node\"><title>15</title>\r\n",
       "<path fill=\"#eeab7b\" stroke=\"black\" d=\"M289,-351C289,-351 216,-351 216,-351 210,-351 204,-345 204,-339 204,-339 204,-265 204,-265 204,-259 210,-253 216,-253 216,-253 289,-253 289,-253 295,-253 301,-259 301,-265 301,-265 301,-339 301,-339 301,-345 295,-351 289,-351\"/>\r\n",
       "<text text-anchor=\"start\" x=\"222\" y=\"-335.8\" font-family=\"Helvetica,sans-Serif\" font-size=\"14.00\">node #15</text>\r\n",
       "<text text-anchor=\"start\" x=\"216\" y=\"-320.8\" font-family=\"Helvetica,sans-Serif\" font-size=\"14.00\">health ≤ 3.5</text>\r\n",
       "<text text-anchor=\"start\" x=\"215\" y=\"-305.8\" font-family=\"Helvetica,sans-Serif\" font-size=\"14.00\">gini = 0.375</text>\r\n",
       "<text text-anchor=\"start\" x=\"213\" y=\"-290.8\" font-family=\"Helvetica,sans-Serif\" font-size=\"14.00\">samples = 8</text>\r\n",
       "<text text-anchor=\"start\" x=\"212\" y=\"-275.8\" font-family=\"Helvetica,sans-Serif\" font-size=\"14.00\">value = [6, 2]</text>\r\n",
       "<text text-anchor=\"start\" x=\"212.5\" y=\"-260.8\" font-family=\"Helvetica,sans-Serif\" font-size=\"14.00\">class = pass</text>\r\n",
       "</g>\r\n",
       "<!-- 14&#45;&gt;15 -->\r\n",
       "<g id=\"edge15\" class=\"edge\"><title>14&#45;&gt;15</title>\r\n",
       "<path fill=\"none\" stroke=\"black\" d=\"M289.397,-386.972C285.638,-378.418 281.689,-369.429 277.827,-360.641\"/>\r\n",
       "<polygon fill=\"black\" stroke=\"black\" points=\"280.912,-358.961 273.685,-351.214 274.503,-361.777 280.912,-358.961\"/>\r\n",
       "</g>\r\n",
       "<!-- 20 -->\r\n",
       "<g id=\"node21\" class=\"node\"><title>20</title>\r\n",
       "<path fill=\"#399de5\" stroke=\"black\" d=\"M404,-343.5C404,-343.5 331,-343.5 331,-343.5 325,-343.5 319,-337.5 319,-331.5 319,-331.5 319,-272.5 319,-272.5 319,-266.5 325,-260.5 331,-260.5 331,-260.5 404,-260.5 404,-260.5 410,-260.5 416,-266.5 416,-272.5 416,-272.5 416,-331.5 416,-331.5 416,-337.5 410,-343.5 404,-343.5\"/>\r\n",
       "<text text-anchor=\"start\" x=\"337\" y=\"-328.3\" font-family=\"Helvetica,sans-Serif\" font-size=\"14.00\">node #20</text>\r\n",
       "<text text-anchor=\"start\" x=\"338.5\" y=\"-313.3\" font-family=\"Helvetica,sans-Serif\" font-size=\"14.00\">gini = 0.0</text>\r\n",
       "<text text-anchor=\"start\" x=\"328\" y=\"-298.3\" font-family=\"Helvetica,sans-Serif\" font-size=\"14.00\">samples = 3</text>\r\n",
       "<text text-anchor=\"start\" x=\"327\" y=\"-283.3\" font-family=\"Helvetica,sans-Serif\" font-size=\"14.00\">value = [0, 3]</text>\r\n",
       "<text text-anchor=\"start\" x=\"334\" y=\"-268.3\" font-family=\"Helvetica,sans-Serif\" font-size=\"14.00\">class = fail</text>\r\n",
       "</g>\r\n",
       "<!-- 14&#45;&gt;20 -->\r\n",
       "<g id=\"edge20\" class=\"edge\"><title>14&#45;&gt;20</title>\r\n",
       "<path fill=\"none\" stroke=\"black\" d=\"M331.24,-386.972C335.967,-376.025 341.002,-364.364 345.769,-353.325\"/>\r\n",
       "<polygon fill=\"black\" stroke=\"black\" points=\"349.123,-354.385 349.875,-343.817 342.697,-351.61 349.123,-354.385\"/>\r\n",
       "</g>\r\n",
       "<!-- 16 -->\r\n",
       "<g id=\"node17\" class=\"node\"><title>16</title>\r\n",
       "<path fill=\"#e58139\" stroke=\"black\" d=\"M232,-209.5C232,-209.5 159,-209.5 159,-209.5 153,-209.5 147,-203.5 147,-197.5 147,-197.5 147,-138.5 147,-138.5 147,-132.5 153,-126.5 159,-126.5 159,-126.5 232,-126.5 232,-126.5 238,-126.5 244,-132.5 244,-138.5 244,-138.5 244,-197.5 244,-197.5 244,-203.5 238,-209.5 232,-209.5\"/>\r\n",
       "<text text-anchor=\"start\" x=\"165\" y=\"-194.3\" font-family=\"Helvetica,sans-Serif\" font-size=\"14.00\">node #16</text>\r\n",
       "<text text-anchor=\"start\" x=\"166.5\" y=\"-179.3\" font-family=\"Helvetica,sans-Serif\" font-size=\"14.00\">gini = 0.0</text>\r\n",
       "<text text-anchor=\"start\" x=\"156\" y=\"-164.3\" font-family=\"Helvetica,sans-Serif\" font-size=\"14.00\">samples = 5</text>\r\n",
       "<text text-anchor=\"start\" x=\"155\" y=\"-149.3\" font-family=\"Helvetica,sans-Serif\" font-size=\"14.00\">value = [5, 0]</text>\r\n",
       "<text text-anchor=\"start\" x=\"155.5\" y=\"-134.3\" font-family=\"Helvetica,sans-Serif\" font-size=\"14.00\">class = pass</text>\r\n",
       "</g>\r\n",
       "<!-- 15&#45;&gt;16 -->\r\n",
       "<g id=\"edge16\" class=\"edge\"><title>15&#45;&gt;16</title>\r\n",
       "<path fill=\"none\" stroke=\"black\" d=\"M231.76,-252.972C227.033,-242.025 221.998,-230.364 217.231,-219.325\"/>\r\n",
       "<polygon fill=\"black\" stroke=\"black\" points=\"220.303,-217.61 213.125,-209.817 213.877,-220.385 220.303,-217.61\"/>\r\n",
       "</g>\r\n",
       "<!-- 17 -->\r\n",
       "<g id=\"node18\" class=\"node\"><title>17</title>\r\n",
       "<path fill=\"#9ccef2\" stroke=\"black\" d=\"M347,-217C347,-217 274,-217 274,-217 268,-217 262,-211 262,-205 262,-205 262,-131 262,-131 262,-125 268,-119 274,-119 274,-119 347,-119 347,-119 353,-119 359,-125 359,-131 359,-131 359,-205 359,-205 359,-211 353,-217 347,-217\"/>\r\n",
       "<text text-anchor=\"start\" x=\"280\" y=\"-201.8\" font-family=\"Helvetica,sans-Serif\" font-size=\"14.00\">node #17</text>\r\n",
       "<text text-anchor=\"start\" x=\"276.5\" y=\"-186.8\" font-family=\"Helvetica,sans-Serif\" font-size=\"14.00\">age ≤ 15.5</text>\r\n",
       "<text text-anchor=\"start\" x=\"273\" y=\"-171.8\" font-family=\"Helvetica,sans-Serif\" font-size=\"14.00\">gini = 0.444</text>\r\n",
       "<text text-anchor=\"start\" x=\"271\" y=\"-156.8\" font-family=\"Helvetica,sans-Serif\" font-size=\"14.00\">samples = 3</text>\r\n",
       "<text text-anchor=\"start\" x=\"270\" y=\"-141.8\" font-family=\"Helvetica,sans-Serif\" font-size=\"14.00\">value = [1, 2]</text>\r\n",
       "<text text-anchor=\"start\" x=\"277\" y=\"-126.8\" font-family=\"Helvetica,sans-Serif\" font-size=\"14.00\">class = fail</text>\r\n",
       "</g>\r\n",
       "<!-- 15&#45;&gt;17 -->\r\n",
       "<g id=\"edge17\" class=\"edge\"><title>15&#45;&gt;17</title>\r\n",
       "<path fill=\"none\" stroke=\"black\" d=\"M273.603,-252.972C277.362,-244.418 281.311,-235.429 285.173,-226.641\"/>\r\n",
       "<polygon fill=\"black\" stroke=\"black\" points=\"288.497,-227.777 289.315,-217.214 282.088,-224.961 288.497,-227.777\"/>\r\n",
       "</g>\r\n",
       "<!-- 18 -->\r\n",
       "<g id=\"node19\" class=\"node\"><title>18</title>\r\n",
       "<path fill=\"#e58139\" stroke=\"black\" d=\"M289,-83C289,-83 216,-83 216,-83 210,-83 204,-77 204,-71 204,-71 204,-12 204,-12 204,-6 210,-0 216,-0 216,-0 289,-0 289,-0 295,-0 301,-6 301,-12 301,-12 301,-71 301,-71 301,-77 295,-83 289,-83\"/>\r\n",
       "<text text-anchor=\"start\" x=\"222\" y=\"-67.8\" font-family=\"Helvetica,sans-Serif\" font-size=\"14.00\">node #18</text>\r\n",
       "<text text-anchor=\"start\" x=\"223.5\" y=\"-52.8\" font-family=\"Helvetica,sans-Serif\" font-size=\"14.00\">gini = 0.0</text>\r\n",
       "<text text-anchor=\"start\" x=\"213\" y=\"-37.8\" font-family=\"Helvetica,sans-Serif\" font-size=\"14.00\">samples = 1</text>\r\n",
       "<text text-anchor=\"start\" x=\"212\" y=\"-22.8\" font-family=\"Helvetica,sans-Serif\" font-size=\"14.00\">value = [1, 0]</text>\r\n",
       "<text text-anchor=\"start\" x=\"212.5\" y=\"-7.8\" font-family=\"Helvetica,sans-Serif\" font-size=\"14.00\">class = pass</text>\r\n",
       "</g>\r\n",
       "<!-- 17&#45;&gt;18 -->\r\n",
       "<g id=\"edge18\" class=\"edge\"><title>17&#45;&gt;18</title>\r\n",
       "<path fill=\"none\" stroke=\"black\" d=\"M288.076,-118.865C284.049,-110.222 279.844,-101.196 275.794,-92.5012\"/>\r\n",
       "<polygon fill=\"black\" stroke=\"black\" points=\"278.871,-90.8176 271.475,-83.231 272.525,-93.7736 278.871,-90.8176\"/>\r\n",
       "</g>\r\n",
       "<!-- 19 -->\r\n",
       "<g id=\"node20\" class=\"node\"><title>19</title>\r\n",
       "<path fill=\"#399de5\" stroke=\"black\" d=\"M404,-83C404,-83 331,-83 331,-83 325,-83 319,-77 319,-71 319,-71 319,-12 319,-12 319,-6 325,-0 331,-0 331,-0 404,-0 404,-0 410,-0 416,-6 416,-12 416,-12 416,-71 416,-71 416,-77 410,-83 404,-83\"/>\r\n",
       "<text text-anchor=\"start\" x=\"337\" y=\"-67.8\" font-family=\"Helvetica,sans-Serif\" font-size=\"14.00\">node #19</text>\r\n",
       "<text text-anchor=\"start\" x=\"338.5\" y=\"-52.8\" font-family=\"Helvetica,sans-Serif\" font-size=\"14.00\">gini = 0.0</text>\r\n",
       "<text text-anchor=\"start\" x=\"328\" y=\"-37.8\" font-family=\"Helvetica,sans-Serif\" font-size=\"14.00\">samples = 2</text>\r\n",
       "<text text-anchor=\"start\" x=\"327\" y=\"-22.8\" font-family=\"Helvetica,sans-Serif\" font-size=\"14.00\">value = [0, 2]</text>\r\n",
       "<text text-anchor=\"start\" x=\"334\" y=\"-7.8\" font-family=\"Helvetica,sans-Serif\" font-size=\"14.00\">class = fail</text>\r\n",
       "</g>\r\n",
       "<!-- 17&#45;&gt;19 -->\r\n",
       "<g id=\"edge19\" class=\"edge\"><title>17&#45;&gt;19</title>\r\n",
       "<path fill=\"none\" stroke=\"black\" d=\"M332.538,-118.865C336.495,-110.222 340.627,-101.196 344.608,-92.5012\"/>\r\n",
       "<polygon fill=\"black\" stroke=\"black\" points=\"347.872,-93.7803 348.852,-83.231 341.507,-90.8663 347.872,-93.7803\"/>\r\n",
       "</g>\r\n",
       "<!-- 23 -->\r\n",
       "<g id=\"node24\" class=\"node\"><title>23</title>\r\n",
       "<path fill=\"#e58139\" stroke=\"black\" d=\"M581,-477.5C581,-477.5 508,-477.5 508,-477.5 502,-477.5 496,-471.5 496,-465.5 496,-465.5 496,-406.5 496,-406.5 496,-400.5 502,-394.5 508,-394.5 508,-394.5 581,-394.5 581,-394.5 587,-394.5 593,-400.5 593,-406.5 593,-406.5 593,-465.5 593,-465.5 593,-471.5 587,-477.5 581,-477.5\"/>\r\n",
       "<text text-anchor=\"start\" x=\"514\" y=\"-462.3\" font-family=\"Helvetica,sans-Serif\" font-size=\"14.00\">node #23</text>\r\n",
       "<text text-anchor=\"start\" x=\"515.5\" y=\"-447.3\" font-family=\"Helvetica,sans-Serif\" font-size=\"14.00\">gini = 0.0</text>\r\n",
       "<text text-anchor=\"start\" x=\"505\" y=\"-432.3\" font-family=\"Helvetica,sans-Serif\" font-size=\"14.00\">samples = 7</text>\r\n",
       "<text text-anchor=\"start\" x=\"504\" y=\"-417.3\" font-family=\"Helvetica,sans-Serif\" font-size=\"14.00\">value = [7, 0]</text>\r\n",
       "<text text-anchor=\"start\" x=\"504.5\" y=\"-402.3\" font-family=\"Helvetica,sans-Serif\" font-size=\"14.00\">class = pass</text>\r\n",
       "</g>\r\n",
       "<!-- 22&#45;&gt;23 -->\r\n",
       "<g id=\"edge23\" class=\"edge\"><title>22&#45;&gt;23</title>\r\n",
       "<path fill=\"none\" stroke=\"black\" d=\"M544.5,-520.972C544.5,-510.246 544.5,-498.835 544.5,-487.994\"/>\r\n",
       "<polygon fill=\"black\" stroke=\"black\" points=\"548,-487.817 544.5,-477.817 541,-487.817 548,-487.817\"/>\r\n",
       "</g>\r\n",
       "<!-- 24 -->\r\n",
       "<g id=\"node25\" class=\"node\"><title>24</title>\r\n",
       "<path fill=\"#399de5\" stroke=\"black\" d=\"M696,-477.5C696,-477.5 623,-477.5 623,-477.5 617,-477.5 611,-471.5 611,-465.5 611,-465.5 611,-406.5 611,-406.5 611,-400.5 617,-394.5 623,-394.5 623,-394.5 696,-394.5 696,-394.5 702,-394.5 708,-400.5 708,-406.5 708,-406.5 708,-465.5 708,-465.5 708,-471.5 702,-477.5 696,-477.5\"/>\r\n",
       "<text text-anchor=\"start\" x=\"629\" y=\"-462.3\" font-family=\"Helvetica,sans-Serif\" font-size=\"14.00\">node #24</text>\r\n",
       "<text text-anchor=\"start\" x=\"630.5\" y=\"-447.3\" font-family=\"Helvetica,sans-Serif\" font-size=\"14.00\">gini = 0.0</text>\r\n",
       "<text text-anchor=\"start\" x=\"620\" y=\"-432.3\" font-family=\"Helvetica,sans-Serif\" font-size=\"14.00\">samples = 1</text>\r\n",
       "<text text-anchor=\"start\" x=\"619\" y=\"-417.3\" font-family=\"Helvetica,sans-Serif\" font-size=\"14.00\">value = [0, 1]</text>\r\n",
       "<text text-anchor=\"start\" x=\"626\" y=\"-402.3\" font-family=\"Helvetica,sans-Serif\" font-size=\"14.00\">class = fail</text>\r\n",
       "</g>\r\n",
       "<!-- 22&#45;&gt;24 -->\r\n",
       "<g id=\"edge24\" class=\"edge\"><title>22&#45;&gt;24</title>\r\n",
       "<path fill=\"none\" stroke=\"black\" d=\"M586.343,-520.972C596.361,-509.472 607.066,-497.185 617.11,-485.657\"/>\r\n",
       "<polygon fill=\"black\" stroke=\"black\" points=\"620.01,-487.656 623.94,-477.817 614.732,-483.057 620.01,-487.656\"/>\r\n",
       "</g>\r\n",
       "<!-- 26 -->\r\n",
       "<g id=\"node27\" class=\"node\"><title>26</title>\r\n",
       "<path fill=\"#5aade9\" stroke=\"black\" d=\"M704,-753C704,-753 615,-753 615,-753 609,-753 603,-747 603,-741 603,-741 603,-667 603,-667 603,-661 609,-655 615,-655 615,-655 704,-655 704,-655 710,-655 716,-661 716,-667 716,-667 716,-741 716,-741 716,-747 710,-753 704,-753\"/>\r\n",
       "<text text-anchor=\"start\" x=\"629\" y=\"-737.8\" font-family=\"Helvetica,sans-Serif\" font-size=\"14.00\">node #26</text>\r\n",
       "<text text-anchor=\"start\" x=\"611\" y=\"-722.8\" font-family=\"Helvetica,sans-Serif\" font-size=\"14.00\">studytime ≤ 3.0</text>\r\n",
       "<text text-anchor=\"start\" x=\"622\" y=\"-707.8\" font-family=\"Helvetica,sans-Serif\" font-size=\"14.00\">gini = 0.245</text>\r\n",
       "<text text-anchor=\"start\" x=\"620\" y=\"-692.8\" font-family=\"Helvetica,sans-Serif\" font-size=\"14.00\">samples = 7</text>\r\n",
       "<text text-anchor=\"start\" x=\"619\" y=\"-677.8\" font-family=\"Helvetica,sans-Serif\" font-size=\"14.00\">value = [1, 6]</text>\r\n",
       "<text text-anchor=\"start\" x=\"626\" y=\"-662.8\" font-family=\"Helvetica,sans-Serif\" font-size=\"14.00\">class = fail</text>\r\n",
       "</g>\r\n",
       "<!-- 25&#45;&gt;26 -->\r\n",
       "<g id=\"edge26\" class=\"edge\"><title>25&#45;&gt;26</title>\r\n",
       "<path fill=\"none\" stroke=\"black\" d=\"M659.5,-788.972C659.5,-780.691 659.5,-772.003 659.5,-763.483\"/>\r\n",
       "<polygon fill=\"black\" stroke=\"black\" points=\"663,-763.214 659.5,-753.214 656,-763.214 663,-763.214\"/>\r\n",
       "</g>\r\n",
       "<!-- 29 -->\r\n",
       "<g id=\"node30\" class=\"node\"><title>29</title>\r\n",
       "<path fill=\"#e58139\" stroke=\"black\" d=\"M819,-745.5C819,-745.5 746,-745.5 746,-745.5 740,-745.5 734,-739.5 734,-733.5 734,-733.5 734,-674.5 734,-674.5 734,-668.5 740,-662.5 746,-662.5 746,-662.5 819,-662.5 819,-662.5 825,-662.5 831,-668.5 831,-674.5 831,-674.5 831,-733.5 831,-733.5 831,-739.5 825,-745.5 819,-745.5\"/>\r\n",
       "<text text-anchor=\"start\" x=\"752\" y=\"-730.3\" font-family=\"Helvetica,sans-Serif\" font-size=\"14.00\">node #29</text>\r\n",
       "<text text-anchor=\"start\" x=\"753.5\" y=\"-715.3\" font-family=\"Helvetica,sans-Serif\" font-size=\"14.00\">gini = 0.0</text>\r\n",
       "<text text-anchor=\"start\" x=\"743\" y=\"-700.3\" font-family=\"Helvetica,sans-Serif\" font-size=\"14.00\">samples = 1</text>\r\n",
       "<text text-anchor=\"start\" x=\"742\" y=\"-685.3\" font-family=\"Helvetica,sans-Serif\" font-size=\"14.00\">value = [1, 0]</text>\r\n",
       "<text text-anchor=\"start\" x=\"742.5\" y=\"-670.3\" font-family=\"Helvetica,sans-Serif\" font-size=\"14.00\">class = pass</text>\r\n",
       "</g>\r\n",
       "<!-- 25&#45;&gt;29 -->\r\n",
       "<g id=\"edge29\" class=\"edge\"><title>25&#45;&gt;29</title>\r\n",
       "<path fill=\"none\" stroke=\"black\" d=\"M704.254,-788.972C715.072,-777.361 726.639,-764.948 737.47,-753.325\"/>\r\n",
       "<polygon fill=\"black\" stroke=\"black\" points=\"740.21,-755.519 744.466,-745.817 735.088,-750.747 740.21,-755.519\"/>\r\n",
       "</g>\r\n",
       "<!-- 27 -->\r\n",
       "<g id=\"node28\" class=\"node\"><title>27</title>\r\n",
       "<path fill=\"#399de5\" stroke=\"black\" d=\"M696,-611.5C696,-611.5 623,-611.5 623,-611.5 617,-611.5 611,-605.5 611,-599.5 611,-599.5 611,-540.5 611,-540.5 611,-534.5 617,-528.5 623,-528.5 623,-528.5 696,-528.5 696,-528.5 702,-528.5 708,-534.5 708,-540.5 708,-540.5 708,-599.5 708,-599.5 708,-605.5 702,-611.5 696,-611.5\"/>\r\n",
       "<text text-anchor=\"start\" x=\"629\" y=\"-596.3\" font-family=\"Helvetica,sans-Serif\" font-size=\"14.00\">node #27</text>\r\n",
       "<text text-anchor=\"start\" x=\"630.5\" y=\"-581.3\" font-family=\"Helvetica,sans-Serif\" font-size=\"14.00\">gini = 0.0</text>\r\n",
       "<text text-anchor=\"start\" x=\"620\" y=\"-566.3\" font-family=\"Helvetica,sans-Serif\" font-size=\"14.00\">samples = 6</text>\r\n",
       "<text text-anchor=\"start\" x=\"619\" y=\"-551.3\" font-family=\"Helvetica,sans-Serif\" font-size=\"14.00\">value = [0, 6]</text>\r\n",
       "<text text-anchor=\"start\" x=\"626\" y=\"-536.3\" font-family=\"Helvetica,sans-Serif\" font-size=\"14.00\">class = fail</text>\r\n",
       "</g>\r\n",
       "<!-- 26&#45;&gt;27 -->\r\n",
       "<g id=\"edge27\" class=\"edge\"><title>26&#45;&gt;27</title>\r\n",
       "<path fill=\"none\" stroke=\"black\" d=\"M659.5,-654.972C659.5,-644.246 659.5,-632.835 659.5,-621.994\"/>\r\n",
       "<polygon fill=\"black\" stroke=\"black\" points=\"663,-621.817 659.5,-611.817 656,-621.817 663,-621.817\"/>\r\n",
       "</g>\r\n",
       "<!-- 28 -->\r\n",
       "<g id=\"node29\" class=\"node\"><title>28</title>\r\n",
       "<path fill=\"#e58139\" stroke=\"black\" d=\"M811,-611.5C811,-611.5 738,-611.5 738,-611.5 732,-611.5 726,-605.5 726,-599.5 726,-599.5 726,-540.5 726,-540.5 726,-534.5 732,-528.5 738,-528.5 738,-528.5 811,-528.5 811,-528.5 817,-528.5 823,-534.5 823,-540.5 823,-540.5 823,-599.5 823,-599.5 823,-605.5 817,-611.5 811,-611.5\"/>\r\n",
       "<text text-anchor=\"start\" x=\"744\" y=\"-596.3\" font-family=\"Helvetica,sans-Serif\" font-size=\"14.00\">node #28</text>\r\n",
       "<text text-anchor=\"start\" x=\"745.5\" y=\"-581.3\" font-family=\"Helvetica,sans-Serif\" font-size=\"14.00\">gini = 0.0</text>\r\n",
       "<text text-anchor=\"start\" x=\"735\" y=\"-566.3\" font-family=\"Helvetica,sans-Serif\" font-size=\"14.00\">samples = 1</text>\r\n",
       "<text text-anchor=\"start\" x=\"734\" y=\"-551.3\" font-family=\"Helvetica,sans-Serif\" font-size=\"14.00\">value = [1, 0]</text>\r\n",
       "<text text-anchor=\"start\" x=\"734.5\" y=\"-536.3\" font-family=\"Helvetica,sans-Serif\" font-size=\"14.00\">class = pass</text>\r\n",
       "</g>\r\n",
       "<!-- 26&#45;&gt;28 -->\r\n",
       "<g id=\"edge28\" class=\"edge\"><title>26&#45;&gt;28</title>\r\n",
       "<path fill=\"none\" stroke=\"black\" d=\"M701.343,-654.972C711.361,-643.472 722.066,-631.185 732.11,-619.657\"/>\r\n",
       "<polygon fill=\"black\" stroke=\"black\" points=\"735.01,-621.656 738.94,-611.817 729.732,-617.057 735.01,-621.656\"/>\r\n",
       "</g>\r\n",
       "<!-- 31 -->\r\n",
       "<g id=\"node32\" class=\"node\"><title>31</title>\r\n",
       "<path fill=\"#4aa6e7\" stroke=\"black\" d=\"M895,-1155C895,-1155 814,-1155 814,-1155 808,-1155 802,-1149 802,-1143 802,-1143 802,-1069 802,-1069 802,-1063 808,-1057 814,-1057 814,-1057 895,-1057 895,-1057 901,-1057 907,-1063 907,-1069 907,-1069 907,-1143 907,-1143 907,-1149 901,-1155 895,-1155\"/>\r\n",
       "<text text-anchor=\"start\" x=\"824\" y=\"-1139.8\" font-family=\"Helvetica,sans-Serif\" font-size=\"14.00\">node #31</text>\r\n",
       "<text text-anchor=\"start\" x=\"820.5\" y=\"-1124.8\" font-family=\"Helvetica,sans-Serif\" font-size=\"14.00\">age ≤ 17.5</text>\r\n",
       "<text text-anchor=\"start\" x=\"817\" y=\"-1109.8\" font-family=\"Helvetica,sans-Serif\" font-size=\"14.00\">gini = 0.149</text>\r\n",
       "<text text-anchor=\"start\" x=\"811\" y=\"-1094.8\" font-family=\"Helvetica,sans-Serif\" font-size=\"14.00\">samples = 37</text>\r\n",
       "<text text-anchor=\"start\" x=\"810\" y=\"-1079.8\" font-family=\"Helvetica,sans-Serif\" font-size=\"14.00\">value = [3, 34]</text>\r\n",
       "<text text-anchor=\"start\" x=\"821\" y=\"-1064.8\" font-family=\"Helvetica,sans-Serif\" font-size=\"14.00\">class = fail</text>\r\n",
       "</g>\r\n",
       "<!-- 30&#45;&gt;31 -->\r\n",
       "<g id=\"edge31\" class=\"edge\"><title>30&#45;&gt;31</title>\r\n",
       "<path fill=\"none\" stroke=\"black\" d=\"M854.5,-1190.97C854.5,-1182.69 854.5,-1174 854.5,-1165.48\"/>\r\n",
       "<polygon fill=\"black\" stroke=\"black\" points=\"858,-1165.21 854.5,-1155.21 851,-1165.21 858,-1165.21\"/>\r\n",
       "</g>\r\n",
       "<!-- 40 -->\r\n",
       "<g id=\"node41\" class=\"node\"><title>40</title>\r\n",
       "<path fill=\"#399de5\" stroke=\"black\" d=\"M1026,-1147.5C1026,-1147.5 937,-1147.5 937,-1147.5 931,-1147.5 925,-1141.5 925,-1135.5 925,-1135.5 925,-1076.5 925,-1076.5 925,-1070.5 931,-1064.5 937,-1064.5 937,-1064.5 1026,-1064.5 1026,-1064.5 1032,-1064.5 1038,-1070.5 1038,-1076.5 1038,-1076.5 1038,-1135.5 1038,-1135.5 1038,-1141.5 1032,-1147.5 1026,-1147.5\"/>\r\n",
       "<text text-anchor=\"start\" x=\"951\" y=\"-1132.3\" font-family=\"Helvetica,sans-Serif\" font-size=\"14.00\">node #40</text>\r\n",
       "<text text-anchor=\"start\" x=\"952.5\" y=\"-1117.3\" font-family=\"Helvetica,sans-Serif\" font-size=\"14.00\">gini = 0.0</text>\r\n",
       "<text text-anchor=\"start\" x=\"934\" y=\"-1102.3\" font-family=\"Helvetica,sans-Serif\" font-size=\"14.00\">samples = 130</text>\r\n",
       "<text text-anchor=\"start\" x=\"933\" y=\"-1087.3\" font-family=\"Helvetica,sans-Serif\" font-size=\"14.00\">value = [0, 130]</text>\r\n",
       "<text text-anchor=\"start\" x=\"948\" y=\"-1072.3\" font-family=\"Helvetica,sans-Serif\" font-size=\"14.00\">class = fail</text>\r\n",
       "</g>\r\n",
       "<!-- 30&#45;&gt;40 -->\r\n",
       "<g id=\"edge40\" class=\"edge\"><title>30&#45;&gt;40</title>\r\n",
       "<path fill=\"none\" stroke=\"black\" d=\"M900.709,-1190.97C911.88,-1179.36 923.823,-1166.95 935.006,-1155.32\"/>\r\n",
       "<polygon fill=\"black\" stroke=\"black\" points=\"937.818,-1157.45 942.23,-1147.82 932.774,-1152.6 937.818,-1157.45\"/>\r\n",
       "</g>\r\n",
       "<!-- 32 -->\r\n",
       "<g id=\"node33\" class=\"node\"><title>32</title>\r\n",
       "<path fill=\"#40a0e6\" stroke=\"black\" d=\"M895,-1021C895,-1021 814,-1021 814,-1021 808,-1021 802,-1015 802,-1009 802,-1009 802,-935 802,-935 802,-929 808,-923 814,-923 814,-923 895,-923 895,-923 901,-923 907,-929 907,-935 907,-935 907,-1009 907,-1009 907,-1015 901,-1021 895,-1021\"/>\r\n",
       "<text text-anchor=\"start\" x=\"824\" y=\"-1005.8\" font-family=\"Helvetica,sans-Serif\" font-size=\"14.00\">node #32</text>\r\n",
       "<text text-anchor=\"start\" x=\"818.5\" y=\"-990.8\" font-family=\"Helvetica,sans-Serif\" font-size=\"14.00\">goout ≤ 4.5</text>\r\n",
       "<text text-anchor=\"start\" x=\"817\" y=\"-975.8\" font-family=\"Helvetica,sans-Serif\" font-size=\"14.00\">gini = 0.062</text>\r\n",
       "<text text-anchor=\"start\" x=\"811\" y=\"-960.8\" font-family=\"Helvetica,sans-Serif\" font-size=\"14.00\">samples = 31</text>\r\n",
       "<text text-anchor=\"start\" x=\"810\" y=\"-945.8\" font-family=\"Helvetica,sans-Serif\" font-size=\"14.00\">value = [1, 30]</text>\r\n",
       "<text text-anchor=\"start\" x=\"821\" y=\"-930.8\" font-family=\"Helvetica,sans-Serif\" font-size=\"14.00\">class = fail</text>\r\n",
       "</g>\r\n",
       "<!-- 31&#45;&gt;32 -->\r\n",
       "<g id=\"edge32\" class=\"edge\"><title>31&#45;&gt;32</title>\r\n",
       "<path fill=\"none\" stroke=\"black\" d=\"M854.5,-1056.97C854.5,-1048.69 854.5,-1040 854.5,-1031.48\"/>\r\n",
       "<polygon fill=\"black\" stroke=\"black\" points=\"858,-1031.21 854.5,-1021.21 851,-1031.21 858,-1031.21\"/>\r\n",
       "</g>\r\n",
       "<!-- 37 -->\r\n",
       "<g id=\"node38\" class=\"node\"><title>37</title>\r\n",
       "<path fill=\"#9ccef2\" stroke=\"black\" d=\"M1097.5,-1021C1097.5,-1021 1007.5,-1021 1007.5,-1021 1001.5,-1021 995.5,-1015 995.5,-1009 995.5,-1009 995.5,-935 995.5,-935 995.5,-929 1001.5,-923 1007.5,-923 1007.5,-923 1097.5,-923 1097.5,-923 1103.5,-923 1109.5,-929 1109.5,-935 1109.5,-935 1109.5,-1009 1109.5,-1009 1109.5,-1015 1103.5,-1021 1097.5,-1021\"/>\r\n",
       "<text text-anchor=\"start\" x=\"1022\" y=\"-1005.8\" font-family=\"Helvetica,sans-Serif\" font-size=\"14.00\">node #37</text>\r\n",
       "<text text-anchor=\"start\" x=\"1003.5\" y=\"-990.8\" font-family=\"Helvetica,sans-Serif\" font-size=\"14.00\">absences ≤ 1.5</text>\r\n",
       "<text text-anchor=\"start\" x=\"1015\" y=\"-975.8\" font-family=\"Helvetica,sans-Serif\" font-size=\"14.00\">gini = 0.444</text>\r\n",
       "<text text-anchor=\"start\" x=\"1013\" y=\"-960.8\" font-family=\"Helvetica,sans-Serif\" font-size=\"14.00\">samples = 6</text>\r\n",
       "<text text-anchor=\"start\" x=\"1012\" y=\"-945.8\" font-family=\"Helvetica,sans-Serif\" font-size=\"14.00\">value = [2, 4]</text>\r\n",
       "<text text-anchor=\"start\" x=\"1019\" y=\"-930.8\" font-family=\"Helvetica,sans-Serif\" font-size=\"14.00\">class = fail</text>\r\n",
       "</g>\r\n",
       "<!-- 31&#45;&gt;37 -->\r\n",
       "<g id=\"edge37\" class=\"edge\"><title>31&#45;&gt;37</title>\r\n",
       "<path fill=\"none\" stroke=\"black\" d=\"M907.116,-1062.99C909.929,-1060.93 912.735,-1058.93 915.5,-1057 938.135,-1041.24 963.721,-1025.12 986.602,-1011.27\"/>\r\n",
       "<polygon fill=\"black\" stroke=\"black\" points=\"988.463,-1014.24 995.227,-1006.08 984.854,-1008.24 988.463,-1014.24\"/>\r\n",
       "</g>\r\n",
       "<!-- 33 -->\r\n",
       "<g id=\"node34\" class=\"node\"><title>33</title>\r\n",
       "<path fill=\"#399de5\" stroke=\"black\" d=\"M819,-879.5C819,-879.5 738,-879.5 738,-879.5 732,-879.5 726,-873.5 726,-867.5 726,-867.5 726,-808.5 726,-808.5 726,-802.5 732,-796.5 738,-796.5 738,-796.5 819,-796.5 819,-796.5 825,-796.5 831,-802.5 831,-808.5 831,-808.5 831,-867.5 831,-867.5 831,-873.5 825,-879.5 819,-879.5\"/>\r\n",
       "<text text-anchor=\"start\" x=\"748\" y=\"-864.3\" font-family=\"Helvetica,sans-Serif\" font-size=\"14.00\">node #33</text>\r\n",
       "<text text-anchor=\"start\" x=\"749.5\" y=\"-849.3\" font-family=\"Helvetica,sans-Serif\" font-size=\"14.00\">gini = 0.0</text>\r\n",
       "<text text-anchor=\"start\" x=\"735\" y=\"-834.3\" font-family=\"Helvetica,sans-Serif\" font-size=\"14.00\">samples = 26</text>\r\n",
       "<text text-anchor=\"start\" x=\"734\" y=\"-819.3\" font-family=\"Helvetica,sans-Serif\" font-size=\"14.00\">value = [0, 26]</text>\r\n",
       "<text text-anchor=\"start\" x=\"745\" y=\"-804.3\" font-family=\"Helvetica,sans-Serif\" font-size=\"14.00\">class = fail</text>\r\n",
       "</g>\r\n",
       "<!-- 32&#45;&gt;33 -->\r\n",
       "<g id=\"edge33\" class=\"edge\"><title>32&#45;&gt;33</title>\r\n",
       "<path fill=\"none\" stroke=\"black\" d=\"M826.847,-922.972C820.417,-911.804 813.559,-899.893 807.09,-888.656\"/>\r\n",
       "<polygon fill=\"black\" stroke=\"black\" points=\"810.023,-886.736 802,-879.817 803.957,-890.229 810.023,-886.736\"/>\r\n",
       "</g>\r\n",
       "<!-- 34 -->\r\n",
       "<g id=\"node35\" class=\"node\"><title>34</title>\r\n",
       "<path fill=\"#6ab6ec\" stroke=\"black\" d=\"M973.5,-887C973.5,-887 861.5,-887 861.5,-887 855.5,-887 849.5,-881 849.5,-875 849.5,-875 849.5,-801 849.5,-801 849.5,-795 855.5,-789 861.5,-789 861.5,-789 973.5,-789 973.5,-789 979.5,-789 985.5,-795 985.5,-801 985.5,-801 985.5,-875 985.5,-875 985.5,-881 979.5,-887 973.5,-887\"/>\r\n",
       "<text text-anchor=\"start\" x=\"887\" y=\"-871.8\" font-family=\"Helvetica,sans-Serif\" font-size=\"14.00\">node #34</text>\r\n",
       "<text text-anchor=\"start\" x=\"857.5\" y=\"-856.8\" font-family=\"Helvetica,sans-Serif\" font-size=\"14.00\">famsize_LE3 ≤ 0.5</text>\r\n",
       "<text text-anchor=\"start\" x=\"884\" y=\"-841.8\" font-family=\"Helvetica,sans-Serif\" font-size=\"14.00\">gini = 0.32</text>\r\n",
       "<text text-anchor=\"start\" x=\"878\" y=\"-826.8\" font-family=\"Helvetica,sans-Serif\" font-size=\"14.00\">samples = 5</text>\r\n",
       "<text text-anchor=\"start\" x=\"877\" y=\"-811.8\" font-family=\"Helvetica,sans-Serif\" font-size=\"14.00\">value = [1, 4]</text>\r\n",
       "<text text-anchor=\"start\" x=\"884\" y=\"-796.8\" font-family=\"Helvetica,sans-Serif\" font-size=\"14.00\">class = fail</text>\r\n",
       "</g>\r\n",
       "<!-- 32&#45;&gt;34 -->\r\n",
       "<g id=\"edge34\" class=\"edge\"><title>32&#45;&gt;34</title>\r\n",
       "<path fill=\"none\" stroke=\"black\" d=\"M877.423,-922.972C881.548,-914.327 885.886,-905.238 890.123,-896.361\"/>\r\n",
       "<polygon fill=\"black\" stroke=\"black\" points=\"893.34,-897.746 894.489,-887.214 887.023,-894.731 893.34,-897.746\"/>\r\n",
       "</g>\r\n",
       "<!-- 35 -->\r\n",
       "<g id=\"node36\" class=\"node\"><title>35</title>\r\n",
       "<path fill=\"#399de5\" stroke=\"black\" d=\"M944,-745.5C944,-745.5 871,-745.5 871,-745.5 865,-745.5 859,-739.5 859,-733.5 859,-733.5 859,-674.5 859,-674.5 859,-668.5 865,-662.5 871,-662.5 871,-662.5 944,-662.5 944,-662.5 950,-662.5 956,-668.5 956,-674.5 956,-674.5 956,-733.5 956,-733.5 956,-739.5 950,-745.5 944,-745.5\"/>\r\n",
       "<text text-anchor=\"start\" x=\"877\" y=\"-730.3\" font-family=\"Helvetica,sans-Serif\" font-size=\"14.00\">node #35</text>\r\n",
       "<text text-anchor=\"start\" x=\"878.5\" y=\"-715.3\" font-family=\"Helvetica,sans-Serif\" font-size=\"14.00\">gini = 0.0</text>\r\n",
       "<text text-anchor=\"start\" x=\"868\" y=\"-700.3\" font-family=\"Helvetica,sans-Serif\" font-size=\"14.00\">samples = 4</text>\r\n",
       "<text text-anchor=\"start\" x=\"867\" y=\"-685.3\" font-family=\"Helvetica,sans-Serif\" font-size=\"14.00\">value = [0, 4]</text>\r\n",
       "<text text-anchor=\"start\" x=\"874\" y=\"-670.3\" font-family=\"Helvetica,sans-Serif\" font-size=\"14.00\">class = fail</text>\r\n",
       "</g>\r\n",
       "<!-- 34&#45;&gt;35 -->\r\n",
       "<g id=\"edge35\" class=\"edge\"><title>34&#45;&gt;35</title>\r\n",
       "<path fill=\"none\" stroke=\"black\" d=\"M913.861,-788.972C913.049,-778.246 912.184,-766.835 911.363,-755.994\"/>\r\n",
       "<polygon fill=\"black\" stroke=\"black\" points=\"914.838,-755.524 910.592,-745.817 907.858,-756.052 914.838,-755.524\"/>\r\n",
       "</g>\r\n",
       "<!-- 36 -->\r\n",
       "<g id=\"node37\" class=\"node\"><title>36</title>\r\n",
       "<path fill=\"#e58139\" stroke=\"black\" d=\"M1059,-745.5C1059,-745.5 986,-745.5 986,-745.5 980,-745.5 974,-739.5 974,-733.5 974,-733.5 974,-674.5 974,-674.5 974,-668.5 980,-662.5 986,-662.5 986,-662.5 1059,-662.5 1059,-662.5 1065,-662.5 1071,-668.5 1071,-674.5 1071,-674.5 1071,-733.5 1071,-733.5 1071,-739.5 1065,-745.5 1059,-745.5\"/>\r\n",
       "<text text-anchor=\"start\" x=\"992\" y=\"-730.3\" font-family=\"Helvetica,sans-Serif\" font-size=\"14.00\">node #36</text>\r\n",
       "<text text-anchor=\"start\" x=\"993.5\" y=\"-715.3\" font-family=\"Helvetica,sans-Serif\" font-size=\"14.00\">gini = 0.0</text>\r\n",
       "<text text-anchor=\"start\" x=\"983\" y=\"-700.3\" font-family=\"Helvetica,sans-Serif\" font-size=\"14.00\">samples = 1</text>\r\n",
       "<text text-anchor=\"start\" x=\"982\" y=\"-685.3\" font-family=\"Helvetica,sans-Serif\" font-size=\"14.00\">value = [1, 0]</text>\r\n",
       "<text text-anchor=\"start\" x=\"982.5\" y=\"-670.3\" font-family=\"Helvetica,sans-Serif\" font-size=\"14.00\">class = pass</text>\r\n",
       "</g>\r\n",
       "<!-- 34&#45;&gt;36 -->\r\n",
       "<g id=\"edge36\" class=\"edge\"><title>34&#45;&gt;36</title>\r\n",
       "<path fill=\"none\" stroke=\"black\" d=\"M955.704,-788.972C964.852,-777.472 974.626,-765.185 983.796,-753.657\"/>\r\n",
       "<polygon fill=\"black\" stroke=\"black\" points=\"986.546,-755.821 990.032,-745.817 981.068,-751.464 986.546,-755.821\"/>\r\n",
       "</g>\r\n",
       "<!-- 38 -->\r\n",
       "<g id=\"node39\" class=\"node\"><title>38</title>\r\n",
       "<path fill=\"#e58139\" stroke=\"black\" d=\"M1089,-879.5C1089,-879.5 1016,-879.5 1016,-879.5 1010,-879.5 1004,-873.5 1004,-867.5 1004,-867.5 1004,-808.5 1004,-808.5 1004,-802.5 1010,-796.5 1016,-796.5 1016,-796.5 1089,-796.5 1089,-796.5 1095,-796.5 1101,-802.5 1101,-808.5 1101,-808.5 1101,-867.5 1101,-867.5 1101,-873.5 1095,-879.5 1089,-879.5\"/>\r\n",
       "<text text-anchor=\"start\" x=\"1022\" y=\"-864.3\" font-family=\"Helvetica,sans-Serif\" font-size=\"14.00\">node #38</text>\r\n",
       "<text text-anchor=\"start\" x=\"1023.5\" y=\"-849.3\" font-family=\"Helvetica,sans-Serif\" font-size=\"14.00\">gini = 0.0</text>\r\n",
       "<text text-anchor=\"start\" x=\"1013\" y=\"-834.3\" font-family=\"Helvetica,sans-Serif\" font-size=\"14.00\">samples = 2</text>\r\n",
       "<text text-anchor=\"start\" x=\"1012\" y=\"-819.3\" font-family=\"Helvetica,sans-Serif\" font-size=\"14.00\">value = [2, 0]</text>\r\n",
       "<text text-anchor=\"start\" x=\"1012.5\" y=\"-804.3\" font-family=\"Helvetica,sans-Serif\" font-size=\"14.00\">class = pass</text>\r\n",
       "</g>\r\n",
       "<!-- 37&#45;&gt;38 -->\r\n",
       "<g id=\"edge38\" class=\"edge\"><title>37&#45;&gt;38</title>\r\n",
       "<path fill=\"none\" stroke=\"black\" d=\"M1052.5,-922.972C1052.5,-912.246 1052.5,-900.835 1052.5,-889.994\"/>\r\n",
       "<polygon fill=\"black\" stroke=\"black\" points=\"1056,-889.817 1052.5,-879.817 1049,-889.817 1056,-889.817\"/>\r\n",
       "</g>\r\n",
       "<!-- 39 -->\r\n",
       "<g id=\"node40\" class=\"node\"><title>39</title>\r\n",
       "<path fill=\"#399de5\" stroke=\"black\" d=\"M1204,-879.5C1204,-879.5 1131,-879.5 1131,-879.5 1125,-879.5 1119,-873.5 1119,-867.5 1119,-867.5 1119,-808.5 1119,-808.5 1119,-802.5 1125,-796.5 1131,-796.5 1131,-796.5 1204,-796.5 1204,-796.5 1210,-796.5 1216,-802.5 1216,-808.5 1216,-808.5 1216,-867.5 1216,-867.5 1216,-873.5 1210,-879.5 1204,-879.5\"/>\r\n",
       "<text text-anchor=\"start\" x=\"1137\" y=\"-864.3\" font-family=\"Helvetica,sans-Serif\" font-size=\"14.00\">node #39</text>\r\n",
       "<text text-anchor=\"start\" x=\"1138.5\" y=\"-849.3\" font-family=\"Helvetica,sans-Serif\" font-size=\"14.00\">gini = 0.0</text>\r\n",
       "<text text-anchor=\"start\" x=\"1128\" y=\"-834.3\" font-family=\"Helvetica,sans-Serif\" font-size=\"14.00\">samples = 4</text>\r\n",
       "<text text-anchor=\"start\" x=\"1127\" y=\"-819.3\" font-family=\"Helvetica,sans-Serif\" font-size=\"14.00\">value = [0, 4]</text>\r\n",
       "<text text-anchor=\"start\" x=\"1134\" y=\"-804.3\" font-family=\"Helvetica,sans-Serif\" font-size=\"14.00\">class = fail</text>\r\n",
       "</g>\r\n",
       "<!-- 37&#45;&gt;39 -->\r\n",
       "<g id=\"edge39\" class=\"edge\"><title>37&#45;&gt;39</title>\r\n",
       "<path fill=\"none\" stroke=\"black\" d=\"M1094.34,-922.972C1104.36,-911.472 1115.07,-899.185 1125.11,-887.657\"/>\r\n",
       "<polygon fill=\"black\" stroke=\"black\" points=\"1128.01,-889.656 1131.94,-879.817 1122.73,-885.057 1128.01,-889.656\"/>\r\n",
       "</g>\r\n",
       "</g>\r\n",
       "</svg>\r\n"
      ],
      "text/plain": [
       "<graphviz.files.Source at 0x1e30128cf10>"
      ]
     },
     "execution_count": 547,
     "metadata": {},
     "output_type": "execute_result"
    }
   ],
   "source": [
    "dot_data = tree.export_graphviz(clf, out_file=None, \n",
    "                     feature_names= df_bi.drop(['pass'], axis=1).columns,  \n",
    "                     class_names= ['pass','fail'],  \n",
    "                     filled=True, rounded=True,  \n",
    "                     special_characters=True,\n",
    "                               node_ids=True)  \n",
    "graph = graphviz.Source(dot_data)  \n",
    "graph "
   ]
  },
  {
   "cell_type": "code",
   "execution_count": 550,
   "id": "2e95e5e8-161d-4682-bc04-13693aa442a5",
   "metadata": {},
   "outputs": [],
   "source": [
    "n_nodes = clf.tree_.node_count\n",
    "children_left = clf.tree_.children_left\n",
    "children_right = clf.tree_.children_right\n",
    "feature = clf.tree_.feature\n",
    "threshold = clf.tree_.threshold\n"
   ]
  },
  {
   "cell_type": "code",
   "execution_count": 551,
   "id": "b5c2acae-0327-4bc8-a051-b188e58ff71b",
   "metadata": {},
   "outputs": [
    {
     "name": "stdout",
     "output_type": "stream",
     "text": [
      "Rules used to predict sample 0:\n",
      "\n",
      "decision node 0 : (X_test[0, 14] = 8) <= 9.5)\n",
      "decision node 1 : (X_test[0, 14] = 8) > 7.5)\n",
      "decision node 3 : (X_test[0, 13] = 7) <= 7.5)\n"
     ]
    }
   ],
   "source": [
    "node_indicator = clf.decision_path(dx_test)\n",
    "leaf_id = clf.apply(dx_test)\n",
    "\n",
    "sample_id = 0\n",
    "# obtain ids of the nodes `sample_id` goes through, i.e., row `sample_id`\n",
    "node_index = node_indicator.indices[\n",
    "    node_indicator.indptr[sample_id] : node_indicator.indptr[sample_id + 1]\n",
    "]\n",
    "\n",
    "print(\"Rules used to predict sample {id}:\\n\".format(id=sample_id))\n",
    "for node_id in node_index:\n",
    "    # continue to the next node if it is a leaf node\n",
    "    if leaf_id[sample_id] == node_id:\n",
    "        continue\n",
    "\n",
    "    # check if value of the split feature for sample 0 is below threshold\n",
    "    if dx_test[sample_id, feature[node_id]] <= threshold[node_id]:\n",
    "        threshold_sign = \"<=\"\n",
    "    else:\n",
    "        threshold_sign = \">\"\n",
    "\n",
    "    print(\n",
    "        \"decision node {node} : (X_test[{sample}, {feature}] = {value}) \"\n",
    "        \"{inequality} {threshold})\".format(\n",
    "            node=node_id,\n",
    "            sample=sample_id,\n",
    "            feature=feature[node_id],\n",
    "            value=dx_test[sample_id, feature[node_id]],\n",
    "            inequality=threshold_sign,\n",
    "            threshold=threshold[node_id],\n",
    "        )\n",
    "    )"
   ]
  },
  {
   "cell_type": "markdown",
   "id": "93961986-040b-4037-a891-d7f0585433c8",
   "metadata": {},
   "source": [
    "## Random Forest\n",
    "Describe the difference between boosting and bagging."
   ]
  },
  {
   "cell_type": "markdown",
   "id": "5566e432-25e1-43f4-8378-4d8606841370",
   "metadata": {},
   "source": [
    "**Bagging**\n",
    "從訓練資料中隨機抽取(取出後放回，n<N)樣本訓練多個分類器，每個分類器的權重一致最後用投票方式得到最終結果\n",
    "\n",
    "**Boosting**\n",
    "和Bagging不同的是分類器之間是有關聯性的，是透過將舊分類器的錯誤資料權重提高，然後再訓練新的分類器\n",
    "\n",
    "**差別**\n",
    "- 樣本選擇\n",
    "    - Bagging採用Bootstrap隨機放回抽樣\n",
    "    - 每輪的training data不變，只有樣本權重會變\n",
    "- 樣本權重\n",
    "    - Bagging採用均勻取樣，使每個樣本權重相等\n",
    "    - Boosting會根據錯誤率回調權重，錯誤率越大權重越大\n",
    "- 預測函式\n",
    "    - Bagging的預測函式權重相等\n",
    "    - Boosting中誤差越小的預測函式其權重越大\n",
    "- 平行計算\n",
    "    - Bagging各個預測函式可以並行生成\n",
    "    - Boosting各個預測函式必須按順序迭代生成"
   ]
  },
  {
   "cell_type": "markdown",
   "id": "39b5cae3-eafc-474e-a3fc-06afb1ac404c",
   "metadata": {},
   "source": [
    "## KNN\n",
    "* Show the prediction and reasoning of one arbitrary sample in the testing set."
   ]
  },
  {
   "cell_type": "code",
   "execution_count": 318,
   "id": "1e3cc6fe-d6a4-4763-9feb-d67730e517a5",
   "metadata": {},
   "outputs": [],
   "source": [
    "knn_q = KNeighborsClassifier(n_neighbors=5)\n",
    "kx_train, kx_test, ky_train, ky_test = train_test_split(\n",
    "    x, y, test_size=0.33, random_state=42)\n",
    "knn_q=knn_q.fit(kx_train,ky_train)"
   ]
  },
  {
   "cell_type": "code",
   "execution_count": 319,
   "id": "e5a9e3b8-da5d-42c4-9d92-e3102b5a3d12",
   "metadata": {},
   "outputs": [
    {
     "name": "stdout",
     "output_type": "stream",
     "text": [
      "Sample :  10\n",
      "Nearest neighbor no. 1\n",
      "Indice: 42 Distance: 4.242640687119285  Vote label: 3\n",
      "Nearest neighbor no. 2\n",
      "Indice: 176 Distance: 4.242640687119285  Vote label: 2\n",
      "Nearest neighbor no. 3\n",
      "Indice: 227 Distance: 4.47213595499958  Vote label: 2\n",
      "Nearest neighbor no. 4\n",
      "Indice: 64 Distance: 4.898979485566356  Vote label: 2\n",
      "Nearest neighbor no. 5\n",
      "Indice: 104 Distance: 5.0  Vote label: 3\n",
      "Actual Label: 2\n"
     ]
    }
   ],
   "source": [
    "sample=10\n",
    "distance,indice=knn_q.kneighbors(kx_test,return_distance=True)\n",
    "distance[sample],indice[sample]\n",
    "print(\"Sample : \",sample)\n",
    "for i in range(5):\n",
    "    vote_id=indice[sample][i]\n",
    "    print(\"Nearest neighbor no.\",i+1)\n",
    "    print(\"Indice:\",vote_id,\"Distance:\",distance[sample][i] ,\" Vote label:\",ky_train[vote_id])\n",
    "print(\"Actual Label:\",ky_test[sample])"
   ]
  },
  {
   "cell_type": "markdown",
   "id": "930643e0-d841-4304-9264-07f9d20c662e",
   "metadata": {},
   "source": [
    "## KNN Bonus \n",
    "- pick 2 features, draw and describe the KNN decision boundaries.You can pick 2 features to re-train the model, or just fix every other feature value."
   ]
  },
  {
   "cell_type": "code",
   "execution_count": 353,
   "id": "4ef7c736-d212-4995-a040-df8dd5395273",
   "metadata": {},
   "outputs": [],
   "source": [
    "df_bonus=df_level.loc[:,['G1','G2','level']]\n",
    "\n",
    "by = df_bonus['level'].values\n",
    "bx = df_bonus.drop(['level'], axis=1).values\n",
    "\n",
    "knn_b = KNeighborsClassifier(n_neighbors=5)\n",
    "bx_train, bx_test, by_train, by_test = train_test_split(\n",
    "    bx, by, test_size=0.33, random_state=42)\n",
    "knn_b=knn_b.fit(bx_train,by_train)"
   ]
  },
  {
   "cell_type": "code",
   "execution_count": 354,
   "id": "c9c2eba2-0788-468c-80e5-58e8274a62b4",
   "metadata": {},
   "outputs": [],
   "source": [
    "from matplotlib.colors import ListedColormap\n",
    "\n",
    "h = 0.02  # step size in the mesh\n",
    "\n",
    "# create colormap for the contour plot\n",
    "cmap_light = ListedColormap(list(sns.color_palette('pastel', n_colors=5)))\n",
    "\n",
    "# Plot the decision boundary.\n",
    "# For that, we will assign a color to each point in the mesh [x_min, x_max]x[y_min, y_max].\n",
    "x_min, x_max = df_bonus['G1'].min() - 1, df_bonus['G1'].max() + 1\n",
    "y_min, y_max = df_bonus['G2'].min() - 1, df_bonus['G2'].max() + 1\n",
    "\n",
    "xx, yy = np.meshgrid(np.arange(x_min, x_max, h), np.arange(y_min, y_max, h))\n",
    "Z = knn_b.predict(np.c_[xx.ravel(), yy.ravel()]).reshape(xx.shape)"
   ]
  },
  {
   "cell_type": "code",
   "execution_count": 355,
   "id": "5f09cb87-f846-4e96-91a0-943423c055ce",
   "metadata": {},
   "outputs": [
    {
     "data": {
      "image/png": "[encoded data removed]",
      "text/plain": [
       "<Figure size 432x288 with 1 Axes>"
      ]
     },
     "metadata": {
      "needs_background": "light"
     },
     "output_type": "display_data"
    }
   ],
   "source": [
    "\n",
    "# create plot\n",
    "fig, ax = plt.subplots()\n",
    "\n",
    "# add data points\n",
    "sns.scatterplot(data=df_bonus, x='G1', y='G2', hue='level', ax=ax, edgecolor='k')\n",
    "\n",
    "# add decision boundary countour map\n",
    "ax.contourf(xx, yy, Z, cmap=cmap_light, alpha=0.4)\n",
    "\n",
    "# legend\n",
    "lgd = plt.legend(bbox_to_anchor=(1.05, 1), loc='upper left')\n",
    "\n",
    "plt.show()"
   ]
  },
  {
   "cell_type": "markdown",
   "id": "7869640e-b885-46e4-844b-d7ff73b4e610",
   "metadata": {},
   "source": [
    "## PCA\n",
    "- In 5-Level classification, reduce the data dimension to 2 using PCA and draw a scatter plot. You have to colorize the data points based on their labels. "
   ]
  },
  {
   "cell_type": "code",
   "execution_count": 326,
   "id": "974e15ca-f2cc-47f1-ba05-07581dd10cbc",
   "metadata": {},
   "outputs": [],
   "source": [
    "py = df_level['level'].values\n",
    "px = df_level.drop(['level'], axis=1).values\n",
    "\n",
    "pca = PCA(n_components=2)\n",
    "pca.fit(x)\n",
    "pca_x=pca.transform(x)"
   ]
  },
  {
   "cell_type": "code",
   "execution_count": 327,
   "id": "f4475d69-5459-4fbe-ab0f-f1ce4caa48be",
   "metadata": {},
   "outputs": [],
   "source": [
    "df_x = pd.DataFrame(pca_x,columns=['Princicple component 1','Princicple component 2'])\n",
    "df_y=pd.DataFrame(py,columns=['level'])\n",
    "df_scatter=pd.concat([df_x,df_y],axis=1)"
   ]
  },
  {
   "cell_type": "code",
   "execution_count": 328,
   "id": "05a578e0-9374-4c59-bad9-8a3ebba9db1b",
   "metadata": {},
   "outputs": [
    {
     "data": {
      "text/plain": [
       "<AxesSubplot:xlabel='Princicple component 1', ylabel='Princicple component 2'>"
      ]
     },
     "execution_count": 328,
     "metadata": {},
     "output_type": "execute_result"
    },
    {
     "data": {
      "image/png": "[encoded data removed]",
      "text/plain": [
       "<Figure size 432x288 with 1 Axes>"
      ]
     },
     "metadata": {
      "needs_background": "light"
     },
     "output_type": "display_data"
    }
   ],
   "source": [
    "sns.scatterplot(data=df_scatter, x=\"Princicple component 1\", y=\"Princicple component 2\", hue=\"level\", palette=\"bright\")"
   ]
  },
  {
   "cell_type": "markdown",
   "id": "952dc653-6137-4f0c-8cf8-a63033ec489a",
   "metadata": {},
   "source": [
    "* 備註:此處的1 2 3 4 5分別對應到A B C D F，當初為了做one-hot encoding方便起見直接換成數字了。"
   ]
  },
  {
   "cell_type": "code",
   "execution_count": null,
   "id": "177bafb8-b57f-4c08-ba4f-d4c227f1f1c3",
   "metadata": {},
   "outputs": [],
   "source": []
  }
 ],
 "metadata": {
  "kernelspec": {
   "display_name": "Python 3 (ipykernel)",
   "language": "python",
   "name": "python3"
  },
  "language_info": {
   "codemirror_mode": {
    "name": "ipython",
    "version": 3
   },
   "file_extension": ".py",
   "mimetype": "text/x-python",
   "name": "python",
   "nbconvert_exporter": "python",
   "pygments_lexer": "ipython3",
   "version": "3.8.8"
  }
 },
 "nbformat": 4,
 "nbformat_minor": 5
}
