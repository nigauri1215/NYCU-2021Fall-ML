{
 "cells": [
  {
   "cell_type": "markdown",
   "id": "58ccc978-54ec-48f0-8853-0d456c54d413",
   "metadata": {},
   "source": [
    "# Assignment #3 - K-means Clustering & Support Vector Machine"
   ]
  },
  {
   "cell_type": "code",
   "execution_count": 1,
   "id": "05b99145-471e-481b-946f-dadcde2e39a0",
   "metadata": {},
   "outputs": [],
   "source": [
    "import pandas as pd\n",
    "import numpy as np\n",
    "import seaborn as sns \n",
    "import matplotlib.pyplot as plt\n",
    "import sklearn\n",
    "from sklearn.model_selection import train_test_split\n",
    "from sklearn.model_selection import KFold\n",
    "from sklearn.metrics import confusion_matrix, accuracy_score, recall_score, precision_score\n",
    "import prettytable\n",
    "from scipy.spatial import distance\n",
    "import random\n",
    "from sklearn import metrics\n",
    "from sklearn.preprocessing import StandardScaler\n",
    "from sklearn.svm import SVC\n",
    "from sklearn.model_selection import GridSearchCV"
   ]
  },
  {
   "cell_type": "markdown",
   "id": "197d883b-7feb-4cc7-8d5e-6cb3469c0366",
   "metadata": {},
   "source": [
    "# Wheat Seeds Dataset"
   ]
  },
  {
   "cell_type": "markdown",
   "id": "0f73ab94-730e-4218-a91a-202ead31d35f",
   "metadata": {},
   "source": [
    "## Data Input\n"
   ]
  },
  {
   "cell_type": "code",
   "execution_count": 2,
   "id": "66abe810-851c-49e2-81ac-e38fdb70fe8e",
   "metadata": {
    "tags": []
   },
   "outputs": [
    {
     "data": {
      "text/html": [
       "<div>\n",
       "<style scoped>\n",
       "    .dataframe tbody tr th:only-of-type {\n",
       "        vertical-align: middle;\n",
       "    }\n",
       "\n",
       "    .dataframe tbody tr th {\n",
       "        vertical-align: top;\n",
       "    }\n",
       "\n",
       "    .dataframe thead th {\n",
       "        text-align: right;\n",
       "    }\n",
       "</style>\n",
       "<table border=\"1\" class=\"dataframe\">\n",
       "  <thead>\n",
       "    <tr style=\"text-align: right;\">\n",
       "      <th></th>\n",
       "      <th>area</th>\n",
       "      <th>perimeter</th>\n",
       "      <th>compactness</th>\n",
       "      <th>length of kernel</th>\n",
       "      <th>width of kernel</th>\n",
       "      <th>asymmetry coefficient</th>\n",
       "      <th>length of kernel groove</th>\n",
       "      <th>label</th>\n",
       "    </tr>\n",
       "  </thead>\n",
       "  <tbody>\n",
       "    <tr>\n",
       "      <th>0</th>\n",
       "      <td>15.26</td>\n",
       "      <td>14.84</td>\n",
       "      <td>0.8710</td>\n",
       "      <td>5.763</td>\n",
       "      <td>3.312</td>\n",
       "      <td>2.221</td>\n",
       "      <td>5.220</td>\n",
       "      <td>1</td>\n",
       "    </tr>\n",
       "    <tr>\n",
       "      <th>1</th>\n",
       "      <td>14.88</td>\n",
       "      <td>14.57</td>\n",
       "      <td>0.8811</td>\n",
       "      <td>5.554</td>\n",
       "      <td>3.333</td>\n",
       "      <td>1.018</td>\n",
       "      <td>4.956</td>\n",
       "      <td>1</td>\n",
       "    </tr>\n",
       "    <tr>\n",
       "      <th>2</th>\n",
       "      <td>14.29</td>\n",
       "      <td>14.09</td>\n",
       "      <td>0.9050</td>\n",
       "      <td>5.291</td>\n",
       "      <td>3.337</td>\n",
       "      <td>2.699</td>\n",
       "      <td>4.825</td>\n",
       "      <td>1</td>\n",
       "    </tr>\n",
       "    <tr>\n",
       "      <th>3</th>\n",
       "      <td>13.84</td>\n",
       "      <td>13.94</td>\n",
       "      <td>0.8955</td>\n",
       "      <td>5.324</td>\n",
       "      <td>3.379</td>\n",
       "      <td>2.259</td>\n",
       "      <td>4.805</td>\n",
       "      <td>1</td>\n",
       "    </tr>\n",
       "    <tr>\n",
       "      <th>4</th>\n",
       "      <td>16.14</td>\n",
       "      <td>14.99</td>\n",
       "      <td>0.9034</td>\n",
       "      <td>5.658</td>\n",
       "      <td>3.562</td>\n",
       "      <td>1.355</td>\n",
       "      <td>5.175</td>\n",
       "      <td>1</td>\n",
       "    </tr>\n",
       "    <tr>\n",
       "      <th>...</th>\n",
       "      <td>...</td>\n",
       "      <td>...</td>\n",
       "      <td>...</td>\n",
       "      <td>...</td>\n",
       "      <td>...</td>\n",
       "      <td>...</td>\n",
       "      <td>...</td>\n",
       "      <td>...</td>\n",
       "    </tr>\n",
       "    <tr>\n",
       "      <th>205</th>\n",
       "      <td>12.19</td>\n",
       "      <td>13.20</td>\n",
       "      <td>0.8783</td>\n",
       "      <td>5.137</td>\n",
       "      <td>2.981</td>\n",
       "      <td>3.631</td>\n",
       "      <td>4.870</td>\n",
       "      <td>3</td>\n",
       "    </tr>\n",
       "    <tr>\n",
       "      <th>206</th>\n",
       "      <td>11.23</td>\n",
       "      <td>12.88</td>\n",
       "      <td>0.8511</td>\n",
       "      <td>5.140</td>\n",
       "      <td>2.795</td>\n",
       "      <td>4.325</td>\n",
       "      <td>5.003</td>\n",
       "      <td>3</td>\n",
       "    </tr>\n",
       "    <tr>\n",
       "      <th>207</th>\n",
       "      <td>13.20</td>\n",
       "      <td>13.66</td>\n",
       "      <td>0.8883</td>\n",
       "      <td>5.236</td>\n",
       "      <td>3.232</td>\n",
       "      <td>8.315</td>\n",
       "      <td>5.056</td>\n",
       "      <td>3</td>\n",
       "    </tr>\n",
       "    <tr>\n",
       "      <th>208</th>\n",
       "      <td>11.84</td>\n",
       "      <td>13.21</td>\n",
       "      <td>0.8521</td>\n",
       "      <td>5.175</td>\n",
       "      <td>2.836</td>\n",
       "      <td>3.598</td>\n",
       "      <td>5.044</td>\n",
       "      <td>3</td>\n",
       "    </tr>\n",
       "    <tr>\n",
       "      <th>209</th>\n",
       "      <td>12.30</td>\n",
       "      <td>13.34</td>\n",
       "      <td>0.8684</td>\n",
       "      <td>5.243</td>\n",
       "      <td>2.974</td>\n",
       "      <td>5.637</td>\n",
       "      <td>5.063</td>\n",
       "      <td>3</td>\n",
       "    </tr>\n",
       "  </tbody>\n",
       "</table>\n",
       "<p>210 rows × 8 columns</p>\n",
       "</div>"
      ],
      "text/plain": [
       "      area  perimeter  compactness  length of kernel  width of kernel  \\\n",
       "0    15.26      14.84       0.8710             5.763            3.312   \n",
       "1    14.88      14.57       0.8811             5.554            3.333   \n",
       "2    14.29      14.09       0.9050             5.291            3.337   \n",
       "3    13.84      13.94       0.8955             5.324            3.379   \n",
       "4    16.14      14.99       0.9034             5.658            3.562   \n",
       "..     ...        ...          ...               ...              ...   \n",
       "205  12.19      13.20       0.8783             5.137            2.981   \n",
       "206  11.23      12.88       0.8511             5.140            2.795   \n",
       "207  13.20      13.66       0.8883             5.236            3.232   \n",
       "208  11.84      13.21       0.8521             5.175            2.836   \n",
       "209  12.30      13.34       0.8684             5.243            2.974   \n",
       "\n",
       "     asymmetry coefficient  length of kernel groove  label  \n",
       "0                    2.221                    5.220      1  \n",
       "1                    1.018                    4.956      1  \n",
       "2                    2.699                    4.825      1  \n",
       "3                    2.259                    4.805      1  \n",
       "4                    1.355                    5.175      1  \n",
       "..                     ...                      ...    ...  \n",
       "205                  3.631                    4.870      3  \n",
       "206                  4.325                    5.003      3  \n",
       "207                  8.315                    5.056      3  \n",
       "208                  3.598                    5.044      3  \n",
       "209                  5.637                    5.063      3  \n",
       "\n",
       "[210 rows x 8 columns]"
      ]
     },
     "execution_count": 2,
     "metadata": {},
     "output_type": "execute_result"
    }
   ],
   "source": [
    "df=pd.read_csv('seeds_dataset.txt',delim_whitespace=True,header=None)\n",
    "df.columns=['area','perimeter','compactness','length of kernel','width of kernel','asymmetry coefficient','length of kernel groove','label']\n",
    "df"
   ]
  },
  {
   "cell_type": "markdown",
   "id": "b276dee9-e3c5-470e-85c3-25d99e95c3a7",
   "metadata": {},
   "source": [
    "## Data Preprocessing "
   ]
  },
  {
   "cell_type": "markdown",
   "id": "5fddd769-047a-4552-9255-deb73693a085",
   "metadata": {},
   "source": [
    "### Shuffle data"
   ]
  },
  {
   "cell_type": "code",
   "execution_count": 3,
   "id": "71095ce3-581a-4829-a075-e69c213faf24",
   "metadata": {},
   "outputs": [
    {
     "data": {
      "text/html": [
       "<div>\n",
       "<style scoped>\n",
       "    .dataframe tbody tr th:only-of-type {\n",
       "        vertical-align: middle;\n",
       "    }\n",
       "\n",
       "    .dataframe tbody tr th {\n",
       "        vertical-align: top;\n",
       "    }\n",
       "\n",
       "    .dataframe thead th {\n",
       "        text-align: right;\n",
       "    }\n",
       "</style>\n",
       "<table border=\"1\" class=\"dataframe\">\n",
       "  <thead>\n",
       "    <tr style=\"text-align: right;\">\n",
       "      <th></th>\n",
       "      <th>area</th>\n",
       "      <th>perimeter</th>\n",
       "      <th>compactness</th>\n",
       "      <th>length of kernel</th>\n",
       "      <th>width of kernel</th>\n",
       "      <th>asymmetry coefficient</th>\n",
       "      <th>length of kernel groove</th>\n",
       "      <th>label</th>\n",
       "    </tr>\n",
       "  </thead>\n",
       "  <tbody>\n",
       "    <tr>\n",
       "      <th>92</th>\n",
       "      <td>18.81</td>\n",
       "      <td>16.29</td>\n",
       "      <td>0.8906</td>\n",
       "      <td>6.272</td>\n",
       "      <td>3.693</td>\n",
       "      <td>3.237</td>\n",
       "      <td>6.053</td>\n",
       "      <td>2</td>\n",
       "    </tr>\n",
       "    <tr>\n",
       "      <th>115</th>\n",
       "      <td>19.06</td>\n",
       "      <td>16.45</td>\n",
       "      <td>0.8854</td>\n",
       "      <td>6.416</td>\n",
       "      <td>3.719</td>\n",
       "      <td>2.248</td>\n",
       "      <td>6.163</td>\n",
       "      <td>2</td>\n",
       "    </tr>\n",
       "    <tr>\n",
       "      <th>0</th>\n",
       "      <td>15.26</td>\n",
       "      <td>14.84</td>\n",
       "      <td>0.8710</td>\n",
       "      <td>5.763</td>\n",
       "      <td>3.312</td>\n",
       "      <td>2.221</td>\n",
       "      <td>5.220</td>\n",
       "      <td>1</td>\n",
       "    </tr>\n",
       "    <tr>\n",
       "      <th>19</th>\n",
       "      <td>12.72</td>\n",
       "      <td>13.57</td>\n",
       "      <td>0.8686</td>\n",
       "      <td>5.226</td>\n",
       "      <td>3.049</td>\n",
       "      <td>4.102</td>\n",
       "      <td>4.914</td>\n",
       "      <td>1</td>\n",
       "    </tr>\n",
       "    <tr>\n",
       "      <th>156</th>\n",
       "      <td>11.34</td>\n",
       "      <td>12.87</td>\n",
       "      <td>0.8596</td>\n",
       "      <td>5.053</td>\n",
       "      <td>2.849</td>\n",
       "      <td>3.347</td>\n",
       "      <td>5.003</td>\n",
       "      <td>3</td>\n",
       "    </tr>\n",
       "    <tr>\n",
       "      <th>...</th>\n",
       "      <td>...</td>\n",
       "      <td>...</td>\n",
       "      <td>...</td>\n",
       "      <td>...</td>\n",
       "      <td>...</td>\n",
       "      <td>...</td>\n",
       "      <td>...</td>\n",
       "      <td>...</td>\n",
       "    </tr>\n",
       "    <tr>\n",
       "      <th>33</th>\n",
       "      <td>13.94</td>\n",
       "      <td>14.17</td>\n",
       "      <td>0.8728</td>\n",
       "      <td>5.585</td>\n",
       "      <td>3.150</td>\n",
       "      <td>2.124</td>\n",
       "      <td>5.012</td>\n",
       "      <td>1</td>\n",
       "    </tr>\n",
       "    <tr>\n",
       "      <th>187</th>\n",
       "      <td>10.91</td>\n",
       "      <td>12.80</td>\n",
       "      <td>0.8372</td>\n",
       "      <td>5.088</td>\n",
       "      <td>2.675</td>\n",
       "      <td>4.179</td>\n",
       "      <td>4.956</td>\n",
       "      <td>3</td>\n",
       "    </tr>\n",
       "    <tr>\n",
       "      <th>163</th>\n",
       "      <td>12.55</td>\n",
       "      <td>13.57</td>\n",
       "      <td>0.8558</td>\n",
       "      <td>5.333</td>\n",
       "      <td>2.968</td>\n",
       "      <td>4.419</td>\n",
       "      <td>5.176</td>\n",
       "      <td>3</td>\n",
       "    </tr>\n",
       "    <tr>\n",
       "      <th>11</th>\n",
       "      <td>14.03</td>\n",
       "      <td>14.16</td>\n",
       "      <td>0.8796</td>\n",
       "      <td>5.438</td>\n",
       "      <td>3.201</td>\n",
       "      <td>1.717</td>\n",
       "      <td>5.001</td>\n",
       "      <td>1</td>\n",
       "    </tr>\n",
       "    <tr>\n",
       "      <th>197</th>\n",
       "      <td>13.37</td>\n",
       "      <td>13.78</td>\n",
       "      <td>0.8849</td>\n",
       "      <td>5.320</td>\n",
       "      <td>3.128</td>\n",
       "      <td>4.670</td>\n",
       "      <td>5.091</td>\n",
       "      <td>3</td>\n",
       "    </tr>\n",
       "  </tbody>\n",
       "</table>\n",
       "<p>210 rows × 8 columns</p>\n",
       "</div>"
      ],
      "text/plain": [
       "      area  perimeter  compactness  length of kernel  width of kernel  \\\n",
       "92   18.81      16.29       0.8906             6.272            3.693   \n",
       "115  19.06      16.45       0.8854             6.416            3.719   \n",
       "0    15.26      14.84       0.8710             5.763            3.312   \n",
       "19   12.72      13.57       0.8686             5.226            3.049   \n",
       "156  11.34      12.87       0.8596             5.053            2.849   \n",
       "..     ...        ...          ...               ...              ...   \n",
       "33   13.94      14.17       0.8728             5.585            3.150   \n",
       "187  10.91      12.80       0.8372             5.088            2.675   \n",
       "163  12.55      13.57       0.8558             5.333            2.968   \n",
       "11   14.03      14.16       0.8796             5.438            3.201   \n",
       "197  13.37      13.78       0.8849             5.320            3.128   \n",
       "\n",
       "     asymmetry coefficient  length of kernel groove  label  \n",
       "92                   3.237                    6.053      2  \n",
       "115                  2.248                    6.163      2  \n",
       "0                    2.221                    5.220      1  \n",
       "19                   4.102                    4.914      1  \n",
       "156                  3.347                    5.003      3  \n",
       "..                     ...                      ...    ...  \n",
       "33                   2.124                    5.012      1  \n",
       "187                  4.179                    4.956      3  \n",
       "163                  4.419                    5.176      3  \n",
       "11                   1.717                    5.001      1  \n",
       "197                  4.670                    5.091      3  \n",
       "\n",
       "[210 rows x 8 columns]"
      ]
     },
     "execution_count": 3,
     "metadata": {},
     "output_type": "execute_result"
    }
   ],
   "source": [
    "df=sklearn.utils.shuffle(df)\n",
    "df"
   ]
  },
  {
   "cell_type": "markdown",
   "id": "32d0fbf8-b104-4383-9a26-feb8a1fe63d5",
   "metadata": {},
   "source": [
    "### Build table"
   ]
  },
  {
   "cell_type": "code",
   "execution_count": 5,
   "id": "5d479c72-11fb-4b34-a86b-a54837981145",
   "metadata": {},
   "outputs": [],
   "source": [
    "table1=prettytable.PrettyTable()\n",
    "table1.field_names=['Wheat seed(K-means)','Accuracy','Recall','Precision']"
   ]
  },
  {
   "cell_type": "markdown",
   "id": "f51b6deb-46d5-4199-8b42-7b52965b47bf",
   "metadata": {},
   "source": [
    "### split training and testing data"
   ]
  },
  {
   "cell_type": "code",
   "execution_count": 6,
   "id": "31f2deae-1ab1-4c98-8ae1-988284d7d878",
   "metadata": {},
   "outputs": [],
   "source": [
    "y = df['label'].values\n",
    "x = df.drop(['label'], axis=1).values"
   ]
  },
  {
   "cell_type": "markdown",
   "id": "11363d44-456d-43c6-9bad-e9a636607fa1",
   "metadata": {},
   "source": [
    "## K-means Clustering"
   ]
  },
  {
   "cell_type": "code",
   "execution_count": 7,
   "id": "06aa9957-0d37-4b97-b005-d53d57a4c748",
   "metadata": {},
   "outputs": [],
   "source": [
    "#K-means clustering\n",
    "k=3"
   ]
  },
  {
   "cell_type": "code",
   "execution_count": 8,
   "id": "0acf02fc-61c5-4f7c-b582-79fce6956f24",
   "metadata": {},
   "outputs": [],
   "source": [
    "train_num=x.shape[0]  #numbers of samples\n",
    "feature_num=x.shape[1]  #numbers of features"
   ]
  },
  {
   "cell_type": "code",
   "execution_count": 9,
   "id": "76d7fdc2-5f92-460d-b5fe-f51b1f6863f5",
   "metadata": {},
   "outputs": [],
   "source": [
    "def euclid_dis(a,b):\n",
    "    return np.sqrt(np.sum((np.array(a)-np.array(b))**2))"
   ]
  },
  {
   "cell_type": "code",
   "execution_count": 10,
   "id": "5d7b0f5a-3bad-4d0f-9915-d94a20c1573a",
   "metadata": {},
   "outputs": [],
   "source": [
    "def random_centroids(x,k):\n",
    "    centroids_ini=np.zeros((k,feature_num))\n",
    "    index=[x for x in range(train_num)]\n",
    "    for i in range(k):\n",
    "        c_id=int(index[i])\n",
    "        centroids_ini[i]=x[c_id]\n",
    "    return centroids_ini"
   ]
  },
  {
   "cell_type": "code",
   "execution_count": 11,
   "id": "3c784ef9-53fc-48fe-8953-8f118cb9bca5",
   "metadata": {},
   "outputs": [],
   "source": [
    "def Kmeans(x,k):\n",
    "    \n",
    "    #initiate centroids\n",
    "    centroids=random_centroids(x,k)\n",
    "    \n",
    "    #0:屬於哪個centroid 1:distance\n",
    "    clusters=np.zeros((train_num,2))\n",
    "    clusters[:,0]=-1\n",
    "    \n",
    "    #跑到centroids不再改變為止\n",
    "    flag=True\n",
    "    \n",
    "    while True:\n",
    "        flag=False\n",
    "        \n",
    "        #assignment\n",
    "        for i in range(train_num):\n",
    "            distances=[]\n",
    "            min_dis=1000000.0\n",
    "            min_index=-1\n",
    "            #找每個sample最近的centroid\n",
    "            for j in range(k):\n",
    "                distance=euclid_dis(x[i,:],centroids[j])\n",
    "                if distance < min_dis:\n",
    "                    min_index=j\n",
    "                    min_dis=distance\n",
    "            \n",
    "            #找x在原本cluster裡被歸類的centroid，如果有改變就set flag=True ->下輪繼續跑\n",
    "            if clusters[i,0]!=min_index:\n",
    "                clusters[i,:]=min_index,min_dis\n",
    "                flag=True\n",
    "        #print(\"cluster:\",clusters)\n",
    "        \n",
    "        #update\n",
    "        for j in range(k):\n",
    "            #第j個cluster裡的x\n",
    "            point_in_cluster=x[[m for m in range(train_num) \n",
    "                                if clusters[m,0]==j]]\n",
    "            #採x所有featrues的平均值做為新的centroid\n",
    "            centroids[j]=np.mean(point_in_cluster,axis=0)\n",
    "            \n",
    "        if flag==False:\n",
    "            break\n",
    "            \n",
    "    return centroids,clusters"
   ]
  },
  {
   "cell_type": "code",
   "execution_count": 12,
   "id": "6206c11c-def6-4e77-b320-6932a21aec4f",
   "metadata": {},
   "outputs": [],
   "source": [
    "#np.seterr(divide='ignore', invalid='ignore')\n",
    "cen,ci=Kmeans(x,k)\n",
    "#print(\"centroids: \",cen)\n",
    "#print(ci[:,0]) #cluster\n"
   ]
  },
  {
   "cell_type": "code",
   "execution_count": 13,
   "id": "cf1a9640-3993-4f36-ad29-e17b3d6a6407",
   "metadata": {},
   "outputs": [],
   "source": [
    "clu_0_num=[0 for i in range(4)]   #cluster 1的predict label and actual label (pred_label,[1],[2],[3])=>(l,0,0,0)\n",
    "clu_1_num=[0 for i in range(4)]\n",
    "clu_2_num=[0 for i in range(4)]\n",
    "for i in range(len(ci)):\n",
    "    #計算每個cluster裡，x的target label各有多少\n",
    "    if(ci[i,0]==0):\n",
    "        clu_0_num[y[i]]=clu_0_num[y[i]]+1    #第i個x屬於的cluster的label_num=x target label++\n",
    "    if(ci[i,0]==1):\n",
    "        clu_1_num[y[i]]=clu_1_num[y[i]]+1\n",
    "    if(ci[i,0]==2):\n",
    "        clu_2_num[y[i]]=clu_2_num[y[i]]+1\n",
    "\n",
    "#選出max number的target label做為每個cluster的y predict\n",
    "\n",
    "clu_label=0\n",
    "for i in range(3):\n",
    "    if(clu_0_num[i+1]>clu_label):\n",
    "        clu_0_num[0]=i+1\n",
    "        clu_label=clu_0_num[i+1]\n",
    "\n",
    "clu_label=0\n",
    "for i in range(3):\n",
    "    if(clu_1_num[i+1]>clu_label):\n",
    "        clu_1_num[0]=i+1\n",
    "        clu_label=clu_1_num[i+1]\n",
    "\n",
    "clu_label=0\n",
    "for i in range(3):\n",
    "    if(clu_2_num[i+1]>clu_label):\n",
    "        clu_2_num[0]=i+1\n",
    "        clu_label=clu_2_num[i+1]\n"
   ]
  },
  {
   "cell_type": "code",
   "execution_count": 14,
   "id": "cb4d3c0b-6081-43c6-9165-7ceb9bedc023",
   "metadata": {},
   "outputs": [],
   "source": [
    "y_pred=[0 for i in range(train_num)]\n",
    "y_true=y\n",
    "\n",
    "for i in range(len(ci)):\n",
    "    if(ci[i,0]==0):\n",
    "        y_pred[i]=clu_0_num[0]\n",
    "    if(ci[i,0]==1):\n",
    "        y_pred[i]=clu_1_num[0]\n",
    "    if(ci[i,0]==2):\n",
    "        y_pred[i]=clu_2_num[0]"
   ]
  },
  {
   "cell_type": "code",
   "execution_count": 15,
   "id": "bb89cd11-7a16-4a5e-a7b7-d8ed52b62292",
   "metadata": {},
   "outputs": [
    {
     "data": {
      "image/png": "[encoded data removed]",
      "text/plain": [
       "<Figure size 360x360 with 2 Axes>"
      ]
     },
     "metadata": {
      "needs_background": "light"
     },
     "output_type": "display_data"
    }
   ],
   "source": [
    "cm = confusion_matrix(y_true, y_pred)\n",
    "f, ax = plt.subplots(figsize =(5,5))\n",
    "sns.heatmap(cm,annot = True,linewidths=0.5,linecolor=\"red\",fmt = \".0f\",ax=ax)\n",
    "plt.xlabel(\"y_pred\")\n",
    "plt.ylabel(\"y_true\")\n",
    "plt.title(\"Confusion Matrix\")\n",
    "plt.show()"
   ]
  },
  {
   "cell_type": "code",
   "execution_count": 16,
   "id": "8175b783-dfe8-429e-a77b-9bcf93d9213b",
   "metadata": {},
   "outputs": [
    {
     "name": "stdout",
     "output_type": "stream",
     "text": [
      "+------------------------+----------+---------+-----------+\n",
      "|  Wheat seed(K-means)   | Accuracy |  Recall | Precision |\n",
      "+------------------------+----------+---------+-----------+\n",
      "| Kmeans clustering(K=3) | 89.0476  | 89.0476 |  89.6004  |\n",
      "+------------------------+----------+---------+-----------+\n"
     ]
    }
   ],
   "source": [
    "acc=round(accuracy_score(y_true, y_pred)*100,4)\n",
    "recall=round(recall_score(y_true, y_pred,average='weighted')*100,4)\n",
    "prec=round(precision_score(y_true, y_pred,average='weighted')*100,4)\n",
    "\n",
    "\n",
    "table1.add_row([\"Kmeans clustering(K=3)\",acc,recall,prec])\n",
    "print(table1)"
   ]
  },
  {
   "cell_type": "markdown",
   "id": "9d4c3bd3-17bd-4351-b451-27ef68902093",
   "metadata": {},
   "source": [
    "# Ionosphere Dataset"
   ]
  },
  {
   "cell_type": "markdown",
   "id": "7cf9a198-f6dd-4231-8248-30a2967d242c",
   "metadata": {},
   "source": [
    "## Data Input\n"
   ]
  },
  {
   "cell_type": "code",
   "execution_count": 167,
   "id": "fcc7441c-68f7-4e5e-b52f-5d2c116a18d4",
   "metadata": {
    "tags": []
   },
   "outputs": [],
   "source": [
    "df_svm=pd.read_csv('ionosphere.data',header=None)"
   ]
  },
  {
   "cell_type": "markdown",
   "id": "3125aa9f-c85a-4de2-a066-811cb7b2361a",
   "metadata": {},
   "source": [
    "## Data Preprocessing "
   ]
  },
  {
   "cell_type": "markdown",
   "id": "0dfad277-26d8-42cc-a5d1-ed72987d1136",
   "metadata": {},
   "source": [
    "### Shuffle data"
   ]
  },
  {
   "cell_type": "code",
   "execution_count": 168,
   "id": "8f32714e-8046-4179-a0bb-959d76593ec0",
   "metadata": {},
   "outputs": [
    {
     "data": {
      "text/html": [
       "<div>\n",
       "<style scoped>\n",
       "    .dataframe tbody tr th:only-of-type {\n",
       "        vertical-align: middle;\n",
       "    }\n",
       "\n",
       "    .dataframe tbody tr th {\n",
       "        vertical-align: top;\n",
       "    }\n",
       "\n",
       "    .dataframe thead th {\n",
       "        text-align: right;\n",
       "    }\n",
       "</style>\n",
       "<table border=\"1\" class=\"dataframe\">\n",
       "  <thead>\n",
       "    <tr style=\"text-align: right;\">\n",
       "      <th></th>\n",
       "      <th>0</th>\n",
       "      <th>1</th>\n",
       "      <th>2</th>\n",
       "      <th>3</th>\n",
       "      <th>4</th>\n",
       "      <th>5</th>\n",
       "      <th>6</th>\n",
       "      <th>7</th>\n",
       "      <th>8</th>\n",
       "      <th>9</th>\n",
       "      <th>...</th>\n",
       "      <th>25</th>\n",
       "      <th>26</th>\n",
       "      <th>27</th>\n",
       "      <th>28</th>\n",
       "      <th>29</th>\n",
       "      <th>30</th>\n",
       "      <th>31</th>\n",
       "      <th>32</th>\n",
       "      <th>33</th>\n",
       "      <th>34</th>\n",
       "    </tr>\n",
       "  </thead>\n",
       "  <tbody>\n",
       "    <tr>\n",
       "      <th>34</th>\n",
       "      <td>1</td>\n",
       "      <td>0</td>\n",
       "      <td>1.00000</td>\n",
       "      <td>-0.15899</td>\n",
       "      <td>0.72314</td>\n",
       "      <td>0.27686</td>\n",
       "      <td>0.83443</td>\n",
       "      <td>-0.58388</td>\n",
       "      <td>1.00000</td>\n",
       "      <td>-0.28207</td>\n",
       "      <td>...</td>\n",
       "      <td>0.14803</td>\n",
       "      <td>1.00000</td>\n",
       "      <td>-0.11582</td>\n",
       "      <td>1.00000</td>\n",
       "      <td>-0.11129</td>\n",
       "      <td>1.00000</td>\n",
       "      <td>0.53372</td>\n",
       "      <td>1.00000</td>\n",
       "      <td>-0.57758</td>\n",
       "      <td>g</td>\n",
       "    </tr>\n",
       "    <tr>\n",
       "      <th>350</th>\n",
       "      <td>1</td>\n",
       "      <td>0</td>\n",
       "      <td>0.84710</td>\n",
       "      <td>0.13533</td>\n",
       "      <td>0.73638</td>\n",
       "      <td>-0.06151</td>\n",
       "      <td>0.87873</td>\n",
       "      <td>0.08260</td>\n",
       "      <td>0.88928</td>\n",
       "      <td>-0.09139</td>\n",
       "      <td>...</td>\n",
       "      <td>-0.15114</td>\n",
       "      <td>0.81147</td>\n",
       "      <td>-0.04822</td>\n",
       "      <td>0.78207</td>\n",
       "      <td>-0.00703</td>\n",
       "      <td>0.75747</td>\n",
       "      <td>-0.06678</td>\n",
       "      <td>0.85764</td>\n",
       "      <td>-0.06151</td>\n",
       "      <td>g</td>\n",
       "    </tr>\n",
       "    <tr>\n",
       "      <th>176</th>\n",
       "      <td>1</td>\n",
       "      <td>0</td>\n",
       "      <td>0.00000</td>\n",
       "      <td>0.00000</td>\n",
       "      <td>-1.00000</td>\n",
       "      <td>-0.62766</td>\n",
       "      <td>1.00000</td>\n",
       "      <td>0.51064</td>\n",
       "      <td>0.07979</td>\n",
       "      <td>-0.23404</td>\n",
       "      <td>...</td>\n",
       "      <td>0.00000</td>\n",
       "      <td>-0.19149</td>\n",
       "      <td>-0.46809</td>\n",
       "      <td>-0.22340</td>\n",
       "      <td>-0.48936</td>\n",
       "      <td>0.74468</td>\n",
       "      <td>0.90426</td>\n",
       "      <td>-0.67553</td>\n",
       "      <td>0.45745</td>\n",
       "      <td>b</td>\n",
       "    </tr>\n",
       "    <tr>\n",
       "      <th>137</th>\n",
       "      <td>1</td>\n",
       "      <td>0</td>\n",
       "      <td>0.26667</td>\n",
       "      <td>-0.10000</td>\n",
       "      <td>0.53333</td>\n",
       "      <td>0.00000</td>\n",
       "      <td>0.33333</td>\n",
       "      <td>-0.13333</td>\n",
       "      <td>0.36667</td>\n",
       "      <td>0.11667</td>\n",
       "      <td>...</td>\n",
       "      <td>0.13333</td>\n",
       "      <td>0.46214</td>\n",
       "      <td>0.05439</td>\n",
       "      <td>0.40000</td>\n",
       "      <td>0.03333</td>\n",
       "      <td>0.46667</td>\n",
       "      <td>0.03333</td>\n",
       "      <td>0.41667</td>\n",
       "      <td>-0.05000</td>\n",
       "      <td>g</td>\n",
       "    </tr>\n",
       "    <tr>\n",
       "      <th>274</th>\n",
       "      <td>1</td>\n",
       "      <td>0</td>\n",
       "      <td>0.71521</td>\n",
       "      <td>-0.00647</td>\n",
       "      <td>0.66667</td>\n",
       "      <td>-0.04207</td>\n",
       "      <td>0.63107</td>\n",
       "      <td>-0.05178</td>\n",
       "      <td>0.77994</td>\n",
       "      <td>0.08091</td>\n",
       "      <td>...</td>\n",
       "      <td>-0.05502</td>\n",
       "      <td>0.45105</td>\n",
       "      <td>0.00040</td>\n",
       "      <td>0.31392</td>\n",
       "      <td>-0.06796</td>\n",
       "      <td>0.49191</td>\n",
       "      <td>-0.10680</td>\n",
       "      <td>0.30421</td>\n",
       "      <td>-0.05178</td>\n",
       "      <td>g</td>\n",
       "    </tr>\n",
       "    <tr>\n",
       "      <th>...</th>\n",
       "      <td>...</td>\n",
       "      <td>...</td>\n",
       "      <td>...</td>\n",
       "      <td>...</td>\n",
       "      <td>...</td>\n",
       "      <td>...</td>\n",
       "      <td>...</td>\n",
       "      <td>...</td>\n",
       "      <td>...</td>\n",
       "      <td>...</td>\n",
       "      <td>...</td>\n",
       "      <td>...</td>\n",
       "      <td>...</td>\n",
       "      <td>...</td>\n",
       "      <td>...</td>\n",
       "      <td>...</td>\n",
       "      <td>...</td>\n",
       "      <td>...</td>\n",
       "      <td>...</td>\n",
       "      <td>...</td>\n",
       "      <td>...</td>\n",
       "    </tr>\n",
       "    <tr>\n",
       "      <th>41</th>\n",
       "      <td>1</td>\n",
       "      <td>0</td>\n",
       "      <td>-1.00000</td>\n",
       "      <td>-1.00000</td>\n",
       "      <td>1.00000</td>\n",
       "      <td>1.00000</td>\n",
       "      <td>1.00000</td>\n",
       "      <td>-0.14375</td>\n",
       "      <td>0.00000</td>\n",
       "      <td>0.00000</td>\n",
       "      <td>...</td>\n",
       "      <td>-1.00000</td>\n",
       "      <td>1.00000</td>\n",
       "      <td>-1.00000</td>\n",
       "      <td>-1.00000</td>\n",
       "      <td>-1.00000</td>\n",
       "      <td>1.00000</td>\n",
       "      <td>1.00000</td>\n",
       "      <td>0.00000</td>\n",
       "      <td>0.00000</td>\n",
       "      <td>b</td>\n",
       "    </tr>\n",
       "    <tr>\n",
       "      <th>27</th>\n",
       "      <td>0</td>\n",
       "      <td>0</td>\n",
       "      <td>-1.00000</td>\n",
       "      <td>-1.00000</td>\n",
       "      <td>0.00000</td>\n",
       "      <td>0.00000</td>\n",
       "      <td>-1.00000</td>\n",
       "      <td>1.00000</td>\n",
       "      <td>1.00000</td>\n",
       "      <td>-0.37500</td>\n",
       "      <td>...</td>\n",
       "      <td>-1.00000</td>\n",
       "      <td>-1.00000</td>\n",
       "      <td>1.00000</td>\n",
       "      <td>-1.00000</td>\n",
       "      <td>-1.00000</td>\n",
       "      <td>0.00000</td>\n",
       "      <td>0.00000</td>\n",
       "      <td>-1.00000</td>\n",
       "      <td>1.00000</td>\n",
       "      <td>b</td>\n",
       "    </tr>\n",
       "    <tr>\n",
       "      <th>33</th>\n",
       "      <td>1</td>\n",
       "      <td>0</td>\n",
       "      <td>0.71253</td>\n",
       "      <td>-0.02595</td>\n",
       "      <td>0.41287</td>\n",
       "      <td>-0.23067</td>\n",
       "      <td>0.98019</td>\n",
       "      <td>-0.09473</td>\n",
       "      <td>0.99709</td>\n",
       "      <td>-0.10236</td>\n",
       "      <td>...</td>\n",
       "      <td>-0.20392</td>\n",
       "      <td>0.93124</td>\n",
       "      <td>-0.41307</td>\n",
       "      <td>0.63811</td>\n",
       "      <td>-0.21901</td>\n",
       "      <td>0.86136</td>\n",
       "      <td>-0.87354</td>\n",
       "      <td>-0.23186</td>\n",
       "      <td>-1.00000</td>\n",
       "      <td>b</td>\n",
       "    </tr>\n",
       "    <tr>\n",
       "      <th>332</th>\n",
       "      <td>1</td>\n",
       "      <td>0</td>\n",
       "      <td>0.87578</td>\n",
       "      <td>0.03727</td>\n",
       "      <td>0.89951</td>\n",
       "      <td>0.00343</td>\n",
       "      <td>0.89210</td>\n",
       "      <td>0.00510</td>\n",
       "      <td>0.86335</td>\n",
       "      <td>0.00000</td>\n",
       "      <td>...</td>\n",
       "      <td>-0.04348</td>\n",
       "      <td>0.82111</td>\n",
       "      <td>0.02033</td>\n",
       "      <td>0.81988</td>\n",
       "      <td>0.08696</td>\n",
       "      <td>0.80757</td>\n",
       "      <td>0.02308</td>\n",
       "      <td>0.80088</td>\n",
       "      <td>0.02441</td>\n",
       "      <td>g</td>\n",
       "    </tr>\n",
       "    <tr>\n",
       "      <th>305</th>\n",
       "      <td>1</td>\n",
       "      <td>0</td>\n",
       "      <td>0.52542</td>\n",
       "      <td>-0.03390</td>\n",
       "      <td>0.94915</td>\n",
       "      <td>0.08475</td>\n",
       "      <td>0.52542</td>\n",
       "      <td>-0.16949</td>\n",
       "      <td>0.30508</td>\n",
       "      <td>-0.01695</td>\n",
       "      <td>...</td>\n",
       "      <td>0.15254</td>\n",
       "      <td>0.67287</td>\n",
       "      <td>-0.00266</td>\n",
       "      <td>0.66102</td>\n",
       "      <td>-0.03390</td>\n",
       "      <td>0.83051</td>\n",
       "      <td>-0.15254</td>\n",
       "      <td>0.76271</td>\n",
       "      <td>-0.10169</td>\n",
       "      <td>g</td>\n",
       "    </tr>\n",
       "  </tbody>\n",
       "</table>\n",
       "<p>351 rows × 35 columns</p>\n",
       "</div>"
      ],
      "text/plain": [
       "     0   1        2        3        4        5        6        7        8   \\\n",
       "34    1   0  1.00000 -0.15899  0.72314  0.27686  0.83443 -0.58388  1.00000   \n",
       "350   1   0  0.84710  0.13533  0.73638 -0.06151  0.87873  0.08260  0.88928   \n",
       "176   1   0  0.00000  0.00000 -1.00000 -0.62766  1.00000  0.51064  0.07979   \n",
       "137   1   0  0.26667 -0.10000  0.53333  0.00000  0.33333 -0.13333  0.36667   \n",
       "274   1   0  0.71521 -0.00647  0.66667 -0.04207  0.63107 -0.05178  0.77994   \n",
       "..   ..  ..      ...      ...      ...      ...      ...      ...      ...   \n",
       "41    1   0 -1.00000 -1.00000  1.00000  1.00000  1.00000 -0.14375  0.00000   \n",
       "27    0   0 -1.00000 -1.00000  0.00000  0.00000 -1.00000  1.00000  1.00000   \n",
       "33    1   0  0.71253 -0.02595  0.41287 -0.23067  0.98019 -0.09473  0.99709   \n",
       "332   1   0  0.87578  0.03727  0.89951  0.00343  0.89210  0.00510  0.86335   \n",
       "305   1   0  0.52542 -0.03390  0.94915  0.08475  0.52542 -0.16949  0.30508   \n",
       "\n",
       "          9   ...       25       26       27       28       29       30  \\\n",
       "34  -0.28207  ...  0.14803  1.00000 -0.11582  1.00000 -0.11129  1.00000   \n",
       "350 -0.09139  ... -0.15114  0.81147 -0.04822  0.78207 -0.00703  0.75747   \n",
       "176 -0.23404  ...  0.00000 -0.19149 -0.46809 -0.22340 -0.48936  0.74468   \n",
       "137  0.11667  ...  0.13333  0.46214  0.05439  0.40000  0.03333  0.46667   \n",
       "274  0.08091  ... -0.05502  0.45105  0.00040  0.31392 -0.06796  0.49191   \n",
       "..       ...  ...      ...      ...      ...      ...      ...      ...   \n",
       "41   0.00000  ... -1.00000  1.00000 -1.00000 -1.00000 -1.00000  1.00000   \n",
       "27  -0.37500  ... -1.00000 -1.00000  1.00000 -1.00000 -1.00000  0.00000   \n",
       "33  -0.10236  ... -0.20392  0.93124 -0.41307  0.63811 -0.21901  0.86136   \n",
       "332  0.00000  ... -0.04348  0.82111  0.02033  0.81988  0.08696  0.80757   \n",
       "305 -0.01695  ...  0.15254  0.67287 -0.00266  0.66102 -0.03390  0.83051   \n",
       "\n",
       "          31       32       33  34  \n",
       "34   0.53372  1.00000 -0.57758   g  \n",
       "350 -0.06678  0.85764 -0.06151   g  \n",
       "176  0.90426 -0.67553  0.45745   b  \n",
       "137  0.03333  0.41667 -0.05000   g  \n",
       "274 -0.10680  0.30421 -0.05178   g  \n",
       "..       ...      ...      ...  ..  \n",
       "41   1.00000  0.00000  0.00000   b  \n",
       "27   0.00000 -1.00000  1.00000   b  \n",
       "33  -0.87354 -0.23186 -1.00000   b  \n",
       "332  0.02308  0.80088  0.02441   g  \n",
       "305 -0.15254  0.76271 -0.10169   g  \n",
       "\n",
       "[351 rows x 35 columns]"
      ]
     },
     "execution_count": 168,
     "metadata": {},
     "output_type": "execute_result"
    }
   ],
   "source": [
    "df_svm=sklearn.utils.shuffle(df_svm)\n",
    "df_svm"
   ]
  },
  {
   "cell_type": "markdown",
   "id": "d4a9418b-5fdf-4ec0-82c9-60d4d9ede09d",
   "metadata": {},
   "source": [
    "### Build table"
   ]
  },
  {
   "cell_type": "code",
   "execution_count": 169,
   "id": "5e847873-dd4b-4c7a-9a86-27f5a21bb86d",
   "metadata": {},
   "outputs": [],
   "source": [
    "table2=prettytable.PrettyTable()\n",
    "table2.field_names=['ionosphere(SVM)','Accuracy','Recall','Precision']"
   ]
  },
  {
   "cell_type": "markdown",
   "id": "15017ef8-ebbb-4ce2-a620-a0eada6f1663",
   "metadata": {},
   "source": [
    "## Train-Test-Split"
   ]
  },
  {
   "cell_type": "code",
   "execution_count": 170,
   "id": "48232745-4758-47b1-add5-ad326497e10b",
   "metadata": {},
   "outputs": [],
   "source": [
    "y = df_svm[34].values\n",
    "x = df_svm.drop([34], axis=1).values"
   ]
  },
  {
   "cell_type": "code",
   "execution_count": 171,
   "id": "c71b735a-f4cf-4684-a988-32973b6915e8",
   "metadata": {},
   "outputs": [],
   "source": [
    "#Holdout validation with the ratio 7:3\n",
    "x_train,x_test,y_train,y_test=train_test_split(x,y,random_state=42,test_size=0.3)\n",
    "sc=StandardScaler()\n",
    "sc.fit(x_train)\n",
    "x_train=sc.transform(x_train)\n",
    "x_test=sc.transform(x_test)"
   ]
  },
  {
   "cell_type": "markdown",
   "id": "7ef3f58d-eaf4-4c67-8691-477ca174488a",
   "metadata": {},
   "source": [
    "## Support Vector Machine"
   ]
  },
  {
   "cell_type": "markdown",
   "id": "eb62fea5-969c-4f9f-be80-900103612aa5",
   "metadata": {},
   "source": [
    "### Linear Kernel"
   ]
  },
  {
   "cell_type": "code",
   "execution_count": 172,
   "id": "e3bc7bdd-8418-4d45-b984-12c8de589804",
   "metadata": {},
   "outputs": [
    {
     "name": "stdout",
     "output_type": "stream",
     "text": [
      "Holdout validation accuracy: 88.68%\n"
     ]
    }
   ],
   "source": [
    "svm_lin=SVC(kernel='linear',probability=True)\n",
    "svm_lin.fit(x_train,y_train)\n",
    "\n",
    "print(\"Holdout validation accuracy: {}%\".format(round(svm_lin.score(x_test,y_test)*100,2)))"
   ]
  },
  {
   "cell_type": "code",
   "execution_count": 173,
   "id": "ab6af127-71f5-4598-bccb-6684cc1123a6",
   "metadata": {},
   "outputs": [
    {
     "data": {
      "image/png": "[encoded data removed]",
      "text/plain": [
       "<Figure size 360x360 with 2 Axes>"
      ]
     },
     "metadata": {
      "needs_background": "light"
     },
     "output_type": "display_data"
    }
   ],
   "source": [
    "y_pred_nb = svm_lin.predict(x_test)\n",
    "y_true_nb = y_test\n",
    "cm = confusion_matrix(y_true_nb, y_pred_nb)\n",
    "f, ax = plt.subplots(figsize =(5,5))\n",
    "sns.heatmap(cm,annot = True,linewidths=0.5,linecolor=\"red\",fmt = \".0f\",ax=ax)\n",
    "plt.xlabel(\"y_pred\")\n",
    "plt.ylabel(\"y_true\")\n",
    "plt.title(\"Confusion Matrix\")\n",
    "plt.show()"
   ]
  },
  {
   "cell_type": "code",
   "execution_count": 174,
   "id": "6b716b7f-e7a0-40a3-a276-51479556f048",
   "metadata": {},
   "outputs": [
    {
     "name": "stdout",
     "output_type": "stream",
     "text": [
      "+-----------------------+----------+---------+-----------+\n",
      "|    ionosphere(SVM)    | Accuracy |  Recall | Precision |\n",
      "+-----------------------+----------+---------+-----------+\n",
      "| Holdout-linear kernel | 88.6792  | 88.6792 |  88.8107  |\n",
      "+-----------------------+----------+---------+-----------+\n"
     ]
    }
   ],
   "source": [
    "acc=round(accuracy_score(y_true_nb, y_pred_nb)*100,4)\n",
    "recall=round(recall_score(y_true_nb, y_pred_nb,average='weighted')*100,4)\n",
    "prec=round(precision_score(y_true_nb, y_pred_nb,average='weighted')*100,4)\n",
    "\n",
    "table2.add_row([\"Holdout-linear kernel\",acc,recall,prec])\n",
    "print(table2)"
   ]
  },
  {
   "cell_type": "markdown",
   "id": "5ae03b34-58d9-493d-a9db-86adfae88e0a",
   "metadata": {},
   "source": [
    "### Polynomial Kernel"
   ]
  },
  {
   "cell_type": "code",
   "execution_count": 175,
   "id": "8a8dc975-b555-4f0d-bc3d-c3fcf126e88d",
   "metadata": {},
   "outputs": [
    {
     "name": "stdout",
     "output_type": "stream",
     "text": [
      "Holdout validation accuracy: 74.53%\n"
     ]
    }
   ],
   "source": [
    "svm_poly=SVC(kernel='poly',probability=True)\n",
    "svm_poly.fit(x_train,y_train)\n",
    "\n",
    "print(\"Holdout validation accuracy: {}%\".format(round(svm_poly.score(x_test,y_test)*100,2)))"
   ]
  },
  {
   "cell_type": "code",
   "execution_count": 176,
   "id": "41158d1d-c275-4262-86c9-d2704e2f8d1b",
   "metadata": {},
   "outputs": [
    {
     "data": {
      "image/png": "[encoded data removed]",
      "text/plain": [
       "<Figure size 360x360 with 2 Axes>"
      ]
     },
     "metadata": {
      "needs_background": "light"
     },
     "output_type": "display_data"
    }
   ],
   "source": [
    "y_pred_nb = svm_poly.predict(x_test)\n",
    "y_true_nb = y_test\n",
    "cm = confusion_matrix(y_true_nb, y_pred_nb)\n",
    "f, ax = plt.subplots(figsize =(5,5))\n",
    "sns.heatmap(cm,annot = True,linewidths=0.5,linecolor=\"red\",fmt = \".0f\",ax=ax)\n",
    "plt.xlabel(\"y_pred\")\n",
    "plt.ylabel(\"y_true\")\n",
    "plt.title(\"Confusion Matrix\")\n",
    "plt.show()"
   ]
  },
  {
   "cell_type": "code",
   "execution_count": 177,
   "id": "df1b0b08-c182-414f-8db6-c1ae4fa15e2d",
   "metadata": {},
   "outputs": [
    {
     "name": "stdout",
     "output_type": "stream",
     "text": [
      "+---------------------------+----------+---------+-----------+\n",
      "|      ionosphere(SVM)      | Accuracy |  Recall | Precision |\n",
      "+---------------------------+----------+---------+-----------+\n",
      "|   Holdout-linear kernel   | 88.6792  | 88.6792 |  88.8107  |\n",
      "| Holdout-polynomial kernel | 74.5283  | 74.5283 |  81.6922  |\n",
      "+---------------------------+----------+---------+-----------+\n"
     ]
    }
   ],
   "source": [
    "acc=round(accuracy_score(y_true_nb, y_pred_nb)*100,4)\n",
    "recall=round(recall_score(y_true_nb, y_pred_nb,average='weighted')*100,4)\n",
    "prec=round(precision_score(y_true_nb, y_pred_nb,average='weighted')*100,4)\n",
    "\n",
    "table2.add_row([\"Holdout-polynomial kernel\",acc,recall,prec])\n",
    "print(table2)"
   ]
  },
  {
   "cell_type": "markdown",
   "id": "3f9884bc-36e9-4295-a1b0-7ca53ab2ce88",
   "metadata": {},
   "source": [
    "### RBF Kernel"
   ]
  },
  {
   "cell_type": "code",
   "execution_count": 178,
   "id": "a72474fb-3fcf-4835-8fb5-f57ee809a9f2",
   "metadata": {},
   "outputs": [
    {
     "name": "stdout",
     "output_type": "stream",
     "text": [
      "Holdout validation accuracy: 91.51%\n"
     ]
    }
   ],
   "source": [
    "svm_rbf=SVC(kernel='rbf',probability=True)\n",
    "svm_rbf.fit(x_train,y_train)\n",
    "\n",
    "print(\"Holdout validation accuracy: {}%\".format(round(svm_rbf.score(x_test,y_test)*100,2)))"
   ]
  },
  {
   "cell_type": "code",
   "execution_count": 179,
   "id": "8b6e9175-b0ff-4ed3-97a9-b00aed6e695d",
   "metadata": {},
   "outputs": [
    {
     "data": {
      "image/png": "[encoded data removed]",
      "text/plain": [
       "<Figure size 360x360 with 2 Axes>"
      ]
     },
     "metadata": {
      "needs_background": "light"
     },
     "output_type": "display_data"
    }
   ],
   "source": [
    "y_pred_nb = svm_rbf.predict(x_test)\n",
    "y_true_nb = y_test\n",
    "cm = confusion_matrix(y_true_nb, y_pred_nb)\n",
    "f, ax = plt.subplots(figsize =(5,5))\n",
    "sns.heatmap(cm,annot = True,linewidths=0.5,linecolor=\"red\",fmt = \".0f\",ax=ax)\n",
    "plt.xlabel(\"y_pred\")\n",
    "plt.ylabel(\"y_true\")\n",
    "plt.title(\"Confusion Matrix\")\n",
    "plt.show()"
   ]
  },
  {
   "cell_type": "code",
   "execution_count": 180,
   "id": "ef6bcb62-9cc2-4b6e-9317-3a60a6282b00",
   "metadata": {},
   "outputs": [
    {
     "name": "stdout",
     "output_type": "stream",
     "text": [
      "+---------------------------+----------+---------+-----------+\n",
      "|      ionosphere(SVM)      | Accuracy |  Recall | Precision |\n",
      "+---------------------------+----------+---------+-----------+\n",
      "|   Holdout-linear kernel   | 88.6792  | 88.6792 |  88.8107  |\n",
      "| Holdout-polynomial kernel | 74.5283  | 74.5283 |  81.6922  |\n",
      "|     Holdout-RBF kernel    | 91.5094  | 91.5094 |  91.4956  |\n",
      "+---------------------------+----------+---------+-----------+\n"
     ]
    }
   ],
   "source": [
    "acc=round(accuracy_score(y_true_nb, y_pred_nb)*100,4)\n",
    "recall=round(recall_score(y_true_nb, y_pred_nb,average='weighted')*100,4)\n",
    "prec=round(precision_score(y_true_nb, y_pred_nb,average='weighted')*100,4)\n",
    "\n",
    "table2.add_row([\"Holdout-RBF kernel\",acc,recall,prec])\n",
    "print(table2)"
   ]
  },
  {
   "cell_type": "markdown",
   "id": "ecf2e2e5-5695-47ac-b2c1-668a964b6103",
   "metadata": {},
   "source": [
    "## Parameter Search\n",
    "cross validation k=5"
   ]
  },
  {
   "cell_type": "markdown",
   "id": "57d45db5-4ebe-4108-b088-9be5d2558e4e",
   "metadata": {},
   "source": [
    "### polynomial parameter"
   ]
  },
  {
   "cell_type": "code",
   "execution_count": 187,
   "id": "a7d4b9a5-1c12-4755-aec5-1a498488612c",
   "metadata": {},
   "outputs": [
    {
     "name": "stdout",
     "output_type": "stream",
     "text": [
      "Best score: 0.910\n",
      "SVC(coef0=50, degree=5, gamma=0.1, kernel='poly', probability=True)\n"
     ]
    }
   ],
   "source": [
    "degree =[3,5,7]\n",
    "gamma = [0.001,0.01,0.1]\n",
    "coef0 = [200,50,100]\n",
    "poly_param=dict(degree=degree,gamma=gamma,coef0=coef0)\n",
    "grid = GridSearchCV(svm_poly, param_grid=poly_param, cv=5)\n",
    "grid_search=grid.fit(x_train,y_train)\n",
    "print(\"Best score: %0.3f\" % grid_search.best_score_)\n",
    "print(grid_search.best_estimator_)"
   ]
  },
  {
   "cell_type": "code",
   "execution_count": 192,
   "id": "587b0b24-182e-4384-9397-2a7f439894de",
   "metadata": {},
   "outputs": [],
   "source": [
    "poly_param_results = pd.DataFrame(grid_search.cv_results_)"
   ]
  },
  {
   "cell_type": "code",
   "execution_count": 193,
   "id": "becdc4b1-d607-40ee-9d8b-6b886918d7e7",
   "metadata": {},
   "outputs": [
    {
     "name": "stdout",
     "output_type": "stream",
     "text": [
      "Polynomial kernel best parameter accuracy: 86.79%\n"
     ]
    }
   ],
   "source": [
    "best_poly_model=grid_search.best_estimator_\n",
    "print(\"Polynomial kernel best parameter accuracy: {}%\".format(round(best_poly_model.score(x_test,y_test)*100,2)))"
   ]
  },
  {
   "cell_type": "code",
   "execution_count": 194,
   "id": "2dda06cb-db01-4eea-937e-580068fb383a",
   "metadata": {},
   "outputs": [
    {
     "data": {
      "image/png": "[encoded data removed]",
      "text/plain": [
       "<Figure size 360x360 with 2 Axes>"
      ]
     },
     "metadata": {
      "needs_background": "light"
     },
     "output_type": "display_data"
    }
   ],
   "source": [
    "y_pred_nb = best_poly_model.predict(x_test)\n",
    "y_true_nb = y_test\n",
    "cm = confusion_matrix(y_true_nb, y_pred_nb)\n",
    "f, ax = plt.subplots(figsize =(5,5))\n",
    "sns.heatmap(cm,annot = True,linewidths=0.5,linecolor=\"red\",fmt = \".0f\",ax=ax)\n",
    "plt.xlabel(\"y_pred\")\n",
    "plt.ylabel(\"y_true\")\n",
    "plt.title(\"Confusion Matrix\")\n",
    "plt.show()"
   ]
  },
  {
   "cell_type": "code",
   "execution_count": 195,
   "id": "95b6e0cc-cdfd-4f82-9a5d-27b1254cee36",
   "metadata": {},
   "outputs": [
    {
     "name": "stdout",
     "output_type": "stream",
     "text": [
      "+----------------------------------+----------+---------+-----------+\n",
      "|         ionosphere(SVM)          | Accuracy |  Recall | Precision |\n",
      "+----------------------------------+----------+---------+-----------+\n",
      "|      Holdout-linear kernel       | 88.6792  | 88.6792 |  88.8107  |\n",
      "|    Holdout-polynomial kernel     | 74.5283  | 74.5283 |  81.6922  |\n",
      "|        Holdout-RBF kernel        | 91.5094  | 91.5094 |  91.4956  |\n",
      "| Best parameter-polynomial kernel | 86.7925  | 86.7925 |  87.5266  |\n",
      "+----------------------------------+----------+---------+-----------+\n"
     ]
    }
   ],
   "source": [
    "acc=round(accuracy_score(y_true_nb, y_pred_nb)*100,4)\n",
    "recall=round(recall_score(y_true_nb, y_pred_nb,average='weighted')*100,4)\n",
    "prec=round(precision_score(y_true_nb, y_pred_nb,average='weighted')*100,4)\n",
    "\n",
    "table2.add_row([\"Best parameter-polynomial kernel\",acc,recall,prec])\n",
    "print(table2)"
   ]
  },
  {
   "cell_type": "markdown",
   "id": "a70528ef-204a-42c0-9a02-7ac74202081c",
   "metadata": {},
   "source": [
    "### RBF parameter"
   ]
  },
  {
   "cell_type": "code",
   "execution_count": 196,
   "id": "c92ab268-d265-4a6f-84b1-d3d39174efac",
   "metadata": {},
   "outputs": [
    {
     "name": "stdout",
     "output_type": "stream",
     "text": [
      "Best score: 0.939\n",
      "SVC(gamma=0.1, probability=True)\n"
     ]
    }
   ],
   "source": [
    "gamma =[0.5,0.01,0.1]\n",
    "rbf_param=dict(gamma=gamma)\n",
    "grid = GridSearchCV(svm_rbf, param_grid=rbf_param, cv=5)\n",
    "grid_search=grid.fit(x_train,y_train)\n",
    "print(\"Best score: %0.3f\" % grid_search.best_score_)\n",
    "print(grid_search.best_estimator_)"
   ]
  },
  {
   "cell_type": "code",
   "execution_count": 197,
   "id": "810be237-65eb-40a2-a9bf-5269108c1776",
   "metadata": {},
   "outputs": [],
   "source": [
    "rbf_param_results = pd.DataFrame(grid_search.cv_results_)\n"
   ]
  },
  {
   "cell_type": "code",
   "execution_count": 198,
   "id": "888e9a3c-8419-44e1-bfc6-0d67387774e2",
   "metadata": {},
   "outputs": [
    {
     "name": "stdout",
     "output_type": "stream",
     "text": [
      "RBF kernel best parameter accuracy: 92.45%\n"
     ]
    }
   ],
   "source": [
    "best_rbf_model=grid_search.best_estimator_\n",
    "print(\"RBF kernel best parameter accuracy: {}%\".format(round(best_rbf_model.score(x_test,y_test)*100,2)))"
   ]
  },
  {
   "cell_type": "code",
   "execution_count": 199,
   "id": "28c85bf0-f00b-4b8f-a880-a0df9e4459f0",
   "metadata": {},
   "outputs": [
    {
     "data": {
      "image/png": "[encoded data removed]",
      "text/plain": [
       "<Figure size 360x360 with 2 Axes>"
      ]
     },
     "metadata": {
      "needs_background": "light"
     },
     "output_type": "display_data"
    }
   ],
   "source": [
    "y_pred_nb = best_rbf_model.predict(x_test)\n",
    "y_true_nb = y_test\n",
    "cm = confusion_matrix(y_true_nb, y_pred_nb)\n",
    "f, ax = plt.subplots(figsize =(5,5))\n",
    "sns.heatmap(cm,annot = True,linewidths=0.5,linecolor=\"red\",fmt = \".0f\",ax=ax)\n",
    "plt.xlabel(\"y_pred\")\n",
    "plt.ylabel(\"y_true\")\n",
    "plt.title(\"Confusion Matrix\")\n",
    "plt.show()"
   ]
  },
  {
   "cell_type": "code",
   "execution_count": 200,
   "id": "6c66fd33-b90c-4b25-9435-c1bdc1a622a7",
   "metadata": {},
   "outputs": [
    {
     "name": "stdout",
     "output_type": "stream",
     "text": [
      "+----------------------------------+----------+---------+-----------+\n",
      "|         ionosphere(SVM)          | Accuracy |  Recall | Precision |\n",
      "+----------------------------------+----------+---------+-----------+\n",
      "|      Holdout-linear kernel       | 88.6792  | 88.6792 |  88.8107  |\n",
      "|    Holdout-polynomial kernel     | 74.5283  | 74.5283 |  81.6922  |\n",
      "|        Holdout-RBF kernel        | 91.5094  | 91.5094 |  91.4956  |\n",
      "| Best parameter-polynomial kernel | 86.7925  | 86.7925 |  87.5266  |\n",
      "|    Best parameter-RBF kernel     | 92.4528  | 92.4528 |  92.4528  |\n",
      "+----------------------------------+----------+---------+-----------+\n"
     ]
    }
   ],
   "source": [
    "acc=round(accuracy_score(y_true_nb, y_pred_nb)*100,4)\n",
    "recall=round(recall_score(y_true_nb, y_pred_nb,average='weighted')*100,4)\n",
    "prec=round(precision_score(y_true_nb, y_pred_nb,average='weighted')*100,4)\n",
    "\n",
    "table2.add_row([\"Best parameter-RBF kernel\",acc,recall,prec])\n",
    "print(table2)"
   ]
  },
  {
   "cell_type": "markdown",
   "id": "75e15a17-1c6d-44ff-a879-11baf390b2c6",
   "metadata": {},
   "source": [
    "# Results "
   ]
  },
  {
   "cell_type": "code",
   "execution_count": 201,
   "id": "1c294c20-abf5-459b-a51b-3cdf972ce31f",
   "metadata": {},
   "outputs": [
    {
     "name": "stdout",
     "output_type": "stream",
     "text": [
      "+------------------------+----------+---------+-----------+\n",
      "|  Wheat seed(K-means)   | Accuracy |  Recall | Precision |\n",
      "+------------------------+----------+---------+-----------+\n",
      "| Kmeans clustering(K=3) | 89.0476  | 89.0476 |  89.6004  |\n",
      "+------------------------+----------+---------+-----------+\n",
      "+----------------------------------+----------+---------+-----------+\n",
      "|         ionosphere(SVM)          | Accuracy |  Recall | Precision |\n",
      "+----------------------------------+----------+---------+-----------+\n",
      "|      Holdout-linear kernel       | 88.6792  | 88.6792 |  88.8107  |\n",
      "|    Holdout-polynomial kernel     | 74.5283  | 74.5283 |  81.6922  |\n",
      "|        Holdout-RBF kernel        | 91.5094  | 91.5094 |  91.4956  |\n",
      "| Best parameter-polynomial kernel | 86.7925  | 86.7925 |  87.5266  |\n",
      "|    Best parameter-RBF kernel     | 92.4528  | 92.4528 |  92.4528  |\n",
      "+----------------------------------+----------+---------+-----------+\n"
     ]
    }
   ],
   "source": [
    "print(table1)\n",
    "print(table2)"
   ]
  },
  {
   "cell_type": "markdown",
   "id": "9188cd0e-5ef0-465b-8e01-ff6c2005aa65",
   "metadata": {},
   "source": [
    "# Comparison & Conclusion "
   ]
  },
  {
   "cell_type": "markdown",
   "id": "3b730f18-f242-4e1e-88ef-9971204b6e23",
   "metadata": {},
   "source": [
    "# Questions "
   ]
  },
  {
   "cell_type": "markdown",
   "id": "8b5921db-715a-48fb-b77c-9396eb28d5d5",
   "metadata": {},
   "source": [
    "## K-means Clustering\n",
    "\n",
    "> Choose two features to execute your K-means function and draw a scatter plot with the computed centers and the predicted label for each instance."
   ]
  },
  {
   "cell_type": "code",
   "execution_count": 4,
   "id": "55bb2e80-23cd-4093-ac24-a39806671c0a",
   "metadata": {},
   "outputs": [],
   "source": [
    "#choose compactness ,length of kernel\n",
    "q_x=df.loc[:,['compactness','length of kernel']].values\n",
    "q_y=df['label'].values"
   ]
  },
  {
   "cell_type": "code",
   "execution_count": 5,
   "id": "74e20534-ea38-4920-9fd5-7dfb5a1a0370",
   "metadata": {},
   "outputs": [],
   "source": [
    "#K-means clustering\n",
    "k=3"
   ]
  },
  {
   "cell_type": "code",
   "execution_count": 6,
   "id": "296e292a-0721-43d9-bb96-0c9b14c3a1c2",
   "metadata": {},
   "outputs": [],
   "source": [
    "train_num=q_x.shape[0]  #numbers of samples\n",
    "feature_num=q_x.shape[1]  #numbers of features"
   ]
  },
  {
   "cell_type": "code",
   "execution_count": 7,
   "id": "5b85c8c3-029f-4af5-a158-cfd38d2262d2",
   "metadata": {},
   "outputs": [],
   "source": [
    "def euclid_dis(a,b):\n",
    "    return np.sqrt(np.sum((np.array(a)-np.array(b))**2))"
   ]
  },
  {
   "cell_type": "code",
   "execution_count": 8,
   "id": "594e5ca2-73b6-4a59-a580-14e019c84d36",
   "metadata": {},
   "outputs": [],
   "source": [
    "def random_centroids(x,k):\n",
    "    centroids_ini=np.zeros((k,feature_num))\n",
    "    index=[x for x in range(train_num)]\n",
    "    np.random.shuffle(index)\n",
    "    for i in range(k):\n",
    "        c_id=int(index[i])\n",
    "        centroids_ini[i]=x[c_id]\n",
    "    return centroids_ini"
   ]
  },
  {
   "cell_type": "code",
   "execution_count": 9,
   "id": "7c4c8069-ae63-4559-aeb0-1e84c8802d38",
   "metadata": {},
   "outputs": [],
   "source": [
    "def Kmeans(x,k):\n",
    "    \n",
    "    #initiate centroids\n",
    "    centroids=random_centroids(x,k)\n",
    "    \n",
    "    #0:label refering to 1:distance\n",
    "    clusters=np.zeros((train_num,2))\n",
    "    clusters[:,0]=-1\n",
    "    \n",
    "    #running until the centroids converage\n",
    "    flag=True\n",
    "    \n",
    "    while True:\n",
    "        flag=False;\n",
    "        \n",
    "        #assignment\n",
    "        for i in range(train_num):\n",
    "            distances=[]\n",
    "            min_dis=1000000.0\n",
    "            min_index=-1\n",
    "            #find nearest centhroids for each sample\n",
    "            for j in range(k):\n",
    "                distance=euclid_dis(x[i,:],centroids[j])\n",
    "                if distance < min_dis:\n",
    "                    min_index=j\n",
    "                    min_dis=distance\n",
    "            \n",
    "            #if the centroid of sample changed,set flag=True\n",
    "            if clusters[i,0]!=min_index:\n",
    "                clusters[i,:]=min_index,min_dis\n",
    "                flag=True\n",
    "        #print(\"cluster:\",clusters)\n",
    "        \n",
    "        #update:find new centroids\n",
    "        for j in range(k):\n",
    "            point_in_cluster=x[[m for m in range(train_num) if clusters[m,0]==j]]\n",
    "            centroids[j]=np.mean(point_in_cluster,axis=0)\n",
    "            \n",
    "        if flag==False:\n",
    "            break\n",
    "            \n",
    "    return centroids,clusters"
   ]
  },
  {
   "cell_type": "code",
   "execution_count": 10,
   "id": "6299dd35-232b-4942-9d19-a2dcc2b9e520",
   "metadata": {},
   "outputs": [],
   "source": [
    "q_cen,q_ci=Kmeans(q_x,k)\n",
    "#showplt(q_x,k,q_cen,q_ci)"
   ]
  },
  {
   "cell_type": "code",
   "execution_count": 16,
   "id": "edeca227-cbef-46c9-88c6-8982ef04496f",
   "metadata": {},
   "outputs": [],
   "source": [
    "clu_0_num=[0]*4   #cluster 1的predict label and actual label (pred_label,[1],[2],[3])=>(l,0,0,0)\n",
    "clu_1_num=[0]*4\n",
    "clu_2_num=[0]*4\n",
    "for i in range(len(q_ci)):\n",
    "    #計算每個cluster裡，x的target label各有多少\n",
    "    if(q_ci[i,0]==0):\n",
    "        clu_0_num[q_y[i]]=clu_0_num[q_y[i]]+1    #第i個x屬於的cluster的label_num=x target label++\n",
    "    if(q_ci[i,0]==1):\n",
    "        clu_1_num[q_y[i]]=clu_1_num[q_y[i]]+1\n",
    "    if(q_ci[i,0]==2):\n",
    "        clu_2_num[q_y[i]]=clu_2_num[q_y[i]]+1\n",
    "\n",
    "#選出max number的target label做為每個cluster的y predict\n",
    "\n",
    "clu_label=0\n",
    "for i in range(3):\n",
    "    if(clu_0_num[i+1]>clu_label):\n",
    "        clu_0_num[0]=i+1\n",
    "        clu_label=clu_0_num[i+1]\n",
    "\n",
    "clu_label=0\n",
    "for i in range(3):\n",
    "    if(clu_1_num[i+1]>clu_label):\n",
    "        clu_1_num[0]=i+1\n",
    "        clu_label=clu_1_num[i+1]\n",
    "\n",
    "clu_label=0\n",
    "for i in range(3):\n",
    "    if(clu_2_num[i+1]>clu_label):\n",
    "        clu_2_num[0]=i+1\n",
    "        clu_label=clu_2_num[i+1]\n"
   ]
  },
  {
   "cell_type": "code",
   "execution_count": 17,
   "id": "39e2ed49-e730-47bb-ad8f-6354d2dd7530",
   "metadata": {},
   "outputs": [],
   "source": [
    "q_pred=[0 for i in range(train_num)]\n",
    "\n",
    "for i in range(len(q_ci)):\n",
    "    if(q_ci[i,0]==0):\n",
    "        q_pred[i]=clu_0_num[0]\n",
    "    if(q_ci[i,0]==1):\n",
    "        q_pred[i]=clu_1_num[0]\n",
    "    if(q_ci[i,0]==2):\n",
    "        q_pred[i]=clu_2_num[0]\n",
    "        \n"
   ]
  },
  {
   "cell_type": "code",
   "execution_count": 18,
   "id": "4149c4ed-f5dc-4741-8602-940635261d54",
   "metadata": {},
   "outputs": [
    {
     "data": {
      "image/png": "[encoded data removed]",
      "text/plain": [
       "<Figure size 432x288 with 1 Axes>"
      ]
     },
     "metadata": {
      "needs_background": "light"
     },
     "output_type": "display_data"
    }
   ],
   "source": [
    "#draw scatter\n",
    "plt.scatter(q_x[:, 0], q_x[:, 1], c=q_pred, s=50, cmap='viridis')\n",
    "plt.scatter(q_cen[:, 0], q_cen[:, 1], c='blue', s=200, alpha=0.8,marker='*')\n",
    "plt.xlabel('compactness')\n",
    "plt.ylabel('length of kernel')\n",
    "plt.show()"
   ]
  },
  {
   "cell_type": "markdown",
   "id": "c3b585e8-388f-4157-bece-69ab9c9756f9",
   "metadata": {},
   "source": [
    "## Support Vector Machine\n",
    "\n",
    "> Show the average performance of K-fold cross-validation of parameter search in tables for each kernel. "
   ]
  },
  {
   "cell_type": "markdown",
   "id": "6e3fb376-98b0-4850-8cb6-bfef5acdf980",
   "metadata": {},
   "source": [
    "### Polynomial kernel"
   ]
  },
  {
   "cell_type": "code",
   "execution_count": 213,
   "id": "02dcfeb7-55a4-4f33-94e6-014f54090b1c",
   "metadata": {},
   "outputs": [
    {
     "data": {
      "text/html": [
       "<div>\n",
       "<style scoped>\n",
       "    .dataframe tbody tr th:only-of-type {\n",
       "        vertical-align: middle;\n",
       "    }\n",
       "\n",
       "    .dataframe tbody tr th {\n",
       "        vertical-align: top;\n",
       "    }\n",
       "\n",
       "    .dataframe thead th {\n",
       "        text-align: right;\n",
       "    }\n",
       "</style>\n",
       "<table border=\"1\" class=\"dataframe\">\n",
       "  <thead>\n",
       "    <tr style=\"text-align: right;\">\n",
       "      <th></th>\n",
       "      <th>params</th>\n",
       "      <th>mean_test_score</th>\n",
       "      <th>std_test_score</th>\n",
       "    </tr>\n",
       "  </thead>\n",
       "  <tbody>\n",
       "    <tr>\n",
       "      <th>0</th>\n",
       "      <td>{'coef0': 200, 'degree': 3, 'gamma': 0.001}</td>\n",
       "      <td>0.844898</td>\n",
       "      <td>0.037852</td>\n",
       "    </tr>\n",
       "    <tr>\n",
       "      <th>1</th>\n",
       "      <td>{'coef0': 200, 'degree': 3, 'gamma': 0.01}</td>\n",
       "      <td>0.861224</td>\n",
       "      <td>0.035112</td>\n",
       "    </tr>\n",
       "    <tr>\n",
       "      <th>2</th>\n",
       "      <td>{'coef0': 200, 'degree': 3, 'gamma': 0.1}</td>\n",
       "      <td>0.881633</td>\n",
       "      <td>0.029994</td>\n",
       "    </tr>\n",
       "    <tr>\n",
       "      <th>3</th>\n",
       "      <td>{'coef0': 200, 'degree': 5, 'gamma': 0.001}</td>\n",
       "      <td>0.848980</td>\n",
       "      <td>0.035583</td>\n",
       "    </tr>\n",
       "    <tr>\n",
       "      <th>4</th>\n",
       "      <td>{'coef0': 200, 'degree': 5, 'gamma': 0.01}</td>\n",
       "      <td>0.877551</td>\n",
       "      <td>0.036507</td>\n",
       "    </tr>\n",
       "    <tr>\n",
       "      <th>5</th>\n",
       "      <td>{'coef0': 200, 'degree': 5, 'gamma': 0.1}</td>\n",
       "      <td>0.889796</td>\n",
       "      <td>0.030544</td>\n",
       "    </tr>\n",
       "    <tr>\n",
       "      <th>6</th>\n",
       "      <td>{'coef0': 200, 'degree': 7, 'gamma': 0.001}</td>\n",
       "      <td>0.844898</td>\n",
       "      <td>0.027683</td>\n",
       "    </tr>\n",
       "    <tr>\n",
       "      <th>7</th>\n",
       "      <td>{'coef0': 200, 'degree': 7, 'gamma': 0.01}</td>\n",
       "      <td>0.869388</td>\n",
       "      <td>0.027683</td>\n",
       "    </tr>\n",
       "    <tr>\n",
       "      <th>8</th>\n",
       "      <td>{'coef0': 200, 'degree': 7, 'gamma': 0.1}</td>\n",
       "      <td>0.893878</td>\n",
       "      <td>0.035112</td>\n",
       "    </tr>\n",
       "    <tr>\n",
       "      <th>9</th>\n",
       "      <td>{'coef0': 50, 'degree': 3, 'gamma': 0.001}</td>\n",
       "      <td>0.857143</td>\n",
       "      <td>0.022356</td>\n",
       "    </tr>\n",
       "    <tr>\n",
       "      <th>10</th>\n",
       "      <td>{'coef0': 50, 'degree': 3, 'gamma': 0.01}</td>\n",
       "      <td>0.865306</td>\n",
       "      <td>0.027683</td>\n",
       "    </tr>\n",
       "    <tr>\n",
       "      <th>11</th>\n",
       "      <td>{'coef0': 50, 'degree': 3, 'gamma': 0.1}</td>\n",
       "      <td>0.897959</td>\n",
       "      <td>0.034149</td>\n",
       "    </tr>\n",
       "    <tr>\n",
       "      <th>12</th>\n",
       "      <td>{'coef0': 50, 'degree': 5, 'gamma': 0.001}</td>\n",
       "      <td>0.857143</td>\n",
       "      <td>0.034149</td>\n",
       "    </tr>\n",
       "    <tr>\n",
       "      <th>13</th>\n",
       "      <td>{'coef0': 50, 'degree': 5, 'gamma': 0.01}</td>\n",
       "      <td>0.877551</td>\n",
       "      <td>0.028862</td>\n",
       "    </tr>\n",
       "    <tr>\n",
       "      <th>14</th>\n",
       "      <td>{'coef0': 50, 'degree': 5, 'gamma': 0.1}</td>\n",
       "      <td>0.910204</td>\n",
       "      <td>0.030544</td>\n",
       "    </tr>\n",
       "    <tr>\n",
       "      <th>15</th>\n",
       "      <td>{'coef0': 50, 'degree': 7, 'gamma': 0.001}</td>\n",
       "      <td>0.869388</td>\n",
       "      <td>0.047600</td>\n",
       "    </tr>\n",
       "    <tr>\n",
       "      <th>16</th>\n",
       "      <td>{'coef0': 50, 'degree': 7, 'gamma': 0.01}</td>\n",
       "      <td>0.881633</td>\n",
       "      <td>0.029994</td>\n",
       "    </tr>\n",
       "    <tr>\n",
       "      <th>17</th>\n",
       "      <td>{'coef0': 50, 'degree': 7, 'gamma': 0.1}</td>\n",
       "      <td>0.910204</td>\n",
       "      <td>0.027683</td>\n",
       "    </tr>\n",
       "    <tr>\n",
       "      <th>18</th>\n",
       "      <td>{'coef0': 100, 'degree': 3, 'gamma': 0.001}</td>\n",
       "      <td>0.857143</td>\n",
       "      <td>0.025815</td>\n",
       "    </tr>\n",
       "    <tr>\n",
       "      <th>19</th>\n",
       "      <td>{'coef0': 100, 'degree': 3, 'gamma': 0.01}</td>\n",
       "      <td>0.877551</td>\n",
       "      <td>0.036507</td>\n",
       "    </tr>\n",
       "    <tr>\n",
       "      <th>20</th>\n",
       "      <td>{'coef0': 100, 'degree': 3, 'gamma': 0.1}</td>\n",
       "      <td>0.889796</td>\n",
       "      <td>0.030544</td>\n",
       "    </tr>\n",
       "    <tr>\n",
       "      <th>21</th>\n",
       "      <td>{'coef0': 100, 'degree': 5, 'gamma': 0.001}</td>\n",
       "      <td>0.853061</td>\n",
       "      <td>0.035112</td>\n",
       "    </tr>\n",
       "    <tr>\n",
       "      <th>22</th>\n",
       "      <td>{'coef0': 100, 'degree': 5, 'gamma': 0.01}</td>\n",
       "      <td>0.865306</td>\n",
       "      <td>0.027683</td>\n",
       "    </tr>\n",
       "    <tr>\n",
       "      <th>23</th>\n",
       "      <td>{'coef0': 100, 'degree': 5, 'gamma': 0.1}</td>\n",
       "      <td>0.897959</td>\n",
       "      <td>0.034149</td>\n",
       "    </tr>\n",
       "    <tr>\n",
       "      <th>24</th>\n",
       "      <td>{'coef0': 100, 'degree': 7, 'gamma': 0.001}</td>\n",
       "      <td>0.848980</td>\n",
       "      <td>0.027683</td>\n",
       "    </tr>\n",
       "    <tr>\n",
       "      <th>25</th>\n",
       "      <td>{'coef0': 100, 'degree': 7, 'gamma': 0.01}</td>\n",
       "      <td>0.865306</td>\n",
       "      <td>0.035583</td>\n",
       "    </tr>\n",
       "    <tr>\n",
       "      <th>26</th>\n",
       "      <td>{'coef0': 100, 'degree': 7, 'gamma': 0.1}</td>\n",
       "      <td>0.910204</td>\n",
       "      <td>0.030544</td>\n",
       "    </tr>\n",
       "  </tbody>\n",
       "</table>\n",
       "</div>"
      ],
      "text/plain": [
       "                                         params  mean_test_score  \\\n",
       "0   {'coef0': 200, 'degree': 3, 'gamma': 0.001}         0.844898   \n",
       "1    {'coef0': 200, 'degree': 3, 'gamma': 0.01}         0.861224   \n",
       "2     {'coef0': 200, 'degree': 3, 'gamma': 0.1}         0.881633   \n",
       "3   {'coef0': 200, 'degree': 5, 'gamma': 0.001}         0.848980   \n",
       "4    {'coef0': 200, 'degree': 5, 'gamma': 0.01}         0.877551   \n",
       "5     {'coef0': 200, 'degree': 5, 'gamma': 0.1}         0.889796   \n",
       "6   {'coef0': 200, 'degree': 7, 'gamma': 0.001}         0.844898   \n",
       "7    {'coef0': 200, 'degree': 7, 'gamma': 0.01}         0.869388   \n",
       "8     {'coef0': 200, 'degree': 7, 'gamma': 0.1}         0.893878   \n",
       "9    {'coef0': 50, 'degree': 3, 'gamma': 0.001}         0.857143   \n",
       "10    {'coef0': 50, 'degree': 3, 'gamma': 0.01}         0.865306   \n",
       "11     {'coef0': 50, 'degree': 3, 'gamma': 0.1}         0.897959   \n",
       "12   {'coef0': 50, 'degree': 5, 'gamma': 0.001}         0.857143   \n",
       "13    {'coef0': 50, 'degree': 5, 'gamma': 0.01}         0.877551   \n",
       "14     {'coef0': 50, 'degree': 5, 'gamma': 0.1}         0.910204   \n",
       "15   {'coef0': 50, 'degree': 7, 'gamma': 0.001}         0.869388   \n",
       "16    {'coef0': 50, 'degree': 7, 'gamma': 0.01}         0.881633   \n",
       "17     {'coef0': 50, 'degree': 7, 'gamma': 0.1}         0.910204   \n",
       "18  {'coef0': 100, 'degree': 3, 'gamma': 0.001}         0.857143   \n",
       "19   {'coef0': 100, 'degree': 3, 'gamma': 0.01}         0.877551   \n",
       "20    {'coef0': 100, 'degree': 3, 'gamma': 0.1}         0.889796   \n",
       "21  {'coef0': 100, 'degree': 5, 'gamma': 0.001}         0.853061   \n",
       "22   {'coef0': 100, 'degree': 5, 'gamma': 0.01}         0.865306   \n",
       "23    {'coef0': 100, 'degree': 5, 'gamma': 0.1}         0.897959   \n",
       "24  {'coef0': 100, 'degree': 7, 'gamma': 0.001}         0.848980   \n",
       "25   {'coef0': 100, 'degree': 7, 'gamma': 0.01}         0.865306   \n",
       "26    {'coef0': 100, 'degree': 7, 'gamma': 0.1}         0.910204   \n",
       "\n",
       "    std_test_score  \n",
       "0         0.037852  \n",
       "1         0.035112  \n",
       "2         0.029994  \n",
       "3         0.035583  \n",
       "4         0.036507  \n",
       "5         0.030544  \n",
       "6         0.027683  \n",
       "7         0.027683  \n",
       "8         0.035112  \n",
       "9         0.022356  \n",
       "10        0.027683  \n",
       "11        0.034149  \n",
       "12        0.034149  \n",
       "13        0.028862  \n",
       "14        0.030544  \n",
       "15        0.047600  \n",
       "16        0.029994  \n",
       "17        0.027683  \n",
       "18        0.025815  \n",
       "19        0.036507  \n",
       "20        0.030544  \n",
       "21        0.035112  \n",
       "22        0.027683  \n",
       "23        0.034149  \n",
       "24        0.027683  \n",
       "25        0.035583  \n",
       "26        0.030544  "
      ]
     },
     "execution_count": 213,
     "metadata": {},
     "output_type": "execute_result"
    }
   ],
   "source": [
    "poly_param_results[\n",
    "    ['params', 'mean_test_score', 'std_test_score']\n",
    "]"
   ]
  },
  {
   "cell_type": "markdown",
   "id": "fe02ec39-4d5b-4f7b-9fd3-823fa1d81c81",
   "metadata": {},
   "source": [
    "### RBF kernel"
   ]
  },
  {
   "cell_type": "code",
   "execution_count": 214,
   "id": "841db8de-726e-41ab-9a8f-9c2666731f95",
   "metadata": {},
   "outputs": [
    {
     "data": {
      "text/html": [
       "<div>\n",
       "<style scoped>\n",
       "    .dataframe tbody tr th:only-of-type {\n",
       "        vertical-align: middle;\n",
       "    }\n",
       "\n",
       "    .dataframe tbody tr th {\n",
       "        vertical-align: top;\n",
       "    }\n",
       "\n",
       "    .dataframe thead th {\n",
       "        text-align: right;\n",
       "    }\n",
       "</style>\n",
       "<table border=\"1\" class=\"dataframe\">\n",
       "  <thead>\n",
       "    <tr style=\"text-align: right;\">\n",
       "      <th></th>\n",
       "      <th>params</th>\n",
       "      <th>mean_test_score</th>\n",
       "      <th>std_test_score</th>\n",
       "    </tr>\n",
       "  </thead>\n",
       "  <tbody>\n",
       "    <tr>\n",
       "      <th>0</th>\n",
       "      <td>{'gamma': 0.5}</td>\n",
       "      <td>0.906122</td>\n",
       "      <td>0.035583</td>\n",
       "    </tr>\n",
       "    <tr>\n",
       "      <th>1</th>\n",
       "      <td>{'gamma': 0.01}</td>\n",
       "      <td>0.922449</td>\n",
       "      <td>0.041625</td>\n",
       "    </tr>\n",
       "    <tr>\n",
       "      <th>2</th>\n",
       "      <td>{'gamma': 0.1}</td>\n",
       "      <td>0.938776</td>\n",
       "      <td>0.022356</td>\n",
       "    </tr>\n",
       "  </tbody>\n",
       "</table>\n",
       "</div>"
      ],
      "text/plain": [
       "            params  mean_test_score  std_test_score\n",
       "0   {'gamma': 0.5}         0.906122        0.035583\n",
       "1  {'gamma': 0.01}         0.922449        0.041625\n",
       "2   {'gamma': 0.1}         0.938776        0.022356"
      ]
     },
     "execution_count": 214,
     "metadata": {},
     "output_type": "execute_result"
    }
   ],
   "source": [
    "rbf_param_results[\n",
    "    ['params', 'mean_test_score', 'std_test_score']\n",
    "]"
   ]
  }
 ],
 "metadata": {
  "kernelspec": {
   "display_name": "Python 3",
   "language": "python",
   "name": "python3"
  },
  "language_info": {
   "codemirror_mode": {
    "name": "ipython",
    "version": 3
   },
   "file_extension": ".py",
   "mimetype": "text/x-python",
   "name": "python",
   "nbconvert_exporter": "python",
   "pygments_lexer": "ipython3",
   "version": "3.8.8"
  }
 },
 "nbformat": 4,
 "nbformat_minor": 5
}
